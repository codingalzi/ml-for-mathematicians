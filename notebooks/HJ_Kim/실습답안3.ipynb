{
  "nbformat": 4,
  "nbformat_minor": 0,
  "metadata": {
    "colab": {
      "name": "실습답안3.ipynb",
      "provenance": [],
      "collapsed_sections": []
    },
    "kernelspec": {
      "name": "python3",
      "display_name": "Python 3"
    }
  },
  "cells": [
    {
      "cell_type": "markdown",
      "metadata": {
        "id": "c4NPzFTwnScT"
      },
      "source": [
        "# 컴퓨팅 기초 : 처음 만나는 컴퓨팅"
      ]
    },
    {
      "cell_type": "markdown",
      "metadata": {
        "id": "rNDnPhitnVcj"
      },
      "source": [
        "**[실습 주의 사항]**\n",
        "* 실습 파일명을 아래의 형식(반_학번_이름)으로 변경하세요.  \n",
        "> 005_2021-12345_이름.ipynb\n",
        "\n",
        "* 실습 파일을 공유하세요.\n",
        "> hj617kim@gmail.com & 담당 튜터\n",
        "\n",
        "* 마크다운(Markdown)을 활용해서 제목을 붙이세요.    \n",
        "> #3주차 실습 \n",
        "\n",
        "* 문제별로 셀을 구분하여 코드를 작성하세요.\n",
        "\n",
        "* 공유한 <font color=\"red\"> 반_학번_이름.ipynb </font>파일을 불러와서 그 파일에 작성하세요!\n"
      ]
    },
    {
      "cell_type": "markdown",
      "metadata": {
        "id": "kkbD-sw3IsYs"
      },
      "source": [
        "**문제1) 과일 목록을 할당받는 `fruit` 변수가 아래와 같이 선언되었다.**  \n",
        "`fruit = \"banana apple orange pineapple mango strawberry cherry\"`  \n",
        "\n",
        "(1) 각 과일 단어의 첫 알파벳을 대문자로 변경하려면 어떻게 해야 하는가? 단, 특정 메소드를 사용하여 한 줄 코드로 작성해야 한다. 이때 아래의 문자열 메소드를 참고하여라.  \n",
        "`strip()`, `split()`, `replace()`, `upper()`, `lower()`, `capitalize()`, `title()`, `startswith()`, `endswith()`\n"
      ]
    },
    {
      "cell_type": "code",
      "metadata": {
        "id": "i3h1TeXuKJwX",
        "colab": {
          "base_uri": "https://localhost:8080/"
        },
        "outputId": "b26af376-dd4e-4b3f-f048-9506fb4de415"
      },
      "source": [
        "fruit = \"banana apple orange pineapple mango strawberry cherry\"\n",
        "print(fruit.title())"
      ],
      "execution_count": null,
      "outputs": [
        {
          "output_type": "stream",
          "text": [
            "Banana Apple Orange Pineapple Mango Strawberry Cherry\n"
          ],
          "name": "stdout"
        }
      ]
    },
    {
      "cell_type": "markdown",
      "metadata": {
        "id": "c0s_ArvDKJBO"
      },
      "source": [
        "(2) `fruit` 변수로부터 대문자 Y를 추출하는 코드를 작성하여라."
      ]
    },
    {
      "cell_type": "code",
      "metadata": {
        "id": "PTCCksEuKhT1",
        "colab": {
          "base_uri": "https://localhost:8080/"
        },
        "outputId": "69e8da67-1d08-4328-82df-10c9fb484b10"
      },
      "source": [
        "print(fruit[-1].upper())"
      ],
      "execution_count": null,
      "outputs": [
        {
          "output_type": "stream",
          "text": [
            "Y\n"
          ],
          "name": "stdout"
        }
      ]
    },
    {
      "cell_type": "markdown",
      "metadata": {
        "id": "dBAG4HeAKjNv"
      },
      "source": [
        "(3) `fruit` 변수로부터 her 문자열을 추출하는 코드를 작성하여라."
      ]
    },
    {
      "cell_type": "code",
      "metadata": {
        "id": "H6Pxza6EK_XO",
        "colab": {
          "base_uri": "https://localhost:8080/"
        },
        "outputId": "e0decef6-7eee-4698-e968-95cd88c6d40a"
      },
      "source": [
        "print(fruit[-5:-2])\n",
        "print(fruit[48:51])"
      ],
      "execution_count": null,
      "outputs": [
        {
          "output_type": "stream",
          "text": [
            "her\n",
            "her\n"
          ],
          "name": "stdout"
        }
      ]
    },
    {
      "cell_type": "markdown",
      "metadata": {
        "id": "E9PvHGphK_qP"
      },
      "source": [
        "(4) `fruit` 변수로부터 oae 문자열을 추출하는 코드를 작성하여라."
      ]
    },
    {
      "cell_type": "code",
      "metadata": {
        "id": "UyM8IrVCLrLt",
        "colab": {
          "base_uri": "https://localhost:8080/"
        },
        "outputId": "cd3954bc-c78f-4d91-878d-0b3d981a1c50"
      },
      "source": [
        "print(fruit[13::18])"
      ],
      "execution_count": null,
      "outputs": [
        {
          "output_type": "stream",
          "text": [
            "oae\n"
          ],
          "name": "stdout"
        }
      ]
    },
    {
      "cell_type": "markdown",
      "metadata": {
        "id": "9c62tWuBLr5c"
      },
      "source": [
        "(5) `fruit` 변수로부터 yrrehc 문자열을 추출하는 코드를 작성하여라."
      ]
    },
    {
      "cell_type": "code",
      "metadata": {
        "id": "-ygbM3m3sXUY",
        "colab": {
          "base_uri": "https://localhost:8080/"
        },
        "outputId": "847e6b39-d383-4dab-f31d-38f28ee1f1a6"
      },
      "source": [
        "print(fruit[-1:-7:-1])\n",
        "print(fruit[52:46:-1])"
      ],
      "execution_count": null,
      "outputs": [
        {
          "output_type": "stream",
          "text": [
            "yrrehc\n",
            "yrrehc\n"
          ],
          "name": "stdout"
        }
      ]
    },
    {
      "cell_type": "markdown",
      "metadata": {
        "id": "B33dgBTeoy23"
      },
      "source": [
        "**문제2) 아래 문자열**  \n",
        "`'n o r t h w e s t e r n'`  \n",
        "**을 이용하여 아래 문자열을 생성하는 코드를 구현하라.**  \n",
        "\n",
        "`'Northwestern'`\n",
        "\n"
      ]
    },
    {
      "cell_type": "code",
      "metadata": {
        "id": "BNcQZaFdslvp",
        "colab": {
          "base_uri": "https://localhost:8080/"
        },
        "outputId": "87e78ec0-21d0-44a6-d2f6-f52f011c4289"
      },
      "source": [
        "print('n o r t h w e s t e r n'.replace(' ', '').capitalize())\n",
        "print('n o r t h w e s t e r n'.replace(' ', '').title())"
      ],
      "execution_count": null,
      "outputs": [
        {
          "output_type": "stream",
          "text": [
            "Northwestern\n",
            "Northwestern\n"
          ],
          "name": "stdout"
        }
      ]
    },
    {
      "cell_type": "markdown",
      "metadata": {
        "id": "ngzxeTGTpXrG"
      },
      "source": [
        "**문제3) 아래 노래 가사를 활용하는 문제이다.**  \n",
        "\n",
        "> `song = \"When you are smiling, the whole world smiles with you\"`\n",
        "\n",
        "(1) `for` 문을 사용하여 `song`에서 `a`가 등장하는 횟수를 구하는 코드를 작성하라.  \n"
      ]
    },
    {
      "cell_type": "code",
      "metadata": {
        "id": "5ML6vzBjqxJ8",
        "colab": {
          "base_uri": "https://localhost:8080/"
        },
        "outputId": "8d800543-aae3-4a54-e876-5e01d2d4571e"
      },
      "source": [
        "song = \"When you are smiling, the whole world smiles with you\"\n",
        "\n",
        "count_a = 0\n",
        "for c in song:\n",
        "  if c == 'a':\n",
        "    count_a = count_a + 1\n",
        "\n",
        "print(\"a가 등장하는 횟수:\", count_a)"
      ],
      "execution_count": null,
      "outputs": [
        {
          "output_type": "stream",
          "text": [
            "a가 등장하는 횟수: 1\n"
          ],
          "name": "stdout"
        }
      ]
    },
    {
      "cell_type": "code",
      "metadata": {
        "colab": {
          "base_uri": "https://localhost:8080/"
        },
        "id": "Xp2bRSUohmWo",
        "outputId": "07023ee8-f92a-4676-873a-2bf3b1ab0f94"
      },
      "source": [
        "count_a = 0\n",
        "for i in range(len(song)):\n",
        "  if song[i] == 'a':\n",
        "    count_a = count_a + 1\n",
        "\n",
        "print(\"a가 등장하는 횟수:\", count_a)"
      ],
      "execution_count": null,
      "outputs": [
        {
          "output_type": "stream",
          "text": [
            "a가 등장하는 횟수: 1\n"
          ],
          "name": "stdout"
        }
      ]
    },
    {
      "cell_type": "markdown",
      "metadata": {
        "id": "TWfwL3bypz91"
      },
      "source": [
        "(2) `count()`는 문자열 메소드 중 하나로 부분문자열의 개수를 구한다.  \n",
        "`count()`메소드를 이용하여 `song`에서 소문자 `a`가 등장하는 횟수를 구하여라. "
      ]
    },
    {
      "cell_type": "code",
      "metadata": {
        "id": "1kuOYLuPrCQZ",
        "colab": {
          "base_uri": "https://localhost:8080/"
        },
        "outputId": "8ddcff09-66f6-4844-9eb7-fa391d1e9ef3"
      },
      "source": [
        "print(\"a가 등장하는 횟수:\", song.count('a'))"
      ],
      "execution_count": null,
      "outputs": [
        {
          "output_type": "stream",
          "text": [
            "a가 등장하는 횟수: 1\n"
          ],
          "name": "stdout"
        }
      ]
    },
    {
      "cell_type": "markdown",
      "metadata": {
        "id": "S2R5xEZyrCYh"
      },
      "source": [
        "(3) 반복문을 사용하여  `song`에서 대소문자 구별없이 `w`가 등장하는 횟수를 구하는 코드를 작성하라."
      ]
    },
    {
      "cell_type": "code",
      "metadata": {
        "colab": {
          "base_uri": "https://localhost:8080/"
        },
        "id": "JdD-NTMqGY27",
        "outputId": "764988c4-4924-42ed-f548-8de89c9c06ab"
      },
      "source": [
        "count_w = 0\n",
        "for c in song:\n",
        "  if c == 'w' or c == 'W':\n",
        "    count_w = count_w + 1\n",
        "\n",
        "print(\"w가 등장하는 횟수(대소문자 구분 X):\", count_w)"
      ],
      "execution_count": null,
      "outputs": [
        {
          "output_type": "stream",
          "text": [
            "w가 등장하는 횟수(대소문자 구분 X): 4\n"
          ],
          "name": "stdout"
        }
      ]
    },
    {
      "cell_type": "code",
      "metadata": {
        "colab": {
          "base_uri": "https://localhost:8080/"
        },
        "id": "hELkwL_LHo_B",
        "outputId": "32244e28-8ab4-4e9c-89d3-03f717006f1f"
      },
      "source": [
        "count_w = 0\n",
        "for c in song.lower():\n",
        "  if c == 'w':\n",
        "    count_w = count_w + 1\n",
        "\n",
        "print(\"w가 등장하는 횟수(대소문자 구분 X):\", count_w)"
      ],
      "execution_count": null,
      "outputs": [
        {
          "output_type": "stream",
          "text": [
            "w가 등장하는 횟수(대소문자 구분 X): 4\n"
          ],
          "name": "stdout"
        }
      ]
    },
    {
      "cell_type": "markdown",
      "metadata": {
        "id": "C_rg141HJZjw"
      },
      "source": [
        "참고: 아래와 같이 `count()`메소드를 이용하는 방법도 가능합니다."
      ]
    },
    {
      "cell_type": "code",
      "metadata": {
        "id": "3_doQcvhrRcD",
        "colab": {
          "base_uri": "https://localhost:8080/"
        },
        "outputId": "85845c2d-4f3a-46d5-8dd0-87b854ac04c0"
      },
      "source": [
        "print(\"w가 등장하는 횟수(대소문자 구분 X):\", song.count('w') + song.count('W'))"
      ],
      "execution_count": null,
      "outputs": [
        {
          "output_type": "stream",
          "text": [
            "w가 등장하는 횟수(대소문자 구분 X): 4\n"
          ],
          "name": "stdout"
        }
      ]
    },
    {
      "cell_type": "code",
      "metadata": {
        "colab": {
          "base_uri": "https://localhost:8080/"
        },
        "id": "imtupYBtIK0h",
        "outputId": "73c09013-56ec-4d3f-9a19-a167e7f3be00"
      },
      "source": [
        "print(\"w가 등장하는 횟수(대소문자 구분 X):\", song.lower().count('w'))"
      ],
      "execution_count": null,
      "outputs": [
        {
          "output_type": "stream",
          "text": [
            "w가 등장하는 횟수(대소문자 구분 X): 4\n"
          ],
          "name": "stdout"
        }
      ]
    },
    {
      "cell_type": "markdown",
      "metadata": {
        "id": "JLBhyzrKrRub"
      },
      "source": [
        "(4) `song`을 이용하여 `whnyrsmlngthwhlwrldsmlswthy` 를 생성하는 코드를 작성하라.  \n",
        "힌트 : 모음(`aeiou`)와 공백 제거"
      ]
    },
    {
      "cell_type": "code",
      "metadata": {
        "id": "U357Fj-Mr-xu",
        "colab": {
          "base_uri": "https://localhost:8080/"
        },
        "outputId": "34a4941e-9c42-4c3b-c742-f88f74bc8a52"
      },
      "source": [
        "songdel = song.lower()\n",
        "songdel = songdel.replace(' ', '')\n",
        "songdel = songdel.replace('a', '')\n",
        "songdel = songdel.replace('e', '')\n",
        "songdel = songdel.replace('i', '')\n",
        "songdel = songdel.replace('o', '')\n",
        "songdel = songdel.replace('u', '')\n",
        "songdel = songdel.replace(',', '')\n",
        "\n",
        "print(\"결과:\", songdel)\n",
        "print(\"Correct?\", songdel == \"whnyrsmlngthwhlwrldsmlswthy\")"
      ],
      "execution_count": null,
      "outputs": [
        {
          "output_type": "stream",
          "text": [
            "결과: whnyrsmlngthwhlwrldsmlswthy\n",
            "Correct? True\n"
          ],
          "name": "stdout"
        }
      ]
    },
    {
      "cell_type": "code",
      "metadata": {
        "colab": {
          "base_uri": "https://localhost:8080/"
        },
        "id": "SYpKu5yamNZ4",
        "outputId": "a2b16d2a-67b3-47b3-963b-24205b977f31"
      },
      "source": [
        "songdel = song.lower()\n",
        "for c in \" aeiou,\":\n",
        "  songdel = songdel.replace(c, '')\n",
        "\n",
        "print(\"결과:\", songdel)\n",
        "print(\"Correct?\", songdel == \"whnyrsmlngthwhlwrldsmlswthy\")"
      ],
      "execution_count": null,
      "outputs": [
        {
          "output_type": "stream",
          "text": [
            "결과: whnyrsmlngthwhlwrldsmlswthy\n",
            "Correct? True\n"
          ],
          "name": "stdout"
        }
      ]
    },
    {
      "cell_type": "markdown",
      "metadata": {
        "id": "cdWbYJ-Ws00D"
      },
      "source": [
        "**문제4) 숫자 `num`가 주어졌을 때, 만약 `num`가 3으로 시작하거나 3을 포함하는 경우에는 `num`의 세제곱을 출력하고, 아닌 경우에는 `num`에서 2를 뺀 값을 출력하는 코드를 작성하여라. 단, 숫자 `num`은 임의의 자연수로 둔다.**  \n"
      ]
    },
    {
      "cell_type": "code",
      "metadata": {
        "id": "D_Z73g_xtM_3",
        "colab": {
          "base_uri": "https://localhost:8080/"
        },
        "outputId": "e91f558d-0524-42d2-ce54-494103ccbf00"
      },
      "source": [
        "num = 300\n",
        "\n",
        "if '3' in str(num):\n",
        "  print(\"num의 세제곱:\", num ** 3)\n",
        "else:\n",
        "  print(\"num에서 2를 뺀 값:\", num - 2)"
      ],
      "execution_count": null,
      "outputs": [
        {
          "output_type": "stream",
          "text": [
            "num의 세제곱: 27000000\n"
          ],
          "name": "stdout"
        }
      ]
    },
    {
      "cell_type": "code",
      "metadata": {
        "colab": {
          "base_uri": "https://localhost:8080/"
        },
        "id": "XUxM_-lzjBoq",
        "outputId": "77a1cd7b-675d-477c-822a-7f197b82e928"
      },
      "source": [
        "num = 13\n",
        "\n",
        "if '3' in str(num):\n",
        "  print(\"num의 세제곱:\", num ** 3)\n",
        "else:\n",
        "  print(\"num에서 2를 뺀 값:\", num - 2)"
      ],
      "execution_count": null,
      "outputs": [
        {
          "output_type": "stream",
          "text": [
            "num의 세제곱: 2197\n"
          ],
          "name": "stdout"
        }
      ]
    },
    {
      "cell_type": "code",
      "metadata": {
        "colab": {
          "base_uri": "https://localhost:8080/"
        },
        "id": "7jH8kr1cjBZU",
        "outputId": "16695eb9-3e9c-4e08-a0b9-1cbf16475ead"
      },
      "source": [
        "num = 15\n",
        "\n",
        "if '3' in str(num):\n",
        "  print(\"num의 세제곱:\", num ** 3)\n",
        "else:\n",
        "  print(\"num에서 2를 뺀 값:\", num - 2)"
      ],
      "execution_count": null,
      "outputs": [
        {
          "output_type": "stream",
          "text": [
            "num에서 2를 뺀 값: 13\n"
          ],
          "name": "stdout"
        }
      ]
    },
    {
      "cell_type": "markdown",
      "metadata": {
        "id": "KSHjiCE0nlrM"
      },
      "source": [
        "**문제5) `while`문을 이용하여 정수들을 나누어 몫을 구하는 코드를 작성하여라.**\n",
        "```\n",
        "number = 43\n",
        "divisor = 7\n",
        "answer = 0\n",
        "```"
      ]
    },
    {
      "cell_type": "code",
      "metadata": {
        "id": "bDzgdeuqtg-L",
        "colab": {
          "base_uri": "https://localhost:8080/"
        },
        "outputId": "0a3904f3-203e-4a93-ba13-6e2112ed1bdf"
      },
      "source": [
        "number = 43\n",
        "divisor = 7\n",
        "answer = 0\n",
        "\n",
        "while number >= divisor:\n",
        "  number = number - divisor\n",
        "  answer = answer + 1\n",
        "\n",
        "print(\"몫:\", answer)"
      ],
      "execution_count": null,
      "outputs": [
        {
          "output_type": "stream",
          "text": [
            "몫: 6\n"
          ],
          "name": "stdout"
        }
      ]
    },
    {
      "cell_type": "markdown",
      "metadata": {
        "id": "gMpJAk7d9-9H"
      },
      "source": [
        "**문제6) 택배의 가격은 무게에 따라 달라진다. 아래는 한 택배 회사의 요금표이다.**\n",
        "\n",
        "|5kg미만|5kg 이상 ~ 10kg 미만|10kg 이상|\n",
        "|:-------:|:--------------------:|:---------:|\n",
        "|5.000원 | 8,000원| 10,000원|\n",
        "\n",
        "우편물의 무게가 주어졌을 때, 택배 가격을 알려주는 프로그램을 만들어라.  \n",
        "(우편물의 무게는 임의로 둔다.)  \n"
      ]
    },
    {
      "cell_type": "code",
      "metadata": {
        "id": "Tc1YAJ9OGi0T",
        "colab": {
          "base_uri": "https://localhost:8080/"
        },
        "outputId": "cae26478-dc2f-44ad-dd6f-8d254e387af9"
      },
      "source": [
        "weight = 4 # [kg] 단위\n",
        "\n",
        "if weight < 5:\n",
        "  print(\"택배 가격: 5,000원\")\n",
        "elif weight < 10:\n",
        "  print(\"택배 가격: 8,000원\")\n",
        "else:\n",
        "  print(\"택배 가격: 10,000원\")"
      ],
      "execution_count": null,
      "outputs": [
        {
          "output_type": "stream",
          "text": [
            "택배 가격: 5,000원\n"
          ],
          "name": "stdout"
        }
      ]
    },
    {
      "cell_type": "code",
      "metadata": {
        "colab": {
          "base_uri": "https://localhost:8080/"
        },
        "id": "1SrxS_dkk0Xi",
        "outputId": "31e931c0-ec16-4012-e4a2-6adf4d9d20b0"
      },
      "source": [
        "weight = 5\n",
        "\n",
        "if weight < 5:\n",
        "  print(\"택배 가격: 5,000원\")\n",
        "elif weight < 10:\n",
        "  print(\"택배 가격: 8,000원\")\n",
        "else:\n",
        "  print(\"택배 가격: 10,000원\")"
      ],
      "execution_count": null,
      "outputs": [
        {
          "output_type": "stream",
          "text": [
            "택배 가격: 8,000원\n"
          ],
          "name": "stdout"
        }
      ]
    },
    {
      "cell_type": "code",
      "metadata": {
        "colab": {
          "base_uri": "https://localhost:8080/"
        },
        "id": "Gm2YPcosk0PF",
        "outputId": "a1fab1a0-ead0-4db0-cd0b-79fc19cd78d5"
      },
      "source": [
        "weight = 12\n",
        "\n",
        "if weight < 5:\n",
        "  print(\"택배 가격: 5,000원\")\n",
        "elif weight < 10:\n",
        "  print(\"택배 가격: 8,000원\")\n",
        "else:\n",
        "  print(\"택배 가격: 10,000원\")"
      ],
      "execution_count": null,
      "outputs": [
        {
          "output_type": "stream",
          "text": [
            "택배 가격: 10,000원\n"
          ],
          "name": "stdout"
        }
      ]
    },
    {
      "cell_type": "markdown",
      "metadata": {
        "id": "j5Yd_UXFuSHE"
      },
      "source": [
        "**문제7) 0부터 100까지의 숫자 중에서 3의 배수와 7의 배수를 모두 찾아 출력한 다음, 찾은 수들을 모두 더하여 아래와 같이 출력하는 코드를 작성하여라.**\n",
        "\n",
        "> 0~100의 숫자 중 3의 배수와 7의 배수들의 합은 OOO이다.\n"
      ]
    },
    {
      "cell_type": "code",
      "metadata": {
        "id": "LkZ_j0PPGjT0",
        "colab": {
          "base_uri": "https://localhost:8080/"
        },
        "outputId": "de224602-3d0f-489c-e343-260627c7c174"
      },
      "source": [
        "total = 0\n",
        "for num in range(101):\n",
        "  if num % 3 == 0 or num % 7 == 0:\n",
        "    print(num)\n",
        "    total = total + num\n",
        "\n",
        "print(\"0~100의 숫자 중 3의 배수와 7의 배수들의 합은 \", total, \"이다.\")"
      ],
      "execution_count": null,
      "outputs": [
        {
          "output_type": "stream",
          "text": [
            "0\n",
            "3\n",
            "6\n",
            "7\n",
            "9\n",
            "12\n",
            "14\n",
            "15\n",
            "18\n",
            "21\n",
            "24\n",
            "27\n",
            "28\n",
            "30\n",
            "33\n",
            "35\n",
            "36\n",
            "39\n",
            "42\n",
            "45\n",
            "48\n",
            "49\n",
            "51\n",
            "54\n",
            "56\n",
            "57\n",
            "60\n",
            "63\n",
            "66\n",
            "69\n",
            "70\n",
            "72\n",
            "75\n",
            "77\n",
            "78\n",
            "81\n",
            "84\n",
            "87\n",
            "90\n",
            "91\n",
            "93\n",
            "96\n",
            "98\n",
            "99\n",
            "0~100의 숫자 중 3의 배수와 7의 배수들의 합은  2208 이다.\n"
          ],
          "name": "stdout"
        }
      ]
    },
    {
      "cell_type": "markdown",
      "metadata": {
        "id": "Wf5NSC6DSSky"
      },
      "source": [
        "연습을 더 하고 싶다면, 아래의 문제를 풀어보세요!  \n",
        "  \n",
        "  \n",
        "**[추가문제1] 아래와 같이 선언된 `lyrics`변수가 있다.**\n",
        "\n",
        "`lyrics = \" When you're smiling, the whole world smiles with you \"`  \n",
        "\n",
        "아래의 문제에 답하여라. 단, 특정 메소드들을 사용하여 한 줄 코드로 작성해야 한다.  \n",
        "(1) 위 문자열 양 끝에 있는 스페이스를 삭제하고, 모든 문자는 대문자로 변환시킨다.\n",
        "\n",
        "(2) 위 문자열 양 끝에 있는 스페이스를 삭제하고, `When you're smiling`은 `When you are smiling`으로 변경하여라.  \n",
        "\n",
        "(3) 위 문자열이 W로 시작하는지 여부를 판단하는 코드를 작성하여라. \n",
        "\n",
        "(4) 아래와 같은 결과를 출력하는 코드를 작성하여라.\n",
        "\n",
        "`[\"when\", \"you're\", \"smiling,\", \"the\", \"whole\", \"world\", \"smiles\", \"with\", \"you\"]`"
      ]
    },
    {
      "cell_type": "code",
      "metadata": {
        "colab": {
          "base_uri": "https://localhost:8080/"
        },
        "id": "I6rjdRbusQsW",
        "outputId": "4251a353-9a54-4e7d-c996-e5f2a61d2de4"
      },
      "source": [
        "lyrics = \" When you're smiling, the whole world smiles with you \"\n",
        "print(lyrics.strip().upper())"
      ],
      "execution_count": null,
      "outputs": [
        {
          "output_type": "stream",
          "text": [
            "WHEN YOU'RE SMILING, THE WHOLE WORLD SMILES WITH YOU\n"
          ],
          "name": "stdout"
        }
      ]
    },
    {
      "cell_type": "code",
      "metadata": {
        "colab": {
          "base_uri": "https://localhost:8080/"
        },
        "id": "GzhjMD2lsWZW",
        "outputId": "77565b7f-0807-4f06-83fe-51b90ac93116"
      },
      "source": [
        "print(lyrics.strip().replace(\"When you're smiling\", \"When you are smiling\"))"
      ],
      "execution_count": null,
      "outputs": [
        {
          "output_type": "stream",
          "text": [
            "When you are smiling, the whole world smiles with you\n"
          ],
          "name": "stdout"
        }
      ]
    },
    {
      "cell_type": "code",
      "metadata": {
        "colab": {
          "base_uri": "https://localhost:8080/"
        },
        "id": "Um8lfNu4sWke",
        "outputId": "e0496c6d-6af6-4db6-9bc8-c1ade83278f8"
      },
      "source": [
        "print(lyrics.startswith('W'))\n",
        "print(lyrics.strip().startswith('W')) # 공백을 제거했을 경우"
      ],
      "execution_count": null,
      "outputs": [
        {
          "output_type": "stream",
          "text": [
            "False\n",
            "True\n"
          ],
          "name": "stdout"
        }
      ]
    },
    {
      "cell_type": "code",
      "metadata": {
        "colab": {
          "base_uri": "https://localhost:8080/"
        },
        "id": "YtRD88wYsWnP",
        "outputId": "bf1eadd4-2979-46bd-b226-fc5e27cc7a7a"
      },
      "source": [
        "print(lyrics.lower().split())"
      ],
      "execution_count": null,
      "outputs": [
        {
          "output_type": "stream",
          "text": [
            "['when', \"you're\", 'smiling,', 'the', 'whole', 'world', 'smiles', 'with', 'you']\n"
          ],
          "name": "stdout"
        }
      ]
    },
    {
      "cell_type": "markdown",
      "metadata": {
        "id": "7zN5nuZEGlZS"
      },
      "source": [
        "**[추가문제2] 자연수 n이 주어졌을 때, 1부터 n까지의 자연수 중에서 3의 배수이거나 3을 포함하는 숫자들의 합을 구하여라. 단, n은 임의로 둔다.** "
      ]
    },
    {
      "cell_type": "code",
      "metadata": {
        "colab": {
          "base_uri": "https://localhost:8080/"
        },
        "id": "HFgtLcGmsu92",
        "outputId": "e17509d0-9b5e-4805-f187-a11880495c0a"
      },
      "source": [
        "n = 20\n",
        "\n",
        "total = 0\n",
        "for i in range(1, n+1):\n",
        "  if i % 3 == 0 or '3' in str(i):\n",
        "    print(i, \"를 더합니다.\")\n",
        "    total = total + i\n",
        "\n",
        "print(\"합계:\", total)"
      ],
      "execution_count": null,
      "outputs": [
        {
          "output_type": "stream",
          "text": [
            "3 를 더합니다.\n",
            "6 를 더합니다.\n",
            "9 를 더합니다.\n",
            "12 를 더합니다.\n",
            "13 를 더합니다.\n",
            "15 를 더합니다.\n",
            "18 를 더합니다.\n",
            "합계: 76\n"
          ],
          "name": "stdout"
        }
      ]
    },
    {
      "cell_type": "markdown",
      "metadata": {
        "id": "2PBw_4xUMsGi"
      },
      "source": [
        "**[추가문제3] 다음 코드의 결과값이 무엇인지 말하고, 코드를 실행시켜 확인하여라.**  \n",
        "\n",
        "참고) `not in`은 두 개의 문자열을 받아들여서, 첫째 문자열이 둘째 문자열의 부분 문자열로 등장하지 않는지 여부를 알려주는 연산자\n",
        "\n",
        "```\n",
        "fruit = \"banana apple orange pineapple mango strawberry cherry\"\n",
        "\n",
        "if \"tomato\" in fruit :\n",
        "  print(\"A\")\n",
        "elif \"abcd\" not in fruit:\n",
        "  print(\"B\")\n",
        "elif \"app\" in fruit :\n",
        "  print(\"C\")\n",
        "else :\n",
        "  print(\"D\") \n",
        "  ```"
      ]
    },
    {
      "cell_type": "markdown",
      "metadata": {
        "id": "HQSE8yREtIfx"
      },
      "source": [
        "B\n",
        "\n",
        "해설: 첫번째 if문의 경우 False이므로 넘어간다. 두번째 elif문에서 \"abcd\"는 주어진 문자열에 포함되지 않으므로 True이다. 따라서 두번째 elif문의 코드를 실행 후 전체 다중 조건문을 종료한다. "
      ]
    },
    {
      "cell_type": "code",
      "metadata": {
        "colab": {
          "base_uri": "https://localhost:8080/"
        },
        "id": "pibpkLP9tHa6",
        "outputId": "c760a449-e372-4ed7-d6ae-f5fd441b6ef4"
      },
      "source": [
        "fruit = \"banana apple orange pineapple mango strawberry cherry\"\n",
        " \n",
        "if \"tomato\" in fruit :\n",
        "  print(\"A\")\n",
        "elif \"abcd\" not in fruit:\n",
        "  print(\"B\")\n",
        "elif \"app\" in fruit :\n",
        "  print(\"C\")\n",
        "else :\n",
        "  print(\"D\") "
      ],
      "execution_count": null,
      "outputs": [
        {
          "output_type": "stream",
          "text": [
            "B\n"
          ],
          "name": "stdout"
        }
      ]
    },
    {
      "cell_type": "markdown",
      "metadata": {
        "id": "DL3G4F7CmkA1"
      },
      "source": [
        "**[추가문제4] 자연수 n1 이 주어졌을 때, n1의 약수를 모두 출력하는 코드를 작성하여라. 단, n1은 임의로 둔다.**"
      ]
    },
    {
      "cell_type": "code",
      "metadata": {
        "colab": {
          "base_uri": "https://localhost:8080/"
        },
        "id": "3hR5iQrLtQBJ",
        "outputId": "7a2d0358-1c41-46e0-b29b-4ca3fe7ee3db"
      },
      "source": [
        "n1 = 24\n",
        "\n",
        "for i in range(1, n1+1):\n",
        "  if n1 % i == 0:\n",
        "    print(\"약수:\", i)"
      ],
      "execution_count": null,
      "outputs": [
        {
          "output_type": "stream",
          "text": [
            "약수: 1\n",
            "약수: 2\n",
            "약수: 3\n",
            "약수: 4\n",
            "약수: 6\n",
            "약수: 8\n",
            "약수: 12\n",
            "약수: 24\n"
          ],
          "name": "stdout"
        }
      ]
    }
  ]
}