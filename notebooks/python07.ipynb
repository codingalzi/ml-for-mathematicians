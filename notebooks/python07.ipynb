{
 "cells": [
  {
   "cell_type": "markdown",
   "metadata": {},
   "source": [
    "# 순차 자료형: 사전"
   ]
  },
  {
   "cell_type": "markdown",
   "metadata": {},
   "source": [
    "사전 자료형을 설명하기 전에 집합 자료형을 먼저 설명한다."
   ]
  },
  {
   "cell_type": "markdown",
   "metadata": {},
   "source": [
    "## 집합"
   ]
  },
  {
   "cell_type": "markdown",
   "metadata": {},
   "source": [
    "`set` 자료형은 집합에 해당하는 자료형이며, 수학에서 배운 집합 개념과 동일하다.\n",
    "\n",
    "* 원소들 사이의 순서가 없다.\n",
    "* 중복된 원소를 인정하지 않는다."
   ]
  },
  {
   "cell_type": "code",
   "execution_count": 1,
   "metadata": {},
   "outputs": [
    {
     "data": {
      "text/plain": [
       "{2, 3, 5, 7}"
      ]
     },
     "execution_count": 1,
     "metadata": {},
     "output_type": "execute_result"
    }
   ],
   "source": [
    "primes_below_10 = {2, 3, 7, 5, 7, 3}\n",
    "primes_below_10"
   ]
  },
  {
   "cell_type": "markdown",
   "metadata": {},
   "source": [
    "원소의 개수는 `len` 함수를 이용하여 확인한다."
   ]
  },
  {
   "cell_type": "code",
   "execution_count": 2,
   "metadata": {},
   "outputs": [
    {
     "data": {
      "text/plain": [
       "4"
      ]
     },
     "execution_count": 2,
     "metadata": {},
     "output_type": "execute_result"
    }
   ],
   "source": [
    "len(primes_below_10)"
   ]
  },
  {
   "cell_type": "markdown",
   "metadata": {},
   "source": [
    "공집합은 `set()`으로 생성하며, 원소 추가는 `add` 메소드를 활용한다."
   ]
  },
  {
   "cell_type": "code",
   "execution_count": 3,
   "metadata": {},
   "outputs": [
    {
     "name": "stdout",
     "output_type": "stream",
     "text": [
      "{1, 2}\n"
     ]
    }
   ],
   "source": [
    "s = set()\n",
    "s.add(1)\n",
    "s.add(2)\n",
    "s.add(2)\n",
    "\n",
    "print(s)"
   ]
  },
  {
   "cell_type": "markdown",
   "metadata": {},
   "source": [
    "원소의 포함여부는 `in` 연산자를 활용하여 확인한다."
   ]
  },
  {
   "cell_type": "code",
   "execution_count": 4,
   "metadata": {},
   "outputs": [
    {
     "data": {
      "text/plain": [
       "True"
      ]
     },
     "execution_count": 4,
     "metadata": {},
     "output_type": "execute_result"
    }
   ],
   "source": [
    "2 in s"
   ]
  },
  {
   "cell_type": "code",
   "execution_count": 5,
   "metadata": {},
   "outputs": [
    {
     "data": {
      "text/plain": [
       "False"
      ]
     },
     "execution_count": 5,
     "metadata": {},
     "output_type": "execute_result"
    }
   ],
   "source": [
    "3 in s"
   ]
  },
  {
   "cell_type": "markdown",
   "metadata": {},
   "source": [
    "### 집합 자료형 사용 이유"
   ]
  },
  {
   "cell_type": "markdown",
   "metadata": {},
   "source": [
    "#### 예제\n",
    "\n",
    "리스트에 중복으로 포함된 항목을 쉽게 제거할 수 있다."
   ]
  },
  {
   "cell_type": "code",
   "execution_count": 6,
   "metadata": {},
   "outputs": [
    {
     "name": "stdout",
     "output_type": "stream",
     "text": [
      "[1, 2, 3]\n"
     ]
    }
   ],
   "source": [
    "item_list = [1, 2, 3, 1, 2, 3]\n",
    "\n",
    "item_set = set(item_list) \n",
    "distinct_item_list = list(item_set)\n",
    "\n",
    "print(distinct_item_list)"
   ]
  },
  {
   "cell_type": "markdown",
   "metadata": {},
   "source": [
    "#### 예제\n",
    "\n",
    "리스트에 중복으로 포함된 항목이 존재하는가를 쉽게 판단할 수 있다.\n",
    "예를 들어, 아래 함수는 중복 함수의 포함여부를 판단해준다."
   ]
  },
  {
   "cell_type": "code",
   "execution_count": 7,
   "metadata": {},
   "outputs": [],
   "source": [
    "def has_duplicates(t):\n",
    "    return len(set(t)) < len(t)"
   ]
  },
  {
   "cell_type": "code",
   "execution_count": 8,
   "metadata": {},
   "outputs": [
    {
     "data": {
      "text/plain": [
       "True"
      ]
     },
     "execution_count": 8,
     "metadata": {},
     "output_type": "execute_result"
    }
   ],
   "source": [
    "has_duplicates(item_list)"
   ]
  },
  {
   "cell_type": "markdown",
   "metadata": {},
   "source": [
    "#### 예제\n",
    "\n",
    "길이가 매우 긴 리스트를 대상으로 항목의 존재여부를 판단할 때 집합 자료형으로 형변환을 하면 \n",
    "매우 빠르게 해결할 수 있다."
   ]
  },
  {
   "cell_type": "code",
   "execution_count": 9,
   "metadata": {},
   "outputs": [
    {
     "name": "stdout",
     "output_type": "stream",
     "text": [
      "False\n",
      "False\n"
     ]
    }
   ],
   "source": [
    "hundreds_of_other_words = []  # 매우 긴 리스트라 상상한다.\n",
    "stopwords_list = [\"a\", \"an\", \"at\"] \\\n",
    "                + hundreds_of_other_words + [\"yet\", \"you\"]\n",
    "\n",
    "print(\"zip\" in stopwords_list)     # 확인 과정이 느리다.\n",
    "\n",
    "stopwords_set = set(stopwords_list)\n",
    "print(\"zip\" in stopwords_set)      # 매우 빠르게 확인한다."
   ]
  },
  {
   "cell_type": "markdown",
   "metadata": {},
   "source": [
    "## 사전"
   ]
  },
  {
   "cell_type": "markdown",
   "metadata": {},
   "source": [
    "안내: [Think Python 11장](http://greenteapress.com/thinkpython2/html/thinkpython2012.html) \n",
    "내용의 일부를 번역 및 요약수정하여 정리한 내용입니다."
   ]
  },
  {
   "cell_type": "markdown",
   "metadata": {},
   "source": [
    "사전 자료값은 일종의 쌍들의 집합이며, 각 쌍은 키(key)와 값(value)으로 이루어져 있다.\n",
    "\n",
    "* 키(key): 영어사전의 각 영어단어에 해당함.\n",
    "* 값(value): 특정 영어단어의 뜻에 해당함.\n",
    "\n",
    "예를 들어, 전자영어사전에서 'school'이란 단어의 뜻을 물으면 '학교'라는 뜻을 알려주는데 \n",
    "여기서 'school'이 키에 해당하고 '학교'가 값에 해당한다.\n",
    "따라서 전자영어사전은 이러한 키와 값들의 쌍을 무수히 많이 모아놓은 집합이라고 생각할 수 있다."
   ]
  },
  {
   "cell_type": "markdown",
   "metadata": {},
   "source": [
    "### 항목"
   ]
  },
  {
   "cell_type": "markdown",
   "metadata": {},
   "source": [
    "사전에 포함된 항목은 키와 값으로 이루어진 쌍이다.\n",
    "각각의 항목은 키와 그 키와 연관된 값들에 대한 정보라고 이해하면 된다.\n",
    "\n",
    "여기서는 영한사전을 생성하는 예제를 통해 사전 자료형의 활용을 설명하고자 한다."
   ]
  },
  {
   "cell_type": "markdown",
   "metadata": {},
   "source": [
    "### 빈 사전 생성"
   ]
  },
  {
   "cell_type": "markdown",
   "metadata": {},
   "source": [
    "먼저 빈 사전을 생성한다.\n",
    "\n",
    "빈 사전을 생성하려면 `dict` 함수를 활용하거나 단순히 아래와 같이 선언하면 된다."
   ]
  },
  {
   "cell_type": "code",
   "execution_count": 10,
   "metadata": {},
   "outputs": [
    {
     "name": "stdout",
     "output_type": "stream",
     "text": [
      "{}\n"
     ]
    }
   ],
   "source": [
    "eng2kr = dict()\n",
    "print(eng2kr)"
   ]
  },
  {
   "cell_type": "markdown",
   "metadata": {},
   "source": [
    "또는"
   ]
  },
  {
   "cell_type": "code",
   "execution_count": 11,
   "metadata": {},
   "outputs": [
    {
     "name": "stdout",
     "output_type": "stream",
     "text": [
      "{}\n"
     ]
    }
   ],
   "source": [
    "eng2kr = {}\n",
    "print(eng2kr)"
   ]
  },
  {
   "cell_type": "markdown",
   "metadata": {},
   "source": [
    "**주의:** 중괄호(`{}`)는 빈 사전을 나타낸다. "
   ]
  },
  {
   "cell_type": "markdown",
   "metadata": {},
   "source": [
    "### 항목 추가"
   ]
  },
  {
   "cell_type": "markdown",
   "metadata": {},
   "source": [
    "사전에 항목을 추가하려면 키와 값의 관계를 대괄호 연산자를 이용하여 지정하면 된다.\n",
    "예를 들어, 영단어 one과 한글 뜻 일, 하나를 연관지으려면 다음과 같이 한다."
   ]
  },
  {
   "cell_type": "code",
   "execution_count": 12,
   "metadata": {},
   "outputs": [],
   "source": [
    "eng2kr['one'] = '일, 하나'"
   ]
  },
  {
   "cell_type": "markdown",
   "metadata": {},
   "source": [
    "사전에 포함된 내용을 확인하면 키와 값 사이에 콜론이 들어간 키와 값의 쌍을 볼 수 있다."
   ]
  },
  {
   "cell_type": "code",
   "execution_count": 13,
   "metadata": {},
   "outputs": [
    {
     "name": "stdout",
     "output_type": "stream",
     "text": [
      "{'one': '일, 하나'}\n"
     ]
    }
   ],
   "source": [
    "print(eng2kr)"
   ]
  },
  {
   "cell_type": "markdown",
   "metadata": {},
   "source": [
    "항목을 하나 더 추가해보자."
   ]
  },
  {
   "cell_type": "code",
   "execution_count": 14,
   "metadata": {},
   "outputs": [],
   "source": [
    "eng2kr['three'] = '삼, 셋'"
   ]
  },
  {
   "cell_type": "code",
   "execution_count": 15,
   "metadata": {},
   "outputs": [
    {
     "name": "stdout",
     "output_type": "stream",
     "text": [
      "{'one': '일, 하나', 'three': '삼, 셋'}\n"
     ]
    }
   ],
   "source": [
    "print(eng2kr)"
   ]
  },
  {
   "cell_type": "markdown",
   "metadata": {},
   "source": [
    "### 사전 선언\n",
    "\n",
    "아래와 같이 사전을 바로 선언할 수도 있다."
   ]
  },
  {
   "cell_type": "code",
   "execution_count": 16,
   "metadata": {},
   "outputs": [],
   "source": [
    "dict_exp = {'one':'일, 하나', 'two':'이, 둘', 'three':'삼, 셋'}"
   ]
  },
  {
   "cell_type": "code",
   "execution_count": 17,
   "metadata": {},
   "outputs": [
    {
     "name": "stdout",
     "output_type": "stream",
     "text": [
      "{'one': '일, 하나', 'two': '이, 둘', 'three': '삼, 셋'}\n"
     ]
    }
   ],
   "source": [
    "print(dict_exp)"
   ]
  },
  {
   "cell_type": "markdown",
   "metadata": {},
   "source": [
    "### 항목의 순서"
   ]
  },
  {
   "cell_type": "markdown",
   "metadata": {},
   "source": [
    "'eng2kr'에 항목을 하나 더 추가해보자."
   ]
  },
  {
   "cell_type": "code",
   "execution_count": 18,
   "metadata": {},
   "outputs": [],
   "source": [
    "eng2kr['two'] = '이, 둘'"
   ]
  },
  {
   "cell_type": "code",
   "execution_count": 19,
   "metadata": {},
   "outputs": [
    {
     "name": "stdout",
     "output_type": "stream",
     "text": [
      "{'one': '일, 하나', 'three': '삼, 셋', 'two': '이, 둘'}\n"
     ]
    }
   ],
   "source": [
    "print(eng2kr)"
   ]
  },
  {
   "cell_type": "markdown",
   "metadata": {},
   "source": [
    "영어사전에 어떤 단어가 몇 번째에 위치하는가는 전혀 중요하지 않다.\n",
    "대신에 어떤 키가 사용되었는가만 중요하다."
   ]
  },
  {
   "cell_type": "markdown",
   "metadata": {},
   "source": [
    "### 대괄호(`[]`) 연산자"
   ]
  },
  {
   "cell_type": "markdown",
   "metadata": {},
   "source": [
    "대괄호 연산자는 항목을 추가할 때와 함게 항목을 확인하거나 업데이트 할 때도 사용한다.\n",
    "예를 들어, 'one'에 대응하는 값을 확인하고자 하면 다음과 같이 대괄호를 사용하는 인덱싱을 이용한다."
   ]
  },
  {
   "cell_type": "code",
   "execution_count": 20,
   "metadata": {},
   "outputs": [
    {
     "name": "stdout",
     "output_type": "stream",
     "text": [
      "일, 하나\n"
     ]
    }
   ],
   "source": [
    "print(eng2kr['one'])"
   ]
  },
  {
   "cell_type": "markdown",
   "metadata": {},
   "source": [
    "키와 연관된 값을 업데이트 하려면 새롭게 지정하면 된다."
   ]
  },
  {
   "cell_type": "code",
   "execution_count": 21,
   "metadata": {},
   "outputs": [
    {
     "name": "stdout",
     "output_type": "stream",
     "text": [
      "{'one': '일, 하나, 한번, 유일한', 'three': '삼, 셋', 'two': '이, 둘'}\n"
     ]
    }
   ],
   "source": [
    "eng2kr['one'] = '일, 하나, 한번, 유일한'\n",
    "print(eng2kr)"
   ]
  },
  {
   "cell_type": "markdown",
   "metadata": {},
   "source": [
    "만약 키가 사전에 사용되지 않았으면 오류(`KeyError`)가 발생한다."
   ]
  },
  {
   "cell_type": "code",
   "execution_count": 22,
   "metadata": {},
   "outputs": [
    {
     "ename": "KeyError",
     "evalue": "'four'",
     "output_type": "error",
     "traceback": [
      "\u001b[0;31m---------------------------------------------------------------------------\u001b[0m",
      "\u001b[0;31mKeyError\u001b[0m                                  Traceback (most recent call last)",
      "\u001b[0;32m<ipython-input-22-bb50ad42a120>\u001b[0m in \u001b[0;36m<module>\u001b[0;34m\u001b[0m\n\u001b[0;32m----> 1\u001b[0;31m \u001b[0mprint\u001b[0m\u001b[0;34m(\u001b[0m\u001b[0meng2kr\u001b[0m\u001b[0;34m[\u001b[0m\u001b[0;34m'four'\u001b[0m\u001b[0;34m]\u001b[0m\u001b[0;34m)\u001b[0m\u001b[0;34m\u001b[0m\u001b[0;34m\u001b[0m\u001b[0m\n\u001b[0m",
      "\u001b[0;31mKeyError\u001b[0m: 'four'"
     ]
    }
   ],
   "source": [
    "print(eng2kr['four'])"
   ]
  },
  {
   "cell_type": "markdown",
   "metadata": {},
   "source": [
    "### 'len' 함수\n",
    "\n",
    "사전에 포함된 항목의 개수를 확인시켜주는 함수이다."
   ]
  },
  {
   "cell_type": "code",
   "execution_count": 23,
   "metadata": {},
   "outputs": [
    {
     "data": {
      "text/plain": [
       "3"
      ]
     },
     "execution_count": 23,
     "metadata": {},
     "output_type": "execute_result"
    }
   ],
   "source": [
    "len(eng2kr)"
   ]
  },
  {
   "cell_type": "markdown",
   "metadata": {},
   "source": [
    "### 'in' 연산자"
   ]
  },
  {
   "cell_type": "markdown",
   "metadata": {},
   "source": [
    "특정 키가 사전에 사용되었는지 여부를 확인한다. "
   ]
  },
  {
   "cell_type": "code",
   "execution_count": 24,
   "metadata": {},
   "outputs": [
    {
     "data": {
      "text/plain": [
       "True"
      ]
     },
     "execution_count": 24,
     "metadata": {},
     "output_type": "execute_result"
    }
   ],
   "source": [
    "'one' in eng2kr"
   ]
  },
  {
   "cell_type": "code",
   "execution_count": 25,
   "metadata": {},
   "outputs": [
    {
     "data": {
      "text/plain": [
       "False"
      ]
     },
     "execution_count": 25,
     "metadata": {},
     "output_type": "execute_result"
    }
   ],
   "source": [
    "'four' in eng2kr"
   ]
  },
  {
   "cell_type": "markdown",
   "metadata": {},
   "source": [
    "### 사전 자료형 메서드"
   ]
  },
  {
   "cell_type": "markdown",
   "metadata": {},
   "source": [
    "#### `keys` 메서드"
   ]
  },
  {
   "cell_type": "markdown",
   "metadata": {},
   "source": [
    "사전에 사용된 키들을 모두 모아서 리스트와 비슷한 자료형을 만들어서 리턴한다.\n",
    "\n",
    "**주의:** 리스트와는 다르지만 매우 비슷하다."
   ]
  },
  {
   "cell_type": "code",
   "execution_count": 26,
   "metadata": {},
   "outputs": [
    {
     "name": "stdout",
     "output_type": "stream",
     "text": [
      "dict_keys(['one', 'three', 'two'])\n"
     ]
    }
   ],
   "source": [
    "keys = eng2kr.keys()\n",
    "\n",
    "print(keys)"
   ]
  },
  {
   "cell_type": "markdown",
   "metadata": {},
   "source": [
    "아래 두 코드는 동일한 일을 수행한다."
   ]
  },
  {
   "cell_type": "code",
   "execution_count": 27,
   "metadata": {},
   "outputs": [
    {
     "data": {
      "text/plain": [
       "True"
      ]
     },
     "execution_count": 27,
     "metadata": {},
     "output_type": "execute_result"
    }
   ],
   "source": [
    "'one' in eng2kr"
   ]
  },
  {
   "cell_type": "code",
   "execution_count": 28,
   "metadata": {},
   "outputs": [
    {
     "data": {
      "text/plain": [
       "True"
      ]
     },
     "execution_count": 28,
     "metadata": {},
     "output_type": "execute_result"
    }
   ],
   "source": [
    "'one' in eng2kr.keys()"
   ]
  },
  {
   "cell_type": "markdown",
   "metadata": {},
   "source": [
    "#### `values` 메서드"
   ]
  },
  {
   "cell_type": "markdown",
   "metadata": {},
   "source": [
    "사전에 사용된 값들을 모두 모아서 리스트와 비슷한 자료형을 만들어서 리턴한다.\n",
    "\n",
    "**주의:** 리스트와는 다르지만 매우 비슷하다."
   ]
  },
  {
   "cell_type": "code",
   "execution_count": 29,
   "metadata": {},
   "outputs": [
    {
     "name": "stdout",
     "output_type": "stream",
     "text": [
      "dict_values(['일, 하나, 한번, 유일한', '삼, 셋', '이, 둘'])\n"
     ]
    }
   ],
   "source": [
    "values = eng2kr.values()\n",
    "print(values)"
   ]
  },
  {
   "cell_type": "markdown",
   "metadata": {},
   "source": [
    "값으로 사용되었는가 여부를 이용하려면 `values` 메서드를 활용하면 된다."
   ]
  },
  {
   "cell_type": "code",
   "execution_count": 30,
   "metadata": {},
   "outputs": [
    {
     "data": {
      "text/plain": [
       "False"
      ]
     },
     "execution_count": 30,
     "metadata": {},
     "output_type": "execute_result"
    }
   ],
   "source": [
    "'이' in eng2kr.values()"
   ]
  },
  {
   "cell_type": "code",
   "execution_count": 31,
   "metadata": {},
   "outputs": [
    {
     "data": {
      "text/plain": [
       "False"
      ]
     },
     "execution_count": 31,
     "metadata": {},
     "output_type": "execute_result"
    }
   ],
   "source": [
    "'사' in eng2kr.values()"
   ]
  },
  {
   "cell_type": "markdown",
   "metadata": {},
   "source": [
    "#### `items` 메서드"
   ]
  },
  {
   "cell_type": "markdown",
   "metadata": {},
   "source": [
    "사전에 포함된 항목들을 순서쌍들의 리스트로 변환한다.\n",
    "각각의 순서쌍은 키와 값으로 이루어진, 즉 길이가 2인 튜플이다.\n",
    "\n",
    "**주의:** 리스트와는 다르지만 매우 비슷하다."
   ]
  },
  {
   "cell_type": "code",
   "execution_count": 32,
   "metadata": {},
   "outputs": [
    {
     "name": "stdout",
     "output_type": "stream",
     "text": [
      "dict_items([('one', '일, 하나, 한번, 유일한'), ('three', '삼, 셋'), ('two', '이, 둘')])\n"
     ]
    }
   ],
   "source": [
    "values = eng2kr.items()\n",
    "print(values)"
   ]
  },
  {
   "cell_type": "markdown",
   "metadata": {},
   "source": [
    "사전의 항목을 튜플로 하나씩 확인해보자.\n",
    "항목들이 길이가 2인 튜플로 구성되기에 변수 두 개에 각각 할당할 수 있다."
   ]
  },
  {
   "cell_type": "code",
   "execution_count": 33,
   "metadata": {},
   "outputs": [
    {
     "name": "stdout",
     "output_type": "stream",
     "text": [
      "one의 뜻은 일, 하나, 한번, 유일한입니다.\n",
      "three의 뜻은 삼, 셋입니다.\n",
      "two의 뜻은 이, 둘입니다.\n"
     ]
    }
   ],
   "source": [
    "for eng, kor in eng2kr.items():\n",
    "    print(f\"{eng}의 뜻은 {kor}입니다.\")"
   ]
  },
  {
   "cell_type": "markdown",
   "metadata": {},
   "source": [
    "영어 단어에 여러 뜻이 있을 수 있기 때문에 그것을 보다 상세히 보여줄 수도 있다.\n",
    "그러기 위해 문자열을 `split`과 `join` 메서드를 활용한다.\n",
    "\n",
    "**참고:** `split`/`join` 메서드의 활용은 [문자열 나누기/합치기](https://devpouch.tistory.com/77)에 좀 더 다양한 예제가 있음."
   ]
  },
  {
   "cell_type": "code",
   "execution_count": 34,
   "metadata": {},
   "outputs": [
    {
     "name": "stdout",
     "output_type": "stream",
     "text": [
      "one의 뜻은 일 또는 하나 또는 한번 또는 유일한입니다.\n",
      "three의 뜻은 삼 또는 셋입니다.\n",
      "two의 뜻은 이 또는 둘입니다.\n"
     ]
    }
   ],
   "source": [
    "for eng, kor in eng2kr.items():\n",
    "    meaning = kor.split(', ')\n",
    "    print(f\"{eng}의 뜻은 {' 또는 '. join(meaning)}입니다.\")"
   ]
  },
  {
   "cell_type": "markdown",
   "metadata": {},
   "source": [
    "### 예제: 카운터"
   ]
  },
  {
   "cell_type": "markdown",
   "metadata": {},
   "source": [
    "문자열에 사용된 각각의 문자가 몇 번씩 사용되었는지를 확인하는 함수를 사전을 이용하여 쉽게 구현할 수 있다. "
   ]
  },
  {
   "cell_type": "code",
   "execution_count": 35,
   "metadata": {},
   "outputs": [],
   "source": [
    "def histogram(word):\n",
    "    counts = dict()\n",
    "    for c in word: \n",
    "        if c not in counts:   # 알파벳이 처음 사용된 경우\n",
    "            counts[c] = 1     # counts 사전에 키와 카운트 값 추가\n",
    "        else:                 # 알파벳이 이미 사용된 경우\n",
    "            counts[c] += 1    # 기존의 카운트 값 1 증가\n",
    "    return counts"
   ]
  },
  {
   "cell_type": "code",
   "execution_count": 36,
   "metadata": {},
   "outputs": [
    {
     "data": {
      "text/plain": [
       "{'H': 1, 'e': 1, 'l': 2, 'o': 2, 'P': 1, 'y': 1, 't': 1, 'h': 1, 'n': 1}"
      ]
     },
     "execution_count": 36,
     "metadata": {},
     "output_type": "execute_result"
    }
   ],
   "source": [
    "histogram('HelloPython')"
   ]
  },
  {
   "cell_type": "markdown",
   "metadata": {},
   "source": [
    "아래에 정의된 함수 `print_hist`는 각 키와 대응하는 값을 인쇄한다."
   ]
  },
  {
   "cell_type": "code",
   "execution_count": 37,
   "metadata": {},
   "outputs": [],
   "source": [
    "def print_hist(a_dict):\n",
    "    for key in a_dict:\n",
    "        print(key, a_dict[key])"
   ]
  },
  {
   "cell_type": "markdown",
   "metadata": {},
   "source": [
    "앞서 구현한 'histogram' 함수의 리턴값을 활용하면 다음과 같다."
   ]
  },
  {
   "cell_type": "code",
   "execution_count": 38,
   "metadata": {},
   "outputs": [
    {
     "name": "stdout",
     "output_type": "stream",
     "text": [
      "H 1\n",
      "e 1\n",
      "l 2\n",
      "o 2\n",
      "P 1\n",
      "y 1\n",
      "t 1\n",
      "h 1\n",
      "n 1\n"
     ]
    }
   ],
   "source": [
    "countHelloPython = histogram('HelloPython')\n",
    "print_hist(countHelloPython)"
   ]
  }
 ],
 "metadata": {
  "kernelspec": {
   "display_name": "Python 3",
   "language": "python",
   "name": "python3"
  },
  "language_info": {
   "codemirror_mode": {
    "name": "ipython",
    "version": 3
   },
   "file_extension": ".py",
   "mimetype": "text/x-python",
   "name": "python",
   "nbconvert_exporter": "python",
   "pygments_lexer": "ipython3",
   "version": "3.8.5"
  }
 },
 "nbformat": 4,
 "nbformat_minor": 1
}
