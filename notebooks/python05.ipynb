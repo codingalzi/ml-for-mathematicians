{
 "cells": [
  {
   "cell_type": "markdown",
   "metadata": {},
   "source": [
    "# 순차 자료형: 리스트"
   ]
  },
  {
   "cell_type": "markdown",
   "metadata": {},
   "source": [
    "안내: [Think Python 10장](http://greenteapress.com/thinkpython2/html/thinkpython2011.html) \n",
    "내용의 일부를 번역 및 요약수정하여 정리한 내용입니다."
   ]
  },
  {
   "cell_type": "markdown",
   "metadata": {},
   "source": [
    "파이썬 프로그래밍언어는 정수, 실수, 진리값(`bool`), 문자열(`str`) 이외에 \n",
    "리스트(`list`), 튜플(`tuple`), 집합(`set`), 사전(`dict`) 등 여러 개의 값들을 묶어서 \n",
    "하나의 값으로 취급하는 __모음(collection)__ 자료형을 제공한다.\n",
    "모음 자료형은 **컨테이너**(container) 자료형으로 불리기도 한다.\n",
    "\n",
    "모음 자료형은 크게 두 종류로 구분된다.\n",
    "\n",
    "* 항목들 사이에 순서가 있는 순차 자료형: 리스트, 튜플\n",
    "* 항목들 사이에 순서가 없는 비순차 자료형: 집합, 사전\n",
    "\n",
    "__참고:__ 문자열도 순차 자료형으로 간주되며, 다른 종류의 순차 자료형도 더 있지만 여기서는 다루지 않는다.\n",
    "\n",
    "여기서는 리스트 자료형을 다룬다."
   ]
  },
  {
   "cell_type": "markdown",
   "metadata": {},
   "source": [
    "## 리스트"
   ]
  },
  {
   "cell_type": "markdown",
   "metadata": {},
   "source": [
    "리스트에 포함되는 값(항목)들 사이의 순서는 절대적으로 중요하다.\n",
    "순차 자료형을 __시퀀스__(sequence) 자료형이라고 부르기도 한다.\n",
    "리스트는 유한개의 항목을 포함하며 기본 형식은 다음과 같다.\n",
    "\n",
    "```python\n",
    "[ 항목1, 항목2, ..., 항목n ]\n",
    "```"
   ]
  },
  {
   "cell_type": "markdown",
   "metadata": {},
   "source": [
    "아래 예제와 같이 순서 또는 항목의 개수가 다르면 서로 다르다고 처리된다."
   ]
  },
  {
   "cell_type": "code",
   "execution_count": 1,
   "metadata": {},
   "outputs": [
    {
     "data": {
      "text/plain": [
       "False"
      ]
     },
     "execution_count": 1,
     "metadata": {},
     "output_type": "execute_result"
    }
   ],
   "source": [
    "[1, 3] == [3, 1]"
   ]
  },
  {
   "cell_type": "markdown",
   "metadata": {},
   "source": [
    "리스트는 항목의 중복해서 사용되는 것을 허용하며, 각각 다른 인덱스를 갖는다."
   ]
  },
  {
   "cell_type": "code",
   "execution_count": 2,
   "metadata": {},
   "outputs": [
    {
     "data": {
      "text/plain": [
       "True"
      ]
     },
     "execution_count": 2,
     "metadata": {},
     "output_type": "execute_result"
    }
   ],
   "source": [
    "[1] != [1,1]"
   ]
  },
  {
   "cell_type": "markdown",
   "metadata": {},
   "source": [
    "### 리스트 자료형의 주요 특징"
   ]
  },
  {
   "cell_type": "markdown",
   "metadata": {},
   "source": [
    "리스트의 항목으로 임의의 값이 올 수 있으며, 항목들의 자료형이 달라도 된다.\n",
    "따라서 리스트 항목으로 다른 리스트가 사용될 수도 있다."
   ]
  },
  {
   "cell_type": "code",
   "execution_count": 3,
   "metadata": {},
   "outputs": [
    {
     "data": {
      "text/plain": [
       "['spam', 2.0, 5, [10, 20], True]"
      ]
     },
     "execution_count": 3,
     "metadata": {},
     "output_type": "execute_result"
    }
   ],
   "source": [
    "['spam', 2.0, 5, [10, 20], True]"
   ]
  },
  {
   "cell_type": "markdown",
   "metadata": {},
   "source": [
    "항목이 전혀 없는 빈 리스트는 `[]`로 표시한다."
   ]
  },
  {
   "cell_type": "code",
   "execution_count": 4,
   "metadata": {},
   "outputs": [
    {
     "data": {
      "text/plain": [
       "list"
      ]
     },
     "execution_count": 4,
     "metadata": {},
     "output_type": "execute_result"
    }
   ],
   "source": [
    "type([])"
   ]
  },
  {
   "cell_type": "markdown",
   "metadata": {},
   "source": [
    "파이썬은 임의의 값을 변수에 할당할 수 있으며,\n",
    "리스트 또한 한 개의 값으로 간주된다."
   ]
  },
  {
   "cell_type": "code",
   "execution_count": 5,
   "metadata": {},
   "outputs": [
    {
     "name": "stdout",
     "output_type": "stream",
     "text": [
      "[1, 2, True, 6.5, 'abc']\n"
     ]
    }
   ],
   "source": [
    "myList = [1, 2, True, 6.5, \"abc\"]\n",
    "\n",
    "print(myList)"
   ]
  },
  {
   "cell_type": "markdown",
   "metadata": {},
   "source": [
    "### 리스트 관련 연산자"
   ]
  },
  {
   "cell_type": "markdown",
   "metadata": {},
   "source": [
    "리스트를 조작하는 다양한 기능이 존재한다.\n",
    "특히 아래에 소개된 기능들은 리스트를 포함하여 모든 순차 자료형에 공통적으로 사용되며,\n",
    "문자열 자료형에서 소개한 방식과 기본적으로 동일하게 작동한다.\n",
    "\n",
    "| 함수 | 기능 |\n",
    "| :--- | :--- |\n",
    "| [ k ] |  인덱싱 |\n",
    "| [ i : j : k ] | 슬라이싱 |\n",
    "| + | 이어 붙이기 |\n",
    "| * | 반복해서 이어붙이기 |\n",
    "| in | 항목 포함여부 확인 |\n",
    "| len() | 항목 개수 확인 |\n",
    "| del | 항목 삭제 |"
   ]
  },
  {
   "cell_type": "markdown",
   "metadata": {},
   "source": [
    "* 인덱싱: 문자열의 경우와 동일하게 작동"
   ]
  },
  {
   "cell_type": "code",
   "execution_count": 6,
   "metadata": {},
   "outputs": [
    {
     "data": {
      "text/plain": [
       "1"
      ]
     },
     "execution_count": 6,
     "metadata": {},
     "output_type": "execute_result"
    }
   ],
   "source": [
    "myList[0]"
   ]
  },
  {
   "cell_type": "markdown",
   "metadata": {},
   "source": [
    "* 슬라이싱: 문자열의 경우와 동일하게 작동"
   ]
  },
  {
   "cell_type": "code",
   "execution_count": 7,
   "metadata": {},
   "outputs": [
    {
     "data": {
      "text/plain": [
       "[2, 6.5]"
      ]
     },
     "execution_count": 7,
     "metadata": {},
     "output_type": "execute_result"
    }
   ],
   "source": [
    "myList[1:5:2]"
   ]
  },
  {
   "cell_type": "markdown",
   "metadata": {},
   "source": [
    "* 리스트 덧셈: 이어붙이기"
   ]
  },
  {
   "cell_type": "code",
   "execution_count": 8,
   "metadata": {},
   "outputs": [
    {
     "data": {
      "text/plain": [
       "[1, 2, True, 6.5, 'abc', 'python', [2, 3]]"
      ]
     },
     "execution_count": 8,
     "metadata": {},
     "output_type": "execute_result"
    }
   ],
   "source": [
    "myList + ['python', [2, 3]]"
   ]
  },
  {
   "cell_type": "markdown",
   "metadata": {},
   "source": [
    "* 리스트와 정수의 곱셈: 자기 복제"
   ]
  },
  {
   "cell_type": "code",
   "execution_count": 9,
   "metadata": {},
   "outputs": [
    {
     "data": {
      "text/plain": [
       "[1, 2, True, 6.5, 'abc', 1, 2, True, 6.5, 'abc']"
      ]
     },
     "execution_count": 9,
     "metadata": {},
     "output_type": "execute_result"
    }
   ],
   "source": [
    "myList * 2"
   ]
  },
  {
   "cell_type": "markdown",
   "metadata": {},
   "source": [
    "* 항목 포함여부 확인"
   ]
  },
  {
   "cell_type": "code",
   "execution_count": 10,
   "metadata": {},
   "outputs": [
    {
     "data": {
      "text/plain": [
       "True"
      ]
     },
     "execution_count": 10,
     "metadata": {},
     "output_type": "execute_result"
    }
   ],
   "source": [
    "2 in myList"
   ]
  },
  {
   "cell_type": "markdown",
   "metadata": {},
   "source": [
    "* 리스트의 길이: 항목의 개수"
   ]
  },
  {
   "cell_type": "code",
   "execution_count": 11,
   "metadata": {},
   "outputs": [
    {
     "data": {
      "text/plain": [
       "5"
      ]
     },
     "execution_count": 11,
     "metadata": {},
     "output_type": "execute_result"
    }
   ],
   "source": [
    "len(myList)"
   ]
  },
  {
   "cell_type": "markdown",
   "metadata": {},
   "source": [
    "* 지정된 인덱스의 항목 삭제"
   ]
  },
  {
   "cell_type": "code",
   "execution_count": 12,
   "metadata": {},
   "outputs": [
    {
     "data": {
      "text/plain": [
       "[1, 2, True, 6.5, 'abc']"
      ]
     },
     "execution_count": 12,
     "metadata": {},
     "output_type": "execute_result"
    }
   ],
   "source": [
    "myList"
   ]
  },
  {
   "cell_type": "code",
   "execution_count": 13,
   "metadata": {},
   "outputs": [
    {
     "data": {
      "text/plain": [
       "[1, 2, 6.5, 'abc']"
      ]
     },
     "execution_count": 13,
     "metadata": {},
     "output_type": "execute_result"
    }
   ],
   "source": [
    "del myList[2]\n",
    "myList"
   ]
  },
  {
   "cell_type": "markdown",
   "metadata": {},
   "source": [
    "### 수정 가능성"
   ]
  },
  {
   "cell_type": "markdown",
   "metadata": {},
   "source": [
    "리스트는 수정이 가능한 자료형이다.\n",
    "아래 예제는 인덱싱을 활용하여 특정 인덱스의 값을 다른 값으로 수정할 수 있음을 보여준다.\n",
    "심지어 수정된 항목의 자료형이 달라질 수도 있다."
   ]
  },
  {
   "cell_type": "code",
   "execution_count": 14,
   "metadata": {},
   "outputs": [
    {
     "data": {
      "text/plain": [
       "['Hi', 2, 6.5, 'abc']"
      ]
     },
     "execution_count": 14,
     "metadata": {},
     "output_type": "execute_result"
    }
   ],
   "source": [
    "myList[0] = 'Hi'\n",
    "myList"
   ]
  },
  {
   "cell_type": "markdown",
   "metadata": {},
   "source": [
    "### 리스트 메서드"
   ]
  },
  {
   "cell_type": "markdown",
   "metadata": {},
   "source": [
    "주요 리스트 객체와만 사용되는 함수, 즉 리스트 메서드는 다음과 같다. \n",
    "앞서 설명하였듯이, 경우에 따라 리스트 자체가 수정될 수 있음에 주의해야 한다."
   ]
  },
  {
   "cell_type": "markdown",
   "metadata": {},
   "source": [
    "* `append()`: 리스트 끝에 하나의 값 추가. 반환값은 `None`."
   ]
  },
  {
   "cell_type": "code",
   "execution_count": 15,
   "metadata": {},
   "outputs": [
    {
     "name": "stdout",
     "output_type": "stream",
     "text": [
      "['Hi', 2, 6.5, 'abc', False]\n"
     ]
    }
   ],
   "source": [
    "myList.append(False)\n",
    "\n",
    "print(myList)"
   ]
  },
  {
   "cell_type": "markdown",
   "metadata": {},
   "source": [
    "* `insert()`: 특정 인덱스의 위치에서 시작하여 여러 개의 항목 추가. 반환값은 `None`."
   ]
  },
  {
   "cell_type": "code",
   "execution_count": 16,
   "metadata": {},
   "outputs": [
    {
     "name": "stdout",
     "output_type": "stream",
     "text": [
      "['Hi', 2, 4.5, 6.5, 'abc', False]\n"
     ]
    }
   ],
   "source": [
    "myList.insert(2, 4.5)\n",
    "\n",
    "print(myList)"
   ]
  },
  {
   "cell_type": "markdown",
   "metadata": {},
   "source": [
    "* `pop()`: 지정된 인덱스의 항목 제거 및 반환. 인자가 지정되지 않으면 마지막 항목 제거 및 반환."
   ]
  },
  {
   "cell_type": "code",
   "execution_count": 17,
   "metadata": {},
   "outputs": [
    {
     "data": {
      "text/plain": [
       "False"
      ]
     },
     "execution_count": 17,
     "metadata": {},
     "output_type": "execute_result"
    }
   ],
   "source": [
    "myList.pop()"
   ]
  },
  {
   "cell_type": "code",
   "execution_count": 18,
   "metadata": {},
   "outputs": [
    {
     "name": "stdout",
     "output_type": "stream",
     "text": [
      "['Hi', 2, 4.5, 6.5, 'abc']\n"
     ]
    }
   ],
   "source": [
    "print(myList)"
   ]
  },
  {
   "cell_type": "code",
   "execution_count": 19,
   "metadata": {},
   "outputs": [
    {
     "data": {
      "text/plain": [
       "4.5"
      ]
     },
     "execution_count": 19,
     "metadata": {},
     "output_type": "execute_result"
    }
   ],
   "source": [
    "myList.pop(2)"
   ]
  },
  {
   "cell_type": "code",
   "execution_count": 20,
   "metadata": {},
   "outputs": [
    {
     "name": "stdout",
     "output_type": "stream",
     "text": [
      "['Hi', 2, 6.5, 'abc']\n"
     ]
    }
   ],
   "source": [
    "print(myList)"
   ]
  },
  {
   "cell_type": "markdown",
   "metadata": {},
   "source": [
    "* `sort()`: 항목들을 오름차순으로 정렬. \n",
    "    `reverse` 옵션 변수의 값을 `True' 지정하면 내림차순 정렬.\n",
    "    반환값은 `None`.    "
   ]
  },
  {
   "cell_type": "code",
   "execution_count": 21,
   "metadata": {},
   "outputs": [],
   "source": [
    "newList = [3.6, 1.7, 8.1, 6.5]"
   ]
  },
  {
   "cell_type": "code",
   "execution_count": 22,
   "metadata": {},
   "outputs": [
    {
     "name": "stdout",
     "output_type": "stream",
     "text": [
      "[1.7, 3.6, 6.5, 8.1]\n"
     ]
    }
   ],
   "source": [
    "newList.sort()\n",
    "\n",
    "print(newList)"
   ]
  },
  {
   "cell_type": "markdown",
   "metadata": {},
   "source": [
    "내림차순으로 정렬하고자 할 경우 `reverse=True` 옵션을 사용한다."
   ]
  },
  {
   "cell_type": "code",
   "execution_count": 23,
   "metadata": {},
   "outputs": [
    {
     "name": "stdout",
     "output_type": "stream",
     "text": [
      "[8.1, 6.5, 3.6, 1.7]\n"
     ]
    }
   ],
   "source": [
    "newList.sort(reverse=True)\n",
    "\n",
    "print(newList)"
   ]
  },
  {
   "cell_type": "markdown",
   "metadata": {},
   "source": [
    "__주의사항:__ 크기비교가 불가능한 항목이 포함되었을 경우 오류가 발생한다.\n",
    "예를 들어 `myList`에 포함된 문자열과 숫자는 서로 크기비교를 할 수 없기에 아래처럼 오류가 발생한다."
   ]
  },
  {
   "cell_type": "code",
   "execution_count": 24,
   "metadata": {},
   "outputs": [
    {
     "ename": "TypeError",
     "evalue": "'<' not supported between instances of 'int' and 'str'",
     "output_type": "error",
     "traceback": [
      "\u001b[0;31m---------------------------------------------------------------------------\u001b[0m",
      "\u001b[0;31mTypeError\u001b[0m                                 Traceback (most recent call last)",
      "\u001b[0;32m<ipython-input-24-56aa534bad77>\u001b[0m in \u001b[0;36m<module>\u001b[0;34m\u001b[0m\n\u001b[0;32m----> 1\u001b[0;31m \u001b[0mmyList\u001b[0m\u001b[0;34m.\u001b[0m\u001b[0msort\u001b[0m\u001b[0;34m(\u001b[0m\u001b[0;34m)\u001b[0m\u001b[0;34m\u001b[0m\u001b[0;34m\u001b[0m\u001b[0m\n\u001b[0m",
      "\u001b[0;31mTypeError\u001b[0m: '<' not supported between instances of 'int' and 'str'"
     ]
    }
   ],
   "source": [
    "myList.sort()"
   ]
  },
  {
   "cell_type": "markdown",
   "metadata": {},
   "source": [
    "* `reverse()`: 항목들의 순서 뒤집기."
   ]
  },
  {
   "cell_type": "code",
   "execution_count": 25,
   "metadata": {},
   "outputs": [
    {
     "name": "stdout",
     "output_type": "stream",
     "text": [
      "['abc', 6.5, 2, 'Hi']\n"
     ]
    }
   ],
   "source": [
    "myList.reverse()\n",
    "\n",
    "print(myList)"
   ]
  },
  {
   "cell_type": "markdown",
   "metadata": {},
   "source": [
    "* `index()`: 지정된 값이 리스트에 위치한 인덱스 중 최소값 반환. \n",
    "    항목으로 사용되지 않은 경우 오류(`ValueError`) 발생시킴."
   ]
  },
  {
   "cell_type": "code",
   "execution_count": 26,
   "metadata": {},
   "outputs": [
    {
     "data": {
      "text/plain": [
       "1"
      ]
     },
     "execution_count": 26,
     "metadata": {},
     "output_type": "execute_result"
    }
   ],
   "source": [
    "myList.index(6.5)"
   ]
  },
  {
   "cell_type": "code",
   "execution_count": 27,
   "metadata": {},
   "outputs": [
    {
     "ename": "ValueError",
     "evalue": "4.7 is not in list",
     "output_type": "error",
     "traceback": [
      "\u001b[0;31m---------------------------------------------------------------------------\u001b[0m",
      "\u001b[0;31mValueError\u001b[0m                                Traceback (most recent call last)",
      "\u001b[0;32m<ipython-input-27-f1ecf4000074>\u001b[0m in \u001b[0;36m<module>\u001b[0;34m\u001b[0m\n\u001b[0;32m----> 1\u001b[0;31m \u001b[0mmyList\u001b[0m\u001b[0;34m.\u001b[0m\u001b[0mindex\u001b[0m\u001b[0;34m(\u001b[0m\u001b[0;36m4.7\u001b[0m\u001b[0;34m)\u001b[0m\u001b[0;34m\u001b[0m\u001b[0;34m\u001b[0m\u001b[0m\n\u001b[0m",
      "\u001b[0;31mValueError\u001b[0m: 4.7 is not in list"
     ]
    }
   ],
   "source": [
    "myList.index(4.7)"
   ]
  },
  {
   "cell_type": "markdown",
   "metadata": {},
   "source": [
    "* `count()`: 지정된 값이 리스트에서 항목으로 사용된 횟수 반환."
   ]
  },
  {
   "cell_type": "code",
   "execution_count": 28,
   "metadata": {},
   "outputs": [
    {
     "name": "stdout",
     "output_type": "stream",
     "text": [
      "2\n"
     ]
    }
   ],
   "source": [
    "myList.append(6.5)\n",
    "\n",
    "print(myList.count(6.5))"
   ]
  },
  {
   "cell_type": "markdown",
   "metadata": {},
   "source": [
    "## 리스트 해체"
   ]
  },
  {
   "cell_type": "markdown",
   "metadata": {},
   "source": [
    "리스트의 길이를 정확히 알고 있는 경우 각각의 항목을 따로따로 떼어내어 변수에 저장할 수 있다."
   ]
  },
  {
   "cell_type": "code",
   "execution_count": 29,
   "metadata": {},
   "outputs": [
    {
     "name": "stdout",
     "output_type": "stream",
     "text": [
      "x = 1\n",
      "y = 2\n",
      "z = 3\n"
     ]
    }
   ],
   "source": [
    "x, y, z = [1, 2, 3]\n",
    "\n",
    "print(f\"x = {x}\", \n",
    "      f\"y = {y}\",\n",
    "      f\"z = {z}\",\n",
    "      sep='\\n')"
   ]
  },
  {
   "cell_type": "markdown",
   "metadata": {},
   "source": [
    "**주의:** 리스트의 길이와 변수의 개수가 다르면 오류가 발생한다."
   ]
  },
  {
   "cell_type": "code",
   "execution_count": 30,
   "metadata": {},
   "outputs": [
    {
     "ename": "ValueError",
     "evalue": "too many values to unpack (expected 2)",
     "output_type": "error",
     "traceback": [
      "\u001b[0;31m---------------------------------------------------------------------------\u001b[0m",
      "\u001b[0;31mValueError\u001b[0m                                Traceback (most recent call last)",
      "\u001b[0;32m<ipython-input-30-43d2015d9ce2>\u001b[0m in \u001b[0;36m<module>\u001b[0;34m\u001b[0m\n\u001b[0;32m----> 1\u001b[0;31m \u001b[0mx\u001b[0m\u001b[0;34m,\u001b[0m \u001b[0my\u001b[0m \u001b[0;34m=\u001b[0m \u001b[0;34m[\u001b[0m\u001b[0;36m1\u001b[0m\u001b[0;34m,\u001b[0m \u001b[0;36m2\u001b[0m\u001b[0;34m,\u001b[0m \u001b[0;36m3\u001b[0m\u001b[0;34m]\u001b[0m\u001b[0;34m\u001b[0m\u001b[0;34m\u001b[0m\u001b[0m\n\u001b[0m",
      "\u001b[0;31mValueError\u001b[0m: too many values to unpack (expected 2)"
     ]
    }
   ],
   "source": [
    "x, y = [1, 2, 3]"
   ]
  },
  {
   "cell_type": "code",
   "execution_count": 31,
   "metadata": {},
   "outputs": [
    {
     "ename": "ValueError",
     "evalue": "not enough values to unpack (expected 4, got 3)",
     "output_type": "error",
     "traceback": [
      "\u001b[0;31m---------------------------------------------------------------------------\u001b[0m",
      "\u001b[0;31mValueError\u001b[0m                                Traceback (most recent call last)",
      "\u001b[0;32m<ipython-input-31-6891ae448c90>\u001b[0m in \u001b[0;36m<module>\u001b[0;34m\u001b[0m\n\u001b[0;32m----> 1\u001b[0;31m \u001b[0mx\u001b[0m\u001b[0;34m,\u001b[0m \u001b[0my\u001b[0m\u001b[0;34m,\u001b[0m \u001b[0mz\u001b[0m\u001b[0;34m,\u001b[0m \u001b[0mw\u001b[0m \u001b[0;34m=\u001b[0m \u001b[0;34m[\u001b[0m\u001b[0;36m1\u001b[0m\u001b[0;34m,\u001b[0m \u001b[0;36m2\u001b[0m\u001b[0;34m,\u001b[0m \u001b[0;36m3\u001b[0m\u001b[0;34m]\u001b[0m\u001b[0;34m\u001b[0m\u001b[0;34m\u001b[0m\u001b[0m\n\u001b[0m",
      "\u001b[0;31mValueError\u001b[0m: not enough values to unpack (expected 4, got 3)"
     ]
    }
   ],
   "source": [
    "x, y, z, w = [1, 2, 3]"
   ]
  },
  {
   "cell_type": "markdown",
   "metadata": {},
   "source": [
    "리스트를 해체하면서 앞으로 사용하지 않고 버릴 항목은 굳이 이름을 주지 않아도 된다.\n",
    "이를 위해 밑줄(`underscore`, 언더스코어) 기호를 사용한다."
   ]
  },
  {
   "cell_type": "code",
   "execution_count": 32,
   "metadata": {},
   "outputs": [
    {
     "name": "stdout",
     "output_type": "stream",
     "text": [
      "x = 1\n",
      "z = 3\n"
     ]
    }
   ],
   "source": [
    "x, _, z = [1, 2, 3]\n",
    "print(f\"x = {x}\", \n",
    "      f\"z = {z}\",\n",
    "      sep='\\n')"
   ]
  },
  {
   "cell_type": "markdown",
   "metadata": {},
   "source": [
    "## `range`  객체"
   ]
  },
  {
   "cell_type": "markdown",
   "metadata": {},
   "source": [
    "특정 구간에 포함된 정수들의 리스트처럼 작동하는 자료형 객체이며,\n",
    "`range()` 함수를 이용하여 생성한다. "
   ]
  },
  {
   "cell_type": "markdown",
   "metadata": {},
   "source": [
    "### 사용법"
   ]
  },
  {
   "cell_type": "markdown",
   "metadata": {},
   "source": [
    "`range` 함수는 한 개에서 최대 세 개의 인자를 받을 수 있다.\n",
    "\n",
    "* 인자가 한 개이면 `0`부터 인자까지의 구간을 의미한다. \n",
    "    단, 구간의 끝은 포함하지 않는다.\n",
    "    아래 레인지 객체는 0부터 9까지의 정수로 이루어진 리스트와 유사하다."
   ]
  },
  {
   "cell_type": "code",
   "execution_count": 33,
   "metadata": {},
   "outputs": [
    {
     "data": {
      "text/plain": [
       "range(0, 10)"
      ]
     },
     "execution_count": 33,
     "metadata": {},
     "output_type": "execute_result"
    }
   ],
   "source": [
    "range(10)"
   ]
  },
  {
   "cell_type": "markdown",
   "metadata": {},
   "source": [
    "`list()` 함수를 이용하여 0부터 9까지의 숫자로 이루어진 리스트로 변환할 수 있다."
   ]
  },
  {
   "cell_type": "code",
   "execution_count": 34,
   "metadata": {},
   "outputs": [
    {
     "data": {
      "text/plain": [
       "[0, 1, 2, 3, 4, 5, 6, 7, 8, 9]"
      ]
     },
     "execution_count": 34,
     "metadata": {},
     "output_type": "execute_result"
    }
   ],
   "source": [
    "list(range(10))"
   ]
  },
  {
   "cell_type": "markdown",
   "metadata": {},
   "source": [
    "* 인자가 두 개이면 구간의 처음과 끝을 나타낸다. 단, 구간의 끝은 포함하지 않는다."
   ]
  },
  {
   "cell_type": "code",
   "execution_count": 35,
   "metadata": {},
   "outputs": [
    {
     "data": {
      "text/plain": [
       "[5, 6, 7, 8, 9]"
      ]
     },
     "execution_count": 35,
     "metadata": {},
     "output_type": "execute_result"
    }
   ],
   "source": [
    "list(range(5,10))"
   ]
  },
  {
   "cell_type": "markdown",
   "metadata": {},
   "source": [
    "* 인자가 세 개이면 마지막 인자는 몇 개씩 건너뛰며 항목으로 사용할지를 정하는 __스텝__(step)으로 사용된다.\n",
    "    예를 들어, 마지막 인자가 2이면 두 개씩 건너 뛰면서 항목을 정한다."
   ]
  },
  {
   "cell_type": "code",
   "execution_count": 36,
   "metadata": {},
   "outputs": [
    {
     "data": {
      "text/plain": [
       "[3, 5, 7, 9]"
      ]
     },
     "execution_count": 36,
     "metadata": {},
     "output_type": "execute_result"
    }
   ],
   "source": [
    "list(range(3, 10, 2))"
   ]
  },
  {
   "cell_type": "markdown",
   "metadata": {},
   "source": [
    "* 마지막 인자가 음수이면 역순으로 구간을 정한다는 의미이다. \n",
    "    따라서 구간의 시작이 끝보다 큰 수가 사용되어야 제대로 작동한다."
   ]
  },
  {
   "cell_type": "code",
   "execution_count": 37,
   "metadata": {},
   "outputs": [
    {
     "data": {
      "text/plain": [
       "[10, 9, 8, 7, 6, 5, 4, 3, 2]"
      ]
     },
     "execution_count": 37,
     "metadata": {},
     "output_type": "execute_result"
    }
   ],
   "source": [
    "list(range(10,1,-1))"
   ]
  },
  {
   "cell_type": "code",
   "execution_count": 38,
   "metadata": {},
   "outputs": [
    {
     "data": {
      "text/plain": [
       "[10, 7, 4]"
      ]
     },
     "execution_count": 38,
     "metadata": {},
     "output_type": "execute_result"
    }
   ],
   "source": [
    "list(range(10,1,-3))"
   ]
  },
  {
   "cell_type": "markdown",
   "metadata": {},
   "source": [
    "###  `range` 객체 주요 활용법"
   ]
  },
  {
   "cell_type": "markdown",
   "metadata": {},
   "source": [
    "특정 횟수만큼의 반복이 필요할 때 `for` 반복문과 함께 많이 활용된다.\n",
    "예를 들어 1부터 10까지의 정수의 제곱을 출력하고자 할 때 아래와 같이 사용한다."
   ]
  },
  {
   "cell_type": "code",
   "execution_count": 39,
   "metadata": {},
   "outputs": [
    {
     "name": "stdout",
     "output_type": "stream",
     "text": [
      "1\n",
      "4\n",
      "9\n",
      "16\n",
      "25\n",
      "36\n",
      "49\n",
      "64\n",
      "81\n",
      "100\n"
     ]
    }
   ],
   "source": [
    "for num in range(1, 11):\n",
    "    print(num**2)"
   ]
  },
  {
   "cell_type": "markdown",
   "metadata": {},
   "source": [
    "비슷한 방식으로 1부터 10까지의 정수의 3배 더하기 1의 값으로 이루어진 리스트를 생성할 수 있다."
   ]
  },
  {
   "cell_type": "code",
   "execution_count": 40,
   "metadata": {},
   "outputs": [
    {
     "name": "stdout",
     "output_type": "stream",
     "text": [
      "[4, 7, 10, 13, 16, 19, 22, 25, 28, 31]\n"
     ]
    }
   ],
   "source": [
    "square_1_to_10 = []\n",
    "\n",
    "for num in range(1, 11):\n",
    "    square_1_to_10.append(num*3 + 1)\n",
    "\n",
    "print(square_1_to_10)"
   ]
  },
  {
   "cell_type": "markdown",
   "metadata": {},
   "source": [
    "## 리스트 활용 예제"
   ]
  },
  {
   "cell_type": "markdown",
   "metadata": {},
   "source": [
    "리스트를 활용하여 셰익스피어가 사용한 단어의 개수를 확인하고자 한다.\n",
    "이를 위해 셰익스피어의 '한여름 밤의 꿈' 작품을 다운로드하여 파이썬으로 불러온다."
   ]
  },
  {
   "cell_type": "code",
   "execution_count": 41,
   "metadata": {},
   "outputs": [],
   "source": [
    "from urllib.request import urlopen\n",
    "\n",
    "shakespeare = urlopen(\"http://composingprograms.com/shakespeare.txt\")\n",
    "text = shakespeare.read().decode('utf-8')\n",
    "shakespeare.close()"
   ]
  },
  {
   "cell_type": "markdown",
   "metadata": {},
   "source": [
    "이제 `text`는 문자열 자료형이며, '한여름밤의 꿈' 작품 내용 전체를 담은 하나의 문자열이 할당되어 있다."
   ]
  },
  {
   "cell_type": "code",
   "execution_count": 42,
   "metadata": {},
   "outputs": [
    {
     "data": {
      "text/plain": [
       "str"
      ]
     },
     "execution_count": 42,
     "metadata": {},
     "output_type": "execute_result"
    }
   ],
   "source": [
    "type(text)"
   ]
  },
  {
   "cell_type": "markdown",
   "metadata": {},
   "source": [
    "`text`에 할당된 문자열을 `print(text)` 등을 이용하여 확인할 수 있다. \n",
    "하지만 여기서는 실행하지 않는다. \n",
    "텍스트 내용이 너무 길기 때문이다.\n",
    "그런데 '한여름 밤의 꿈'에 사용된 단어의 수는 몇 개일까?\n",
    "사용된 단어의 수를 확인하는 방법 중의 하나는 `text`에 할당된 문자열을 스페이스, 탭, 줄바꾸기 등을 기준으로 쪼개는 것이다.\n",
    "문자열 클래스의 `split()` 메서드가 그런 기능을 갖고 있다."
   ]
  },
  {
   "cell_type": "code",
   "execution_count": 43,
   "metadata": {},
   "outputs": [],
   "source": [
    "text_words = text.split()"
   ]
  },
  {
   "cell_type": "markdown",
   "metadata": {},
   "source": [
    "`len` 함수를 이용하여 `text_words` 리스트에 포함된 단어들의 개수를 확인할 수 있다."
   ]
  },
  {
   "cell_type": "code",
   "execution_count": 44,
   "metadata": {},
   "outputs": [
    {
     "data": {
      "text/plain": [
       "980637"
      ]
     },
     "execution_count": 44,
     "metadata": {},
     "output_type": "execute_result"
    }
   ],
   "source": [
    "len(text_words)"
   ]
  },
  {
   "cell_type": "markdown",
   "metadata": {},
   "source": [
    "무려 거의 100만 개의 단어가 포함되어 있다. \n",
    "그런데 과연 셰익스피어가 100만개의 단어를 알고 있을까? \n",
    "그럴 수가 없다. 실제로 영어 단어가 100만개가 넘는다고 알려져 있지만\n",
    "한 사람이 100만개의 단어를 활용할 수는 없다.\n",
    "실제로 셰익스피어는 자신의 작품 전체를 통틀어 28,829개의 단어를 사용했다고 알려져 있다.\n",
    "(참고: https://www.opensourceshakespeare.org/stats/)\n",
    "그렇다면 100만과 2만9천 사이의 오차는 어떻게 발생하였을까?"
   ]
  },
  {
   "cell_type": "markdown",
   "metadata": {},
   "source": [
    "### 중복 단어 제거"
   ]
  },
  {
   "cell_type": "markdown",
   "metadata": {},
   "source": [
    "먼저 리스트에는 항목이 여러 번 중복해서 사용될 수 있다. \n",
    "따라서 중복된 항목들을 제거해야만 실제로 사용된 서로 다른 단어들의 개수를 확인할 수 있을 것이다.\n",
    "집합 자료형을 활용하면 중복된 항목을 쉽게 제거할 수 있다."
   ]
  },
  {
   "cell_type": "markdown",
   "metadata": {},
   "source": [
    "#### 주의사항\n",
    "* 집합 자료형은 중학교에서 배운 집합 개념을 사용하며, 동일한 원소가 두 번 사용되어도 한 번 사용한 것으로 간주한다.\n",
    "* 집합 자료형을 활용하는 다양항 방식이 존재하지만\n",
    "    여기서는 리스트 자료형을 집합 자료형으로 형변환시켜서 중복된 항목을 제거하는 용도로만 사용한다.\n",
    "* 집합 자료형으로의 형변환은 `set()` 함수를 사용하면 된다."
   ]
  },
  {
   "cell_type": "code",
   "execution_count": 45,
   "metadata": {},
   "outputs": [],
   "source": [
    "words_set = set(text_words)"
   ]
  },
  {
   "cell_type": "markdown",
   "metadata": {},
   "source": [
    "이제 `len` 함수를 이용하여 `words_set` 집합의 원소의 개수를 알아낼 수 있다."
   ]
  },
  {
   "cell_type": "code",
   "execution_count": 46,
   "metadata": {},
   "outputs": [
    {
     "data": {
      "text/plain": [
       "33505"
      ]
     },
     "execution_count": 46,
     "metadata": {},
     "output_type": "execute_result"
    }
   ],
   "source": [
    "len(words_set)"
   ]
  },
  {
   "cell_type": "markdown",
   "metadata": {},
   "source": [
    "이제, 서로 다른 단어의 개수가 33,505개임을 확인할 수 있다.\n",
    "하지만 여전히 2만 9천여개 보다는 많이 크다. \n",
    "무엇이 문제일까?"
   ]
  },
  {
   "cell_type": "markdown",
   "metadata": {},
   "source": [
    "### 기호 제외하기"
   ]
  },
  {
   "cell_type": "markdown",
   "metadata": {},
   "source": [
    "리스트에 포함된 처음 30개 단어를 확인하면 단어 이외에 쉼표, 느낌표, 콜론 등이 리스트에 포함되어 있음을 알 수 있다."
   ]
  },
  {
   "cell_type": "code",
   "execution_count": 47,
   "metadata": {},
   "outputs": [
    {
     "data": {
      "text/plain": [
       "['A',\n",
       " \"MIDSUMMER-NIGHT'S\",\n",
       " 'DREAM',\n",
       " 'Now',\n",
       " ',',\n",
       " 'fair',\n",
       " 'Hippolyta',\n",
       " ',',\n",
       " 'our',\n",
       " 'nuptial',\n",
       " 'hour',\n",
       " 'Draws',\n",
       " 'on',\n",
       " 'apace',\n",
       " ':',\n",
       " 'four',\n",
       " 'happy',\n",
       " 'days',\n",
       " 'bring',\n",
       " 'in',\n",
       " 'Another',\n",
       " 'moon',\n",
       " ';',\n",
       " 'but',\n",
       " 'O',\n",
       " '!',\n",
       " 'methinks',\n",
       " 'how',\n",
       " 'slow',\n",
       " 'This']"
      ]
     },
     "execution_count": 47,
     "metadata": {},
     "output_type": "execute_result"
    }
   ],
   "source": [
    "text_words[:30]"
   ]
  },
  {
   "cell_type": "markdown",
   "metadata": {},
   "source": [
    "따라서 쉼표(`,`), 마침표(`.`), 느낌표(`!`), 물음표(`?`), 콜론(`:`), 세미콜론(`;`) 등을 \n",
    "리스트에서 제거해야 한다.\n",
    "그리고 경우에 따라 단어 끝에 쉼표, 느낌표 등이 붙어 있을 수도 있는데, \n",
    "동일한 단어에 그런 기호가 붙는 경우와 그렇지 않은 경우도 중복으로 처리해야 한다.\n",
    "그런데 어떻게 할까? 그리고 어떻게 어떤 기호들이 사용되었는지 알아낼 수 있을까?\n",
    "완벽하지는 않겠지만 아래와 같이 하나의 기호로 구성된 문자열은 길이가 1이라는 사실을 이용하여 사용된 기호들만 따로 \n",
    "하나의 리스트로 만들어보면 사용된 기호를 거의 알아낼 수 있을 것이다."
   ]
  },
  {
   "cell_type": "code",
   "execution_count": 48,
   "metadata": {},
   "outputs": [],
   "source": [
    "word_of_length_1 = []\n",
    "\n",
    "for word in text_words:\n",
    "    if len(word) == 1:\n",
    "        word_of_length_1.append(word)"
   ]
  },
  {
   "cell_type": "markdown",
   "metadata": {},
   "source": [
    "그런데 `word_of_length_1` 리스트의 길이가 매우 크다."
   ]
  },
  {
   "cell_type": "code",
   "execution_count": 49,
   "metadata": {},
   "outputs": [
    {
     "data": {
      "text/plain": [
       "203281"
      ]
     },
     "execution_count": 49,
     "metadata": {},
     "output_type": "execute_result"
    }
   ],
   "source": [
    "len(word_of_length_1)"
   ]
  },
  {
   "cell_type": "markdown",
   "metadata": {},
   "source": [
    "하지만 역시 중복이 많을 것이므로 집합으로 형변환하여 확인하면 개수가 확 줄어든다."
   ]
  },
  {
   "cell_type": "code",
   "execution_count": 50,
   "metadata": {},
   "outputs": [
    {
     "data": {
      "text/plain": [
       "39"
      ]
     },
     "execution_count": 50,
     "metadata": {},
     "output_type": "execute_result"
    }
   ],
   "source": [
    "len(set(word_of_length_1))"
   ]
  },
  {
   "cell_type": "markdown",
   "metadata": {},
   "source": [
    "39개 뿐이라 직접 확인할 수 있다."
   ]
  },
  {
   "cell_type": "code",
   "execution_count": 51,
   "metadata": {},
   "outputs": [
    {
     "name": "stdout",
     "output_type": "stream",
     "text": [
      "{'?', 'o', ',', 'a', '.', 'u', 'p', 'M', 'j', 'v', 'O', 'I', 'h', 'N', '!', '[', 'V', 'C', 'r', 'G', 'T', 'd', 't', 'b', 'B', 'D', ':', 'R', 'i', 'y', 'H', 'A', 'l', ';', 'c', ']', 's', '2', 'e'}\n"
     ]
    }
   ],
   "source": [
    "print(set(word_of_length_1))"
   ]
  },
  {
   "cell_type": "markdown",
   "metadata": {},
   "source": [
    "위에서 확인한 결과 사용된 기호는 `\",.!?:;[]\"` 문자열에 포함된 8개의 기호임을 알 수 있다.\n",
    "이제 `text_words`에서 위 기호들을 제거하면 되며, 이를 위해 문자열의 `strip()` 메서드를 활용한다."
   ]
  },
  {
   "cell_type": "code",
   "execution_count": 52,
   "metadata": {},
   "outputs": [],
   "source": [
    "# 제거한 문자들\n",
    "symbols = r\" \\n\\t,.!?:;[]\"\n",
    "\n",
    "# 기호를 제거한 단어를 저장할 변수\n",
    "text_words_stripped = []\n",
    "\n",
    "# text_words에 포함된 단어들에서 기호를 제거한 후 빈문자열이 아닌 것만 추가\n",
    "for word in text_words:\n",
    "    word_stripped = word.strip(symbols)\n",
    "    if len(word_stripped) > 0:\n",
    "        text_words_stripped.append(word_stripped)"
   ]
  },
  {
   "cell_type": "markdown",
   "metadata": {},
   "source": [
    "리스트의 길이는?"
   ]
  },
  {
   "cell_type": "code",
   "execution_count": 53,
   "metadata": {},
   "outputs": [
    {
     "data": {
      "text/plain": [
       "813736"
      ]
     },
     "execution_count": 53,
     "metadata": {},
     "output_type": "execute_result"
    }
   ],
   "source": [
    "len(text_words_stripped)"
   ]
  },
  {
   "cell_type": "markdown",
   "metadata": {},
   "source": [
    "중복되지 않는 단어의 개수는?"
   ]
  },
  {
   "cell_type": "code",
   "execution_count": 54,
   "metadata": {},
   "outputs": [
    {
     "data": {
      "text/plain": [
       "32308"
      ]
     },
     "execution_count": 54,
     "metadata": {},
     "output_type": "execute_result"
    }
   ],
   "source": [
    "len(set(text_words_stripped))"
   ]
  },
  {
   "cell_type": "markdown",
   "metadata": {},
   "source": [
    "여전히 좀 많다. \n",
    "\n",
    "이번엔 대문자와 소문자를 구분하지 않고 단어의 동일성 여부를 따져 보자."
   ]
  },
  {
   "cell_type": "code",
   "execution_count": 55,
   "metadata": {},
   "outputs": [],
   "source": [
    "# 제거한 문자들\n",
    "symbols = r\" \\n\\t,.!?:;[]\"\n",
    "\n",
    "# 기호를 제거한 단어를 저장할 변수\n",
    "text_words_stripped = []\n",
    "\n",
    "# text_words에 포함된 단어들에서 기호를 제거한 후 빈문자열이 아닌 것만 추가\n",
    "# 단, 모두 소문자화 해서 추가\n",
    "for word in text_words:\n",
    "    word_stripped = word.strip(symbols)\n",
    "    if len(word_stripped) > 0:\n",
    "        text_words_stripped.append(word_stripped.lower())"
   ]
  },
  {
   "cell_type": "markdown",
   "metadata": {},
   "source": [
    "중복되지 않은 단어의 개수는?"
   ]
  },
  {
   "cell_type": "code",
   "execution_count": 56,
   "metadata": {},
   "outputs": [
    {
     "data": {
      "text/plain": [
       "28094"
      ]
     },
     "execution_count": 56,
     "metadata": {},
     "output_type": "execute_result"
    }
   ],
   "source": [
    "len(set(text_words_stripped))"
   ]
  },
  {
   "cell_type": "markdown",
   "metadata": {},
   "source": [
    "이제 (거의) 제대로 된 결과를 얻게 되었다."
   ]
  },
  {
   "cell_type": "markdown",
   "metadata": {},
   "source": [
    "## 연습문제"
   ]
  },
  {
   "cell_type": "markdown",
   "metadata": {},
   "source": [
    "1. 아래 기준을 만족하는 `nested_sum` 함수를 구현하라.\n",
    "    * 리스트를 인자로 사용한다.\n",
    "    * 리스트의 항목은 정수들의 리스트가 사용된다.\n",
    "    * 리턴값은 리스트에 사용된 모든 정수들의 합니다.\n",
    "\n",
    "    예제: \n",
    "    ```python\n",
    "    >>> t = [[1, 2], [3], [4, 5, 6]]\n",
    "    >>> nested_sum(t)\n",
    "    21\n",
    "    ```\n",
    "    힌트: `sum` 함수 활용\n",
    "    <br><br>\n",
    "1. 아래 기준을 만족하는 `cumsum` 함수를 구현하라.\n",
    "    * 정수들의 리스트를 인자로 사용한다.\n",
    "    * 리턴값은 리스트에 사용된 정수들을 하나씩 누적해서 합한 값들의 리스트이다.\n",
    "\n",
    "    예제:\n",
    "    ```python    \n",
    "    >>> t = [1, 2, 3]\n",
    "    >>> cumsum(t)\n",
    "    [1, 3, 6]\n",
    "    ```\n",
    "    힌트: `append` 메서드 활용\n",
    "    <br><br>\n",
    "1. 아래 기준을 만족하는 `middle` 함수를 구현하라.\n",
    "    * 정수들의 리스트를 인자로 사용한다.\n",
    "    * 리턴값은 리스트의 처음과 끝에 사용된 항목을 제거한 리스트이다.\n",
    "\n",
    "    예제:\n",
    "    ```python    \n",
    "    >>> t = [1, 2, 3, 4]\n",
    "    >>> middle(t)\n",
    "    [2, 3]\n",
    "    ```\n",
    "    힌트: 슬라이싱 활용\n",
    "    <br><br>\n",
    "1. 아래 기준을 만족하는 `chop` 함수를 구현하라.\n",
    "    * 정수들의 리스트를 인자로 사용한다.\n",
    "    * 리스트의 처음과 끝에 사용된 항목을 제거한다.\n",
    "    * 리턴값은 `None`이다.\n",
    "\n",
    "    예제:\n",
    "    ```python    \n",
    "    >>> t = [1, 2, 3, 4]\n",
    "    >>> chop(t)\n",
    "    >>> t\n",
    "    [2, 3]\n",
    "    ```\n",
    "    힌트: `del` 함수 활용\n",
    "    <br><br>\n",
    "1. 아래 기준을 만족하는 `is_sorted` 함수를 구현하라.\n",
    "    * 리스트를 인자로 사용한다.\n",
    "    * 입력된 리스트가 올림차순으로 정렬이 되어 있으면 `True`를\n",
    "        그렇치 않으면 `False`를 리턴한다.\n",
    "\n",
    "    예제:\n",
    "    ```python    \n",
    "    >>> is_sorted([1, 2, 2])\n",
    "    True\n",
    "    >>> is_sorted(['b', 'a'])\n",
    "    False\n",
    "    ```\n",
    "    힌트: `sort` 메서드 또는 `sorted` 함수 활용\n",
    "    <br><br>\n",
    "1. 아래 기준을 만족하는 `is_anagram` 함수를 구현하라.\n",
    "    * 두 개의 문자열을 입력받는다.\n",
    "    * 두 문자열이 서로 애너그램의 관계이면 `True`를\n",
    "        그렇지 않으면 `False`를 리턴한다.\n",
    "\n",
    "    주의: 애너그램의 관계는 동일한 문자를 동일한 개수만큼 사용한 관계이다.<br>\n",
    "    예제:\n",
    "    ```python    \n",
    "    >>> is_anagram('hello', 'eollh')\n",
    "    True\n",
    "    >>> is_anagram('hello', 'eoLLh')\n",
    "    False\n",
    "    ```\n",
    "1. `continue`, `break`, `pass` 세 계의 특별한 명령문의 이해를 도와주는 문제이다.\n",
    "    <br><br>\n",
    "    1. 아래 `for` 반복문을 완성하라. \n",
    "        ```python\n",
    "        for n in range(2,10):\n",
    "            for x in range(2, n):\n",
    "                # 코드를 완성하세요\n",
    "                pass\n",
    "            else:\n",
    "                # 코드를 완성하세요.\n",
    "                pass\n",
    "        ```\n",
    "        실행결과는 다음과 같아야 한다.\n",
    "        ```\n",
    "        2은 소수다.\n",
    "        3은 소수다.\n",
    "        4 = 2*2\n",
    "        5은 소수다.\n",
    "        6 = 2*3\n",
    "        7은 소수다.\n",
    "        8 = 2*4\n",
    "        9 = 3*3\n",
    "        ```\n",
    "        힌트:\n",
    "            * `for` 반복문과 함께 사용되는 `else`의 역할에 주목할 것.\n",
    "            * `break` 활용\n",
    "    1. 아래 `for` 반복문을 완성하라. \n",
    "        ```python\n",
    "        for n in range(2,10):\n",
    "            # 코드를 완성하세요\n",
    "            pass\n",
    "        ```\n",
    "        실행결과는 다음과 같아야 한다.\n",
    "        ```\n",
    "        짝수 2을(를) 찾았다.\n",
    "        3을 찾았다.\n",
    "        짝수 4을(를) 찾았다.\n",
    "        5을 찾았다.\n",
    "        짝수 6을(를) 찾았다.\n",
    "        7을 찾았다.\n",
    "        짝수 8을(를) 찾았다.\n",
    "        9을 찾았다.\n",
    "        ```\n",
    "        힌트:\n",
    "            * `if` 조건문과 `continue` 명령문 활용\n",
    "    1. 아래 `for` 반복문을 완성하라. \n",
    "        ```python\n",
    "        for n in range(2,10):\n",
    "            # 코드를 완성하세요\n",
    "            pass\n",
    "        ```\n",
    "        실행결과는 다음과 같아야 한다.\n",
    "        ```\n",
    "        짝수 2을(를) 찾았다.\n",
    "        2을 찾았다.\n",
    "        3을 찾았다.\n",
    "        짝수 4을(를) 찾았다.\n",
    "        4을 찾았다.\n",
    "        5을 찾았다.\n",
    "        짝수 6을(를) 찾았다.\n",
    "        6을 찾았다.\n",
    "        7을 찾았다.\n",
    "        짝수 8을(를) 찾았다.\n",
    "        8을 찾았다.\n",
    "        9을 찾았다.\n",
    "        ```\n",
    "        힌트:\n",
    "            * `if` 조건문과 `pass` 명령문 활용"
   ]
  }
 ],
 "metadata": {
  "kernelspec": {
   "display_name": "Python 3",
   "language": "python",
   "name": "python3"
  },
  "language_info": {
   "codemirror_mode": {
    "name": "ipython",
    "version": 3
   },
   "file_extension": ".py",
   "mimetype": "text/x-python",
   "name": "python",
   "nbconvert_exporter": "python",
   "pygments_lexer": "ipython3",
   "version": "3.8.5"
  }
 },
 "nbformat": 4,
 "nbformat_minor": 1
}
