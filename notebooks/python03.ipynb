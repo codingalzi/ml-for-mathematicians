{
 "cells": [
  {
   "cell_type": "markdown",
   "metadata": {},
   "source": [
    "# 파이썬 기본 자료형 3부"
   ]
  },
  {
   "cell_type": "markdown",
   "metadata": {},
   "source": [
    "## 주요 내용 "
   ]
  },
  {
   "cell_type": "markdown",
   "metadata": {},
   "source": [
    "* 제어문: `if` 조건문, `for` 반복문, `while` 반복문"
   ]
  },
  {
   "cell_type": "markdown",
   "metadata": {},
   "source": [
    "## 제어문"
   ]
  },
  {
   "cell_type": "markdown",
   "metadata": {},
   "source": [
    "프로그램 실행의 흐름을 제어하는 세 종류의 제어 명령문을 소개한다.\n",
    "\n",
    "* `if` 조건문\n",
    "* `for` 반복문\n",
    "* `while` 반복문"
   ]
  },
  {
   "cell_type": "markdown",
   "metadata": {},
   "source": [
    "### `if` 조건문"
   ]
  },
  {
   "cell_type": "markdown",
   "metadata": {},
   "source": [
    "`if` 조건문의 기본 양식은 다음과 같으며,\n",
    "`if` 다음에 위치한 부울 표현식이 참이면 지정된 코드가 실행된다.\n",
    "\n",
    "```python\n",
    "if 부울표현식:\n",
    "    코드\n",
    "```"
   ]
  },
  {
   "cell_type": "markdown",
   "metadata": {},
   "source": [
    "#### 예제"
   ]
  },
  {
   "cell_type": "markdown",
   "metadata": {},
   "source": [
    "하나의 문자열이 다른 문자열의 부분문자열일지를 아래와 가티 확인할 수 있다."
   ]
  },
  {
   "cell_type": "code",
   "execution_count": 1,
   "metadata": {},
   "outputs": [
    {
     "name": "stdout",
     "output_type": "stream",
     "text": [
      "'bc'가 'abcde'의 부분문자열이다.\n"
     ]
    }
   ],
   "source": [
    "if 'bc' in 'abcde':\n",
    "    print(\"'bc'가 'abcde'의 부분문자열이다.\")"
   ]
  },
  {
   "cell_type": "markdown",
   "metadata": {},
   "source": [
    "#### 예제"
   ]
  },
  {
   "cell_type": "code",
   "execution_count": 2,
   "metadata": {},
   "outputs": [
    {
     "name": "stdout",
     "output_type": "stream",
     "text": [
      "'음수'입니다.\n"
     ]
    }
   ],
   "source": [
    "x = -2\n",
    "\n",
    "if x < 0:\n",
    "    print(\"'음수'입니다.\")"
   ]
  },
  {
   "cell_type": "markdown",
   "metadata": {},
   "source": [
    "__주의사항:__ `'음수'입니다.` 문자열 안에 작은따옴표가 \n",
    "사용되기 때문에 반드시 큰따옴표로 감싸야 한다. "
   ]
  },
  {
   "cell_type": "markdown",
   "metadata": {},
   "source": [
    "조건식이 만족되지 않으면 지정된 코드는 건너뛴다."
   ]
  },
  {
   "cell_type": "markdown",
   "metadata": {},
   "source": [
    "#### 예제"
   ]
  },
  {
   "cell_type": "code",
   "execution_count": 3,
   "metadata": {},
   "outputs": [
    {
     "name": "stdout",
     "output_type": "stream",
     "text": [
      "if문을 건너뛰었음!\n"
     ]
    }
   ],
   "source": [
    "if 'ac' in 'abcde':\n",
    "    print(\"'ac'가 'abcde'의 부분문자열이다.\")\n",
    "    \n",
    "print(\"if문을 건너뛰었음!\")"
   ]
  },
  {
   "cell_type": "markdown",
   "metadata": {},
   "source": [
    "#### 예제"
   ]
  },
  {
   "cell_type": "code",
   "execution_count": 4,
   "metadata": {},
   "outputs": [
    {
     "name": "stdout",
     "output_type": "stream",
     "text": [
      "if문을 건너뛰었음!\n"
     ]
    }
   ],
   "source": [
    "x = 4\n",
    "\n",
    "if x < 0:\n",
    "    print(\"'음수'입니다.\")\n",
    "    \n",
    "print(\"if문을 건너뛰었음!\")"
   ]
  },
  {
   "cell_type": "markdown",
   "metadata": {},
   "source": [
    "`if ... else ...` 명령문은 `if`의 부울 표현식이 `False`일 때 수행할 코드를 지정한다."
   ]
  },
  {
   "cell_type": "markdown",
   "metadata": {},
   "source": [
    "```python\n",
    "if 부울표현식:\n",
    "    코드1\n",
    "else:\n",
    "    코드2\n",
    "```"
   ]
  },
  {
   "cell_type": "markdown",
   "metadata": {},
   "source": [
    "#### 예제"
   ]
  },
  {
   "cell_type": "markdown",
   "metadata": {},
   "source": [
    "예를 들어, 짝수는 반으로 나누고, 홀수는 3배한 후에 1을 더해고자 한다면 아래와 같이 작성한다."
   ]
  },
  {
   "cell_type": "code",
   "execution_count": 5,
   "metadata": {},
   "outputs": [
    {
     "name": "stdout",
     "output_type": "stream",
     "text": [
      "1\n"
     ]
    }
   ],
   "source": [
    "x = 2\n",
    "\n",
    "if x % 2 == 0:\n",
    "    print(int(x/2))    # int() 함수를 이용하여 정수 자료형을 유지한다.\n",
    "else:\n",
    "    print(3 * x + 1)"
   ]
  },
  {
   "cell_type": "code",
   "execution_count": 6,
   "metadata": {},
   "outputs": [
    {
     "name": "stdout",
     "output_type": "stream",
     "text": [
      "22\n"
     ]
    }
   ],
   "source": [
    "x = 7\n",
    "\n",
    "if x % 2 == 0:\n",
    "    print(int(x/2))    # int() 함수를 이용하여 정수 자료형을 유지한다.\n",
    "else:\n",
    "    print(3 * x + 1)"
   ]
  },
  {
   "cell_type": "markdown",
   "metadata": {},
   "source": [
    "#### 다중 조건문"
   ]
  },
  {
   "cell_type": "markdown",
   "metadata": {},
   "source": [
    "경우에 따른 여러 조건을 사용할 경우 원하는 만큼의 `elif` 문을 사용하고\n",
    "마지막에 `else` 문을 한 번 사용할 수 있다. \n",
    "단, `else` 문은 생략될 수 있다."
   ]
  },
  {
   "cell_type": "markdown",
   "metadata": {},
   "source": [
    "```python\n",
    "if 부울표현식1:\n",
    "    코드1\n",
    "elif 부울표현식2:\n",
    "    코드2\n",
    "elif 부울표현식2:\n",
    "    코드2\n",
    ",,,\n",
    "\n",
    "elif 부울표현식k:\n",
    "    코드k\n",
    "else:\n",
    "    코드\n",
    "```"
   ]
  },
  {
   "cell_type": "markdown",
   "metadata": {},
   "source": [
    "맨 위에 위치한 조건식의 만족 여부부터 차례대로 조사하며 한 곳에서 만족되면 그 아래에 위치한\n",
    "`elif`와 `else` 명령문과 해당 코드는 전부 무시된다."
   ]
  },
  {
   "cell_type": "markdown",
   "metadata": {},
   "source": [
    "#### 예제"
   ]
  },
  {
   "cell_type": "code",
   "execution_count": 7,
   "metadata": {},
   "outputs": [
    {
     "name": "stdout",
     "output_type": "stream",
     "text": [
      "5 보다 작은 양수\n"
     ]
    }
   ],
   "source": [
    "x = 4\n",
    "\n",
    "if x < 0:\n",
    "    print('음수')\n",
    "elif x == 0:\n",
    "    print('숫자 0')\n",
    "elif 0 < x < 5:\n",
    "    print('5 보다 작은 양수')\n",
    "else:\n",
    "    print('5 보다 큰 양수')"
   ]
  },
  {
   "cell_type": "markdown",
   "metadata": {},
   "source": [
    "#### 부울 연산자를 사용할 때 주의할 점"
   ]
  },
  {
   "cell_type": "markdown",
   "metadata": {},
   "source": [
    "부울 연산자를 이용하여 정의된 조건식을 사용할 때 주의해야 할 사항이 있다.\n",
    "예를 들어, 아래 코드에서 `a < b`가 참이기에 `c/d > 0` 은 아예 검사하지 않는다."
   ]
  },
  {
   "cell_type": "markdown",
   "metadata": {},
   "source": [
    "#### 예제"
   ]
  },
  {
   "cell_type": "code",
   "execution_count": 8,
   "metadata": {},
   "outputs": [
    {
     "name": "stdout",
     "output_type": "stream",
     "text": [
      "\"or\" 연산자 오른편에 위치한 표현식은 검사하지 않아요!\n"
     ]
    }
   ],
   "source": [
    "a, b, c, d = 5, 7, 8, 0\n",
    "\n",
    "if a < b or c / d > 0:\n",
    "    print('\"or\" 연산자 오른편에 위치한 표현식은 검사하지 않아요!')"
   ]
  },
  {
   "cell_type": "markdown",
   "metadata": {},
   "source": [
    "하지만 `c/d > 0`을 검사한다면 오류가 발생한다.\n",
    "이유는 0으로 나누는 일은 허용되지 않기 때문이다.\n",
    "실제로 0으로 나눗셈을 시도하면 `ZeroDivisionError` 라는 오류가 발생한다."
   ]
  },
  {
   "cell_type": "code",
   "execution_count": 9,
   "metadata": {},
   "outputs": [
    {
     "ename": "ZeroDivisionError",
     "evalue": "division by zero",
     "output_type": "error",
     "traceback": [
      "\u001b[1;31m---------------------------------------------------------------------------\u001b[0m",
      "\u001b[1;31mZeroDivisionError\u001b[0m                         Traceback (most recent call last)",
      "\u001b[1;32m<ipython-input-9-2fb2320cb664>\u001b[0m in \u001b[0;36m<module>\u001b[1;34m\u001b[0m\n\u001b[1;32m----> 1\u001b[1;33m \u001b[0mc\u001b[0m \u001b[1;33m/\u001b[0m \u001b[0md\u001b[0m \u001b[1;33m>\u001b[0m \u001b[1;36m0\u001b[0m\u001b[1;33m\u001b[0m\u001b[1;33m\u001b[0m\u001b[0m\n\u001b[0m",
      "\u001b[1;31mZeroDivisionError\u001b[0m: division by zero"
     ]
    }
   ],
   "source": [
    "c / d > 0"
   ]
  },
  {
   "cell_type": "markdown",
   "metadata": {},
   "source": [
    "#### 예제"
   ]
  },
  {
   "cell_type": "markdown",
   "metadata": {},
   "source": [
    "아래의 경우처럼 오류가 발생하는 명령문이나 표현식이 `elif` 또는 `else` 표현식에 포함되더라도\n",
    "오류가 발생하지 않을 수 있다.\n",
    "이유는 앞서 설명한 대로 특정 조건이 만족되면 그 아래에 있는 다른 조건의 코드는 전부 무시되기 때문이다."
   ]
  },
  {
   "cell_type": "code",
   "execution_count": null,
   "metadata": {},
   "outputs": [],
   "source": [
    "a, b, c, d = 5, 7, 8, 0\n",
    "\n",
    "if a < b:\n",
    "    print(b - a)\n",
    "elif (c / d) > 0:\n",
    "    print('오류가 발생하지 않아요!')"
   ]
  },
  {
   "cell_type": "code",
   "execution_count": null,
   "metadata": {},
   "outputs": [],
   "source": [
    "a, b, c, d = 5, 7, 8, 0\n",
    "\n",
    "if a < b:\n",
    "    print(b - a)\n",
    "else:\n",
    "    print(c / d)"
   ]
  },
  {
   "cell_type": "markdown",
   "metadata": {},
   "source": [
    "#### 중첩 조건문"
   ]
  },
  {
   "cell_type": "markdown",
   "metadata": {},
   "source": [
    "조건문 안에 조건문이 사용될 수 있으며, 중첩 조건문이라 한다."
   ]
  },
  {
   "cell_type": "markdown",
   "metadata": {},
   "source": [
    "#### 예제"
   ]
  },
  {
   "cell_type": "code",
   "execution_count": 10,
   "metadata": {},
   "outputs": [
    {
     "name": "stdout",
     "output_type": "stream",
     "text": [
      "num1이 num2와 같다.\n"
     ]
    }
   ],
   "source": [
    "num1 = 10\n",
    "num2 = 10\n",
    "\n",
    "if num1 < num2:\n",
    "    print(\"num1이 num2 보다 작다.\")\n",
    "else:\n",
    "    if num1 == num2:\n",
    "        print(\"num1이 num2와 같다.\")\n",
    "    else:\n",
    "        print(\"num1이 num2 보다 크다.\")"
   ]
  },
  {
   "cell_type": "markdown",
   "metadata": {},
   "source": [
    "그런데 경우에 따라 중첩 조건문이 굳이 사용될 필요가 없을 수도 있다.\n",
    "예를 들어, 위 중첩 조건문은 아래 조건문과 동일하게 작동한다."
   ]
  },
  {
   "cell_type": "code",
   "execution_count": 11,
   "metadata": {},
   "outputs": [
    {
     "name": "stdout",
     "output_type": "stream",
     "text": [
      "num1이 num2와 같다.\n"
     ]
    }
   ],
   "source": [
    "num1 = 10\n",
    "num2 = 10\n",
    "\n",
    "if num1 < num2:\n",
    "    print(\"num1이 num2 보다 작다.\")\n",
    "elif num1 == num2:\n",
    "    print(\"num1이 num2와 같다.\")\n",
    "else:\n",
    "    print(\"num1이 num2 보다 크다.\")"
   ]
  },
  {
   "cell_type": "markdown",
   "metadata": {},
   "source": [
    "#### 삼항 표현식"
   ]
  },
  {
   "cell_type": "markdown",
   "metadata": {},
   "source": [
    "삼항 표현식 `if ... else ...` 를 이용하여 지정된 값을 한 줄로 간단하게 표현할 수 있다.\n",
    "예를 들어, 아래 코드를 살펴보자."
   ]
  },
  {
   "cell_type": "code",
   "execution_count": 12,
   "metadata": {},
   "outputs": [
    {
     "name": "stdout",
     "output_type": "stream",
     "text": [
      "Non-negative\n"
     ]
    }
   ],
   "source": [
    "x = 5\n",
    "\n",
    "if x >= 0:\n",
    "    y = 'Non-negative'\n",
    "else:\n",
    "    y = 'Negative'\n",
    "    \n",
    "print(y)"
   ]
  },
  {
   "cell_type": "markdown",
   "metadata": {},
   "source": [
    "변수 `y`를 아래와 같이 한 줄로 선언할 수 있다."
   ]
  },
  {
   "cell_type": "code",
   "execution_count": 13,
   "metadata": {},
   "outputs": [
    {
     "name": "stdout",
     "output_type": "stream",
     "text": [
      "Non-negative\n"
     ]
    }
   ],
   "source": [
    "y = 'Non-negative' if x >= 0 else 'Negative'\n",
    "\n",
    "print(y)"
   ]
  },
  {
   "cell_type": "markdown",
   "metadata": {},
   "source": [
    "### 문자열과 `for` 반복문"
   ]
  },
  {
   "cell_type": "markdown",
   "metadata": {},
   "source": [
    "`for` 반복문은 문자열, 리스트, 튜플, 사전 등 처럼 여러 개의 값을 하나로 묶어 놓은 값(collections)의 \n",
    "항목들을 순회하는 데에 사용된다.\n",
    "문자열을 제외한 리스트, 튜플, 사전은 아직 학습하지 않았기에 여기서는 문자열을 이용하여 \n",
    "`for` 반복문의 활용 예제를 다룬다.\n",
    "다른 자료형과 `for` 반복문을 함께 사용하는 예제는 이후에 많이 다룰 것이다.\n",
    "\n",
    "`for` 반복문의 사용 양식은 다음과 같다. 콜론 기호(`:`)와 들여쓰기에 주의해야 한다."
   ]
  },
  {
   "cell_type": "markdown",
   "metadata": {},
   "source": [
    "```python\n",
    "for 변수 in collection:\n",
    "    코드\n",
    "```"
   ]
  },
  {
   "cell_type": "markdown",
   "metadata": {},
   "source": [
    "#### 예제"
   ]
  },
  {
   "cell_type": "markdown",
   "metadata": {},
   "source": [
    "아래 코드는 문자열에 포함된 문자 각각을 출력한다."
   ]
  },
  {
   "cell_type": "code",
   "execution_count": 14,
   "metadata": {},
   "outputs": [
    {
     "name": "stdout",
     "output_type": "stream",
     "text": [
      "p\n",
      "y\n",
      "t\n",
      "h\n",
      "o\n",
      "n\n"
     ]
    }
   ],
   "source": [
    "for char in \"python\":\n",
    "    print(char)"
   ]
  },
  {
   "cell_type": "markdown",
   "metadata": {},
   "source": [
    "#### 예제"
   ]
  },
  {
   "cell_type": "markdown",
   "metadata": {},
   "source": [
    "문자열에 있는 소문자 `a`를 대문자 `A`로 변경하여 새로운 문자열을 생성하는 코드를 작성하라.\n",
    "\n",
    "예를 들어, \"aardvarks\"를 이용하여 \"AArdvArks\"를 생성하는 코드를 작성하라."
   ]
  },
  {
   "cell_type": "code",
   "execution_count": 15,
   "metadata": {},
   "outputs": [
    {
     "name": "stdout",
     "output_type": "stream",
     "text": [
      "AArdvArks\n"
     ]
    }
   ],
   "source": [
    "a_word = 'aardvarks'\n",
    "new_word = ''\n",
    "for char in a_word:\n",
    "    if char == 'a':\n",
    "        new_word = new_word + 'A'\n",
    "    else:\n",
    "        new_word = new_word + char\n",
    "\n",
    "print(new_word)"
   ]
  },
  {
   "cell_type": "markdown",
   "metadata": {},
   "source": [
    "#### 예제"
   ]
  },
  {
   "cell_type": "markdown",
   "metadata": {},
   "source": [
    "아래 문자열\n",
    "\n",
    "' n o r t h w e s t e r n'\n",
    "\n",
    "을 이용하여 아래 문자열을 생성하는 코드를 구현하라:\n",
    "\n",
    "'Northwestern'"
   ]
  },
  {
   "cell_type": "code",
   "execution_count": 16,
   "metadata": {},
   "outputs": [
    {
     "name": "stdout",
     "output_type": "stream",
     "text": [
      "Northwestern\n"
     ]
    }
   ],
   "source": [
    "a_word = ' n o r t h w e s t e r n'\n",
    "\n",
    "temp_word = ''\n",
    "for char in a_word:\n",
    "    if char != ' ':\n",
    "        temp_word = temp_word + char\n",
    "        \n",
    "new_word = temp_word.title()\n",
    "\n",
    "print(new_word)"
   ]
  },
  {
   "cell_type": "markdown",
   "metadata": {},
   "source": [
    "#### 예제"
   ]
  },
  {
   "cell_type": "markdown",
   "metadata": {},
   "source": [
    "정수 모양의 문자열에 포함된 모든 숫자들의 합을 계산해보자.\n",
    "\n",
    "힌트: `int()` 함수를 활용해야 한다."
   ]
  },
  {
   "cell_type": "code",
   "execution_count": 17,
   "metadata": {},
   "outputs": [
    {
     "name": "stdout",
     "output_type": "stream",
     "text": [
      "15\n"
     ]
    }
   ],
   "source": [
    "a_string = \"12345\"\n",
    "total = 0\n",
    "\n",
    "for char in a_string:\n",
    "    total = total + int(char)\n",
    "    \n",
    "print(total)"
   ]
  },
  {
   "cell_type": "markdown",
   "metadata": {},
   "source": [
    "아래와 같이 `+=` 연산을 사용할 수도 있다."
   ]
  },
  {
   "cell_type": "code",
   "execution_count": 18,
   "metadata": {},
   "outputs": [
    {
     "name": "stdout",
     "output_type": "stream",
     "text": [
      "15\n"
     ]
    }
   ],
   "source": [
    "a_string = \"12345\"\n",
    "total = 0\n",
    "\n",
    "for char in a_string:\n",
    "    total += int(char)\n",
    "    \n",
    "print(total)"
   ]
  },
  {
   "cell_type": "markdown",
   "metadata": {},
   "source": [
    "### `while` 반복문"
   ]
  },
  {
   "cell_type": "markdown",
   "metadata": {},
   "source": [
    "지정된 조건이 만족되는 동안, 또는 실행 중에 `break` 명령문을 만날 때까\n",
    "동일한 코드를 반복실행 시킬 때 `while` 반복문을 사용한다."
   ]
  },
  {
   "cell_type": "markdown",
   "metadata": {},
   "source": [
    "#### 예제"
   ]
  },
  {
   "cell_type": "markdown",
   "metadata": {},
   "source": [
    "아래 코드는 256부터 시작해서 계속 반으로 나눈 값을 더하는 코드이며,\n",
    "나누어진 값이 0보다 작거나 같아지면, 또는 더한 합이 500보다 커지면 바로 실행을 멈춘다."
   ]
  },
  {
   "cell_type": "code",
   "execution_count": 19,
   "metadata": {},
   "outputs": [
    {
     "name": "stdout",
     "output_type": "stream",
     "text": [
      "504\n"
     ]
    }
   ],
   "source": [
    "x = 256\n",
    "total = 0\n",
    "\n",
    "while x > 0:\n",
    "    if total > 500:\n",
    "        break\n",
    "    total += x\n",
    "    x = x // 2\n",
    "    \n",
    "print(total)"
   ]
  },
  {
   "cell_type": "markdown",
   "metadata": {},
   "source": [
    "#### 예제"
   ]
  },
  {
   "cell_type": "markdown",
   "metadata": {},
   "source": [
    "정수들을 나누어 몫을 구하는 코드를 작성해보자.\n",
    "몫을 어떻게 구현할까? \n",
    "\n",
    "* 먼저 몫이 어떤 의미인가를 알아야 한다.\n",
    "* 그 다음에 그 의미를 구현하는 코드를 작성한다. \n",
    "\n",
    "어떤 정수 `a`를 다른 정수 `b`로 나누었을 때의 몫은 `a`에서 `b`를 몇 번 뺄 수 있는가와 동일한 의미를 갖는다.\n",
    "즉, `a`에서 `b`를 반복해서 빼주는 과정이 필요하고 이 과정을 음수가 되지 않을 때까지만 반복해야 한다. \n",
    "\n",
    "예를 들어 43을 7로 나누었을 때의 몫은 다음과 같이 구할 수 있다."
   ]
  },
  {
   "cell_type": "code",
   "execution_count": 20,
   "metadata": {},
   "outputs": [
    {
     "name": "stdout",
     "output_type": "stream",
     "text": [
      "몫은 6 이다\n"
     ]
    }
   ],
   "source": [
    "number = 43\n",
    "divisor = 7\n",
    "answer = 0\n",
    "\n",
    "# While 루프\n",
    "while number > 0:\n",
    "    number = number - divisor\n",
    "    # 음수가 아니라면 빼주는 횟수를 1회 늘린다.\n",
    "    if number > 0:\n",
    "        answer += 1\n",
    "\n",
    "# 이제 answer를 출력하면 된다.\n",
    "print('몫은', answer, '이다')"
   ]
  },
  {
   "cell_type": "markdown",
   "metadata": {},
   "source": [
    "#### 예제"
   ]
  },
  {
   "cell_type": "markdown",
   "metadata": {},
   "source": [
    "두 정수의 최대공약수(gcd)를 계산하는 함수를 구현하라.\n",
    "\n",
    "힌트: 유클리드 호제법을 활용하라. 아래 사이트 참조: http://tibyte.kr/224"
   ]
  },
  {
   "cell_type": "code",
   "execution_count": 21,
   "metadata": {},
   "outputs": [
    {
     "name": "stdout",
     "output_type": "stream",
     "text": [
      "7\n"
     ]
    }
   ],
   "source": [
    "a, b = 14, 21\n",
    "\n",
    "if a < b:\n",
    "    # 이 경우에는 a와 b의 값을 서로 바꾼다.\n",
    "    a, b = b, a\n",
    "while b != 0:\n",
    "    a, b = b, a % b\n",
    "\n",
    "print(a)"
   ]
  },
  {
   "cell_type": "code",
   "execution_count": 22,
   "metadata": {},
   "outputs": [
    {
     "name": "stdout",
     "output_type": "stream",
     "text": [
      "2\n"
     ]
    }
   ],
   "source": [
    "a, b = 6, 8\n",
    "\n",
    "if a < b:\n",
    "    # 이 경우에는 a와 b의 값을 서로 바꾼다.\n",
    "    a, b = b, a\n",
    "while b != 0:\n",
    "    a, b = b, a % b\n",
    "\n",
    "print(a)"
   ]
  },
  {
   "cell_type": "markdown",
   "metadata": {},
   "source": [
    "#### 예제"
   ]
  },
  {
   "cell_type": "markdown",
   "metadata": {},
   "source": [
    "`while`문을 사용해서 다음을 출력하는 프로그램을 작성하여라.\n",
    "\n",
    "```python\n",
    "박수 1번 짝  \n",
    "박수 2번 짝짝  \n",
    "박수 3번 짝짝짝  \n",
    "박수 4번 짝짝짝짝  \n",
    "박수 5번 짝짝짝짝짝\n",
    "```"
   ]
  },
  {
   "cell_type": "code",
   "execution_count": 23,
   "metadata": {},
   "outputs": [
    {
     "name": "stdout",
     "output_type": "stream",
     "text": [
      "박수  1 번 짝\n",
      "박수  2 번 짝짝\n",
      "박수  3 번 짝짝짝\n",
      "박수  4 번 짝짝짝짝\n",
      "박수  5 번 짝짝짝짝짝\n"
     ]
    }
   ],
   "source": [
    "n = 1\n",
    "\n",
    "while n < 6 :\n",
    "    print(\"박수 \", n, \"번 \" + \"짝\" * n)\n",
    "    n += 1"
   ]
  },
  {
   "cell_type": "markdown",
   "metadata": {},
   "source": [
    "문자열 템플릿을 이용할 수도 있다."
   ]
  },
  {
   "cell_type": "code",
   "execution_count": 24,
   "metadata": {},
   "outputs": [
    {
     "name": "stdout",
     "output_type": "stream",
     "text": [
      "박수 1 번 짝\n",
      "박수 2 번 짝짝\n",
      "박수 3 번 짝짝짝\n",
      "박수 4 번 짝짝짝짝\n",
      "박수 5 번 짝짝짝짝짝\n"
     ]
    }
   ],
   "source": [
    "n = 1\n",
    "\n",
    "while n < 6 :\n",
    "    print(f'박수 {n} 번 {\"짝\" * n}')    # 작은 따옴표로 감싸야 함에 주의하라.\n",
    "    n += 1"
   ]
  },
  {
   "cell_type": "markdown",
   "metadata": {},
   "source": [
    "## `pass`, `continue`, `break` 예약어"
   ]
  },
  {
   "cell_type": "markdown",
   "metadata": {},
   "source": [
    "### `pass` 예약어"
   ]
  },
  {
   "cell_type": "markdown",
   "metadata": {},
   "source": [
    "아무 것도 하지 않고 다음으로 넘어가도는 하는 명령문 역할을 수행하는 예약어이다. \n",
    "주로 앞으로 채워야 할 부분을 명시할 때 또는\n",
    "무시해야 하는 경우를 다룰 때 사용한다.\n",
    "\n",
    "아래 코드는 x가 0일 때 할 일을 추후에 지정하도록 `pass` 예약어를 사용한다."
   ]
  },
  {
   "cell_type": "code",
   "execution_count": 25,
   "metadata": {},
   "outputs": [],
   "source": [
    "x = 0\n",
    "\n",
    "if x < 0:\n",
    "    print('negative!')\n",
    "elif x == 0:\n",
    "    # 할 일: 추후 지정\n",
    "    pass\n",
    "else:\n",
    "    print('positive!')"
   ]
  },
  {
   "cell_type": "markdown",
   "metadata": {},
   "source": [
    "### `continue` 예약어"
   ]
  },
  {
   "cell_type": "markdown",
   "metadata": {},
   "source": [
    "`for` 또는 `while` 반복문이 실행되는 도중에\n",
    "`continue` 예약어를 만나는 순간 현재 실행되는 코드의 실행을 멈추고\n",
    "반복문의 처음으로 돌아간다. \n",
    "`for` 반복문인 경우 다음 순번 항목을 대상으로 반복문을 이어간다."
   ]
  },
  {
   "cell_type": "markdown",
   "metadata": {},
   "source": [
    "#### 예제: `for` 반복문\n",
    "\n",
    "문자열에 포함된 숫자 중에서 3을 제외한 숫자들의 합을 구해보자."
   ]
  },
  {
   "cell_type": "code",
   "execution_count": 26,
   "metadata": {},
   "outputs": [
    {
     "name": "stdout",
     "output_type": "stream",
     "text": [
      "12\n"
     ]
    }
   ],
   "source": [
    "a_string = \"12345\"\n",
    "total = 0\n",
    "\n",
    "for char in a_string:\n",
    "    if char == '3':\n",
    "        continue\n",
    "        \n",
    "    total += int(char)\n",
    "    \n",
    "print(total)"
   ]
  },
  {
   "cell_type": "markdown",
   "metadata": {},
   "source": [
    "#### 예제: `while` 반복문\n",
    "\n",
    "0부터 10까지의 정수 중에서 홀수만 출력해보자."
   ]
  },
  {
   "cell_type": "code",
   "execution_count": 27,
   "metadata": {},
   "outputs": [
    {
     "name": "stdout",
     "output_type": "stream",
     "text": [
      "1\n",
      "3\n",
      "5\n",
      "7\n",
      "9\n"
     ]
    }
   ],
   "source": [
    "i = 0\n",
    "\n",
    "while i < 10:\n",
    "    i += 1\n",
    "    if i % 2 == 0:\n",
    "        continue\n",
    "    \n",
    "    print(i)"
   ]
  },
  {
   "cell_type": "markdown",
   "metadata": {},
   "source": [
    "### `break` 예약어"
   ]
  },
  {
   "cell_type": "markdown",
   "metadata": {},
   "source": [
    "`for` 또는 `while` 반복문이 실행되는 도중에\n",
    "`break` 예약어를 만나는 순간 현재 실행되는 반복문 자체의 실행을 멈추고,\n",
    "다음 명령을 실행한다. \n",
    "\n",
    "예를 들어, 문자열에 포함된 숫자 중에서 4를 만나는 순간에 실행을 반복문의 실행을 멈추게 해보자."
   ]
  },
  {
   "cell_type": "code",
   "execution_count": 28,
   "metadata": {},
   "outputs": [
    {
     "name": "stdout",
     "output_type": "stream",
     "text": [
      "6\n"
     ]
    }
   ],
   "source": [
    "a_string = \"12345\"\n",
    "total = 0\n",
    "\n",
    "for char in a_string:\n",
    "    if char == '4':\n",
    "        break\n",
    "        \n",
    "    total += int(char)\n",
    "    \n",
    "print(total)"
   ]
  },
  {
   "cell_type": "markdown",
   "metadata": {},
   "source": [
    "`break` 예약어는 자기를 감싸는 `for` 또는 `while` 반복문의 실행을 멈추게 한다.\n",
    "하지만 다른 반복문에 의해 감싸져 있다면 해당 반복문을 이어서 실행한다.\n",
    "\n",
    "예를 들어, 아래 코드는 0, 1, 2, 3으로 이루어진 순서쌍들을 출력한다.\n",
    "그런데 둘째 항목이 첫째 항목보다 큰 경우는 제외시킨다.\n",
    "\n",
    "__참고:__ `range(4)`는 0, 1, 2, 3 네 개의 숫자를 담고 있다고 생각하면 된다. \n",
    "`range()` 함수에 대해서는 잠시 뒤에 살펴본다."
   ]
  },
  {
   "cell_type": "code",
   "execution_count": 29,
   "metadata": {},
   "outputs": [
    {
     "name": "stdout",
     "output_type": "stream",
     "text": [
      "(0, 0)\n",
      "(1, 0)\n",
      "(1, 1)\n",
      "(2, 0)\n",
      "(2, 1)\n",
      "(2, 2)\n",
      "(3, 0)\n",
      "(3, 1)\n",
      "(3, 2)\n",
      "(3, 3)\n"
     ]
    }
   ],
   "source": [
    "for i in range(4):\n",
    "    for j in range(4):\n",
    "        if j > i:\n",
    "            break\n",
    "        print((i, j))"
   ]
  },
  {
   "cell_type": "markdown",
   "metadata": {},
   "source": [
    "### 연습"
   ]
  },
  {
   "cell_type": "markdown",
   "metadata": {},
   "source": [
    "#### 문제 1"
   ]
  },
  {
   "cell_type": "markdown",
   "metadata": {},
   "source": [
    "아래 노래 가사를 활용하는 문제이다."
   ]
  },
  {
   "cell_type": "code",
   "execution_count": 30,
   "metadata": {},
   "outputs": [],
   "source": [
    "song = \"When you are smiling, the whole world smiles with you\""
   ]
  },
  {
   "cell_type": "markdown",
   "metadata": {},
   "source": [
    "위 문자열에서 `a`가 등장하는 횟수를 구하는 코드는 다음과 같다."
   ]
  },
  {
   "cell_type": "code",
   "execution_count": 31,
   "metadata": {},
   "outputs": [
    {
     "name": "stdout",
     "output_type": "stream",
     "text": [
      "1\n"
     ]
    }
   ],
   "source": [
    "count_a = 0\n",
    "for word in song:\n",
    "    if word == 'a':\n",
    "        count_a += 1\n",
    "\n",
    "print(count_a)"
   ]
  },
  {
   "cell_type": "markdown",
   "metadata": {},
   "source": [
    "위 문자열에서 대소문자 구별없이 `w`가 등장하는 횟수를 구하는 코드는 다음과 같다."
   ]
  },
  {
   "cell_type": "code",
   "execution_count": 32,
   "metadata": {},
   "outputs": [
    {
     "name": "stdout",
     "output_type": "stream",
     "text": [
      "4\n"
     ]
    }
   ],
   "source": [
    "count_w = 0\n",
    "for word in song.lower():\n",
    "    if word == 'w':\n",
    "        count_w += 1\n",
    "\n",
    "print(count_w)"
   ]
  },
  {
   "cell_type": "markdown",
   "metadata": {},
   "source": [
    "위 문자열을 이용하여 문자열`whnyrsmlngthwhlwrldsmlswthy`를 생성하는 코드를 구현해보자.\n",
    "(힌트: 모음(`aeiou`)와 공백 제거)"
   ]
  },
  {
   "cell_type": "code",
   "execution_count": 33,
   "metadata": {},
   "outputs": [
    {
     "name": "stdout",
     "output_type": "stream",
     "text": [
      "whnyrsmlngthwhlwrldsmlswthy\n"
     ]
    }
   ],
   "source": [
    "new_song = ''\n",
    "for word in song.lower():\n",
    "    if word not in 'aeiou, ':\n",
    "        new_song += word\n",
    "\n",
    "print(new_song)"
   ]
  },
  {
   "cell_type": "markdown",
   "metadata": {},
   "source": [
    "#### 문제 2"
   ]
  },
  {
   "cell_type": "markdown",
   "metadata": {},
   "source": [
    "`while` 반복문을 이용하여 별표 기호(`*`)로 아래 모양의 삼각형을 출력하라.\n",
    "\n",
    "```\n",
    "*****\n",
    "****\n",
    "***\n",
    "**\n",
    "*\n",
    "```\n",
    "\n",
    "힌트: 문자열과 정수의 곱셈을 이용한다."
   ]
  },
  {
   "cell_type": "code",
   "execution_count": 34,
   "metadata": {},
   "outputs": [
    {
     "name": "stdout",
     "output_type": "stream",
     "text": [
      "*****\n",
      "****\n",
      "***\n",
      "**\n",
      "*\n"
     ]
    }
   ],
   "source": [
    "i = 1\n",
    "\n",
    "while i < 6:\n",
    "    j = 6 - i\n",
    "    print('*' * j)\n",
    "    i += 1"
   ]
  },
  {
   "cell_type": "markdown",
   "metadata": {},
   "source": [
    "#### 문제 3*"
   ]
  },
  {
   "cell_type": "markdown",
   "metadata": {},
   "source": [
    "1보다 큰 임의의 정수로 시작해서 짝수면 2로 나누고, \n",
    "홀수면 3배 후 1을 더해주는 과정을 반복하면 언젠가는 1이 나타난다.\n",
    "\n",
    "```\n",
    "3 10 5 16 8 4 2 1\n",
    "7 22 11 34 17 52 26 13 40 20 10 5 16 8 4 2 1\n",
    "```\n",
    "\n",
    "1보다 큰 임의의 정수로 시작해서 위와 같은 수열을 출력하는 코드를 작성하라.\n",
    "\n",
    "__참고:__ `print(x, ..., end=' ')` 는 지정된 값을 출력한 후에 줄바꿈을 하지 않는다.\n",
    "구체적인 이유는 나중에 함수를 다룰 때 설명한다."
   ]
  },
  {
   "cell_type": "code",
   "execution_count": 35,
   "metadata": {},
   "outputs": [
    {
     "name": "stdout",
     "output_type": "stream",
     "text": [
      "3 10 5 16 8 4 2 1 "
     ]
    }
   ],
   "source": [
    "x = 3\n",
    "print(x, end=' ')\n",
    "\n",
    "while x > 1:\n",
    "    if x % 2 == 0:\n",
    "        x = x // 2\n",
    "        print(x, end=' ')\n",
    "    else:\n",
    "        x = 3 * x + 1\n",
    "        print(x, end=' ')"
   ]
  },
  {
   "cell_type": "code",
   "execution_count": 36,
   "metadata": {},
   "outputs": [
    {
     "name": "stdout",
     "output_type": "stream",
     "text": [
      "7 22 11 34 17 52 26 13 40 20 10 5 16 8 4 2 1 "
     ]
    }
   ],
   "source": [
    "x = 7\n",
    "print(x, end=' ')\n",
    "\n",
    "while x > 1:\n",
    "    if x % 2 == 0:\n",
    "        x = x // 2\n",
    "        print(x, end=' ')\n",
    "    else:\n",
    "        x = 3 * x + 1\n",
    "        print(x, end=' ')"
   ]
  },
  {
   "cell_type": "markdown",
   "metadata": {},
   "source": [
    "111에서 시작하면 1에 도착할 때까지 꽤 올래 걸린다."
   ]
  },
  {
   "cell_type": "code",
   "execution_count": 37,
   "metadata": {},
   "outputs": [
    {
     "name": "stdout",
     "output_type": "stream",
     "text": [
      "111 334 167 502 251 754 377 1132 566 283 850 425 1276 638 319 958 479 1438 719 2158 1079 3238 1619 4858 2429 7288 3644 1822 911 2734 1367 4102 2051 6154 3077 9232 4616 2308 1154 577 1732 866 433 1300 650 325 976 488 244 122 61 184 92 46 23 70 35 106 53 160 80 40 20 10 5 16 8 4 2 1 "
     ]
    }
   ],
   "source": [
    "x = 111\n",
    "print(x, end=' ')\n",
    "\n",
    "while x > 1:\n",
    "    if x % 2 == 0:\n",
    "        x = x // 2\n",
    "        print(x, end=' ')\n",
    "    else:\n",
    "        x = 3 * x + 1\n",
    "        print(x, end=' ')"
   ]
  }
 ],
 "metadata": {
  "kernelspec": {
   "display_name": "Python 3",
   "language": "python",
   "name": "python3"
  },
  "language_info": {
   "codemirror_mode": {
    "name": "ipython",
    "version": 3
   },
   "file_extension": ".py",
   "mimetype": "text/x-python",
   "name": "python",
   "nbconvert_exporter": "python",
   "pygments_lexer": "ipython3",
   "version": "3.8.5"
  }
 },
 "nbformat": 4,
 "nbformat_minor": 1
}
