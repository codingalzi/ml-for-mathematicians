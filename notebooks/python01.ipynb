{
 "cells": [
  {
   "cell_type": "markdown",
   "metadata": {},
   "source": [
    "# 파이썬 기본 자료형 1부"
   ]
  },
  {
   "cell_type": "markdown",
   "metadata": {},
   "source": [
    "## 주요 내용"
   ]
  },
  {
   "cell_type": "markdown",
   "metadata": {},
   "source": [
    "* 컴퓨터 프로그램이란?\n",
    "* 파이썬 언어 소개\n",
    "* 변수와 변수 선언\n",
    "* 연산\n",
    "* 스칼라 자료형: 정수, 부동소수점, 문자열, 부울 자료형"
   ]
  },
  {
   "cell_type": "markdown",
   "metadata": {},
   "source": [
    "## 컴퓨터 프로그램이란?"
   ]
  },
  {
   "cell_type": "markdown",
   "metadata": {},
   "source": [
    "__컴퓨터 프로그램__(computer programs)은 컴퓨터가 해야 할 일을 \n",
    "특정 __프로그래밍 언어__를 이용하여 작성한 __명령문__(commands)으로 이루어진 문장이라 할 수 있다.\n",
    "각각의 명령문이 하는 일은 기본적으로 값을 조작하거나 새로운 값을 생성한다.\n",
    "즉, 컴퓨터 프로그램은 주어진 값을 어떻게 조작하고 어떤 값을 생성할 것인가를 명시한 매뉴얼 문서이다. \n",
    "\n",
    "언어를 배울 때 어휘와 문장 구성을 배워야 하듯이 컴퓨터 프로그래밍은\n",
    "명령문의 구성 요소와 명령문 사용법을 학습하는 것으로 시작한다."
   ]
  },
  {
   "cell_type": "markdown",
   "metadata": {},
   "source": [
    "### 프로그램, 코드, 명령문"
   ]
  },
  {
   "cell_type": "markdown",
   "metadata": {},
   "source": [
    "프로그램은 컴퓨터 프로그램을 가리킨다. 그리고 경우에 따라 프로그램, 코드, 명령문 표현을 특별한 정의 없이 사용한다.\n",
    "프로그램은 완성된 컴퓨터 프로그램, 코드는 프로그램의 일부, 명령문은 짧은 코드 정도로 이해할 수 있다.\n",
    "반면에 소스코드는 완성된 프로그램의 원본 코드 전체를 의미한다."
   ]
  },
  {
   "cell_type": "markdown",
   "metadata": {},
   "source": [
    "## 파이썬 언어 소개"
   ]
  },
  {
   "cell_type": "markdown",
   "metadata": {},
   "source": [
    "파이썬은 __스크립트 언어__(script language)이다. 즉, 명령문을 작성한 후에 한 줄씩 바로 실행시킬 수 있다."
   ]
  },
  {
   "cell_type": "markdown",
   "metadata": {},
   "source": [
    "### 명령문 기본 사용법"
   ]
  },
  {
   "cell_type": "markdown",
   "metadata": {},
   "source": [
    "사용되는 파이썬 쉘(shell)에 따라 명령문을 입력하는 장치의 모양이 다르다.\n",
    "보통 명령 프롬프트(prompt)라고 불리는 아래 두 기호 중의 하나가 사용된다.\n",
    "\n",
    "* 파이썬 기본 쉘의 명령 프롬프트: `>>>`\n",
    "\n",
    "* IPython 명령 프롬프트: `In [1]:`\n",
    "\n",
    "여기서는 IPython 명령 프롬프트이며, 숫자는 실행된 명령문들의 순서를 나타낸다.\n",
    "숫자가 클 수록 나중에 실행되었다는 의미이다."
   ]
  },
  {
   "cell_type": "markdown",
   "metadata": {},
   "source": [
    "#### 명령문 예제: 출력하기"
   ]
  },
  {
   "cell_type": "markdown",
   "metadata": {},
   "source": [
    "아래 코드는 `\"Hello Python!\"` 이란 문자열을 화면에 출력하는 명령문이다. "
   ]
  },
  {
   "cell_type": "code",
   "execution_count": 1,
   "metadata": {},
   "outputs": [
    {
     "name": "stdout",
     "output_type": "stream",
     "text": [
      "Hello Python!\n"
     ]
    }
   ],
   "source": [
    "print(\"Hello Python!\")"
   ]
  },
  {
   "cell_type": "markdown",
   "metadata": {},
   "source": [
    "위 코드는 하나의 명령문으로 구성되었으며 `print()` 함수를 이용한다. \n",
    "이와같이 함수를 특정 인자와 함께 실행하는 것을 __함수 호출__(function call)이라 한다.\n",
    "\n",
    "__참고:__ 큰따옴표 또는 작은따옴표로 감싸인 문자들의 나열을 __문자열__이라 부른다."
   ]
  },
  {
   "cell_type": "markdown",
   "metadata": {},
   "source": [
    "#### 함수(functions)"
   ]
  },
  {
   "cell_type": "markdown",
   "metadata": {},
   "source": [
    "__함수__(function)는 지정된 인자를 사용하여 특정 계산을 실행한다.\n",
    "프로그래밍에서의 함수와 수학에서의 함수는 사용법과 모양에 있어서 서로 다르지만 \n",
    "기본적으로 지정된 값을 이용하여 계산을 실행한다는 점에서 동일한 개념이다.\n",
    "다만 `print()` 함수가 하는 일에서 보았듯이 수학의 함수와 사용법이 많이 다르기에\n",
    "익숙해지는 데에 조금 시간이 걸릴 수 있다. \n",
    "\n",
    "`print()` 함수는 무언가를 계산하는 것 이외에 지정된 문자열을 화면에 출력하는 일도 수행한다.\n",
    "이처럼 계산 이외에 다른 일을 하는 것을 부수 효과(side effect)라고 한다.\n",
    "\n",
    "__참고:__ 엄밀히 따지면 이런 작업도 계산이라고 할 수 있지만, 수학자에게는 매우 생소하게 다가올 것이다.\n",
    "부수 효과를 참고서에 따라 __부작용__이라 부르는 경우도 있다."
   ]
  },
  {
   "cell_type": "markdown",
   "metadata": {},
   "source": [
    "#### 명령문 예제: 변수 선언"
   ]
  },
  {
   "cell_type": "markdown",
   "metadata": {},
   "source": [
    "__변수__가 특정한 값을 가리키도록 하는 것을 __변수 선언__이라 하며\n",
    "아래 양식을 따른다.\n",
    "\n",
    "```python\n",
    "변수 = 값\n",
    "```\n",
    "\n",
    "예를 들어, 아래 명령문은 2를 변수 `a`가 가리키는 값으로 선언한다."
   ]
  },
  {
   "cell_type": "code",
   "execution_count": 2,
   "metadata": {},
   "outputs": [],
   "source": [
    "a = 2"
   ]
  },
  {
   "cell_type": "markdown",
   "metadata": {},
   "source": [
    "이제 `a`가 가리키는 값을 확인하련 변수를 입력하고 실행하면 된다."
   ]
  },
  {
   "cell_type": "code",
   "execution_count": 3,
   "metadata": {},
   "outputs": [
    {
     "data": {
      "text/plain": [
       "2"
      ]
     },
     "execution_count": 3,
     "metadata": {},
     "output_type": "execute_result"
    }
   ],
   "source": [
    "a"
   ]
  },
  {
   "cell_type": "markdown",
   "metadata": {},
   "source": [
    "변수 선언에 사용되는 등호 기호(`=`) 때문에 `변수와 값이 동일하다` 로 이해하면 안된다.\n",
    "여기서는 동일하다의 의미가 아니라 변수가 지정된 값을 가리킨다는 의미미며, \n",
    "변수라는 말의 의미에서 알 수 있듯이 변수가 가리키는 값은 언제든지 변경될 수 있다.\n",
    "\n",
    "아래 코드는 변수 `a`가 가리키는 값을 5로 변경한다.\n",
    "\n",
    "__참고:__ 만약에 `a = 2`를 `a`와 2는 같다라고 해석한다면 절대로 불가능한 일을 하게되는 셈이다."
   ]
  },
  {
   "cell_type": "code",
   "execution_count": 4,
   "metadata": {},
   "outputs": [],
   "source": [
    "a = 5"
   ]
  },
  {
   "cell_type": "markdown",
   "metadata": {},
   "source": [
    "변수가 가리키는 값을 `print()` 함수를 이용하여 확인할 수도 있다."
   ]
  },
  {
   "cell_type": "code",
   "execution_count": 5,
   "metadata": {},
   "outputs": [
    {
     "name": "stdout",
     "output_type": "stream",
     "text": [
      "5\n"
     ]
    }
   ],
   "source": [
    "print(a)"
   ]
  },
  {
   "cell_type": "markdown",
   "metadata": {},
   "source": [
    "### 값과 표현식"
   ]
  },
  {
   "cell_type": "markdown",
   "metadata": {},
   "source": [
    "파이썬은 여러 종류의 값을 저장하고 계산할 수 있으며,\n",
    "값을 표현하기 위한 다양한 방식을 지원한다.\n",
    "\n",
    "파이썬은 몇 가지 종류의 값을 기본으로 제공하며, 함수를 이용하여 \n",
    "무한히 많은 값을 표현하고 다룰 수 있는 기능을 제공한다.\n",
    "\n",
    "가장 단순한 값은 정수, 유리수이며, 사칙연산 등을 이용하여 다양한 방식으로 값을 표현할 수 있다.\n",
    "값을 표현하는 식을 __표현식__(expressions)이라 하며,\n",
    "표현식은 명령문이 실행되면 모두 특정 값으로 계산된다."
   ]
  },
  {
   "cell_type": "markdown",
   "metadata": {},
   "source": [
    "#### 예제: 사칙연산 표현식"
   ]
  },
  {
   "cell_type": "markdown",
   "metadata": {},
   "source": [
    "사칙연산을 표현하고 필요에 따라 계산한다.\n",
    "또한 계산된 값을 이용하여 변수를 선언하고 언제든지 필요할 때 재활용할 수 있다."
   ]
  },
  {
   "cell_type": "code",
   "execution_count": 6,
   "metadata": {},
   "outputs": [
    {
     "data": {
      "text/plain": [
       "5"
      ]
     },
     "execution_count": 6,
     "metadata": {},
     "output_type": "execute_result"
    }
   ],
   "source": [
    "2 + 3"
   ]
  },
  {
   "cell_type": "code",
   "execution_count": 7,
   "metadata": {},
   "outputs": [
    {
     "data": {
      "text/plain": [
       "6"
      ]
     },
     "execution_count": 7,
     "metadata": {},
     "output_type": "execute_result"
    }
   ],
   "source": [
    "a = 2 + 3\n",
    "a + 1"
   ]
  },
  {
   "cell_type": "code",
   "execution_count": 8,
   "metadata": {},
   "outputs": [
    {
     "data": {
      "text/plain": [
       "26.7"
      ]
     },
     "execution_count": 8,
     "metadata": {},
     "output_type": "execute_result"
    }
   ],
   "source": [
    "42 - 15.3"
   ]
  },
  {
   "cell_type": "markdown",
   "metadata": {},
   "source": [
    "곱셈은 `*` 기호를 사용한다."
   ]
  },
  {
   "cell_type": "code",
   "execution_count": 9,
   "metadata": {},
   "outputs": [
    {
     "data": {
      "text/plain": [
       "1100"
      ]
     },
     "execution_count": 9,
     "metadata": {},
     "output_type": "execute_result"
    }
   ],
   "source": [
    "100 * 11"
   ]
  },
  {
   "cell_type": "markdown",
   "metadata": {},
   "source": [
    "곱셈은 `/` 기호를 사용하며, 실행 결과는 부동소수점이다.\n",
    "\n",
    "__참고:__ 컴퓨터에서 구현된 유리수를 __부동소수점__이라 한다."
   ]
  },
  {
   "cell_type": "code",
   "execution_count": 10,
   "metadata": {},
   "outputs": [
    {
     "data": {
      "text/plain": [
       "1.4"
      ]
     },
     "execution_count": 10,
     "metadata": {},
     "output_type": "execute_result"
    }
   ],
   "source": [
    "7 / 5"
   ]
  },
  {
   "cell_type": "code",
   "execution_count": 11,
   "metadata": {},
   "outputs": [
    {
     "data": {
      "text/plain": [
       "-1.4"
      ]
     },
     "execution_count": 11,
     "metadata": {},
     "output_type": "execute_result"
    }
   ],
   "source": [
    "-7/5"
   ]
  },
  {
   "cell_type": "code",
   "execution_count": 12,
   "metadata": {},
   "outputs": [
    {
     "data": {
      "text/plain": [
       "1.4"
      ]
     },
     "execution_count": 12,
     "metadata": {},
     "output_type": "execute_result"
    }
   ],
   "source": [
    "7.0 / 5"
   ]
  },
  {
   "cell_type": "markdown",
   "metadata": {},
   "source": [
    "나눗셈의 몫을 계산하는 연산자는 `//` 이다."
   ]
  },
  {
   "cell_type": "code",
   "execution_count": 13,
   "metadata": {},
   "outputs": [
    {
     "data": {
      "text/plain": [
       "1"
      ]
     },
     "execution_count": 13,
     "metadata": {},
     "output_type": "execute_result"
    }
   ],
   "source": [
    "7//5"
   ]
  },
  {
   "cell_type": "code",
   "execution_count": 14,
   "metadata": {},
   "outputs": [
    {
     "data": {
      "text/plain": [
       "1.0"
      ]
     },
     "execution_count": 14,
     "metadata": {},
     "output_type": "execute_result"
    }
   ],
   "source": [
    "7.0//5"
   ]
  },
  {
   "cell_type": "code",
   "execution_count": 15,
   "metadata": {},
   "outputs": [
    {
     "data": {
      "text/plain": [
       "-2"
      ]
     },
     "execution_count": 15,
     "metadata": {},
     "output_type": "execute_result"
    }
   ],
   "source": [
    "-7//5"
   ]
  },
  {
   "cell_type": "code",
   "execution_count": 16,
   "metadata": {},
   "outputs": [
    {
     "data": {
      "text/plain": [
       "-2.0"
      ]
     },
     "execution_count": 16,
     "metadata": {},
     "output_type": "execute_result"
    }
   ],
   "source": [
    "-7.0//5"
   ]
  },
  {
   "cell_type": "markdown",
   "metadata": {},
   "source": [
    "나눗셈의 나머지를 계산하는 연산자는 `%` 이다."
   ]
  },
  {
   "cell_type": "code",
   "execution_count": 17,
   "metadata": {},
   "outputs": [
    {
     "data": {
      "text/plain": [
       "2"
      ]
     },
     "execution_count": 17,
     "metadata": {},
     "output_type": "execute_result"
    }
   ],
   "source": [
    "7%5"
   ]
  },
  {
   "cell_type": "code",
   "execution_count": 18,
   "metadata": {},
   "outputs": [
    {
     "data": {
      "text/plain": [
       "3"
      ]
     },
     "execution_count": 18,
     "metadata": {},
     "output_type": "execute_result"
    }
   ],
   "source": [
    "-7%5"
   ]
  },
  {
   "cell_type": "code",
   "execution_count": 19,
   "metadata": {},
   "outputs": [
    {
     "data": {
      "text/plain": [
       "3.0"
      ]
     },
     "execution_count": 19,
     "metadata": {},
     "output_type": "execute_result"
    }
   ],
   "source": [
    "-7.0%5"
   ]
  },
  {
   "cell_type": "markdown",
   "metadata": {},
   "source": [
    "지수 계산은 `**` 연산자를 사용한다."
   ]
  },
  {
   "cell_type": "code",
   "execution_count": 20,
   "metadata": {},
   "outputs": [
    {
     "data": {
      "text/plain": [
       "8"
      ]
     },
     "execution_count": 20,
     "metadata": {},
     "output_type": "execute_result"
    }
   ],
   "source": [
    "2 ** 3"
   ]
  },
  {
   "cell_type": "code",
   "execution_count": 21,
   "metadata": {},
   "outputs": [
    {
     "data": {
      "text/plain": [
       "3.0"
      ]
     },
     "execution_count": 21,
     "metadata": {},
     "output_type": "execute_result"
    }
   ],
   "source": [
    "9 ** 0.5"
   ]
  },
  {
   "cell_type": "markdown",
   "metadata": {},
   "source": [
    "이제부터 파이썬 프로그램을 구성하는 명령문의 기본 요소를 하나씩 살펴보자."
   ]
  },
  {
   "cell_type": "markdown",
   "metadata": {},
   "source": [
    "## 변수와 변수 선언"
   ]
  },
  {
   "cell_type": "markdown",
   "metadata": {},
   "source": [
    "값을 저장해 두고 필요할 때 재활용하려면 저장된 값을 특정 이름과 연결시켜주어야 한다.\n",
    "그러면 아무리 크고 복잡한 값이라 하더라고 해당 값을 가리키는 이름으로 간단하게 다룰 수 있다.\n",
    "이렇게 특정 값을 가리키는 이름이 __변수__(variables)이며, \n",
    "값과 변수를 연결시키는 과정 __변수 선언__이다."
   ]
  },
  {
   "cell_type": "markdown",
   "metadata": {},
   "source": [
    "### 변수 이름"
   ]
  },
  {
   "cell_type": "markdown",
   "metadata": {},
   "source": [
    "변수 이름은 아래 세 가지 규칙을 따라야 한다.\n",
    "\n",
    "* 영어 알파벳(`a-z,A-Z`), 숫자(`0-9`), 밑줄 기호(`_`)의 임의의 조합\n",
    "* 숫자로 시작할 수 없음.\n",
    "* 예약어 사용 불가\n",
    "    * def\n",
    "    * import\n",
    "    * from\n",
    "    * pass\n",
    "    * break\n",
    "    * continue\n",
    "    * 등등\n",
    "* '-', '+', '*','/' 등의 연산자 기호 사용 불가\n",
    "* '@', '$', '?' 등의 기호 사용 불가"
   ]
  },
  {
   "cell_type": "markdown",
   "metadata": {},
   "source": [
    "#### 대소문자 구분"
   ]
  },
  {
   "cell_type": "markdown",
   "metadata": {},
   "source": [
    "변수 이름은 대소문자를 구분한다.\n",
    "예를 들어, 'YOU', 'you', 'You', 'yOu'는 모두 다른 이름으로 처리된다. "
   ]
  },
  {
   "cell_type": "markdown",
   "metadata": {},
   "source": [
    "### 변수 선언"
   ]
  },
  {
   "cell_type": "markdown",
   "metadata": {},
   "source": [
    "__변수__가 특정한 값을 가리키도록 하는 것을 __변수 선언__이라 하며\n",
    "아래 양식을 따른다.\n",
    "\n",
    "```python\n",
    "변수 = 값\n",
    "```\n",
    "\n",
    "예를 들어, 아래 코드는 변수 `a_number`는 정수 2를,\n",
    "변수 `a_word`는 `dog`라는 문자열을 가리키도록 한다.\n",
    "\n",
    "__참고:__ 프로그램의 일부 또는 전체를 __코드__라 부른다."
   ]
  },
  {
   "cell_type": "code",
   "execution_count": 22,
   "metadata": {},
   "outputs": [],
   "source": [
    "a_number = 2\n",
    "a_word = 'dog'"
   ]
  },
  {
   "cell_type": "markdown",
   "metadata": {},
   "source": [
    "변수가 가리키는 값을 확인하려면 변수 이름을 입력하고 실행하면 된다."
   ]
  },
  {
   "cell_type": "code",
   "execution_count": 23,
   "metadata": {},
   "outputs": [
    {
     "data": {
      "text/plain": [
       "2"
      ]
     },
     "execution_count": 23,
     "metadata": {},
     "output_type": "execute_result"
    }
   ],
   "source": [
    "a_number"
   ]
  },
  {
   "cell_type": "code",
   "execution_count": 24,
   "metadata": {},
   "outputs": [
    {
     "data": {
      "text/plain": [
       "'dog'"
      ]
     },
     "execution_count": 24,
     "metadata": {},
     "output_type": "execute_result"
    }
   ],
   "source": [
    "a_word"
   ]
  },
  {
   "cell_type": "markdown",
   "metadata": {},
   "source": [
    "`print()` 함수를 이용할 수도 있다."
   ]
  },
  {
   "cell_type": "code",
   "execution_count": 25,
   "metadata": {},
   "outputs": [
    {
     "name": "stdout",
     "output_type": "stream",
     "text": [
      "2\n"
     ]
    }
   ],
   "source": [
    "print(a_number)"
   ]
  },
  {
   "cell_type": "code",
   "execution_count": 26,
   "metadata": {},
   "outputs": [
    {
     "name": "stdout",
     "output_type": "stream",
     "text": [
      "dog\n"
     ]
    }
   ],
   "source": [
    "print(a_word)"
   ]
  },
  {
   "cell_type": "markdown",
   "metadata": {},
   "source": [
    "변수가 가리키는 값을 변경할 수 있다.  "
   ]
  },
  {
   "cell_type": "code",
   "execution_count": 27,
   "metadata": {},
   "outputs": [
    {
     "data": {
      "text/plain": [
       "5"
      ]
     },
     "execution_count": 27,
     "metadata": {},
     "output_type": "execute_result"
    }
   ],
   "source": [
    "a_number = 5\n",
    "\n",
    "a_number"
   ]
  },
  {
   "cell_type": "markdown",
   "metadata": {},
   "source": [
    "### 변수의 자료형"
   ]
  },
  {
   "cell_type": "markdown",
   "metadata": {},
   "source": [
    "파이썬에서 사용되는 모든 값은 특정 __자료형__(data type)에 속한다.\n",
    "지금까지 다룬 값들의 자료형은 다음과 같다. \n",
    "\n",
    "* `int`: 2, 3 등의 정수\n",
    "* `float`: 1.2, 5.0 등의 유리수\n",
    "* `str`: `\"dog\"`, `\"python\"` 등의 문자열\n",
    "\n",
    "파이썬에서 기본으로 제공하는 이외에 더 많이 있으며 앞으로 차차 만나게 될 것이다."
   ]
  },
  {
   "cell_type": "markdown",
   "metadata": {},
   "source": [
    "변수의 자료형은 변수가 가리키는 값의 자료형으로 지정된다.\n",
    "변수의 자료형은 `type()` 함수를 이용한다."
   ]
  },
  {
   "cell_type": "code",
   "execution_count": 28,
   "metadata": {},
   "outputs": [
    {
     "data": {
      "text/plain": [
       "int"
      ]
     },
     "execution_count": 28,
     "metadata": {},
     "output_type": "execute_result"
    }
   ],
   "source": [
    "type(a_number)"
   ]
  },
  {
   "cell_type": "code",
   "execution_count": 29,
   "metadata": {},
   "outputs": [
    {
     "data": {
      "text/plain": [
       "str"
      ]
     },
     "execution_count": 29,
     "metadata": {},
     "output_type": "execute_result"
    }
   ],
   "source": [
    "type(a_word)"
   ]
  },
  {
   "cell_type": "markdown",
   "metadata": {},
   "source": [
    "변수가 가리키는 값이 변경되는 자료형도 함께 변경된다."
   ]
  },
  {
   "cell_type": "code",
   "execution_count": 30,
   "metadata": {},
   "outputs": [],
   "source": [
    "a_number = 5.0"
   ]
  },
  {
   "cell_type": "code",
   "execution_count": 31,
   "metadata": {},
   "outputs": [
    {
     "data": {
      "text/plain": [
       "float"
      ]
     },
     "execution_count": 31,
     "metadata": {},
     "output_type": "execute_result"
    }
   ],
   "source": [
    "type(a_number)"
   ]
  },
  {
   "cell_type": "markdown",
   "metadata": {},
   "source": [
    "### 변수 관련 주의사항"
   ]
  },
  {
   "cell_type": "markdown",
   "metadata": {},
   "source": [
    "지금까지 살펴보았듯이 `float`, `int`, `print`, `type`와 같은 단어는 녹색으로 표기되었다.\n",
    "이는 그 단어들이 파이썬에서 특별한 역할을 수행하는 함수의 이름이기 때문이다. \n",
    "그런 함수 이름을 변수로 사용할 수 있지만, 그렇게 되면\n",
    "기존 함수의 정의가 변경될 수 있기 때문에 특별항 이유가 없다면 \n",
    "변수로 사용하는 일을 하지 말아야 한다.\n",
    "\n",
    "예를 들어, 아래 코드는 `print`를 정수 4를 가리키는 변수로 선언한다.\n",
    "\n",
    "```python\n",
    "print = 4\n",
    "```\n",
    "\n",
    "그러면 `print()` 함수의 본래 기능이 사라져서 더 이상 사용할 수 없다."
   ]
  },
  {
   "cell_type": "markdown",
   "metadata": {},
   "source": [
    "## 연산"
   ]
  },
  {
   "cell_type": "markdown",
   "metadata": {},
   "source": [
    "변수를 연산에 직접 사용할 수 있다."
   ]
  },
  {
   "cell_type": "code",
   "execution_count": 32,
   "metadata": {},
   "outputs": [
    {
     "data": {
      "text/plain": [
       "12.0"
      ]
     },
     "execution_count": 32,
     "metadata": {},
     "output_type": "execute_result"
    }
   ],
   "source": [
    "a_number + 7"
   ]
  },
  {
   "cell_type": "code",
   "execution_count": 33,
   "metadata": {},
   "outputs": [
    {
     "data": {
      "text/plain": [
       "6.0"
      ]
     },
     "execution_count": 33,
     "metadata": {},
     "output_type": "execute_result"
    }
   ],
   "source": [
    "(a_number * 6.0) / 5"
   ]
  },
  {
   "cell_type": "markdown",
   "metadata": {},
   "source": [
    "연산의 결과를 다른 변수에 지정할 수 있다."
   ]
  },
  {
   "cell_type": "code",
   "execution_count": 34,
   "metadata": {},
   "outputs": [],
   "source": [
    "first_result = 8 / 3.5"
   ]
  },
  {
   "cell_type": "markdown",
   "metadata": {},
   "source": [
    "새롭게 선언된 변수는 연산 결과를 가리킨다."
   ]
  },
  {
   "cell_type": "code",
   "execution_count": 35,
   "metadata": {},
   "outputs": [
    {
     "data": {
      "text/plain": [
       "2.2857142857142856"
      ]
     },
     "execution_count": 35,
     "metadata": {},
     "output_type": "execute_result"
    }
   ],
   "source": [
    "first_result"
   ]
  },
  {
   "cell_type": "markdown",
   "metadata": {},
   "source": [
    "### 문자열 연산"
   ]
  },
  {
   "cell_type": "markdown",
   "metadata": {},
   "source": [
    "두 개의 문자열을 이어붙이거나 지정된 횟수만큼 복제해서 이어붙일 수 있다.\n",
    "사용되는 연산자는 덧셈 기호와 곱셈 기호가 사용된다."
   ]
  },
  {
   "cell_type": "code",
   "execution_count": 36,
   "metadata": {},
   "outputs": [
    {
     "data": {
      "text/plain": [
       "'Bull dog'"
      ]
     },
     "execution_count": 36,
     "metadata": {},
     "output_type": "execute_result"
    }
   ],
   "source": [
    "\"Bull \" + a_word"
   ]
  },
  {
   "cell_type": "code",
   "execution_count": 37,
   "metadata": {},
   "outputs": [
    {
     "data": {
      "text/plain": [
       "'dogdog'"
      ]
     },
     "execution_count": 37,
     "metadata": {},
     "output_type": "execute_result"
    }
   ],
   "source": [
    "a_word * 2"
   ]
  },
  {
   "cell_type": "markdown",
   "metadata": {},
   "source": [
    "반면에 문자열과 숫자의 덧셈은 허용되지 않는다.\n",
    "아래 코드를 실행하면 오류가 발생한다.\n",
    "\n",
    "__참고:__ 오류가 발생하면 발생 오류의 정보가 함께 표기된다.\n",
    "일단은 맨 밑줄 앞부분에 있는 `TypeError`가 연산에 사용되는 인자의 자료형이 잘못되었다는 \n",
    "의미라는 정도만 기억하자."
   ]
  },
  {
   "cell_type": "code",
   "execution_count": 38,
   "metadata": {},
   "outputs": [
    {
     "ename": "TypeError",
     "evalue": "unsupported operand type(s) for +: 'float' and 'str'",
     "output_type": "error",
     "traceback": [
      "\u001b[1;31m---------------------------------------------------------------------------\u001b[0m",
      "\u001b[1;31mTypeError\u001b[0m                                 Traceback (most recent call last)",
      "\u001b[1;32m<ipython-input-38-292a1c30f27e>\u001b[0m in \u001b[0;36m<module>\u001b[1;34m\u001b[0m\n\u001b[1;32m----> 1\u001b[1;33m \u001b[0ma_number\u001b[0m \u001b[1;33m+\u001b[0m \u001b[0ma_word\u001b[0m\u001b[1;33m\u001b[0m\u001b[1;33m\u001b[0m\u001b[0m\n\u001b[0m",
      "\u001b[1;31mTypeError\u001b[0m: unsupported operand type(s) for +: 'float' and 'str'"
     ]
    }
   ],
   "source": [
    "a_number + a_word"
   ]
  },
  {
   "cell_type": "markdown",
   "metadata": {},
   "source": [
    "### 연산자 우선순위"
   ]
  },
  {
   "cell_type": "markdown",
   "metadata": {},
   "source": [
    "일반적으로 알려진 연산자들 사이의 우선순위가 그대로 사용된다.\n",
    "\n",
    "```python\n",
    "괄호 >> 지수승 >> 곱셈, 나눗셈, 몫, 나머지 >> 덧셈, 뺄셈\n",
    "```"
   ]
  },
  {
   "cell_type": "code",
   "execution_count": null,
   "metadata": {},
   "outputs": [],
   "source": [
    "2 * 3 - 2"
   ]
  },
  {
   "cell_type": "code",
   "execution_count": null,
   "metadata": {},
   "outputs": [],
   "source": [
    "(2 * 3) - 2"
   ]
  },
  {
   "cell_type": "code",
   "execution_count": 39,
   "metadata": {},
   "outputs": [
    {
     "data": {
      "text/plain": [
       "2"
      ]
     },
     "execution_count": 39,
     "metadata": {},
     "output_type": "execute_result"
    }
   ],
   "source": [
    "2 * (3 - 2)"
   ]
  },
  {
   "cell_type": "code",
   "execution_count": 40,
   "metadata": {},
   "outputs": [
    {
     "data": {
      "text/plain": [
       "4"
      ]
     },
     "execution_count": 40,
     "metadata": {},
     "output_type": "execute_result"
    }
   ],
   "source": [
    "-2 + 2 * 3"
   ]
  },
  {
   "cell_type": "code",
   "execution_count": 41,
   "metadata": {},
   "outputs": [
    {
     "data": {
      "text/plain": [
       "4"
      ]
     },
     "execution_count": 41,
     "metadata": {},
     "output_type": "execute_result"
    }
   ],
   "source": [
    "-2 + (2 * 3)"
   ]
  },
  {
   "cell_type": "code",
   "execution_count": 42,
   "metadata": {},
   "outputs": [
    {
     "data": {
      "text/plain": [
       "0"
      ]
     },
     "execution_count": 42,
     "metadata": {},
     "output_type": "execute_result"
    }
   ],
   "source": [
    "(-2 + 2) * 3"
   ]
  },
  {
   "cell_type": "code",
   "execution_count": 43,
   "metadata": {},
   "outputs": [
    {
     "data": {
      "text/plain": [
       "-1"
      ]
     },
     "execution_count": 43,
     "metadata": {},
     "output_type": "execute_result"
    }
   ],
   "source": [
    "-2 + 4 % 3"
   ]
  },
  {
   "cell_type": "code",
   "execution_count": 44,
   "metadata": {},
   "outputs": [
    {
     "data": {
      "text/plain": [
       "-1"
      ]
     },
     "execution_count": 44,
     "metadata": {},
     "output_type": "execute_result"
    }
   ],
   "source": [
    "-2 + (4 % 3)"
   ]
  },
  {
   "cell_type": "code",
   "execution_count": 45,
   "metadata": {},
   "outputs": [
    {
     "data": {
      "text/plain": [
       "2"
      ]
     },
     "execution_count": 45,
     "metadata": {},
     "output_type": "execute_result"
    }
   ],
   "source": [
    "(-2 + 4) % 3"
   ]
  },
  {
   "cell_type": "code",
   "execution_count": 46,
   "metadata": {},
   "outputs": [
    {
     "data": {
      "text/plain": [
       "2.3"
      ]
     },
     "execution_count": 46,
     "metadata": {},
     "output_type": "execute_result"
    }
   ],
   "source": [
    ".3 + 5 // 2"
   ]
  },
  {
   "cell_type": "code",
   "execution_count": 47,
   "metadata": {},
   "outputs": [
    {
     "data": {
      "text/plain": [
       "2.3"
      ]
     },
     "execution_count": 47,
     "metadata": {},
     "output_type": "execute_result"
    }
   ],
   "source": [
    ".3 + (5 // 2)"
   ]
  },
  {
   "cell_type": "code",
   "execution_count": 48,
   "metadata": {},
   "outputs": [
    {
     "data": {
      "text/plain": [
       "2.0"
      ]
     },
     "execution_count": 48,
     "metadata": {},
     "output_type": "execute_result"
    }
   ],
   "source": [
    "(.3 + 5) // 2"
   ]
  },
  {
   "cell_type": "code",
   "execution_count": 49,
   "metadata": {},
   "outputs": [
    {
     "data": {
      "text/plain": [
       "8"
      ]
     },
     "execution_count": 49,
     "metadata": {},
     "output_type": "execute_result"
    }
   ],
   "source": [
    "2 ** 4 // 2"
   ]
  },
  {
   "cell_type": "code",
   "execution_count": 50,
   "metadata": {},
   "outputs": [
    {
     "data": {
      "text/plain": [
       "8"
      ]
     },
     "execution_count": 50,
     "metadata": {},
     "output_type": "execute_result"
    }
   ],
   "source": [
    "(2 ** 4) // 2"
   ]
  },
  {
   "cell_type": "code",
   "execution_count": 51,
   "metadata": {},
   "outputs": [
    {
     "data": {
      "text/plain": [
       "4"
      ]
     },
     "execution_count": 51,
     "metadata": {},
     "output_type": "execute_result"
    }
   ],
   "source": [
    "2 ** (4 // 2)"
   ]
  },
  {
   "cell_type": "markdown",
   "metadata": {},
   "source": [
    "우선순위가 같은 연산자가 연속으로 사용되면 왼편에 위치한 연산자가 먼저 계산된다."
   ]
  },
  {
   "cell_type": "code",
   "execution_count": 52,
   "metadata": {},
   "outputs": [
    {
     "data": {
      "text/plain": [
       "1"
      ]
     },
     "execution_count": 52,
     "metadata": {},
     "output_type": "execute_result"
    }
   ],
   "source": [
    "2 * 3 % 5"
   ]
  },
  {
   "cell_type": "code",
   "execution_count": 53,
   "metadata": {},
   "outputs": [
    {
     "data": {
      "text/plain": [
       "1"
      ]
     },
     "execution_count": 53,
     "metadata": {},
     "output_type": "execute_result"
    }
   ],
   "source": [
    "(2 * 3) % 5"
   ]
  },
  {
   "cell_type": "code",
   "execution_count": 54,
   "metadata": {},
   "outputs": [
    {
     "data": {
      "text/plain": [
       "6"
      ]
     },
     "execution_count": 54,
     "metadata": {},
     "output_type": "execute_result"
    }
   ],
   "source": [
    "2 * (3 % 5)"
   ]
  },
  {
   "cell_type": "markdown",
   "metadata": {
    "collapsed": true
   },
   "source": [
    "## 스칼라 자료형"
   ]
  },
  {
   "cell_type": "markdown",
   "metadata": {
    "collapsed": true
   },
   "source": [
    "파이썬에서 기본으로 제공하는 자료형 중에서 가장 기본적으로 사용되는 네 개의 자료형을 소개한다. \n",
    "\n",
    "소개되는 자료형은 아래 네 종류이다.\n",
    "\n",
    "* 정수(`int`)\n",
    "* 부동소수점(`float`)\n",
    "* 부울 값(`bool`)\n",
    "* 문자열(`str`)\n",
    "\n",
    "네 자료형 모두 단일한 값의 자료형이라는 의미에서 __스칼라__ 자료형이라 부른다.\n",
    "스칼라 자료형이 아니면서 파이썬에서 기본으로 제공하는 매우 유용한 자료형은 나중에 소개한다."
   ]
  },
  {
   "cell_type": "markdown",
   "metadata": {},
   "source": [
    "### 정수: `int`"
   ]
  },
  {
   "cell_type": "markdown",
   "metadata": {},
   "source": [
    "일반적으로 알고 있는 정수(자연수, 0, 음의 정수)들의 자료형이며,\n",
    "앞서 살펴보았듯이 덧셈, 뺄셈, 곱셈, 나눗셈 등의 일반 연산이 가능하다.\n",
    "정수 자료형은 `int`로 표기한다."
   ]
  },
  {
   "cell_type": "markdown",
   "metadata": {},
   "source": [
    "### 부동소수점: `float`"
   ]
  },
  {
   "cell_type": "markdown",
   "metadata": {},
   "source": [
    "부동소수점(floating-point)은 원래 실수를 컴퓨터에서 다루기 위해 개발되었으나 실제로는 유리수 일부만을 다룬다. \n",
    "예를 들어, 무리수인 원주율 $\\pi$의 경우에도 유한한 값만 다룰 수 있는 \n",
    "컴퓨터 자체의 한계로 인해 소수점 이하 적당한 자리에서 끊어서 사용한다. "
   ]
  },
  {
   "cell_type": "code",
   "execution_count": 55,
   "metadata": {},
   "outputs": [
    {
     "data": {
      "text/plain": [
       "3.141592653589793"
      ]
     },
     "execution_count": 55,
     "metadata": {},
     "output_type": "execute_result"
    }
   ],
   "source": [
    "pi = 3.141592653589793\n",
    "pi"
   ]
  },
  {
   "cell_type": "markdown",
   "metadata": {},
   "source": [
    "#### 과학 표기법"
   ]
  },
  {
   "cell_type": "markdown",
   "metadata": {},
   "source": [
    "과학 표기법도 사용할 수 있다."
   ]
  },
  {
   "cell_type": "code",
   "execution_count": 56,
   "metadata": {},
   "outputs": [
    {
     "data": {
      "text/plain": [
       "6.78e-05"
      ]
     },
     "execution_count": 56,
     "metadata": {},
     "output_type": "execute_result"
    }
   ],
   "source": [
    "fval = 6.78e-5\n",
    "\n",
    "fval"
   ]
  },
  {
   "cell_type": "markdown",
   "metadata": {},
   "source": [
    "#### 부동소수점 연산 주의사항"
   ]
  },
  {
   "cell_type": "markdown",
   "metadata": {},
   "source": [
    "부동소수점 연산은 아래 예제에서 보듯이 매우 조심해야 한다."
   ]
  },
  {
   "cell_type": "code",
   "execution_count": 57,
   "metadata": {},
   "outputs": [
    {
     "data": {
      "text/plain": [
       "0.30000000000000004"
      ]
     },
     "execution_count": 57,
     "metadata": {},
     "output_type": "execute_result"
    }
   ],
   "source": [
    "0.1 + 0.2"
   ]
  },
  {
   "cell_type": "markdown",
   "metadata": {},
   "source": [
    "위와 같은 현상이 파이썬의 한계로 인해 발생하는 게 아니라\n",
    "컴퓨터에서 부동소수점을 다루는 매우 복잡하지만 불완전한 방식 때문에 발생한다.\n",
    "왜 이런 문제가 발생하는가를 이해하는 일은 쉽지 않다.\n",
    "다만, 부동소수점 연산을 매우 조심스럽게 다루어야 한다는 점은 기억해 두어야 한다."
   ]
  },
  {
   "cell_type": "markdown",
   "metadata": {},
   "source": [
    "### 부울 값: `bool`"
   ]
  },
  {
   "cell_type": "markdown",
   "metadata": {},
   "source": [
    "부울 자료형에는 아래 두 개의 값만 포함된다.\n",
    "\n",
    "* `True`\n",
    "* `False`\n",
    "\n",
    "이 두 개의 값만을 이용하여 복잡한 프로그램을 구현할 수 있다.\n",
    "\n",
    "예제: 강아지를 한 마리만 갖고 있다고 가정하자. \n",
    "\n",
    "이것을 표현하기 위해 puppy(강아지 한마리)라는 변수에 True를 할당하고, 여러 마리의 강아지를 뜻하는 puppies 변수에는 False를 할당한다."
   ]
  },
  {
   "cell_type": "code",
   "execution_count": 58,
   "metadata": {},
   "outputs": [
    {
     "data": {
      "text/plain": [
       "True"
      ]
     },
     "execution_count": 58,
     "metadata": {},
     "output_type": "execute_result"
    }
   ],
   "source": [
    "puppy = True\n",
    "\n",
    "puppy"
   ]
  },
  {
   "cell_type": "code",
   "execution_count": 59,
   "metadata": {},
   "outputs": [
    {
     "data": {
      "text/plain": [
       "bool"
      ]
     },
     "execution_count": 59,
     "metadata": {},
     "output_type": "execute_result"
    }
   ],
   "source": [
    "type(puppy)"
   ]
  },
  {
   "cell_type": "code",
   "execution_count": 60,
   "metadata": {},
   "outputs": [],
   "source": [
    "puppies = False"
   ]
  },
  {
   "cell_type": "markdown",
   "metadata": {},
   "source": [
    "두 개의 변수 선언을 아래와 같이 동시에 할 수 있다. 등호기호 왼편과 오른편에 사용되는 변수와 값의 개수가 동일해야 함에 주의한다."
   ]
  },
  {
   "cell_type": "code",
   "execution_count": 61,
   "metadata": {},
   "outputs": [],
   "source": [
    "puppy, puppies = True, False"
   ]
  },
  {
   "cell_type": "code",
   "execution_count": 62,
   "metadata": {},
   "outputs": [
    {
     "name": "stdout",
     "output_type": "stream",
     "text": [
      "강아지가 있나요? True\n",
      "여러 마리 강아지인가요? False\n"
     ]
    }
   ],
   "source": [
    "print(\"강아지가 있나요?\", puppy)\n",
    "print(\"여러 마리 강아지인가요?\", puppies)"
   ]
  },
  {
   "cell_type": "markdown",
   "metadata": {},
   "source": [
    "__주의사항:__ 위에서 사용된 `print()` 함수의 사용법을 기억해둔다. \n",
    "`print()` 함수는 인자를 여러 개 받을 수 있으며 그 값들을 동시에 한 줄에 출력한다. \n",
    "각각의 값은 스페이스(space)로 구분된다."
   ]
  },
  {
   "cell_type": "markdown",
   "metadata": {},
   "source": [
    "#### 숫자 비교\n",
    "\n",
    "일반적으로 사용하는 숫자들의 비교를 나타내는 연산자들은 다음과 같다. 리턴값은 모두 부울 자료형이다.\n",
    "\n",
    "* `!=`: 다른지 여부를 판단\n",
    "* `==`: 같은지 여부를 판단\n",
    "* `<=`: 작거나 같은지 여부를 판단\n",
    "* `>=`: 크거나 같은지 여부를 판단\n",
    "* `<`: 작은지 여부를 판단\n",
    "* `>`: 큰지 여부를 판단"
   ]
  },
  {
   "cell_type": "code",
   "execution_count": 63,
   "metadata": {},
   "outputs": [
    {
     "data": {
      "text/plain": [
       "True"
      ]
     },
     "execution_count": 63,
     "metadata": {},
     "output_type": "execute_result"
    }
   ],
   "source": [
    "4 == 4"
   ]
  },
  {
   "cell_type": "code",
   "execution_count": 64,
   "metadata": {},
   "outputs": [
    {
     "data": {
      "text/plain": [
       "False"
      ]
     },
     "execution_count": 64,
     "metadata": {},
     "output_type": "execute_result"
    }
   ],
   "source": [
    "4 == 5"
   ]
  },
  {
   "cell_type": "code",
   "execution_count": 65,
   "metadata": {},
   "outputs": [
    {
     "data": {
      "text/plain": [
       "True"
      ]
     },
     "execution_count": 65,
     "metadata": {},
     "output_type": "execute_result"
    }
   ],
   "source": [
    "4 != 2"
   ]
  },
  {
   "cell_type": "code",
   "execution_count": 66,
   "metadata": {},
   "outputs": [
    {
     "data": {
      "text/plain": [
       "False"
      ]
     },
     "execution_count": 66,
     "metadata": {},
     "output_type": "execute_result"
    }
   ],
   "source": [
    "4 != 4"
   ]
  },
  {
   "cell_type": "code",
   "execution_count": 67,
   "metadata": {},
   "outputs": [
    {
     "data": {
      "text/plain": [
       "True"
      ]
     },
     "execution_count": 67,
     "metadata": {},
     "output_type": "execute_result"
    }
   ],
   "source": [
    "4 > 2"
   ]
  },
  {
   "cell_type": "code",
   "execution_count": 68,
   "metadata": {},
   "outputs": [
    {
     "data": {
      "text/plain": [
       "False"
      ]
     },
     "execution_count": 68,
     "metadata": {},
     "output_type": "execute_result"
    }
   ],
   "source": [
    "4 > 4"
   ]
  },
  {
   "cell_type": "code",
   "execution_count": 69,
   "metadata": {},
   "outputs": [
    {
     "data": {
      "text/plain": [
       "True"
      ]
     },
     "execution_count": 69,
     "metadata": {},
     "output_type": "execute_result"
    }
   ],
   "source": [
    "4 >= 4"
   ]
  },
  {
   "cell_type": "markdown",
   "metadata": {},
   "source": [
    "#### 부울 연산자와 부울 표현식"
   ]
  },
  {
   "cell_type": "markdown",
   "metadata": {},
   "source": [
    "`and`, `not`, `or` 세 개의 __부울 연산자__(Boolean operators)를 이용하여 부울 연산을 할 수 있다.\n",
    "각 연산자의 의미는 일반적으로 알려진 것과 동일하다."
   ]
  },
  {
   "cell_type": "code",
   "execution_count": 70,
   "metadata": {},
   "outputs": [
    {
     "data": {
      "text/plain": [
       "True"
      ]
     },
     "execution_count": 70,
     "metadata": {},
     "output_type": "execute_result"
    }
   ],
   "source": [
    "True and True"
   ]
  },
  {
   "cell_type": "code",
   "execution_count": 71,
   "metadata": {},
   "outputs": [
    {
     "data": {
      "text/plain": [
       "False"
      ]
     },
     "execution_count": 71,
     "metadata": {},
     "output_type": "execute_result"
    }
   ],
   "source": [
    "True and False"
   ]
  },
  {
   "cell_type": "markdown",
   "metadata": {},
   "source": [
    "부울 자료형의 변수와 부울 연산자를 이용하여 다양한 표현식을 정의할 수 있다.\n",
    "__부울 표현식__(Boolean expressions)은 부울 값으로 계산되는 표현식을 가리킨다."
   ]
  },
  {
   "cell_type": "code",
   "execution_count": 72,
   "metadata": {},
   "outputs": [
    {
     "data": {
      "text/plain": [
       "False"
      ]
     },
     "execution_count": 72,
     "metadata": {},
     "output_type": "execute_result"
    }
   ],
   "source": [
    "puppy and puppies"
   ]
  },
  {
   "cell_type": "code",
   "execution_count": 73,
   "metadata": {},
   "outputs": [
    {
     "data": {
      "text/plain": [
       "True"
      ]
     },
     "execution_count": 73,
     "metadata": {},
     "output_type": "execute_result"
    }
   ],
   "source": [
    "not puppies"
   ]
  },
  {
   "cell_type": "code",
   "execution_count": 74,
   "metadata": {},
   "outputs": [
    {
     "data": {
      "text/plain": [
       "False"
      ]
     },
     "execution_count": 74,
     "metadata": {},
     "output_type": "execute_result"
    }
   ],
   "source": [
    "not puppy"
   ]
  },
  {
   "cell_type": "markdown",
   "metadata": {},
   "source": [
    "#### 부울 연산자 우선순위"
   ]
  },
  {
   "cell_type": "markdown",
   "metadata": {},
   "source": [
    "`not` 연산자의 우선순위가 가장 높고, `and`와 `or`은 동일한 우선순위를 갖는다.\n",
    "따라서 기본적으로 왼편에 위치한 연산자부터 차례대로 계산한다."
   ]
  },
  {
   "cell_type": "code",
   "execution_count": 75,
   "metadata": {},
   "outputs": [
    {
     "data": {
      "text/plain": [
       "True"
      ]
     },
     "execution_count": 75,
     "metadata": {},
     "output_type": "execute_result"
    }
   ],
   "source": [
    "puppy and not puppies"
   ]
  },
  {
   "cell_type": "code",
   "execution_count": 76,
   "metadata": {},
   "outputs": [
    {
     "data": {
      "text/plain": [
       "True"
      ]
     },
     "execution_count": 76,
     "metadata": {},
     "output_type": "execute_result"
    }
   ],
   "source": [
    "puppy and (not puppies)"
   ]
  },
  {
   "cell_type": "code",
   "execution_count": 77,
   "metadata": {},
   "outputs": [
    {
     "data": {
      "text/plain": [
       "False"
      ]
     },
     "execution_count": 77,
     "metadata": {},
     "output_type": "execute_result"
    }
   ],
   "source": [
    "not puppy and puppies"
   ]
  },
  {
   "cell_type": "code",
   "execution_count": 78,
   "metadata": {},
   "outputs": [
    {
     "data": {
      "text/plain": [
       "True"
      ]
     },
     "execution_count": 78,
     "metadata": {},
     "output_type": "execute_result"
    }
   ],
   "source": [
    "not (puppy and puppies)"
   ]
  },
  {
   "cell_type": "code",
   "execution_count": 79,
   "metadata": {},
   "outputs": [],
   "source": [
    "cat = False"
   ]
  },
  {
   "cell_type": "code",
   "execution_count": 80,
   "metadata": {},
   "outputs": [
    {
     "data": {
      "text/plain": [
       "True"
      ]
     },
     "execution_count": 80,
     "metadata": {},
     "output_type": "execute_result"
    }
   ],
   "source": [
    "cat and puppies or puppy"
   ]
  },
  {
   "cell_type": "code",
   "execution_count": 81,
   "metadata": {},
   "outputs": [
    {
     "data": {
      "text/plain": [
       "True"
      ]
     },
     "execution_count": 81,
     "metadata": {},
     "output_type": "execute_result"
    }
   ],
   "source": [
    "(cat and puppies) or puppy"
   ]
  },
  {
   "cell_type": "code",
   "execution_count": 82,
   "metadata": {},
   "outputs": [
    {
     "data": {
      "text/plain": [
       "False"
      ]
     },
     "execution_count": 82,
     "metadata": {},
     "output_type": "execute_result"
    }
   ],
   "source": [
    "cat and (puppies or puppy)"
   ]
  },
  {
   "cell_type": "markdown",
   "metadata": {},
   "source": [
    "#### 부울 값과 `if` 조건문"
   ]
  },
  {
   "cell_type": "markdown",
   "metadata": {},
   "source": [
    "부울 값의 참/거짓 여부에 따라 다른 명령문을 실행하도록 하려면 `if` 조건문을 이용한다.\n",
    "기본 형식은 다음과 같다.\n",
    "\n",
    "```python\n",
    "if 부울표현식:\n",
    "    명령문\n",
    "else:\n",
    "    조건문\n",
    "``` "
   ]
  },
  {
   "cell_type": "markdown",
   "metadata": {},
   "source": [
    "__주의사항:__ 콜론 기호와 들여쓰기는 의무적으로 지켜야 하며 그렇지 않을 경우\n",
    "오류가 발생하거나 의도와 다른 결과를 얻을 수 있다."
   ]
  },
  {
   "cell_type": "markdown",
   "metadata": {},
   "source": [
    "#### 예제\n",
    "\n",
    "자연수 `n`이 짝수면 `True`를, 홀수면 `False`를 계산하는 코드는 다음과 같다.\n",
    "`n`의 값을 변경했을 때 어떤 결과가 나오는지 확인하라."
   ]
  },
  {
   "cell_type": "code",
   "execution_count": 83,
   "metadata": {},
   "outputs": [
    {
     "name": "stdout",
     "output_type": "stream",
     "text": [
      "True\n"
     ]
    }
   ],
   "source": [
    "n = 100\n",
    "\n",
    "if n%2 == 0:\n",
    "    print(True)\n",
    "else:\n",
    "    print(False)"
   ]
  },
  {
   "cell_type": "markdown",
   "metadata": {},
   "source": [
    "#### 예제\n",
    "\n",
    "두 숫자 `a`와 `b`의 사이의 거리를 계산하는 코드는 다음과 같다."
   ]
  },
  {
   "cell_type": "code",
   "execution_count": 84,
   "metadata": {},
   "outputs": [
    {
     "name": "stdout",
     "output_type": "stream",
     "text": [
      "14\n"
     ]
    }
   ],
   "source": [
    "a = 3\n",
    "b = 17\n",
    "\n",
    "if a < b:\n",
    "    print(b - a)\n",
    "else:\n",
    "    print(a - b)"
   ]
  },
  {
   "cell_type": "markdown",
   "metadata": {},
   "source": [
    "__참고:__ 위 코드는 사실 두 수의 차이의 절댓값을 계산하며,\n",
    "`abs()` 함수가 동일한 기능을 수행한다."
   ]
  },
  {
   "cell_type": "code",
   "execution_count": 85,
   "metadata": {},
   "outputs": [
    {
     "data": {
      "text/plain": [
       "14"
      ]
     },
     "execution_count": 85,
     "metadata": {},
     "output_type": "execute_result"
    }
   ],
   "source": [
    "abs(a - b)"
   ]
  },
  {
   "cell_type": "code",
   "execution_count": 86,
   "metadata": {},
   "outputs": [
    {
     "data": {
      "text/plain": [
       "14"
      ]
     },
     "execution_count": 86,
     "metadata": {},
     "output_type": "execute_result"
    }
   ],
   "source": [
    "abs(b - a)"
   ]
  },
  {
   "cell_type": "markdown",
   "metadata": {},
   "source": [
    "__참고:__ `if` 조건문의 보다 다양한 활용법은 나중에 자세히 다룬다."
   ]
  },
  {
   "cell_type": "markdown",
   "metadata": {},
   "source": [
    "### 형변환"
   ]
  },
  {
   "cell_type": "markdown",
   "metadata": {},
   "source": [
    "아래 세 함수는 인자로 들어온 값을 각각 정수, 부동소수점, 부울 자료형의 값으로 변환한다.\n",
    "단, 세 함후 모두 인자로 사용된 값에 따라 오류가 발생할 수 있다.\n",
    "\n",
    "* `int()`\n",
    "* `float()`\n",
    "* `bool()`\n"
   ]
  },
  {
   "cell_type": "markdown",
   "metadata": {},
   "source": [
    "__주의사항:__ 자료형과 형변환 함수의 이름이 동일하다.\n",
    "예를 들어, `int`는 정수 자료형과 정수 자료형으로 형변환하는 함수를 동시에 가리킨다.\n",
    "따라서 여기서는 함수는 항상 소괄호와 함께 표기한다.\n",
    "즉, `int`는 정수 자료형을, `int()`는 정수로 형변환하는 함수를 가리킨다."
   ]
  },
  {
   "cell_type": "markdown",
   "metadata": {},
   "source": [
    "#### `int()` 함수"
   ]
  },
  {
   "cell_type": "markdown",
   "metadata": {},
   "source": [
    "정수와 실수 사이에 강제로 자료형을 변환시킬 수 있다.\n",
    "실수를 정수로 변환하고자 할 경우 `int()` 함수를 사용한다. \n",
    "그러면 소수점 이하는 버려진다. "
   ]
  },
  {
   "cell_type": "code",
   "execution_count": 87,
   "metadata": {},
   "outputs": [
    {
     "data": {
      "text/plain": [
       "4"
      ]
     },
     "execution_count": 87,
     "metadata": {},
     "output_type": "execute_result"
    }
   ],
   "source": [
    "int(4.8)"
   ]
  },
  {
   "cell_type": "markdown",
   "metadata": {},
   "source": [
    "#### `float()` 함수"
   ]
  },
  {
   "cell_type": "markdown",
   "metadata": {},
   "source": [
    "정수를 실수로 형변환하려면 `float()` 함수를 사용한다."
   ]
  },
  {
   "cell_type": "code",
   "execution_count": 88,
   "metadata": {},
   "outputs": [
    {
     "data": {
      "text/plain": [
       "2.0"
      ]
     },
     "execution_count": 88,
     "metadata": {},
     "output_type": "execute_result"
    }
   ],
   "source": [
    "float(2)"
   ]
  },
  {
   "cell_type": "markdown",
   "metadata": {},
   "source": [
    "변수를 대상으로 형변환을 하면 변수가 가리키는 값 자체가 변하는 것은 아니다."
   ]
  },
  {
   "cell_type": "code",
   "execution_count": 89,
   "metadata": {},
   "outputs": [
    {
     "data": {
      "text/plain": [
       "2.0"
      ]
     },
     "execution_count": 89,
     "metadata": {},
     "output_type": "execute_result"
    }
   ],
   "source": [
    "an_int = 2\n",
    "\n",
    "float(an_int)"
   ]
  },
  {
   "cell_type": "code",
   "execution_count": 90,
   "metadata": {},
   "outputs": [
    {
     "data": {
      "text/plain": [
       "2"
      ]
     },
     "execution_count": 90,
     "metadata": {},
     "output_type": "execute_result"
    }
   ],
   "source": [
    "an_int"
   ]
  },
  {
   "cell_type": "markdown",
   "metadata": {},
   "source": [
    " 다만, 형변환된 값을 다른 변수에 저장해서 활용할 수는 있다."
   ]
  },
  {
   "cell_type": "code",
   "execution_count": 91,
   "metadata": {},
   "outputs": [
    {
     "data": {
      "text/plain": [
       "2.0"
      ]
     },
     "execution_count": 91,
     "metadata": {},
     "output_type": "execute_result"
    }
   ],
   "source": [
    "a_float = float(an_int)\n",
    "\n",
    "a_float"
   ]
  },
  {
   "cell_type": "markdown",
   "metadata": {},
   "source": [
    "#### `bool()` 함수"
   ]
  },
  {
   "cell_type": "markdown",
   "metadata": {},
   "source": [
    "`bool()` 함수는 0처럼 없거나 비어있다는 의미를 가리키는 값에 대해서만 `False`를 반환한다."
   ]
  },
  {
   "cell_type": "code",
   "execution_count": 92,
   "metadata": {},
   "outputs": [
    {
     "data": {
      "text/plain": [
       "False"
      ]
     },
     "execution_count": 92,
     "metadata": {},
     "output_type": "execute_result"
    }
   ],
   "source": [
    "bool(0)"
   ]
  },
  {
   "cell_type": "code",
   "execution_count": 93,
   "metadata": {},
   "outputs": [
    {
     "data": {
      "text/plain": [
       "True"
      ]
     },
     "execution_count": 93,
     "metadata": {},
     "output_type": "execute_result"
    }
   ],
   "source": [
    "bool(1.2)"
   ]
  },
  {
   "cell_type": "code",
   "execution_count": 94,
   "metadata": {},
   "outputs": [
    {
     "data": {
      "text/plain": [
       "True"
      ]
     },
     "execution_count": 94,
     "metadata": {},
     "output_type": "execute_result"
    }
   ],
   "source": [
    "bool(-21.7)"
   ]
  },
  {
   "cell_type": "markdown",
   "metadata": {},
   "source": [
    "## 연습문제"
   ]
  },
  {
   "cell_type": "markdown",
   "metadata": {},
   "source": [
    "### 연습 "
   ]
  },
  {
   "cell_type": "markdown",
   "metadata": {},
   "source": [
    "두 숫자의 평균값을 구하는 코드는 다음과 같다.\n",
    "예를 들어, 234와 453의 평균값은 343.5이다.\n",
    "두 변수 `a`, `b`의 값을 변경하면서 여러 번 실행하라."
   ]
  },
  {
   "cell_type": "code",
   "execution_count": 95,
   "metadata": {},
   "outputs": [
    {
     "name": "stdout",
     "output_type": "stream",
     "text": [
      "343.5\n"
     ]
    }
   ],
   "source": [
    "a = 234\n",
    "b = 453\n",
    "\n",
    "mean_a_b = (a + b) / 2\n",
    "\n",
    "print(mean_a_b)"
   ]
  },
  {
   "cell_type": "markdown",
   "metadata": {},
   "source": [
    "### 연습\n",
    "\n",
    "반지름이 `r`인 원의 넓이를 계산하는 코드는 다음과 같다.\n",
    "단, 원주율은 3.14로 계산한다."
   ]
  },
  {
   "cell_type": "markdown",
   "metadata": {},
   "source": [
    "견본답안:"
   ]
  },
  {
   "cell_type": "code",
   "execution_count": 96,
   "metadata": {},
   "outputs": [
    {
     "name": "stdout",
     "output_type": "stream",
     "text": [
      "28.26\n"
     ]
    }
   ],
   "source": [
    "r = 3\n",
    "\n",
    "pi = 3.14\n",
    "circle_area = pi * r ** 2\n",
    "\n",
    "print(circle_area)"
   ]
  },
  {
   "cell_type": "markdown",
   "metadata": {},
   "source": [
    "### 연습\n",
    "\n",
    "변의 길이가 각각 `a`, `b`, `c`인 삼각형의 면적 `A`는 아래 식으로 계산된다.\n",
    "\n",
    "$$\n",
    "A = \\sqrt{s  (s - a)  (s - b)  (s - c)}\n",
    "$$\n",
    "\n",
    "단, \n",
    "$$\n",
    "s = (a + b + c) / 2\n",
    "$$\n",
    "__참고:__ [위키백과: 삼각형](https://ko.wikipedia.org/wiki/%EC%82%BC%EA%B0%81%ED%98%95)"
   ]
  },
  {
   "cell_type": "code",
   "execution_count": 97,
   "metadata": {},
   "outputs": [
    {
     "name": "stdout",
     "output_type": "stream",
     "text": [
      "1.984313483298443\n"
     ]
    }
   ],
   "source": [
    "a = 2\n",
    "b = 2\n",
    "c = 3\n",
    "\n",
    "s = (a + b + c) / 2.0\n",
    "A = (s * (s - a) * (s - b) * (s - c)) ** 0.5  # 0.5승은 제곱근에 해당함\n",
    "\n",
    "print(A)"
   ]
  }
 ],
 "metadata": {
  "kernelspec": {
   "display_name": "Python 3",
   "language": "python",
   "name": "python3"
  },
  "language_info": {
   "codemirror_mode": {
    "name": "ipython",
    "version": 3
   },
   "file_extension": ".py",
   "mimetype": "text/x-python",
   "name": "python",
   "nbconvert_exporter": "python",
   "pygments_lexer": "ipython3",
   "version": "3.8.3"
  }
 },
 "nbformat": 4,
 "nbformat_minor": 1
}
