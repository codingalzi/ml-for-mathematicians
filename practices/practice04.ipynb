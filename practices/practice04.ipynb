{
 "cells": [
  {
   "cell_type": "markdown",
   "metadata": {},
   "source": [
    "# 파이썬 프로그래밍 실습 4"
   ]
  },
  {
   "cell_type": "markdown",
   "metadata": {},
   "source": [
    "## 문제 1"
   ]
  },
  {
   "cell_type": "markdown",
   "metadata": {},
   "source": [
    "아래 기준을 만족하는 `has_duplicates` 함수를 구현하라.\n",
    "* 하나의 리스트를 입력받는다.\n",
    "* 리스트에 특정 항목이 두 번 사용되면 `True`를\n",
    "그렇지 않으면 `False`를 리턴한다.\n",
    "* 인자로 사용된 리스트는 수정하지 않는다.\n",
    "\n",
    "예제:\n",
    "```python    \n",
    ">>> has_duplicates([1, 2, 1, 3])\n",
    "True\n",
    ">>> has_duplicates(['hello', 'hi', 'hey'])\n",
    "False\n",
    "```\n",
    "힌트: 집합(`set`) 자료형 활용"
   ]
  },
  {
   "cell_type": "code",
   "execution_count": 1,
   "metadata": {},
   "outputs": [],
   "source": [
    "# pass와 None을 각각 적절한 명령문과 값으로 대체하라.\n",
    "\n",
    "def has_duplicates(xs):\n",
    "    pass\n",
    "    return None"
   ]
  },
  {
   "cell_type": "markdown",
   "metadata": {},
   "source": [
    "[words.txt](https://raw.githubusercontent.com/AllenDowney/ThinkPython2/master/code/words.txt) 파일은 113,783 개의 단어를 한 줄에 하나씩 갖고 있다. \n",
    "위 파일의 내용을 리스트 자료형으로 저장하는 함수 `make_word_list()` 함수는 다음과 같다.\n",
    "즉, 리스트의 항목은 각 줄에 있는 단어가 된다.이어야 한다.\n",
    "\n",
    "__참고:__ [wordlist.py](http://greenteapress.com/thinkpython2/code/wordlist.py)"
   ]
  },
  {
   "cell_type": "markdown",
   "metadata": {},
   "source": [
    "아래 코드는 인터넷으로부터 언급된 words.txt 파일을 다운로드해서 저장한다."
   ]
  },
  {
   "cell_type": "code",
   "execution_count": 2,
   "metadata": {},
   "outputs": [
    {
     "data": {
      "text/plain": [
       "('words.txt', <http.client.HTTPMessage at 0x7fec7e798790>)"
      ]
     },
     "execution_count": 2,
     "metadata": {},
     "output_type": "execute_result"
    }
   ],
   "source": [
    "import urllib.request\n",
    "\n",
    "file_url = \"https://raw.githubusercontent.com/AllenDowney/ThinkPython2/master/code/words.txt\"\n",
    "file_name = \"words.txt\"\n",
    "urllib.request.urlretrieve(file_url, file_name)"
   ]
  },
  {
   "cell_type": "code",
   "execution_count": 3,
   "metadata": {},
   "outputs": [],
   "source": [
    "def make_word_list():\n",
    "    t = []\n",
    "    fin = open('words.txt')\n",
    "    for line in fin:\n",
    "        word = line.strip()\n",
    "        t.append(word)\n",
    "    return t"
   ]
  },
  {
   "cell_type": "markdown",
   "metadata": {},
   "source": [
    "단어의 개수는 다음과 같다."
   ]
  },
  {
   "cell_type": "code",
   "execution_count": 4,
   "metadata": {},
   "outputs": [],
   "source": [
    "words_list = make_word_list()"
   ]
  },
  {
   "cell_type": "code",
   "execution_count": 5,
   "metadata": {},
   "outputs": [
    {
     "name": "stdout",
     "output_type": "stream",
     "text": [
      "113783\n"
     ]
    }
   ],
   "source": [
    "print(len(words_list))"
   ]
  },
  {
   "cell_type": "markdown",
   "metadata": {},
   "source": [
    "처음 10개 단어는 다음과 같다."
   ]
  },
  {
   "cell_type": "code",
   "execution_count": 6,
   "metadata": {},
   "outputs": [
    {
     "name": "stdout",
     "output_type": "stream",
     "text": [
      "['aa', 'aah', 'aahed', 'aahing', 'aahs', 'aal', 'aalii', 'aaliis', 'aals', 'aardvark']\n"
     ]
    }
   ],
   "source": [
    "print(words_list[:10])"
   ]
  },
  {
   "cell_type": "markdown",
   "metadata": {},
   "source": [
    "마지막 10개 단어는 다음과 같다."
   ]
  },
  {
   "cell_type": "code",
   "execution_count": 7,
   "metadata": {},
   "outputs": [
    {
     "name": "stdout",
     "output_type": "stream",
     "text": [
      "['zymogene', 'zymogenes', 'zymogens', 'zymologies', 'zymology', 'zymoses', 'zymosis', 'zymotic', 'zymurgies', 'zymurgy']\n"
     ]
    }
   ],
   "source": [
    "print(words_list[-10:])"
   ]
  },
  {
   "cell_type": "markdown",
   "metadata": {},
   "source": [
    "## 문제 2"
   ]
  },
  {
   "cell_type": "markdown",
   "metadata": {},
   "source": [
    "생성된 리스트에 특정 단어가 포함되어 있는지 여부를 확인하는 함수\n",
    "`has_elements()`를\n",
    "리스트 자료형의 `in` 연산자 활용하여 구현하라."
   ]
  },
  {
   "cell_type": "code",
   "execution_count": 8,
   "metadata": {},
   "outputs": [],
   "source": [
    "# pass와 None을 각각 적절한 명령문과 값으로 대체하라.\n",
    "\n",
    "def has_elem(aString):\n",
    "    pass\n",
    "    return None"
   ]
  },
  {
   "cell_type": "markdown",
   "metadata": {},
   "source": [
    "## 문제 3"
   ]
  },
  {
   "cell_type": "markdown",
   "metadata": {},
   "source": [
    "위 문제에서 구현된 함수를 이진탐색(binary search)을 이용하는 방식으로 수정하여 새로 구현하라.\n",
    "두 함수의 실행속도의 차이를 비교하라.    \n",
    "이진탐색의 개념과 파이썬 구현은 [이진탐색하기](https://programmers.co.kr/learn/courses/4008/lessons/13173)를\n",
    "참조할 수 있다.\n",
    "<br><br>\n",
    "힌트: 정답은 [inlist.py](http://greenteapress.com/thinkpython2/code/inlist.py) 참고."
   ]
  },
  {
   "cell_type": "code",
   "execution_count": 9,
   "metadata": {},
   "outputs": [],
   "source": [
    "# pass와 None을 각각 적절한 명령문과 값으로 대체하라.\n",
    "\n",
    "def has_elem_binary(aString):\n",
    "    pass\n",
    "    return None"
   ]
  },
  {
   "cell_type": "code",
   "execution_count": 10,
   "metadata": {},
   "outputs": [
    {
     "name": "stdout",
     "output_type": "stream",
     "text": [
      "4.887580871582031e-05 초\n",
      "4.57763671875e-05 초\n"
     ]
    }
   ],
   "source": [
    "import time\n",
    "\n",
    "start_time = time.time()\n",
    "t = has_elem('python')\n",
    "elapsed_time = time.time() - start_time\n",
    "\n",
    "print(elapsed_time, '초')\n",
    "\n",
    "start_time = time.time()\n",
    "t = has_elem_binary('python')\n",
    "elapsed_time = time.time() - start_time\n",
    "\n",
    "print(elapsed_time, '초')\n"
   ]
  },
  {
   "cell_type": "markdown",
   "metadata": {},
   "source": [
    "## 문제 4"
   ]
  },
  {
   "cell_type": "markdown",
   "metadata": {},
   "source": [
    "words.txt 파일의 내용을 사전 자료형으로 저장한 후에,\n",
    "생성된 사전에 특정 단어가 키로 사용되었는지 여부를 확인하는 함수를\n",
    "사전 자료형의 `in` 연산자 활용하여 구현하라.\n",
    "\n",
    "힌트: `words.txt` 파일에서 단어를 읽어 들인 후 각각의 단어를 키로 사용한다. \n",
    "모든 키의 값은 `True`로 정한다.\n",
    "\n",
    "앞서 리스트를 활용한 구현 방식과 비교하여 사전 자료형을 이용한 `in` 연산자의 실행속도가 \n",
    "얼마나 빠른지 확인하라."
   ]
  },
  {
   "cell_type": "code",
   "execution_count": 11,
   "metadata": {},
   "outputs": [],
   "source": [
    "# pass와 None을 각각 적절한 명령문과 값으로 대체하라.\n",
    "\n",
    "def make_word_dict():\n",
    "    pass\n",
    "    return None"
   ]
  }
 ],
 "metadata": {
  "kernelspec": {
   "display_name": "Python 3",
   "language": "python",
   "name": "python3"
  },
  "language_info": {
   "codemirror_mode": {
    "name": "ipython",
    "version": 3
   },
   "file_extension": ".py",
   "mimetype": "text/x-python",
   "name": "python",
   "nbconvert_exporter": "python",
   "pygments_lexer": "ipython3",
   "version": "3.8.5"
  }
 },
 "nbformat": 4,
 "nbformat_minor": 1
}
