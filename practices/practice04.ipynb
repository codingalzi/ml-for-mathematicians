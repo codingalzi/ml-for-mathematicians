{
 "cells": [
  {
   "cell_type": "markdown",
   "metadata": {},
   "source": [
    "# 파이썬 프로그래밍 실습 4"
   ]
  },
  {
   "cell_type": "markdown",
   "metadata": {},
   "source": [
    "## 문제 1"
   ]
  },
  {
   "cell_type": "markdown",
   "metadata": {},
   "source": [
    "아래 기준을 만족하는 `has_duplicates` 함수를 구현하라.\n",
    "\n",
    "* 인자: 하나의 리스트\n",
    "* 반환값: 리스트에 특정 항목이 두 번 사용되면 `True`,\n",
    "    그렇지 않으면 `False`.\n",
    "\n",
    "예제:\n",
    "```python    \n",
    ">>> has_duplicates([1, 2, 1, 3])\n",
    "True\n",
    ">>> has_duplicates(['hello', 'hi', 'hey'])\n",
    "False\n",
    "```\n",
    "힌트: 집합(`set`) 자료형 활용"
   ]
  },
  {
   "cell_type": "code",
   "execution_count": 1,
   "metadata": {},
   "outputs": [],
   "source": [
    "# pass와 None을 각각 적절한 명령문과 값으로 대체하라.\n",
    "\n",
    "def has_duplicates(xs):\n",
    "    pass\n",
    "    return None"
   ]
  },
  {
   "cell_type": "markdown",
   "metadata": {},
   "source": [
    "### 견본답안"
   ]
  },
  {
   "cell_type": "code",
   "execution_count": 2,
   "metadata": {},
   "outputs": [],
   "source": [
    "def has_duplicates(xs):\n",
    "    n = len(xs)\n",
    "    m = len(set(xs))\n",
    "    duplicated = (n > m)\n",
    "    \n",
    "    return duplicated"
   ]
  },
  {
   "cell_type": "code",
   "execution_count": 3,
   "metadata": {},
   "outputs": [],
   "source": [
    "has_duplicates([1, 2, 1, 3])"
   ]
  },
  {
   "cell_type": "code",
   "execution_count": 4,
   "metadata": {},
   "outputs": [],
   "source": [
    "has_duplicates(['hello', 'hi', 'hey'])"
   ]
  },
  {
   "cell_type": "markdown",
   "metadata": {},
   "source": [
    "## 긴 리스트 다루기"
   ]
  },
  {
   "cell_type": "markdown",
   "metadata": {},
   "source": [
    "[words.txt](https://raw.githubusercontent.com/AllenDowney/ThinkPython2/master/code/words.txt) 파일은 113,783 개의 단어를 한 줄에 하나씩 갖고 있다. \n",
    "먼저 아래 코드를 이용하여 언급된 `words.txt` 파일을 인터넷으로부터 다운로드해서 저장한다."
   ]
  },
  {
   "cell_type": "code",
   "execution_count": 5,
   "metadata": {},
   "outputs": [
    {
     "data": {
      "text/plain": [
       "('words.txt', <http.client.HTTPMessage at 0x7fd042f87eb0>)"
      ]
     },
     "execution_count": 5,
     "metadata": {},
     "output_type": "execute_result"
    }
   ],
   "source": [
    "import urllib.request\n",
    "\n",
    "file_url = \"https://raw.githubusercontent.com/AllenDowney/ThinkPython2/master/code/words.txt\"\n",
    "file_name = \"words.txt\"\n",
    "urllib.request.urlretrieve(file_url, file_name)"
   ]
  },
  {
   "cell_type": "markdown",
   "metadata": {},
   "source": [
    "`make_word_list()` 함수는 다운로드한 파일을 연 다음 각각의 줄에 포함된 내용으로 구성된 리스트를 생성한다."
   ]
  },
  {
   "cell_type": "code",
   "execution_count": 6,
   "metadata": {},
   "outputs": [],
   "source": [
    "def make_word_list():\n",
    "    file_open = open('words.txt')   # 파일을 메모리에 불러오기\n",
    "    \n",
    "    t = []                          # 각각의 줄로 구성된 리스트 생성\n",
    "    for line in file_open:\n",
    "        word = line.strip()         # 화이트스페이스(공백, 줄바꿈 등) 제거\n",
    "        t.append(word)\n",
    "        \n",
    "    return t"
   ]
  },
  {
   "cell_type": "markdown",
   "metadata": {},
   "source": [
    "위 함수를 이용하여 `words.txt` 파일에 포함된 단어로 구성된 리스트를 생성하자."
   ]
  },
  {
   "cell_type": "code",
   "execution_count": 7,
   "metadata": {},
   "outputs": [],
   "source": [
    "words_list = make_word_list()"
   ]
  },
  {
   "cell_type": "markdown",
   "metadata": {},
   "source": [
    "리스트의 길이가 112,783이다."
   ]
  },
  {
   "cell_type": "code",
   "execution_count": 8,
   "metadata": {},
   "outputs": [
    {
     "name": "stdout",
     "output_type": "stream",
     "text": [
      "113783\n"
     ]
    }
   ],
   "source": [
    "print(len(words_list))"
   ]
  },
  {
   "cell_type": "markdown",
   "metadata": {},
   "source": [
    "처음 10개 단어는 다음과 같다."
   ]
  },
  {
   "cell_type": "code",
   "execution_count": 9,
   "metadata": {},
   "outputs": [
    {
     "data": {
      "text/plain": [
       "['aa',\n",
       " 'aah',\n",
       " 'aahed',\n",
       " 'aahing',\n",
       " 'aahs',\n",
       " 'aal',\n",
       " 'aalii',\n",
       " 'aaliis',\n",
       " 'aals',\n",
       " 'aardvark']"
      ]
     },
     "execution_count": 9,
     "metadata": {},
     "output_type": "execute_result"
    }
   ],
   "source": [
    "words_list[:10]"
   ]
  },
  {
   "cell_type": "markdown",
   "metadata": {},
   "source": [
    "마지막 10개 단어는 다음과 같다."
   ]
  },
  {
   "cell_type": "code",
   "execution_count": 10,
   "metadata": {},
   "outputs": [
    {
     "data": {
      "text/plain": [
       "['zymogene',\n",
       " 'zymogenes',\n",
       " 'zymogens',\n",
       " 'zymologies',\n",
       " 'zymology',\n",
       " 'zymoses',\n",
       " 'zymosis',\n",
       " 'zymotic',\n",
       " 'zymurgies',\n",
       " 'zymurgy']"
      ]
     },
     "execution_count": 10,
     "metadata": {},
     "output_type": "execute_result"
    }
   ],
   "source": [
    "words_list[-10:]"
   ]
  },
  {
   "cell_type": "markdown",
   "metadata": {},
   "source": [
    "## 문제 2"
   ]
  },
  {
   "cell_type": "markdown",
   "metadata": {},
   "source": [
    "주어진 리스트에 특정 항목이 포함되어 있는지 여부를 확인하는 함수\n",
    "`list_elem()`를\n",
    "리스트 자료형의 `in` 연산자 활용하여 구현하라.\n",
    "\n",
    "* 인자: 하나의 문자열과 하나의 리스트\n",
    "* 반환값: 지정된 리스트에 지정된 문자열이 포함되어 있으면`True`, \n",
    "    그렇지 않으면 `False`."
   ]
  },
  {
   "cell_type": "markdown",
   "metadata": {},
   "source": [
    "예제:\n",
    "```python    \n",
    ">>> list_elem(3, [1, 2, 1, 3])\n",
    "True\n",
    ">>> list_elem('python', ['hello', 'hi', 'hey'])\n",
    "False\n",
    "```"
   ]
  },
  {
   "cell_type": "code",
   "execution_count": 11,
   "metadata": {},
   "outputs": [],
   "source": [
    "# pass와 None을 각각 적절한 명령문과 값으로 대체하라.\n",
    "\n",
    "def list_elem(x, xs):\n",
    "    pass\n",
    "    return None"
   ]
  },
  {
   "cell_type": "markdown",
   "metadata": {},
   "source": [
    "### 견본답안 "
   ]
  },
  {
   "cell_type": "code",
   "execution_count": 12,
   "metadata": {},
   "outputs": [],
   "source": [
    "def list_elem(x, xs):\n",
    "    contained = x in xs\n",
    "    \n",
    "    return contained"
   ]
  },
  {
   "cell_type": "code",
   "execution_count": 13,
   "metadata": {},
   "outputs": [
    {
     "data": {
      "text/plain": [
       "True"
      ]
     },
     "execution_count": 13,
     "metadata": {},
     "output_type": "execute_result"
    }
   ],
   "source": [
    "list_elem(3, [1, 2, 1, 3])"
   ]
  },
  {
   "cell_type": "code",
   "execution_count": 14,
   "metadata": {},
   "outputs": [
    {
     "data": {
      "text/plain": [
       "False"
      ]
     },
     "execution_count": 14,
     "metadata": {},
     "output_type": "execute_result"
    }
   ],
   "source": [
    "list_elem('python', ['hello', 'hi', 'hey'])"
   ]
  },
  {
   "cell_type": "markdown",
   "metadata": {},
   "source": [
    "## 문제 3"
   ]
  },
  {
   "cell_type": "markdown",
   "metadata": {},
   "source": [
    "문제 2를 이진탐색 알고리즘을 이용하여 구현한 후에\n",
    "두 함수의 실행속도의 차이를 비교하라.    \n",
    "시간 비교를 위해 많은 양의 단어를 포함한 `words_list` 리스트를 이용하라.\n",
    "\n",
    "__참고:__ 이진탐색 개념에 대한 설명은 \n",
    "[GeeksforGeeks: Binary Search](https://www.geeksforgeeks.org/binary-search/)를\n",
    "참조할 수 있다."
   ]
  },
  {
   "cell_type": "code",
   "execution_count": 15,
   "metadata": {},
   "outputs": [],
   "source": [
    "# pass와 None을 각각 적절한 명령문과 값으로 대체하라.\n",
    "\n",
    "def binsearch(x, xs):\n",
    "    pass\n",
    "    return None"
   ]
  },
  {
   "cell_type": "markdown",
   "metadata": {},
   "source": [
    "### 견본답안"
   ]
  },
  {
   "cell_type": "code",
   "execution_count": 16,
   "metadata": {},
   "outputs": [],
   "source": [
    "def binsearch(x, xs):\n",
    "    low, high = 0, len(xs)-1\n",
    "    location = -1\n",
    "\n",
    "    # while 반복문 실행횟수 확인용    \n",
    "    loop_count = 0\n",
    "\n",
    "    while low <= high and location == -1:\n",
    "        loop_count += 1\n",
    "        mid = (low + high)//2\n",
    "\n",
    "        if x == xs[mid]:\n",
    "            location = mid\n",
    "        elif x < xs[mid]:\n",
    "            high = mid - 1\n",
    "        else:\n",
    "            low = mid + 1\n",
    "    \n",
    "    return (location, loop_count)"
   ]
  },
  {
   "cell_type": "markdown",
   "metadata": {},
   "source": [
    "이진탐색 알고리즘을 사용한 함수가 10배 이상 빠르다."
   ]
  },
  {
   "cell_type": "code",
   "execution_count": 17,
   "metadata": {},
   "outputs": [
    {
     "name": "stdout",
     "output_type": "stream",
     "text": [
      "list_elem():\t 0.0014598369598388672 초\n",
      "binsearch():\t 5.7697296142578125e-05 초\n",
      "이진탐색 알고리즘이 25배 정도 빠르다.\n"
     ]
    }
   ],
   "source": [
    "import time\n",
    "\n",
    "# 리슽 in 연산자\n",
    "start_time = time.time()\n",
    "t = list_elem('python', words_list)\n",
    "elapsed_time_1 = time.time() - start_time\n",
    "\n",
    "print(\"list_elem():\\t\", elapsed_time_1, '초')\n",
    "\n",
    "# 이진탐색 알고리즘\n",
    "start_time = time.time()\n",
    "t = binsearch('python', words_list)\n",
    "elapsed_time_2 = time.time() - start_time\n",
    "\n",
    "print(\"binsearch():\\t\", elapsed_time_2, '초')\n",
    "print(f\"이진탐색 알고리즘이 {int(elapsed_time_1/elapsed_time_2)}배 정도 빠르다.\")"
   ]
  },
  {
   "cell_type": "markdown",
   "metadata": {},
   "source": [
    "## 문제 4"
   ]
  },
  {
   "cell_type": "markdown",
   "metadata": {},
   "source": [
    "words.txt 파일의 내용을 사전 자료형으로 저장한 후에,\n",
    "생성된 사전에 특정 단어가 키로 사용되었는지 여부를 확인하는 함수를\n",
    "사전 자료형의 `in` 연산자 활용하여 구현하라.\n",
    "또한 앞서 리스트를 활용한 구현 방식과 비교하여 사전 자료형을 이용한 `in` 연산자의 실행속도가 \n",
    "얼마나 빠른지 확인하라.\n",
    "\n",
    "힌트: `words.txt` 파일에서 단어를 읽어 들인 후 각각의 단어를 키로 사용한다. \n",
    "모든 키의 값은 `True`로 정한다."
   ]
  },
  {
   "cell_type": "code",
   "execution_count": 18,
   "metadata": {},
   "outputs": [],
   "source": [
    "# pass와 None을 각각 적절한 명령문과 값으로 대체하라.\n",
    "\n",
    "def make_word_dict():\n",
    "    pass\n",
    "    return None"
   ]
  },
  {
   "cell_type": "markdown",
   "metadata": {},
   "source": [
    "### 견본답안"
   ]
  },
  {
   "cell_type": "markdown",
   "metadata": {},
   "source": [
    "먼저 `words_list`를 이용하여 사전을 생성한다.\n",
    "이때 키(key)는 각 단어이고 값은 무조건 `True`를 사용한다."
   ]
  },
  {
   "cell_type": "code",
   "execution_count": 19,
   "metadata": {},
   "outputs": [],
   "source": [
    "words_dict = dict()\n",
    "\n",
    "for word in words_list:\n",
    "    words_dict[word] = 'True'"
   ]
  },
  {
   "cell_type": "markdown",
   "metadata": {},
   "source": [
    "총 113,783개의 단어가 키로 사용되었음을 확인할 수 있다."
   ]
  },
  {
   "cell_type": "code",
   "execution_count": 20,
   "metadata": {},
   "outputs": [
    {
     "data": {
      "text/plain": [
       "113783"
      ]
     },
     "execution_count": 20,
     "metadata": {},
     "output_type": "execute_result"
    }
   ],
   "source": [
    "len(list(words_dict.keys()))"
   ]
  },
  {
   "cell_type": "markdown",
   "metadata": {},
   "source": [
    "사전의 `in` 연산자를 이용한 함수는 다음과 같다."
   ]
  },
  {
   "cell_type": "code",
   "execution_count": 21,
   "metadata": {},
   "outputs": [],
   "source": [
    "def dict_elem(x, xs):\n",
    "    contained = x in xs\n",
    "    # contained = x in xs.keys()   # keys() 메서드는 굳이 사용할 필요 없음\n",
    "    \n",
    "    return contained"
   ]
  },
  {
   "cell_type": "markdown",
   "metadata": {},
   "source": [
    "사전의 `in` 연산자가 이진탐색 알고리즘보다 좀 더 빠르다."
   ]
  },
  {
   "cell_type": "code",
   "execution_count": 22,
   "metadata": {},
   "outputs": [
    {
     "name": "stdout",
     "output_type": "stream",
     "text": [
      "list_elem():\t 0.0011649131774902344 초\n",
      "binsearch():\t 5.817413330078125e-05 초\n",
      "dict_elem():\t 5.078315734863281e-05 초\n"
     ]
    }
   ],
   "source": [
    "import time\n",
    "\n",
    "# 리스트 in 연산자\n",
    "start_time = time.time()\n",
    "t = list_elem('python', words_list)\n",
    "elapsed_time_1 = time.time() - start_time\n",
    "\n",
    "print(\"list_elem():\\t\", elapsed_time_1, '초')\n",
    "\n",
    "# 이진탐색 알고리즘\n",
    "start_time = time.time()\n",
    "t = binsearch('python', words_list)\n",
    "elapsed_time_2 = time.time() - start_time\n",
    "print(\"binsearch():\\t\", elapsed_time_2, '초')\n",
    "\n",
    "# 사전 in 연산자\n",
    "start_time = time.time()\n",
    "t = dict_elem('python', words_dict)\n",
    "elapsed_time_3 = time.time() - start_time\n",
    "print(\"dict_elem():\\t\", elapsed_time_3, '초')"
   ]
  }
 ],
 "metadata": {
  "kernelspec": {
   "display_name": "Python 3",
   "language": "python",
   "name": "python3"
  },
  "language_info": {
   "codemirror_mode": {
    "name": "ipython",
    "version": 3
   },
   "file_extension": ".py",
   "mimetype": "text/x-python",
   "name": "python",
   "nbconvert_exporter": "python",
   "pygments_lexer": "ipython3",
   "version": "3.8.5"
  }
 },
 "nbformat": 4,
 "nbformat_minor": 1
}
