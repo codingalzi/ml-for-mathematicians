{
 "cells": [
  {
   "cell_type": "markdown",
   "metadata": {},
   "source": [
    "# 파이썬 프로그래밍 실습 3"
   ]
  },
  {
   "cell_type": "markdown",
   "metadata": {
    "id": "cKVtIULygL5c"
   },
   "source": [
    "__문제 1.__ 아래 기준을 만족하는 `nested_sum()` 함수를 구현하라.\n",
    "\n",
    "* 리스트를 인자로 사용한다.\n",
    "* 리스트의 항목은 정수들의 리스트가 사용된다.\n",
    "* 리턴값은 리스트에 사용된 모든 정수들의 합니다."
   ]
  },
  {
   "cell_type": "markdown",
   "metadata": {
    "id": "cKVtIULygL5c"
   },
   "source": [
    "예제: \n",
    "\n",
    "```python\n",
    ">>> t = [[1, 2], [3], [4, 5, 6]]\n",
    ">>> nested_sum(t)\n",
    "21\n",
    "```"
   ]
  },
  {
   "cell_type": "code",
   "execution_count": 1,
   "metadata": {
    "colab": {
     "base_uri": "https://localhost:8080/"
    },
    "id": "wn8gtPLUf5IS",
    "outputId": "963fa457-bed3-47cb-972f-abe4b681c701"
   },
   "outputs": [],
   "source": [
    "t = [[1,2],[3],[4,5,6]]"
   ]
  },
  {
   "cell_type": "code",
   "execution_count": 2,
   "metadata": {
    "colab": {
     "base_uri": "https://localhost:8080/"
    },
    "id": "wn8gtPLUf5IS",
    "outputId": "963fa457-bed3-47cb-972f-abe4b681c701"
   },
   "outputs": [
    {
     "name": "stdout",
     "output_type": "stream",
     "text": [
      "list =  [1, 2, 3, 4, 5, 6]\n",
      "21\n"
     ]
    }
   ],
   "source": [
    "def nested_sum():\n",
    "    list = sum(t,[])\n",
    "    print(\"list = \",list)\n",
    "\n",
    "    total = sum(list)\n",
    "\n",
    "    return total\n",
    "\n",
    "print(nested_sum())"
   ]
  },
  {
   "cell_type": "code",
   "execution_count": 3,
   "metadata": {},
   "outputs": [
    {
     "name": "stdout",
     "output_type": "stream",
     "text": [
      "21\n"
     ]
    }
   ],
   "source": [
    "def nested_sum(x):\n",
    "    a=sum(map(sum,x))\n",
    "    return a\n",
    "\n",
    "print(nested_sum(t))"
   ]
  },
  {
   "cell_type": "code",
   "execution_count": 4,
   "metadata": {
    "colab": {
     "base_uri": "https://localhost:8080/"
    },
    "id": "wn8gtPLUf5IS",
    "outputId": "963fa457-bed3-47cb-972f-abe4b681c701"
   },
   "outputs": [],
   "source": [
    "t1 = [[1,2],[3],4,5,6]"
   ]
  },
  {
   "cell_type": "code",
   "execution_count": 5,
   "metadata": {},
   "outputs": [
    {
     "ename": "TypeError",
     "evalue": "'int' object is not iterable",
     "output_type": "error",
     "traceback": [
      "\u001b[0;31m---------------------------------------------------------------------------\u001b[0m",
      "\u001b[0;31mTypeError\u001b[0m                                 Traceback (most recent call last)",
      "\u001b[0;32m<ipython-input-5-c42fe8dbef66>\u001b[0m in \u001b[0;36m<module>\u001b[0;34m\u001b[0m\n\u001b[0;32m----> 1\u001b[0;31m \u001b[0mnested_sum\u001b[0m\u001b[0;34m(\u001b[0m\u001b[0mt1\u001b[0m\u001b[0;34m)\u001b[0m\u001b[0;34m\u001b[0m\u001b[0;34m\u001b[0m\u001b[0m\n\u001b[0m",
      "\u001b[0;32m<ipython-input-3-654c00c31012>\u001b[0m in \u001b[0;36mnested_sum\u001b[0;34m(x)\u001b[0m\n\u001b[1;32m      1\u001b[0m \u001b[0;32mdef\u001b[0m \u001b[0mnested_sum\u001b[0m\u001b[0;34m(\u001b[0m\u001b[0mx\u001b[0m\u001b[0;34m)\u001b[0m\u001b[0;34m:\u001b[0m\u001b[0;34m\u001b[0m\u001b[0;34m\u001b[0m\u001b[0m\n\u001b[0;32m----> 2\u001b[0;31m     \u001b[0ma\u001b[0m\u001b[0;34m=\u001b[0m\u001b[0msum\u001b[0m\u001b[0;34m(\u001b[0m\u001b[0mmap\u001b[0m\u001b[0;34m(\u001b[0m\u001b[0msum\u001b[0m\u001b[0;34m,\u001b[0m\u001b[0mx\u001b[0m\u001b[0;34m)\u001b[0m\u001b[0;34m)\u001b[0m\u001b[0;34m\u001b[0m\u001b[0;34m\u001b[0m\u001b[0m\n\u001b[0m\u001b[1;32m      3\u001b[0m     \u001b[0;32mreturn\u001b[0m \u001b[0ma\u001b[0m\u001b[0;34m\u001b[0m\u001b[0;34m\u001b[0m\u001b[0m\n\u001b[1;32m      4\u001b[0m \u001b[0;34m\u001b[0m\u001b[0m\n\u001b[1;32m      5\u001b[0m \u001b[0mprint\u001b[0m\u001b[0;34m(\u001b[0m\u001b[0mnested_sum\u001b[0m\u001b[0;34m(\u001b[0m\u001b[0mt\u001b[0m\u001b[0;34m)\u001b[0m\u001b[0;34m)\u001b[0m\u001b[0;34m\u001b[0m\u001b[0;34m\u001b[0m\u001b[0m\n",
      "\u001b[0;31mTypeError\u001b[0m: 'int' object is not iterable"
     ]
    }
   ],
   "source": [
    "nested_sum(t1)"
   ]
  },
  {
   "cell_type": "code",
   "execution_count": null,
   "metadata": {},
   "outputs": [],
   "source": [
    "isinstance(t1, list)"
   ]
  },
  {
   "cell_type": "code",
   "execution_count": null,
   "metadata": {},
   "outputs": [],
   "source": [
    "isinstance(4, Iterable)"
   ]
  },
  {
   "cell_type": "code",
   "execution_count": null,
   "metadata": {},
   "outputs": [],
   "source": [
    "from collections.abc import Iterable\n",
    "\n",
    "isinstance(t, Iterable)"
   ]
  },
  {
   "cell_type": "markdown",
   "metadata": {
    "id": "9pH5gpI8gTn2"
   },
   "source": [
    "__문제 2.__ 아래 기준을 만족하는 `cumsum()` 함수를 구현하라.\n",
    "\n",
    "* 정수들의 리스트를 인자로 사용한다.\n",
    "* 리턴값은 리스트에 사용된 정수들을 하나씩 누적해서 합한 값들의 리스트이다."
   ]
  },
  {
   "cell_type": "markdown",
   "metadata": {
    "id": "9pH5gpI8gTn2"
   },
   "source": [
    "예제:\n",
    "\n",
    "```python    \n",
    ">>> t = [1, 2, 3]\n",
    ">>> cumsum(t)\n",
    "[1, 3, 6]\n",
    "```"
   ]
  },
  {
   "cell_type": "code",
   "execution_count": null,
   "metadata": {
    "colab": {
     "base_uri": "https://localhost:8080/"
    },
    "id": "9eW_dRdmgbcm",
    "outputId": "bf5e499b-fde9-48dc-caef-c9d5f5705d01"
   },
   "outputs": [],
   "source": [
    "t = [1, 2, 3]"
   ]
  },
  {
   "cell_type": "code",
   "execution_count": null,
   "metadata": {
    "colab": {
     "base_uri": "https://localhost:8080/"
    },
    "id": "9eW_dRdmgbcm",
    "outputId": "bf5e499b-fde9-48dc-caef-c9d5f5705d01"
   },
   "outputs": [],
   "source": [
    "def cumsum():\n",
    "    list = []\n",
    "    i = 0\n",
    "    sum = 0\n",
    "\n",
    "    for i in range(3):\n",
    "        sum += t[i]\n",
    "        list.append(sum)\n",
    "    return list"
   ]
  },
  {
   "cell_type": "code",
   "execution_count": null,
   "metadata": {
    "colab": {
     "base_uri": "https://localhost:8080/"
    },
    "id": "9eW_dRdmgbcm",
    "outputId": "bf5e499b-fde9-48dc-caef-c9d5f5705d01"
   },
   "outputs": [],
   "source": [
    "print(cumsum())"
   ]
  },
  {
   "cell_type": "markdown",
   "metadata": {
    "id": "pIFiNme-gcEP"
   },
   "source": [
    "__문제 3.__ 아래 기준을 만족하는 `middle()` 함수를 구현하라.\n",
    "\n",
    "* 정수들의 리스트를 인자로 사용한다.\n",
    "* 리턴값은 리스트의 처음과 끝에 사용된 항목을 제거한 리스트이다."
   ]
  },
  {
   "cell_type": "markdown",
   "metadata": {
    "id": "pIFiNme-gcEP"
   },
   "source": [
    "예제:\n",
    "\n",
    "```python    \n",
    ">>> t = [1, 2, 3, 4]\n",
    ">>> middle(t)\n",
    "[2, 3]\n",
    "```"
   ]
  },
  {
   "cell_type": "code",
   "execution_count": null,
   "metadata": {
    "colab": {
     "base_uri": "https://localhost:8080/"
    },
    "id": "Y92PeqsxgjlI",
    "outputId": "04b6624d-736e-4915-b1b8-c62f78cdc75d"
   },
   "outputs": [],
   "source": [
    "t = [1, 2, 3, 4]"
   ]
  },
  {
   "cell_type": "code",
   "execution_count": null,
   "metadata": {
    "colab": {
     "base_uri": "https://localhost:8080/"
    },
    "id": "Y92PeqsxgjlI",
    "outputId": "04b6624d-736e-4915-b1b8-c62f78cdc75d"
   },
   "outputs": [],
   "source": [
    "def middle():\n",
    "    list = t[1:3]\n",
    "\n",
    "    return list"
   ]
  },
  {
   "cell_type": "code",
   "execution_count": null,
   "metadata": {
    "colab": {
     "base_uri": "https://localhost:8080/"
    },
    "id": "Y92PeqsxgjlI",
    "outputId": "04b6624d-736e-4915-b1b8-c62f78cdc75d"
   },
   "outputs": [],
   "source": [
    "print(middle())"
   ]
  },
  {
   "cell_type": "markdown",
   "metadata": {
    "id": "JKxPQvSBgkE8"
   },
   "source": [
    "__문제 4.__ 아래 기준을 만족하는 `chop()` 함수를 구현하라.\n",
    "\n",
    "* 정수들의 리스트를 인자로 사용한다.\n",
    "* 리스트의 처음과 끝에 사용된 항목을 제거한다.\n",
    "* 리턴값은 `None`이다."
   ]
  },
  {
   "cell_type": "markdown",
   "metadata": {
    "id": "JKxPQvSBgkE8"
   },
   "source": [
    "예제:\n",
    "\n",
    "```python    \n",
    ">>> t = [1, 2, 3, 4]\n",
    ">>> chop(t)\n",
    ">>> t\n",
    "[2, 3]\n",
    "```"
   ]
  },
  {
   "cell_type": "code",
   "execution_count": null,
   "metadata": {
    "colab": {
     "base_uri": "https://localhost:8080/"
    },
    "id": "UDIJF3kEgo2x",
    "outputId": "97bbdd92-04ba-4193-97b0-0180f09c9d7f"
   },
   "outputs": [],
   "source": [
    "t = [1, 2, 3, 4]"
   ]
  },
  {
   "cell_type": "code",
   "execution_count": null,
   "metadata": {
    "colab": {
     "base_uri": "https://localhost:8080/"
    },
    "id": "UDIJF3kEgo2x",
    "outputId": "97bbdd92-04ba-4193-97b0-0180f09c9d7f"
   },
   "outputs": [],
   "source": [
    "def chop():\n",
    "    del t[0]\n",
    "    del t[-1]\n",
    "    print(t,end=\" \")\n",
    "\n",
    "    return None"
   ]
  },
  {
   "cell_type": "code",
   "execution_count": null,
   "metadata": {
    "colab": {
     "base_uri": "https://localhost:8080/"
    },
    "id": "UDIJF3kEgo2x",
    "outputId": "97bbdd92-04ba-4193-97b0-0180f09c9d7f"
   },
   "outputs": [],
   "source": [
    "chop()"
   ]
  },
  {
   "cell_type": "markdown",
   "metadata": {
    "id": "AI0ykqLRguW6"
   },
   "source": [
    "__문제 5.__ 아래 기준을 만족하는 `is_sorted` 함수를 구현하라.\n",
    "\n",
    "* 리스트를 인자로 사용한다.\n",
    "* 입력된 리스트가 올림차순으로 정렬이 되어 있으면 `True`를\n",
    "    그렇치 않으면 `False`를 리턴한다."
   ]
  },
  {
   "cell_type": "markdown",
   "metadata": {
    "id": "AI0ykqLRguW6"
   },
   "source": [
    "예제:\n",
    "\n",
    "```python    \n",
    ">>> is_sorted([1, 2, 2])\n",
    "True\n",
    ">>> is_sorted(['b', 'a'])\n",
    "False\n",
    "```"
   ]
  },
  {
   "cell_type": "code",
   "execution_count": null,
   "metadata": {
    "colab": {
     "base_uri": "https://localhost:8080/"
    },
    "id": "DU9qNGTFgw1E",
    "outputId": "aa867a27-3c5a-4a0a-8a0e-f30ef97ac17e"
   },
   "outputs": [],
   "source": [
    "def is_sorted(list):\n",
    "    if sorted(list) == list:\n",
    "        print(\"True\")\n",
    "    else:\n",
    "        print(\"False\")"
   ]
  },
  {
   "cell_type": "code",
   "execution_count": null,
   "metadata": {
    "colab": {
     "base_uri": "https://localhost:8080/"
    },
    "id": "DU9qNGTFgw1E",
    "outputId": "aa867a27-3c5a-4a0a-8a0e-f30ef97ac17e"
   },
   "outputs": [],
   "source": [
    "is_sorted([1,2,3])\n",
    "is_sorted([3,1,2])\n",
    "is_sorted(['a','b','c'])\n",
    "is_sorted(['b','c','a'])"
   ]
  },
  {
   "cell_type": "markdown",
   "metadata": {
    "id": "P-U-gdZSgxLS"
   },
   "source": [
    "__문제 6.__ 아래 기준을 만족하는 `is_anagram` 함수를 구현하라.\n",
    "\n",
    "* 두 개의 문자열을 입력받는다.\n",
    "* 두 문자열이 서로 애너그램의 관계이면 `True`를\n",
    "    그렇지 않으면 `False`를 리턴한다.\n",
    "\n",
    "주의: 애너그램의 관계는 동일한 문자를 동일한 개수만큼 사용한 관계이다.<br>"
   ]
  },
  {
   "cell_type": "markdown",
   "metadata": {
    "id": "P-U-gdZSgxLS"
   },
   "source": [
    "예제:\n",
    "\n",
    "```python    \n",
    ">>> is_anagram('hello', 'eollh')\n",
    "True\n",
    ">>> is_anagram('hello', 'eoLLh')\n",
    "False\n",
    "```"
   ]
  },
  {
   "cell_type": "code",
   "execution_count": null,
   "metadata": {
    "colab": {
     "base_uri": "https://localhost:8080/"
    },
    "id": "AoYN5Sx8g1KM",
    "outputId": "c9f5eb07-afa7-4a33-dbef-e66ba015cf52"
   },
   "outputs": [],
   "source": [
    "def is_anagram(a,b):\n",
    "    if len(a)==len(b):\n",
    "        if sorted(a) == sorted(b):\n",
    "            print(\"True\")\n",
    "        else:\n",
    "            print(\"False\")\n",
    "    else:\n",
    "        print(\"False\")"
   ]
  },
  {
   "cell_type": "code",
   "execution_count": null,
   "metadata": {
    "colab": {
     "base_uri": "https://localhost:8080/"
    },
    "id": "AoYN5Sx8g1KM",
    "outputId": "c9f5eb07-afa7-4a33-dbef-e66ba015cf52"
   },
   "outputs": [],
   "source": [
    "is_anagram(\"hello\",\"ohell\")\n",
    "is_anagram(\"hello\",\"hallo\")\n",
    "is_anagram(\"hello\",\"hellou\")"
   ]
  },
  {
   "cell_type": "markdown",
   "metadata": {
    "id": "qfGWT2zBg1ex"
   },
   "source": [
    "`continue`, `break`, `pass` 세 계의 특별한 명령문의 이해를 도와주는 문제를 다룬다."
   ]
  },
  {
   "cell_type": "markdown",
   "metadata": {
    "id": "qfGWT2zBg1ex"
   },
   "source": [
    "__문제 7.__ 아래 `for` 반복문을 완성하라. \n",
    "\n",
    "```python\n",
    "for n in range(2,10):\n",
    "    for x in range(2, n):\n",
    "        # 코드를 완성하세요\n",
    "        pass\n",
    "    else:\n",
    "        # 코드를 완성하세요.\n",
    "        pass\n",
    "```\n",
    "\n",
    "실행결과는 다음과 같아야 한다.\n",
    "\n",
    "```\n",
    "2은 소수다.\n",
    "3은 소수다.\n",
    "4 = 2*2\n",
    "5은 소수다.\n",
    "6 = 2*3\n",
    "7은 소수다.\n",
    "8 = 2*4\n",
    "9 = 3*3\n",
    "```\n",
    "\n",
    "힌트:\n",
    "\n",
    "* `for` 반복문과 함께 사용되는 `else`의 역할에 주목할 것.\n",
    "    * `break` 활용"
   ]
  },
  {
   "cell_type": "markdown",
   "metadata": {
    "id": "liMqCSTdg8F3"
   },
   "source": [
    "__문제 8.__ 아래 `for` 반복문을 완성하라. \n",
    "\n",
    "```python\n",
    "for n in range(2,10):\n",
    "    # 코드를 완성하세요\n",
    "    pass\n",
    "```\n",
    "\n",
    "실행결과는 다음과 같아야 한다.\n",
    "\n",
    "```\n",
    "짝수 2을(를) 찾았다.\n",
    "3을(를) 찾았다.\n",
    "짝수 4을(를) 찾았다.\n",
    "5을(를) 찾았다.\n",
    "짝수 6을(를) 찾았다.\n",
    "7을(를) 찾았다.\n",
    "짝수 8을(를) 찾았다.\n",
    "9을(를) 찾았다.\n",
    "```\n",
    "\n",
    "힌트:\n",
    "\n",
    "* `if` 조건문과 `continue` 명령문 활용"
   ]
  },
  {
   "cell_type": "markdown",
   "metadata": {
    "id": "kbEq96MKhDZS"
   },
   "source": [
    "__문제 9.__ 아래 `for` 반복문을(를) 완성하라. \n",
    "\n",
    "```python\n",
    "for n in range(2,10):\n",
    "    # 코드를 완성하세요\n",
    "    pass\n",
    "```\n",
    "\n",
    "실행결과는 다음과 같아야 한다.\n",
    "\n",
    "```\n",
    "짝수 2을(를) 찾았다.\n",
    "2을(를) 찾았다.\n",
    "3을(를) 찾았다.\n",
    "짝수 4을(를) 찾았다.\n",
    "4을(를) 찾았다.\n",
    "5을(를) 찾았다.\n",
    "짝수 6을(를) 찾았다.\n",
    "6을(를) 찾았다.\n",
    "7을(를) 찾았다.\n",
    "짝수 8을(를) 찾았다.\n",
    "8을(를) 찾았다.\n",
    "9을(를) 찾았다.\n",
    "```\n",
    "\n",
    "힌트:\n",
    "\n",
    "* `if` 조건문과 `pass` 명령문 활용"
   ]
  }
 ],
 "metadata": {
  "colab": {
   "collapsed_sections": [],
   "name": "practice03.ipynb",
   "provenance": []
  },
  "kernelspec": {
   "display_name": "Python 3",
   "language": "python",
   "name": "python3"
  },
  "language_info": {
   "codemirror_mode": {
    "name": "ipython",
    "version": 3
   },
   "file_extension": ".py",
   "mimetype": "text/x-python",
   "name": "python",
   "nbconvert_exporter": "python",
   "pygments_lexer": "ipython3",
   "version": "3.7.10"
  }
 },
 "nbformat": 4,
 "nbformat_minor": 1
}
