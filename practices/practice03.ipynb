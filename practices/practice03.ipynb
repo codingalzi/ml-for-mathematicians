{
 "cells": [
  {
   "cell_type": "markdown",
   "metadata": {},
   "source": [
    "# 파이썬 프로그래밍 실습 3"
   ]
  },
  {
   "cell_type": "markdown",
   "metadata": {
    "id": "cKVtIULygL5c"
   },
   "source": [
    "## 문제 1\n",
    "\n",
    "아래 기준을 만족하는 `nested_sum()` 함수를 구현하라.\n",
    "\n",
    "* 리스트를 인자로 사용한다.\n",
    "* 리스트의 항목은 정수들의 리스트가 사용된다.\n",
    "* 리턴값은 리스트에 사용된 모든 정수들의 합니다.\n",
    "\n",
    "예제: \n",
    "\n",
    "```python\n",
    ">>> t = [[1, 2], [3], [4, 5, 6]]\n",
    ">>> nested_sum(t)\n",
    "21\n",
    "```"
   ]
  },
  {
   "cell_type": "markdown",
   "metadata": {},
   "source": [
    "### 견본답안"
   ]
  },
  {
   "cell_type": "markdown",
   "metadata": {},
   "source": [
    "- 단계 1: 먼저 항목으로 사용된 리스트들의 합(`sum()`)을 계산한다.\n",
    "    단, 합의 출발점 옵션인자를 공리스트(`[]`)로 지정해야 한다.\n",
    "    그러면 모든 항목 리스트들을 합쳐서 모은 1차원 리스트가 생성된다.\n",
    "- 단계 2: 이후에 다시 `sum()` 함수를 실행하면 숫자들의 합이 계산된다."
   ]
  },
  {
   "cell_type": "code",
   "execution_count": 1,
   "metadata": {
    "colab": {
     "base_uri": "https://localhost:8080/"
    },
    "id": "wn8gtPLUf5IS",
    "outputId": "963fa457-bed3-47cb-972f-abe4b681c701"
   },
   "outputs": [],
   "source": [
    "def nested_sum(t):\n",
    "    list = sum(t,[])\n",
    "    total = sum(list)\n",
    "\n",
    "    return total"
   ]
  },
  {
   "cell_type": "code",
   "execution_count": 2,
   "metadata": {
    "colab": {
     "base_uri": "https://localhost:8080/"
    },
    "id": "wn8gtPLUf5IS",
    "outputId": "963fa457-bed3-47cb-972f-abe4b681c701"
   },
   "outputs": [],
   "source": [
    "t = [[1, 2], [3], [4, 5, 6]]"
   ]
  },
  {
   "cell_type": "code",
   "execution_count": 3,
   "metadata": {
    "colab": {
     "base_uri": "https://localhost:8080/"
    },
    "id": "wn8gtPLUf5IS",
    "outputId": "963fa457-bed3-47cb-972f-abe4b681c701"
   },
   "outputs": [],
   "source": [
    "nested_sum(t)"
   ]
  },
  {
   "cell_type": "markdown",
   "metadata": {},
   "source": [
    "하지만 위 함수는 2차원 리스트에 대해서만 작동하며,\n",
    "예를 들어 아래와 같은 인자가 들어오면 오류를 발생시킨다."
   ]
  },
  {
   "cell_type": "code",
   "execution_count": 4,
   "metadata": {},
   "outputs": [],
   "source": [
    "t1 = [[1, 2], [3], 4, 5, 6]"
   ]
  },
  {
   "cell_type": "code",
   "execution_count": 5,
   "metadata": {
    "colab": {
     "base_uri": "https://localhost:8080/"
    },
    "id": "wn8gtPLUf5IS",
    "outputId": "963fa457-bed3-47cb-972f-abe4b681c701"
   },
   "outputs": [
    {
     "ename": "TypeError",
     "evalue": "can only concatenate list (not \"int\") to list",
     "output_type": "error",
     "traceback": [
      "\u001b[0;31m---------------------------------------------------------------------------\u001b[0m",
      "\u001b[0;31mTypeError\u001b[0m                                 Traceback (most recent call last)",
      "\u001b[0;32m<ipython-input-5-c42fe8dbef66>\u001b[0m in \u001b[0;36m<module>\u001b[0;34m\u001b[0m\n\u001b[0;32m----> 1\u001b[0;31m \u001b[0mnested_sum\u001b[0m\u001b[0;34m(\u001b[0m\u001b[0mt1\u001b[0m\u001b[0;34m)\u001b[0m\u001b[0;34m\u001b[0m\u001b[0;34m\u001b[0m\u001b[0m\n\u001b[0m",
      "\u001b[0;32m<ipython-input-1-7c24fc227866>\u001b[0m in \u001b[0;36mnested_sum\u001b[0;34m(t)\u001b[0m\n\u001b[1;32m      1\u001b[0m \u001b[0;32mdef\u001b[0m \u001b[0mnested_sum\u001b[0m\u001b[0;34m(\u001b[0m\u001b[0mt\u001b[0m\u001b[0;34m)\u001b[0m\u001b[0;34m:\u001b[0m\u001b[0;34m\u001b[0m\u001b[0;34m\u001b[0m\u001b[0m\n\u001b[0;32m----> 2\u001b[0;31m     \u001b[0mlist\u001b[0m \u001b[0;34m=\u001b[0m \u001b[0msum\u001b[0m\u001b[0;34m(\u001b[0m\u001b[0mt\u001b[0m\u001b[0;34m,\u001b[0m\u001b[0;34m[\u001b[0m\u001b[0;34m]\u001b[0m\u001b[0;34m)\u001b[0m\u001b[0;34m\u001b[0m\u001b[0;34m\u001b[0m\u001b[0m\n\u001b[0m\u001b[1;32m      3\u001b[0m     \u001b[0mtotal\u001b[0m \u001b[0;34m=\u001b[0m \u001b[0msum\u001b[0m\u001b[0;34m(\u001b[0m\u001b[0mlist\u001b[0m\u001b[0;34m)\u001b[0m\u001b[0;34m\u001b[0m\u001b[0;34m\u001b[0m\u001b[0m\n\u001b[1;32m      4\u001b[0m \u001b[0;34m\u001b[0m\u001b[0m\n\u001b[1;32m      5\u001b[0m     \u001b[0;32mreturn\u001b[0m \u001b[0mtotal\u001b[0m\u001b[0;34m\u001b[0m\u001b[0;34m\u001b[0m\u001b[0m\n",
      "\u001b[0;31mTypeError\u001b[0m: can only concatenate list (not \"int\") to list"
     ]
    }
   ],
   "source": [
    "nested_sum(t1)"
   ]
  },
  {
   "cell_type": "markdown",
   "metadata": {},
   "source": [
    "이유는 `t1`에 리스트가 아닌 항목이 포함되어서 다른 리스트 항목과의 덧셈 연산이 지원되지 않기 때문이다.\n",
    "이 문제를 해결하려면 리스트의 항목의 자료형을 확인해서 리스인 경우와 그렇지 않은 경우를 구분해서 처리해야 한다. \n",
    "\n",
    "어떤 값이 리스트인지 여부를 확인하는 간단한 방법은 다음과 같다."
   ]
  },
  {
   "cell_type": "code",
   "execution_count": 6,
   "metadata": {},
   "outputs": [
    {
     "data": {
      "text/plain": [
       "True"
      ]
     },
     "execution_count": 6,
     "metadata": {},
     "output_type": "execute_result"
    }
   ],
   "source": [
    "isinstance(t, list)"
   ]
  },
  {
   "cell_type": "code",
   "execution_count": 7,
   "metadata": {},
   "outputs": [
    {
     "data": {
      "text/plain": [
       "True"
      ]
     },
     "execution_count": 7,
     "metadata": {},
     "output_type": "execute_result"
    }
   ],
   "source": [
    "isinstance(t1, list)"
   ]
  },
  {
   "cell_type": "code",
   "execution_count": 8,
   "metadata": {},
   "outputs": [
    {
     "data": {
      "text/plain": [
       "False"
      ]
     },
     "execution_count": 8,
     "metadata": {},
     "output_type": "execute_result"
    }
   ],
   "source": [
    "isinstance(3, list)"
   ]
  },
  {
   "cell_type": "markdown",
   "metadata": {},
   "source": [
    "`isinstance()` 함수를 활용하여 `nested_sum()` 함수를 재정의하면 다음과 같다.\n",
    "\n",
    "- 항목이 리스트인 경우: 이어붙이기 연산(`+`) 실행\n",
    "- 항목이 숫자인 경우: 항목 추가 연산(`append()` 메서드) 실행"
   ]
  },
  {
   "cell_type": "code",
   "execution_count": 9,
   "metadata": {},
   "outputs": [],
   "source": [
    "def nested_sum(t):\n",
    "    t_ = []\n",
    "    \n",
    "    for x in t:\n",
    "        if isinstance(x, list):\n",
    "            t_ += x\n",
    "        else:\n",
    "            t_.append(x)\n",
    "\n",
    "    return sum(t_)"
   ]
  },
  {
   "cell_type": "markdown",
   "metadata": {},
   "source": [
    "이제 모든 종류의 2차원 리스트에 대해 잘 작동한다."
   ]
  },
  {
   "cell_type": "code",
   "execution_count": 10,
   "metadata": {},
   "outputs": [
    {
     "data": {
      "text/plain": [
       "21"
      ]
     },
     "execution_count": 10,
     "metadata": {},
     "output_type": "execute_result"
    }
   ],
   "source": [
    "nested_sum(t1)"
   ]
  },
  {
   "cell_type": "code",
   "execution_count": 11,
   "metadata": {},
   "outputs": [
    {
     "data": {
      "text/plain": [
       "21"
      ]
     },
     "execution_count": 11,
     "metadata": {},
     "output_type": "execute_result"
    }
   ],
   "source": [
    "nested_sum(t)"
   ]
  },
  {
   "cell_type": "markdown",
   "metadata": {
    "id": "9pH5gpI8gTn2"
   },
   "source": [
    "## 문제 2\n",
    "\n",
    "아래 기준을 만족하는 `cumsum()` 함수를 구현하라.\n",
    "\n",
    "* 정수들의 리스트를 인자로 사용한다.\n",
    "* 리턴값은 리스트에 사용된 정수들을 하나씩 누적해서 합한 값들의 리스트이다.\n",
    "\n",
    "예제:\n",
    "\n",
    "```python    \n",
    ">>> t = [1, 2, 3]\n",
    ">>> cumsum(t)\n",
    "[1, 3, 6]\n",
    "```"
   ]
  },
  {
   "cell_type": "markdown",
   "metadata": {},
   "source": [
    "### 견본답안"
   ]
  },
  {
   "cell_type": "markdown",
   "metadata": {},
   "source": [
    "- 단계 1: 입력 리스트를 인덱스별로 부분합을 계산한다. \n",
    "    이를 위해 슬라이싱과 `sum()` 함수를 이용한다.\n",
    "- 단계 2: 부분합을 이용하여 새로운 리스트를 생성한다."
   ]
  },
  {
   "cell_type": "code",
   "execution_count": 12,
   "metadata": {
    "colab": {
     "base_uri": "https://localhost:8080/"
    },
    "id": "9eW_dRdmgbcm",
    "outputId": "bf5e499b-fde9-48dc-caef-c9d5f5705d01"
   },
   "outputs": [],
   "source": [
    "def cumsum(t):\n",
    "    aList = []\n",
    "   \n",
    "    for i in range(len(t)):\n",
    "        item = sum(t[:i+1])\n",
    "        aList.append(item)\n",
    "        \n",
    "    return aList"
   ]
  },
  {
   "cell_type": "code",
   "execution_count": 13,
   "metadata": {
    "colab": {
     "base_uri": "https://localhost:8080/"
    },
    "id": "9eW_dRdmgbcm",
    "outputId": "bf5e499b-fde9-48dc-caef-c9d5f5705d01"
   },
   "outputs": [],
   "source": [
    "t = [1, 2, 3]"
   ]
  },
  {
   "cell_type": "code",
   "execution_count": 14,
   "metadata": {
    "colab": {
     "base_uri": "https://localhost:8080/"
    },
    "id": "9eW_dRdmgbcm",
    "outputId": "bf5e499b-fde9-48dc-caef-c9d5f5705d01"
   },
   "outputs": [
    {
     "name": "stdout",
     "output_type": "stream",
     "text": [
      "[1, 3, 6]\n"
     ]
    }
   ],
   "source": [
    "print(cumsum(t))"
   ]
  },
  {
   "cell_type": "markdown",
   "metadata": {
    "id": "pIFiNme-gcEP"
   },
   "source": [
    "## 문제 3\n",
    "\n",
    "아래 기준을 만족하는 `middle()` 함수를 구현하라.\n",
    "\n",
    "* 정수들의 리스트를 인자로 사용한다.\n",
    "* 리턴값은 리스트의 처음과 끝에 사용된 항목을 제거한 리스트이다.\n",
    "\n",
    "예제:\n",
    "\n",
    "```python    \n",
    ">>> t = [1, 2, 3, 4]\n",
    ">>> middle(t)\n",
    "[2, 3]\n",
    "```"
   ]
  },
  {
   "cell_type": "markdown",
   "metadata": {},
   "source": [
    "### 견본답안"
   ]
  },
  {
   "cell_type": "markdown",
   "metadata": {},
   "source": [
    "- 인덱스 1부터 끝에서 둘째 인덱스까지를 대상으로 슬라이싱을 실행한 결과를 반환한다.\n",
    "- __주의사항:__ 리스트 `t`의 마지막 항목의 인덱스는 `len(t)-1` 이다."
   ]
  },
  {
   "cell_type": "code",
   "execution_count": 15,
   "metadata": {
    "colab": {
     "base_uri": "https://localhost:8080/"
    },
    "id": "Y92PeqsxgjlI",
    "outputId": "04b6624d-736e-4915-b1b8-c62f78cdc75d"
   },
   "outputs": [],
   "source": [
    "def middle(t):\n",
    "    aList = t[1:len(t)-1]\n",
    "\n",
    "    return aList"
   ]
  },
  {
   "cell_type": "code",
   "execution_count": 16,
   "metadata": {
    "colab": {
     "base_uri": "https://localhost:8080/"
    },
    "id": "Y92PeqsxgjlI",
    "outputId": "04b6624d-736e-4915-b1b8-c62f78cdc75d"
   },
   "outputs": [],
   "source": [
    "t = [1, 2, 3, 4, 5]"
   ]
  },
  {
   "cell_type": "code",
   "execution_count": 17,
   "metadata": {
    "colab": {
     "base_uri": "https://localhost:8080/"
    },
    "id": "Y92PeqsxgjlI",
    "outputId": "04b6624d-736e-4915-b1b8-c62f78cdc75d"
   },
   "outputs": [
    {
     "data": {
      "text/plain": [
       "[2, 3, 4]"
      ]
     },
     "execution_count": 17,
     "metadata": {},
     "output_type": "execute_result"
    }
   ],
   "source": [
    "middle(t)"
   ]
  },
  {
   "cell_type": "markdown",
   "metadata": {
    "id": "AI0ykqLRguW6"
   },
   "source": [
    "## 문제 4\n",
    "\n",
    "아래 기준을 만족하는 `is_sorted()` 함수를 구현하라.\n",
    "\n",
    "* 리스트를 인자로 사용한다.\n",
    "* 입력된 리스트가 올림차순으로 정렬이 되어 있으면 `True`를\n",
    "    그렇치 않으면 `False`를 리턴한다.\n",
    "\n",
    "예제:\n",
    "\n",
    "```python    \n",
    ">>> is_sorted([1, 2, 2])\n",
    "True\n",
    ">>> is_sorted(['b', 'a'])\n",
    "False\n",
    "```"
   ]
  },
  {
   "cell_type": "markdown",
   "metadata": {},
   "source": [
    "### 견본답안"
   ]
  },
  {
   "cell_type": "markdown",
   "metadata": {},
   "source": [
    "- 입력된 리스트를 정렬한 후에 이전과 동일한지 여부를 판단한다.\n",
    "- __참고:__ `sorted()` 함수는 리스트가 인자로 들어오면 정렬된 리스트를 반환한다."
   ]
  },
  {
   "cell_type": "code",
   "execution_count": 18,
   "metadata": {
    "colab": {
     "base_uri": "https://localhost:8080/"
    },
    "id": "DU9qNGTFgw1E",
    "outputId": "aa867a27-3c5a-4a0a-8a0e-f30ef97ac17e"
   },
   "outputs": [],
   "source": [
    "def is_sorted(t):\n",
    "    if sorted(t) == t:\n",
    "        print(\"True\")\n",
    "    else:\n",
    "        print(\"False\")"
   ]
  },
  {
   "cell_type": "code",
   "execution_count": 19,
   "metadata": {
    "colab": {
     "base_uri": "https://localhost:8080/"
    },
    "id": "DU9qNGTFgw1E",
    "outputId": "aa867a27-3c5a-4a0a-8a0e-f30ef97ac17e"
   },
   "outputs": [
    {
     "name": "stdout",
     "output_type": "stream",
     "text": [
      "True\n"
     ]
    }
   ],
   "source": [
    "is_sorted([1,2,2])"
   ]
  },
  {
   "cell_type": "code",
   "execution_count": 20,
   "metadata": {
    "colab": {
     "base_uri": "https://localhost:8080/"
    },
    "id": "DU9qNGTFgw1E",
    "outputId": "aa867a27-3c5a-4a0a-8a0e-f30ef97ac17e"
   },
   "outputs": [
    {
     "name": "stdout",
     "output_type": "stream",
     "text": [
      "False\n"
     ]
    }
   ],
   "source": [
    "is_sorted([3,1,2])"
   ]
  },
  {
   "cell_type": "code",
   "execution_count": 21,
   "metadata": {
    "colab": {
     "base_uri": "https://localhost:8080/"
    },
    "id": "DU9qNGTFgw1E",
    "outputId": "aa867a27-3c5a-4a0a-8a0e-f30ef97ac17e"
   },
   "outputs": [
    {
     "name": "stdout",
     "output_type": "stream",
     "text": [
      "False\n"
     ]
    }
   ],
   "source": [
    "is_sorted(['b','a'])"
   ]
  },
  {
   "cell_type": "markdown",
   "metadata": {
    "id": "P-U-gdZSgxLS"
   },
   "source": [
    "## 문제 5\n",
    "\n",
    "아래 기준을 만족하는 `is_anagram` 함수를 구현하라.\n",
    "\n",
    "* 두 개의 문자열을 입력받는다.\n",
    "* 두 문자열이 서로 애너그램의 관계이면 `True`를\n",
    "    그렇지 않으면 `False`를 리턴한다.\n",
    "\n",
    "주의: 애너그램의 관계는 동일한 문자를 동일한 개수만큼 사용한 관계이다.<br>\n",
    "\n",
    "예제:\n",
    "\n",
    "```python    \n",
    ">>> is_anagram('hello', 'eollh')\n",
    "True\n",
    ">>> is_anagram('hello', 'eoLLh')\n",
    "False\n",
    "```"
   ]
  },
  {
   "cell_type": "markdown",
   "metadata": {},
   "source": [
    "### 견본답안"
   ]
  },
  {
   "cell_type": "markdown",
   "metadata": {},
   "source": [
    "- 입력된 두 문자열을 대상으로 정렬된 두 문자열을 생성한 결과가 동일한지 여부를 판단한다.\n",
    "- __참고:__ `sorted()` 함수는 문자열이 인자로 들어오면 문자들을 정렬시킨 새로운 문자열을 반환한다."
   ]
  },
  {
   "cell_type": "code",
   "execution_count": 22,
   "metadata": {
    "colab": {
     "base_uri": "https://localhost:8080/"
    },
    "id": "AoYN5Sx8g1KM",
    "outputId": "c9f5eb07-afa7-4a33-dbef-e66ba015cf52"
   },
   "outputs": [],
   "source": [
    "def is_anagram(a,b):\n",
    "    if sorted(a) == sorted(b):\n",
    "        print(\"True\")\n",
    "    else:\n",
    "        print(\"False\")"
   ]
  },
  {
   "cell_type": "code",
   "execution_count": 23,
   "metadata": {
    "colab": {
     "base_uri": "https://localhost:8080/"
    },
    "id": "AoYN5Sx8g1KM",
    "outputId": "c9f5eb07-afa7-4a33-dbef-e66ba015cf52"
   },
   "outputs": [
    {
     "name": "stdout",
     "output_type": "stream",
     "text": [
      "True\n"
     ]
    }
   ],
   "source": [
    "is_anagram(\"hello\",\"eollh\")"
   ]
  },
  {
   "cell_type": "code",
   "execution_count": 24,
   "metadata": {
    "colab": {
     "base_uri": "https://localhost:8080/"
    },
    "id": "AoYN5Sx8g1KM",
    "outputId": "c9f5eb07-afa7-4a33-dbef-e66ba015cf52"
   },
   "outputs": [
    {
     "name": "stdout",
     "output_type": "stream",
     "text": [
      "False\n"
     ]
    }
   ],
   "source": [
    "is_anagram(\"hello\",\"eoLLh\")"
   ]
  },
  {
   "cell_type": "markdown",
   "metadata": {
    "id": "qfGWT2zBg1ex"
   },
   "source": [
    "아래 세 문제는 각각 `break`, `continue`, `pass` 명령문의 이해를 도와준다."
   ]
  },
  {
   "cell_type": "markdown",
   "metadata": {
    "id": "qfGWT2zBg1ex"
   },
   "source": [
    "## 문제 6\n",
    "\n",
    "아래 `for` 반복문을 완성하여 실행결과가 \n",
    "다음과 같이 나오도록 하라.\n",
    "\n",
    "```\n",
    "2은 소수다.\n",
    "3은 소수다.\n",
    "4 = 2*2\n",
    "5은 소수다.\n",
    "6 = 2*3\n",
    "7은 소수다.\n",
    "8 = 2*4\n",
    "9 = 3*3\n",
    "```\n",
    "\n",
    "__힌트:__\n",
    "* `break`의 역할을 \n",
    "* `for` 반복문과 함께 사용되는 `else`의 역할에 주목할 것."
   ]
  },
  {
   "cell_type": "code",
   "execution_count": 25,
   "metadata": {},
   "outputs": [],
   "source": [
    "# 생략기호(...)를 삭제하고 적절한 코드를 입력하세요.\n",
    "\n",
    "for n in range(2,10):\n",
    "    for x in range(2, n):\n",
    "        ...\n",
    "    else:\n",
    "        ..."
   ]
  },
  {
   "cell_type": "markdown",
   "metadata": {},
   "source": [
    "### 견본답안"
   ]
  },
  {
   "cell_type": "markdown",
   "metadata": {},
   "source": [
    "- 2부터 9까지의 자연수를 대상으로 소수 여부를 판단한다.\n",
    "- 해당 수가 소수이면 소수임을 명시하고, 그렇지 않으면 가장 먼저 보다 작은 수들의 곱으로 표현한다.\n",
    "    여기서는 가장 먼저 발견되는 작은 수들의 곱을 사용한다.\n",
    "- 소수 여부 판단은 해당 수보다 작은 값들에 의해 나누어지는가를 확인하는 방식을 사용한다.\n",
    "    - 보다 작은 수에 의해 나누어지지 않으면 소수라고 판정한다.\n",
    "    - 어떤 작은 수에 의해 나주어지면 더 이상 확인하지 않고 바로 작은 수들의 곱으로 표현한다.\n",
    "        이 부분에서 `break` 명령문이 필요하다.\n",
    "- `for` 반복문과 함께 사용되는 `else` 문은 `for` 반복문을 실행할 때 `break` 등이 실행되지 않을 경우에만 \n",
    "    실행된다."
   ]
  },
  {
   "cell_type": "code",
   "execution_count": 26,
   "metadata": {},
   "outputs": [
    {
     "name": "stdout",
     "output_type": "stream",
     "text": [
      "2은 소수다.\n",
      "3은 소수다.\n",
      "4 = 2*2\n",
      "5은 소수다.\n",
      "6 = 2*3\n",
      "7은 소수다.\n",
      "8 = 2*4\n",
      "9 = 3*3\n"
     ]
    }
   ],
   "source": [
    "for n in range(2, 10):\n",
    "    for x in range(2, n):               # 보다 작은 수들로 나누어지는 여부 판단\n",
    "        if n % x == 0:                  # 나누어지는 경우 break 작동\n",
    "            print(f\"{n} = {x}*{n//x}\")\n",
    "            break\n",
    "    else:                               # 보다 작은 수로 나누어지지 않는 경우\n",
    "        print(f\"{n}은 소수다.\")"
   ]
  },
  {
   "cell_type": "markdown",
   "metadata": {
    "id": "liMqCSTdg8F3"
   },
   "source": [
    "## 문제 7\n",
    "\n",
    "아래 `for` 반복문을 완성하여 실행결과가 \n",
    "다음과 같이 나오도록 하라.\n",
    "\n",
    "```\n",
    "짝수 2을(를) 찾았다.\n",
    "3을(를) 찾았다.\n",
    "짝수 4을(를) 찾았다.\n",
    "5을(를) 찾았다.\n",
    "짝수 6을(를) 찾았다.\n",
    "7을(를) 찾았다.\n",
    "짝수 8을(를) 찾았다.\n",
    "9을(를) 찾았다.\n",
    "```\n",
    "\n",
    "__힌트:__\n",
    "\n",
    "* `if` 조건문과 `continue` 명령문 활용"
   ]
  },
  {
   "cell_type": "code",
   "execution_count": 27,
   "metadata": {},
   "outputs": [],
   "source": [
    "# 생략기호(...)를 삭제하고 적절한 코드를 입력하세요.\n",
    "\n",
    "for n in range(2,10):\n",
    "    ..."
   ]
  },
  {
   "cell_type": "markdown",
   "metadata": {
    "id": "kbEq96MKhDZS"
   },
   "source": [
    "## 문제 8\n",
    "\n",
    "아래 `for` 반복문을 완성하여 실행결과가 \n",
    "다음과 같이 나오도록 하라.\n",
    "\n",
    "```\n",
    "짝수 2을(를) 찾았다.\n",
    "2을(를) 찾았다.\n",
    "3을(를) 찾았다.\n",
    "짝수 4을(를) 찾았다.\n",
    "4을(를) 찾았다.\n",
    "5을(를) 찾았다.\n",
    "짝수 6을(를) 찾았다.\n",
    "6을(를) 찾았다.\n",
    "7을(를) 찾았다.\n",
    "짝수 8을(를) 찾았다.\n",
    "8을(를) 찾았다.\n",
    "9을(를) 찾았다.\n",
    "```\n",
    "\n",
    "__힌트:__\n",
    "\n",
    "* `if` 조건문과 `pass` 명령문 활용"
   ]
  },
  {
   "cell_type": "code",
   "execution_count": 28,
   "metadata": {},
   "outputs": [],
   "source": [
    "# 생략기호(...)를 삭제하고 적절한 코드를 입력하세요.\n",
    "\n",
    "for n in range(2,10):\n",
    "    ..."
   ]
  }
 ],
 "metadata": {
  "colab": {
   "collapsed_sections": [],
   "name": "practice03.ipynb",
   "provenance": []
  },
  "kernelspec": {
   "display_name": "Python 3",
   "language": "python",
   "name": "python3"
  },
  "language_info": {
   "codemirror_mode": {
    "name": "ipython",
    "version": 3
   },
   "file_extension": ".py",
   "mimetype": "text/x-python",
   "name": "python",
   "nbconvert_exporter": "python",
   "pygments_lexer": "ipython3",
   "version": "3.8.5"
  }
 },
 "nbformat": 4,
 "nbformat_minor": 1
}
