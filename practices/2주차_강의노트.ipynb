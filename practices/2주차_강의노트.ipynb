{
 "cells": [
  {
   "cell_type": "markdown",
   "metadata": {
    "id": "f8y5VrL0Vt_V"
   },
   "source": [
    "# 1. 변수 선언 및 활용\n",
    "\n",
    "컴퓨터 프로그램을 데이터를 이용하여 다음과 같은 일들을 처리하기 위한 명령문들의 나열로 생각할 수 있다.\n",
    "\n",
    "* 데이터 읽기\n",
    "* 데이터 생성하기\n",
    "* 데이터 계산하기\n",
    "* 데이터 변환하기\n",
    "* 데이터 정리하기\n",
    "* 데이터 저장하기\n",
    "\n",
    "특정 데이터를 조작하기 위해서는 해당 데이터를 저장하거나 불러올 수 있어야 한다. 그러기 위해서 변수를 활용한다. 변수를 일종의 그릇에 비유할 수 있으며, 변수에 할당된 데이터는 그릇에 담겨진 내용물에 해당한다. \n",
    "\n",
    "파이썬에서 변수의 이름을 지으려면 기본적으로 아래의 규칙을 따라야 한다. \n",
    "* 반드시 영어 알파벳 문자(a-z, A-Z) 또는 밑줄기호(_)로 시작해야 하며, 이후에는 알파벳, 숫자(0-9), 밑줄기호가 임의로 사용될 수 있다. \n",
    "* 파이썬 예약어(def,from, import 등)를 변수 이름으로 사용하면 안된다.\n",
    "* 대소문자를 구분해야 한다: `YOU`, `you`, `You`, `yOu`는 모두 다른 이름으로 처리된다.\n",
    "* `-`, `+`, `*`, `/` 등의 연산자 기호는 이름에 사용할 수 없다.\n",
    "* `@`, `$`, `?` 등의 기호도 사용되지 않는다. \n",
    "* 변수명에 공백을 사용할 수 없다.\n",
    " "
   ]
  },
  {
   "cell_type": "markdown",
   "metadata": {
    "id": "nwhRRMcHYgy8"
   },
   "source": [
    "## 1) 변수 선언\n",
    "\n",
    "변수에 특정 값을 할당하는 것을 변수 선언이라고 부른다. 변수 선언은 아래 모양을 갖춘다. \n",
    "\n",
    "`변수이름 = 할당할 값`\n",
    "\n",
    "예를 들어, 아래에서 `a_number`라는 변수이름에 정수 `2`가 할당되었고, `a_word` 변수에는 `dog`라는 문자열이 할당되었다.  \n",
    "\n",
    "[주의]\n",
    "* 변수를 생성하고자 할 때 값을 초기화하면 된다. 즉, 변수를 미리 선언할 필요가 없다. \n",
    "* 자료형을 선언할 필요가 없다. 변수의 자료형을 파이썬이 알아서 판단한다. 이를 동적타이핑(dynamic typing)이라 한다. "
   ]
  },
  {
   "cell_type": "code",
   "execution_count": null,
   "metadata": {
    "id": "9siR35exZa_F"
   },
   "outputs": [],
   "source": [
    "a_number = 2\n",
    "a_word = \"dog\""
   ]
  },
  {
   "cell_type": "markdown",
   "metadata": {
    "id": "uKfIALwVZnWM"
   },
   "source": [
    "변수에 할당된 값을 확인하기 위해 `print()` 함수를 이용한다."
   ]
  },
  {
   "cell_type": "code",
   "execution_count": null,
   "metadata": {
    "colab": {
     "base_uri": "https://localhost:8080/"
    },
    "id": "US4LkBDDZskQ",
    "outputId": "564c0784-b5f6-4bf1-e7b5-3e72ac92f21a"
   },
   "outputs": [
    {
     "name": "stdout",
     "output_type": "stream",
     "text": [
      "2\n"
     ]
    }
   ],
   "source": [
    "print(a_number)"
   ]
  },
  {
   "cell_type": "code",
   "execution_count": null,
   "metadata": {
    "colab": {
     "base_uri": "https://localhost:8080/"
    },
    "id": "osX8-jWsZu_j",
    "outputId": "cb18e77c-5e51-4339-ab24-03e9f5566a45"
   },
   "outputs": [
    {
     "name": "stdout",
     "output_type": "stream",
     "text": [
      "dog\n"
     ]
    }
   ],
   "source": [
    "print(a_word)"
   ]
  },
  {
   "cell_type": "markdown",
   "metadata": {
    "id": "DhBrqPsbZ5IW"
   },
   "source": [
    "선언된 변수를 이용하여 연산을 할 수도 있다."
   ]
  },
  {
   "cell_type": "code",
   "execution_count": null,
   "metadata": {
    "colab": {
     "base_uri": "https://localhost:8080/"
    },
    "id": "Cb2IfrNuZ8RF",
    "outputId": "d2595017-2ff7-4b18-eaec-66e43fa595d1"
   },
   "outputs": [
    {
     "data": {
      "text/plain": [
       "9"
      ]
     },
     "execution_count": 7,
     "metadata": {
      "tags": []
     },
     "output_type": "execute_result"
    }
   ],
   "source": [
    "a_number + 7"
   ]
  },
  {
   "cell_type": "code",
   "execution_count": null,
   "metadata": {
    "colab": {
     "base_uri": "https://localhost:8080/"
    },
    "id": "BIRX3j2FZ-AR",
    "outputId": "0601f89d-c23f-42f3-8036-bb808c5e7110"
   },
   "outputs": [
    {
     "data": {
      "text/plain": [
       "1.6"
      ]
     },
     "execution_count": 8,
     "metadata": {
      "tags": []
     },
     "output_type": "execute_result"
    }
   ],
   "source": [
    "(a_number + 6.0) / 5"
   ]
  },
  {
   "cell_type": "markdown",
   "metadata": {
    "id": "tnswRbtgaCWA"
   },
   "source": [
    "연산의 결과를 변수에 할당할 수 있다. 해당 변수는 연산의 결과만을 기억한다."
   ]
  },
  {
   "cell_type": "code",
   "execution_count": null,
   "metadata": {
    "colab": {
     "base_uri": "https://localhost:8080/"
    },
    "id": "uuMRspMWaAp4",
    "outputId": "d4d57184-6232-4064-ed18-33c028c1343f"
   },
   "outputs": [
    {
     "data": {
      "text/plain": [
       "2.2857142857142856"
      ]
     },
     "execution_count": 9,
     "metadata": {
      "tags": []
     },
     "output_type": "execute_result"
    }
   ],
   "source": [
    "first_result = 8 / 3.5\n",
    "first_result"
   ]
  },
  {
   "cell_type": "markdown",
   "metadata": {
    "id": "4PF2FZPRaSVx"
   },
   "source": [
    "변수에 할당된 값은 변경이 가능하다. 원래 할당된 값을 변경할 수 있다는 의미에서 변수라 부른다. 변수가 아닌 숫자를 상수라 부른다."
   ]
  },
  {
   "cell_type": "code",
   "execution_count": null,
   "metadata": {
    "colab": {
     "base_uri": "https://localhost:8080/"
    },
    "id": "vFffWPwAaPSV",
    "outputId": "328bdce9-c748-4c00-8ced-fc139992df19"
   },
   "outputs": [
    {
     "name": "stdout",
     "output_type": "stream",
     "text": [
      "2\n",
      "5\n"
     ]
    }
   ],
   "source": [
    "print(a_number)\n",
    "a_number = 5 \n",
    "print(a_number)"
   ]
  },
  {
   "cell_type": "markdown",
   "metadata": {
    "id": "HSD1-3ybaowZ"
   },
   "source": [
    "# 2. 기본 자료형\n",
    "\n",
    "자료형에는 하나의 값만을 대상으로 한다는 의미의 단순 자료형과 여러 개의 값들을 묶어서 다룬다는 의미에서의 컬렉션 자료형(모음자료형)이 있다. \n",
    "\n",
    "### 단순 자료형\n",
    "* 정수(int)\n",
    "* 부동소수점(float)\n",
    "* 불리언 값(bool)\n",
    "* 문자열(str)\n",
    "\n",
    "### 컬렉션 자료형\n",
    "* 리스트(list)\n",
    "* 튜플(tuple)\n",
    "* 집합(set)\n",
    "* 사전(dictionary)\n",
    "\n",
    "여기서는 단순 자료형을 소개하고, 컬렉션 자료형은 이후에 다룬다. "
   ]
  },
  {
   "cell_type": "markdown",
   "metadata": {
    "id": "9mrkqnzWcA4f"
   },
   "source": [
    "## 1) 정수(int)\n",
    "일반적으로 알고 있는 정수(자연수, 0, 음의 정수)들의 자료형이다. 정수형으로 나타내면 덧셈, 뺄셈, 곱셈, 나눗셈 등의 일반 연산이 가능하다. 파이썬에서 정수형은 int로 표시되며, integer의 줄임말이다. \n",
    "\n",
    "ex) ..., -3, -2, -1, 0, 1, 2, 3, ...  \n",
    "ex) 1 + 3, -2 + 4 등등\n"
   ]
  },
  {
   "cell_type": "markdown",
   "metadata": {
    "id": "mj6zqdz5dA4K"
   },
   "source": [
    "## 2) 부동소수점(float)\n",
    "\n",
    "부동소수점은 원래 실수를 컴퓨터에서 다루기 위해 개발되었으나 실제로는 유리수 일부만을 다룬다. 무리수인 원주율 $\\pi$ 의 경우에도 컴퓨터의 한계로 인해 소수점 이하 적당한 자리에서 끊어서 사용한다.   \n",
    "ex) 1.2, 0.333, -1.2, -3.7680, 4.0 등등 "
   ]
  },
  {
   "cell_type": "markdown",
   "metadata": {
    "id": "0bCrWrv_enyz"
   },
   "source": [
    "### 파이썬의 기본 연산\n",
    "\n",
    "파이썬의 기본 연산을 표로 정리하면 아래와 같다.\n",
    "\n",
    "|연산 기호|의미|예시|실행 결과|\n",
    "|:----------:|:----------:|:----------:|:--------:|\n",
    "|`+`|덧셈| 3 + 4 |7|\n",
    "|`-`|뺄셈| 7 - 2 | 5|\n",
    "|`*`|곱셈| 2 * 6 | 12|\n",
    "|`/`|나눗셈|14 / 4|3.5|\n",
    "|`**`|지수|2 ** 3|8|\n",
    "|`//`|몫|9 // 2|4|\n",
    "|`%`|나머지|3 % 2|1|"
   ]
  },
  {
   "cell_type": "markdown",
   "metadata": {
    "id": "4ZeIVvg9s-AR"
   },
   "source": [
    "지수승을 나타내는 기호는 `**` 이다. 예를 들어, 2의 세제곱을 계산하고자 할 때 사용한다."
   ]
  },
  {
   "cell_type": "code",
   "execution_count": null,
   "metadata": {
    "colab": {
     "base_uri": "https://localhost:8080/"
    },
    "id": "4sVWwE-etKBA",
    "outputId": "9daee76d-90d6-4be6-fdca-5f659f5df15e"
   },
   "outputs": [
    {
     "data": {
      "text/plain": [
       "8"
      ]
     },
     "execution_count": 26,
     "metadata": {
      "tags": []
     },
     "output_type": "execute_result"
    }
   ],
   "source": [
    "2 ** 3"
   ]
  },
  {
   "cell_type": "code",
   "execution_count": null,
   "metadata": {
    "colab": {
     "base_uri": "https://localhost:8080/"
    },
    "id": "-cV35rkXtSRH",
    "outputId": "25026d7d-b6f1-4268-9c90-5f0df700c7e1"
   },
   "outputs": [
    {
     "data": {
      "text/plain": [
       "3.0"
      ]
     },
     "execution_count": 27,
     "metadata": {
      "tags": []
     },
     "output_type": "execute_result"
    }
   ],
   "source": [
    "9 ** 0.5"
   ]
  },
  {
   "cell_type": "markdown",
   "metadata": {
    "id": "3am6jnd1skOK"
   },
   "source": [
    "몫을 계산하는 연산자는 `//`이다."
   ]
  },
  {
   "cell_type": "code",
   "execution_count": null,
   "metadata": {
    "colab": {
     "base_uri": "https://localhost:8080/"
    },
    "id": "HraEnTR0soVP",
    "outputId": "4e2d2cde-ae89-4193-89d1-b4d65a19fa10"
   },
   "outputs": [
    {
     "data": {
      "text/plain": [
       "1"
      ]
     },
     "execution_count": 22,
     "metadata": {
      "tags": []
     },
     "output_type": "execute_result"
    }
   ],
   "source": [
    "7 // 5"
   ]
  },
  {
   "cell_type": "code",
   "execution_count": null,
   "metadata": {
    "colab": {
     "base_uri": "https://localhost:8080/"
    },
    "id": "moSpNzFVsqkq",
    "outputId": "1a499098-5e84-40ab-b66b-6523dff87fc2"
   },
   "outputs": [
    {
     "data": {
      "text/plain": [
       "1.0"
      ]
     },
     "execution_count": 23,
     "metadata": {
      "tags": []
     },
     "output_type": "execute_result"
    }
   ],
   "source": [
    "7.0 // 5"
   ]
  },
  {
   "cell_type": "code",
   "execution_count": null,
   "metadata": {
    "colab": {
     "base_uri": "https://localhost:8080/"
    },
    "id": "XjMcxhkDssJb",
    "outputId": "613c514b-6705-44ed-d368-507b11cf649c"
   },
   "outputs": [
    {
     "data": {
      "text/plain": [
       "-2"
      ]
     },
     "execution_count": 24,
     "metadata": {
      "tags": []
     },
     "output_type": "execute_result"
    }
   ],
   "source": [
    "-7 // 5"
   ]
  },
  {
   "cell_type": "code",
   "execution_count": null,
   "metadata": {
    "colab": {
     "base_uri": "https://localhost:8080/"
    },
    "id": "E5DxJG7wst3h",
    "outputId": "5c0ec198-b792-4919-d2cf-fd13176f4d6d"
   },
   "outputs": [
    {
     "data": {
      "text/plain": [
       "-2.0"
      ]
     },
     "execution_count": 25,
     "metadata": {
      "tags": []
     },
     "output_type": "execute_result"
    }
   ],
   "source": [
    "-7.0 // 5"
   ]
  },
  {
   "cell_type": "markdown",
   "metadata": {
    "id": "7wAFj8nZtV7i"
   },
   "source": [
    "나머지를 계산하는 연산자는 `%`이다."
   ]
  },
  {
   "cell_type": "code",
   "execution_count": null,
   "metadata": {
    "colab": {
     "base_uri": "https://localhost:8080/"
    },
    "id": "uvaKNpVns4cd",
    "outputId": "e2f38e1e-ce46-49fe-ac08-368e14afc88a"
   },
   "outputs": [
    {
     "data": {
      "text/plain": [
       "2"
      ]
     },
     "execution_count": 28,
     "metadata": {
      "tags": []
     },
     "output_type": "execute_result"
    }
   ],
   "source": [
    "7 % 5"
   ]
  },
  {
   "cell_type": "code",
   "execution_count": null,
   "metadata": {
    "colab": {
     "base_uri": "https://localhost:8080/"
    },
    "id": "mC41OzYotdUQ",
    "outputId": "ac4b37bd-15e5-4c1e-ce6f-1ca6ceec8baa"
   },
   "outputs": [
    {
     "data": {
      "text/plain": [
       "3"
      ]
     },
     "execution_count": 29,
     "metadata": {
      "tags": []
     },
     "output_type": "execute_result"
    }
   ],
   "source": [
    "-7 % 5"
   ]
  },
  {
   "cell_type": "markdown",
   "metadata": {
    "id": "DiJWmA8ptqHw"
   },
   "source": [
    "### 연산자 우선순위\n",
    "\n",
    "일반적으로 알려진 연산자들 사이의 우선순위를 알아야 한다. 줄여서 PEMDAS(펨다스)로 기억하면 좋다.  \n",
    "\n",
    "PEMDAS :\n",
    "* 괄호(Parentheses)\n",
    "* 지수승(Exponents)\n",
    "* 곱셈(Multiplication)\n",
    "* 나눗셈(Division)\n",
    "* 덧셈(Addition)\n",
    "* 뺄셈(Substraction) \n",
    "\n"
   ]
  },
  {
   "cell_type": "code",
   "execution_count": null,
   "metadata": {
    "colab": {
     "base_uri": "https://localhost:8080/"
    },
    "id": "ClcIvHljwnVQ",
    "outputId": "11c3ef32-8971-4fa0-9202-947b691a9a82"
   },
   "outputs": [
    {
     "name": "stdout",
     "output_type": "stream",
     "text": [
      "4\n"
     ]
    }
   ],
   "source": [
    "eqn1 = 2 * 3 - 2\n",
    "print(eqn1)"
   ]
  },
  {
   "cell_type": "code",
   "execution_count": null,
   "metadata": {
    "colab": {
     "base_uri": "https://localhost:8080/"
    },
    "id": "BZwT6DFqwt86",
    "outputId": "6e7c4fbc-05f7-4d7a-f73f-52bc679e1ff3"
   },
   "outputs": [
    {
     "name": "stdout",
     "output_type": "stream",
     "text": [
      "4\n"
     ]
    }
   ],
   "source": [
    "eqn2 = -2 + 2 * 3\n",
    "print(eqn2)"
   ]
  },
  {
   "cell_type": "code",
   "execution_count": null,
   "metadata": {
    "colab": {
     "base_uri": "https://localhost:8080/"
    },
    "id": "Q5T9eictwzVK",
    "outputId": "fe0d3940-4960-4c6f-f226-945cc5c75d7f"
   },
   "outputs": [
    {
     "name": "stdout",
     "output_type": "stream",
     "text": [
      "0\n"
     ]
    }
   ],
   "source": [
    "eqn3 = -2 + (2 % 3)\n",
    "print(eqn3)"
   ]
  },
  {
   "cell_type": "code",
   "execution_count": null,
   "metadata": {
    "colab": {
     "base_uri": "https://localhost:8080/"
    },
    "id": "BMa_9TR9w6oV",
    "outputId": "6afd11a9-baa3-4790-f95c-ae9a7f583e57"
   },
   "outputs": [
    {
     "name": "stdout",
     "output_type": "stream",
     "text": [
      "2.0\n"
     ]
    }
   ],
   "source": [
    "eqn4 = (.3 + 5) // 2\n",
    "print(eqn4)"
   ]
  },
  {
   "cell_type": "code",
   "execution_count": null,
   "metadata": {
    "colab": {
     "base_uri": "https://localhost:8080/"
    },
    "id": "rT1B6jPFxHmL",
    "outputId": "28dfabdb-dad2-49de-b394-350ceaf555e8"
   },
   "outputs": [
    {
     "name": "stdout",
     "output_type": "stream",
     "text": [
      "8\n"
     ]
    }
   ],
   "source": [
    "eqn5 = 2 ** 4 // 2\n",
    "print(eqn5)"
   ]
  },
  {
   "cell_type": "markdown",
   "metadata": {
    "id": "J0vRwWGywB9y"
   },
   "source": [
    "정수(int)와 부동소수점(float)에 대해서 더 살펴보자. \n",
    "\n"
   ]
  },
  {
   "cell_type": "code",
   "execution_count": null,
   "metadata": {
    "colab": {
     "base_uri": "https://localhost:8080/"
    },
    "id": "D3BDvmNu2nfY",
    "outputId": "4e9f663f-8c13-4518-df99-294181a42e24"
   },
   "outputs": [
    {
     "name": "stdout",
     "output_type": "stream",
     "text": [
      "3\n"
     ]
    }
   ],
   "source": [
    "new_int = 3\n",
    "print(new_int)"
   ]
  },
  {
   "cell_type": "code",
   "execution_count": null,
   "metadata": {
    "colab": {
     "base_uri": "https://localhost:8080/"
    },
    "id": "Cfn-XOuWth-h",
    "outputId": "43ff65da-be75-467e-998f-4f63cac7f6c6"
   },
   "outputs": [
    {
     "name": "stdout",
     "output_type": "stream",
     "text": [
      "4.0\n"
     ]
    }
   ],
   "source": [
    "new_float = 4.0\n",
    "print(new_float)"
   ]
  },
  {
   "cell_type": "markdown",
   "metadata": {
    "id": "jkh5inNF2bok"
   },
   "source": [
    "변수에 할당된 값의 자료형을 확인하려면 `type()` 함수를 사용한다."
   ]
  },
  {
   "cell_type": "code",
   "execution_count": null,
   "metadata": {
    "colab": {
     "base_uri": "https://localhost:8080/"
    },
    "id": "KSG-npYx2Zgj",
    "outputId": "07c2fec8-61bb-49c0-f7af-720c627cf5e2"
   },
   "outputs": [
    {
     "name": "stdout",
     "output_type": "stream",
     "text": [
      "<class 'int'>\n"
     ]
    }
   ],
   "source": [
    "print(type(new_int))"
   ]
  },
  {
   "cell_type": "code",
   "execution_count": null,
   "metadata": {
    "colab": {
     "base_uri": "https://localhost:8080/"
    },
    "id": "Fa21zE602vOU",
    "outputId": "2ea5d69e-52d8-4dd8-991b-e04651d18e2f"
   },
   "outputs": [
    {
     "name": "stdout",
     "output_type": "stream",
     "text": [
      "<class 'float'>\n"
     ]
    }
   ],
   "source": [
    "print(type(new_float))"
   ]
  },
  {
   "cell_type": "markdown",
   "metadata": {
    "id": "Un2MYu6C217j"
   },
   "source": [
    "정수와 부동소수점 사이에 강제로 형변환이 가능하다. 부동소수점을 정수로 변환하고자 할 경우에는 `int()` 함수를 사용한다. 그러면 소수점 이하는 버려진다. "
   ]
  },
  {
   "cell_type": "code",
   "execution_count": null,
   "metadata": {
    "colab": {
     "base_uri": "https://localhost:8080/"
    },
    "id": "_kPdhK3x2y45",
    "outputId": "db6f6e9f-2da0-4615-84db-559847696730"
   },
   "outputs": [
    {
     "data": {
      "text/plain": [
       "4"
      ]
     },
     "execution_count": 43,
     "metadata": {
      "tags": []
     },
     "output_type": "execute_result"
    }
   ],
   "source": [
    "int(4.8)"
   ]
  },
  {
   "cell_type": "markdown",
   "metadata": {
    "id": "Q7sUZpBz3Jxm"
   },
   "source": [
    "정수를 부동소수점으로 형변환하려면 `float()` 함수를 사용한다."
   ]
  },
  {
   "cell_type": "code",
   "execution_count": null,
   "metadata": {
    "colab": {
     "base_uri": "https://localhost:8080/"
    },
    "id": "k8ynyR_a3IUO",
    "outputId": "21f88874-d42d-45d6-efbf-23fd25312223"
   },
   "outputs": [
    {
     "data": {
      "text/plain": [
       "2.0"
      ]
     },
     "execution_count": 44,
     "metadata": {
      "tags": []
     },
     "output_type": "execute_result"
    }
   ],
   "source": [
    "float(2)"
   ]
  },
  {
   "cell_type": "markdown",
   "metadata": {
    "id": "Tx8gH9Jz3SqV"
   },
   "source": [
    "주의: 변수를 형변환한다고 해서 변수에 할당된 값이 변하는 것은 아니다. 다만, 형변환한 값을 다른 변수에 저장해서 활용할 수는 있다."
   ]
  },
  {
   "cell_type": "code",
   "execution_count": null,
   "metadata": {
    "colab": {
     "base_uri": "https://localhost:8080/"
    },
    "id": "A2J4in3S3RMh",
    "outputId": "ed15ec7d-5a4d-495b-b120-5227aeee4fdb"
   },
   "outputs": [
    {
     "name": "stdout",
     "output_type": "stream",
     "text": [
      "2.0\n",
      "<class 'int'>\n"
     ]
    }
   ],
   "source": [
    "basic_int = 2\n",
    "print(float(basic_int))\n",
    "print(type(basic_int))"
   ]
  },
  {
   "cell_type": "code",
   "execution_count": null,
   "metadata": {
    "colab": {
     "base_uri": "https://localhost:8080/"
    },
    "id": "y_noBuR43kw5",
    "outputId": "ed5d6694-c581-477c-e6b7-4632436f7960"
   },
   "outputs": [
    {
     "name": "stdout",
     "output_type": "stream",
     "text": [
      "2.0\n"
     ]
    }
   ],
   "source": [
    "float_basic_int = float(basic_int)\n",
    "print(float_basic_int)"
   ]
  },
  {
   "cell_type": "markdown",
   "metadata": {
    "id": "FF9ajjtA3sc1"
   },
   "source": [
    "### 키워드 관련 주의사항\n",
    "\n",
    "지금까지 살펴본 `float`, `int`, `print`, `type`은 파이썬에서 특별한 역할을 수행하는 키워드들이다.  \n",
    "\n",
    "그런 키워드를 재정의할 수는 있지만 하지 않는 것이 좋다. 혹여 실수로 아래와 같은 일을 할 수도 있는데 매우 조심해야 한다."
   ]
  },
  {
   "cell_type": "code",
   "execution_count": null,
   "metadata": {
    "colab": {
     "base_uri": "https://localhost:8080/"
    },
    "id": "OM7w_S2B9ud5",
    "outputId": "ce2cd423-ec37-4018-d1a2-dc67eb584a8c"
   },
   "outputs": [
    {
     "name": "stdout",
     "output_type": "stream",
     "text": [
      "What have we done to int? 4\n"
     ]
    }
   ],
   "source": [
    "int = 4\n",
    "print(\"What have we done to int?\", int)"
   ]
  },
  {
   "cell_type": "markdown",
   "metadata": {
    "id": "14QaKPX2__bU"
   },
   "source": [
    "주의 : 위에서 사용된 `print()` 함수의 사용법을 기억해둔다. `print()` 함수는 인자를 여러 개 받을 수 있으며, 그 값들을 차례대로 동시에 한 줄에 표현한다. 각각의 값들은 콤마(comma)로 구분되어진다."
   ]
  },
  {
   "cell_type": "code",
   "execution_count": null,
   "metadata": {
    "colab": {
     "base_uri": "https://localhost:8080/",
     "height": 169
    },
    "id": "d-JmKwXUALXR",
    "outputId": "8ee78aed-ed59-4988-e6df-1d5c9f60a1d8"
   },
   "outputs": [
    {
     "ename": "TypeError",
     "evalue": "ignored",
     "output_type": "error",
     "traceback": [
      "\u001b[0;31m---------------------------------------------------------------------------\u001b[0m",
      "\u001b[0;31mTypeError\u001b[0m                                 Traceback (most recent call last)",
      "\u001b[0;32m<ipython-input-58-f779a5f86856>\u001b[0m in \u001b[0;36m<module>\u001b[0;34m()\u001b[0m\n\u001b[0;32m----> 1\u001b[0;31m \u001b[0mint\u001b[0m\u001b[0;34m(\u001b[0m\u001b[0;36m5.0\u001b[0m\u001b[0;34m)\u001b[0m\u001b[0;34m\u001b[0m\u001b[0;34m\u001b[0m\u001b[0m\n\u001b[0m",
      "\u001b[0;31mTypeError\u001b[0m: 'int' object is not callable"
     ]
    }
   ],
   "source": [
    "int(5.0)"
   ]
  },
  {
   "cell_type": "markdown",
   "metadata": {
    "id": "29sf3s2b-LEq"
   },
   "source": [
    "즉, `int()` 함수의 본래의 정의가 사라졌다. 이럴 때는 아래와 같이 원래의 함수로 되돌릴 수 있다."
   ]
  },
  {
   "cell_type": "code",
   "execution_count": null,
   "metadata": {
    "colab": {
     "base_uri": "https://localhost:8080/"
    },
    "id": "UV0t9oDN98-U",
    "outputId": "a2c58b73-bfff-4b66-e58c-a337c63a5866"
   },
   "outputs": [
    {
     "data": {
      "text/plain": [
       "5"
      ]
     },
     "execution_count": 59,
     "metadata": {
      "tags": []
     },
     "output_type": "execute_result"
    }
   ],
   "source": [
    "del int\n",
    "int(5.0)"
   ]
  },
  {
   "cell_type": "markdown",
   "metadata": {
    "id": "Mptk-OnS-Zbf"
   },
   "source": [
    "## 3) 불리언 값(bool)\n",
    "\n",
    "참(True)과 거짓(False)를 나타내는 자료형이다. \n",
    "* True\n",
    "* False\n",
    "\n",
    "이 두 개의 값만을 이용하여 복잡한 프로그램을 구현할 수 있다.\n",
    "\n",
    "예제: 강아지를 한 마리만 갖고 있다고 가정하자.\n",
    "\n",
    "이것을 표현하기 위해 puppy(강아지 한마리)라는 변수에 True를 할당하고, 여러 마리의 강아지를 뜻하는 puppies 변수에는 False를 할당한다. "
   ]
  },
  {
   "cell_type": "code",
   "execution_count": null,
   "metadata": {
    "id": "d-kC1_oW-Ugi"
   },
   "outputs": [],
   "source": [
    "puppy = True"
   ]
  },
  {
   "cell_type": "code",
   "execution_count": null,
   "metadata": {
    "colab": {
     "base_uri": "https://localhost:8080/"
    },
    "id": "06H8dK8M_Y52",
    "outputId": "39101943-f202-425a-c3e2-9c382a22b309"
   },
   "outputs": [
    {
     "name": "stdout",
     "output_type": "stream",
     "text": [
      "True\n"
     ]
    }
   ],
   "source": [
    "print(puppy)"
   ]
  },
  {
   "cell_type": "code",
   "execution_count": null,
   "metadata": {
    "colab": {
     "base_uri": "https://localhost:8080/"
    },
    "id": "RUYOAADQ_ad9",
    "outputId": "458522a6-d969-4b85-e075-6ccce1775d39"
   },
   "outputs": [
    {
     "data": {
      "text/plain": [
       "bool"
      ]
     },
     "execution_count": 55,
     "metadata": {
      "tags": []
     },
     "output_type": "execute_result"
    }
   ],
   "source": [
    "type(puppy)"
   ]
  },
  {
   "cell_type": "code",
   "execution_count": null,
   "metadata": {
    "id": "SKsPxk5D_cWX"
   },
   "outputs": [],
   "source": [
    "puppies = False"
   ]
  },
  {
   "cell_type": "markdown",
   "metadata": {
    "id": "d89F0FHLBKc3"
   },
   "source": [
    "두 개의 변수 선언을 아래와 같이 동시에 할 수 있다. 등호 기호 왼편과 오른편에 사용되는 변수와 값의 개수가 동일해야 함에 주의한다."
   ]
  },
  {
   "cell_type": "code",
   "execution_count": null,
   "metadata": {
    "id": "t8oh3q7JAwWG"
   },
   "outputs": [],
   "source": [
    "puppy, puppies = True, False"
   ]
  },
  {
   "cell_type": "code",
   "execution_count": null,
   "metadata": {
    "colab": {
     "base_uri": "https://localhost:8080/"
    },
    "id": "hUnH9A6wBUHA",
    "outputId": "7072252f-fb37-4baf-e8f5-9d00fc69aca5"
   },
   "outputs": [
    {
     "name": "stdout",
     "output_type": "stream",
     "text": [
      "Do I have a puppy? True\n",
      "Do I have puppies? False\n"
     ]
    }
   ],
   "source": [
    "print(\"Do I have a puppy?\", puppy)\n",
    "print(\"Do I have puppies?\", puppies)"
   ]
  },
  {
   "cell_type": "markdown",
   "metadata": {
    "id": "eNxPi-9fBeVm"
   },
   "source": [
    "### 블리언 연산자\n",
    "\n",
    "`and`, `not`, `or` 세 개의 연산자를 이용하여 불리언 연산을 할 수 있다. 각 연산자의 의미는 일반적으로 알려진 것과 동일하다."
   ]
  },
  {
   "cell_type": "code",
   "execution_count": null,
   "metadata": {
    "colab": {
     "base_uri": "https://localhost:8080/"
    },
    "id": "ZsJuouKnBbSA",
    "outputId": "234c5a96-c3c3-4140-c657-e121c3a238af"
   },
   "outputs": [
    {
     "data": {
      "text/plain": [
       "True"
      ]
     },
     "execution_count": 63,
     "metadata": {
      "tags": []
     },
     "output_type": "execute_result"
    }
   ],
   "source": [
    "True and True"
   ]
  },
  {
   "cell_type": "code",
   "execution_count": null,
   "metadata": {
    "colab": {
     "base_uri": "https://localhost:8080/"
    },
    "id": "OeN9utyLBwfj",
    "outputId": "994cc423-20e5-4eae-857c-509103a28ced"
   },
   "outputs": [
    {
     "data": {
      "text/plain": [
       "False"
      ]
     },
     "execution_count": 64,
     "metadata": {
      "tags": []
     },
     "output_type": "execute_result"
    }
   ],
   "source": [
    "True and False"
   ]
  },
  {
   "cell_type": "markdown",
   "metadata": {
    "id": "Asmw36c_B0ZL"
   },
   "source": [
    "불리언 자료형의 변수를 이용하여 연산을 수행할 수도 있다."
   ]
  },
  {
   "cell_type": "code",
   "execution_count": null,
   "metadata": {
    "colab": {
     "base_uri": "https://localhost:8080/"
    },
    "id": "g0BopRi-ByLF",
    "outputId": "8925cf32-9d22-4844-f5c2-7da4a2a3bebf"
   },
   "outputs": [
    {
     "data": {
      "text/plain": [
       "False"
      ]
     },
     "execution_count": 65,
     "metadata": {
      "tags": []
     },
     "output_type": "execute_result"
    }
   ],
   "source": [
    "puppy and puppies"
   ]
  },
  {
   "cell_type": "code",
   "execution_count": null,
   "metadata": {
    "colab": {
     "base_uri": "https://localhost:8080/"
    },
    "id": "vrlYdzQFB5NW",
    "outputId": "56e3e102-df8d-4862-bf2f-19fcbf3a0b32"
   },
   "outputs": [
    {
     "data": {
      "text/plain": [
       "True"
      ]
     },
     "execution_count": 66,
     "metadata": {
      "tags": []
     },
     "output_type": "execute_result"
    }
   ],
   "source": [
    "not puppies"
   ]
  },
  {
   "cell_type": "code",
   "execution_count": null,
   "metadata": {
    "colab": {
     "base_uri": "https://localhost:8080/"
    },
    "id": "sbE-EbFIB7gQ",
    "outputId": "a6d2ac53-7b12-4065-ca5b-bdc653d92677"
   },
   "outputs": [
    {
     "data": {
      "text/plain": [
       "False"
      ]
     },
     "execution_count": 67,
     "metadata": {
      "tags": []
     },
     "output_type": "execute_result"
    }
   ],
   "source": [
    "not puppy"
   ]
  },
  {
   "cell_type": "markdown",
   "metadata": {
    "id": "es8d96xlB-NS"
   },
   "source": [
    "### 불리언 연산자 우선순위\n",
    "\n",
    "not 연산자의 우선순위가 가장 높다."
   ]
  },
  {
   "cell_type": "code",
   "execution_count": null,
   "metadata": {
    "colab": {
     "base_uri": "https://localhost:8080/"
    },
    "id": "2-_wv238B8dS",
    "outputId": "1c9e35ba-37d5-4cbc-fced-5417dd867915"
   },
   "outputs": [
    {
     "data": {
      "text/plain": [
       "True"
      ]
     },
     "execution_count": 68,
     "metadata": {
      "tags": []
     },
     "output_type": "execute_result"
    }
   ],
   "source": [
    "puppy and not puppies"
   ]
  },
  {
   "cell_type": "markdown",
   "metadata": {
    "id": "Bo7ggeIZCRxZ"
   },
   "source": [
    "### 숫자 비교\n",
    "\n",
    "일반적으로 사용하는 숫자들의 비교를 나타내는 연산자들은 다음과 같다. 리턴값은 모두 불리언 자료형이다. \n",
    "\n",
    "* `!=` : 다른지 여부를 판단\n",
    "* `==` : 같은지 여부를 판단\n",
    "* `<=` : 작거나 같은지 여부를 판단\n",
    "* `>=` : 크거나 같은지 여부를 판단\n",
    "* `<`  : 작은지 여부를 판단\n",
    "* `>`  : 큰지 여부를 판단"
   ]
  },
  {
   "cell_type": "code",
   "execution_count": null,
   "metadata": {
    "colab": {
     "base_uri": "https://localhost:8080/"
    },
    "id": "RWguuLP8CyO3",
    "outputId": "45001c52-475e-4225-f108-b96d66b293de"
   },
   "outputs": [
    {
     "data": {
      "text/plain": [
       "True"
      ]
     },
     "execution_count": 70,
     "metadata": {
      "tags": []
     },
     "output_type": "execute_result"
    }
   ],
   "source": [
    "4 == 4"
   ]
  },
  {
   "cell_type": "code",
   "execution_count": null,
   "metadata": {
    "colab": {
     "base_uri": "https://localhost:8080/"
    },
    "id": "ebELgefGCzF-",
    "outputId": "4704e920-aaa6-4970-ab44-c5990dfc7108"
   },
   "outputs": [
    {
     "data": {
      "text/plain": [
       "False"
      ]
     },
     "execution_count": 71,
     "metadata": {
      "tags": []
     },
     "output_type": "execute_result"
    }
   ],
   "source": [
    "4 == 5"
   ]
  },
  {
   "cell_type": "code",
   "execution_count": null,
   "metadata": {
    "colab": {
     "base_uri": "https://localhost:8080/"
    },
    "id": "aeoLkAsrCzzY",
    "outputId": "87785792-1a98-4bc4-eca8-dd62a056e8df"
   },
   "outputs": [
    {
     "data": {
      "text/plain": [
       "True"
      ]
     },
     "execution_count": 72,
     "metadata": {
      "tags": []
     },
     "output_type": "execute_result"
    }
   ],
   "source": [
    "4 != 2"
   ]
  },
  {
   "cell_type": "code",
   "execution_count": null,
   "metadata": {
    "colab": {
     "base_uri": "https://localhost:8080/"
    },
    "id": "UfwrVjAnC1Cj",
    "outputId": "1ef4b960-4ae0-48fe-b458-a731d65b89a0"
   },
   "outputs": [
    {
     "data": {
      "text/plain": [
       "False"
      ]
     },
     "execution_count": 73,
     "metadata": {
      "tags": []
     },
     "output_type": "execute_result"
    }
   ],
   "source": [
    "4 != 4"
   ]
  },
  {
   "cell_type": "code",
   "execution_count": null,
   "metadata": {
    "colab": {
     "base_uri": "https://localhost:8080/"
    },
    "id": "Vp88EQtrC2eX",
    "outputId": "7a61a0b1-5ec3-4275-f290-674219404889"
   },
   "outputs": [
    {
     "data": {
      "text/plain": [
       "True"
      ]
     },
     "execution_count": 74,
     "metadata": {
      "tags": []
     },
     "output_type": "execute_result"
    }
   ],
   "source": [
    "4 > 2"
   ]
  },
  {
   "cell_type": "code",
   "execution_count": null,
   "metadata": {
    "colab": {
     "base_uri": "https://localhost:8080/"
    },
    "id": "vaA0S50-C3UP",
    "outputId": "57006b75-cab9-4f3e-ddd8-b53184740b7c"
   },
   "outputs": [
    {
     "data": {
      "text/plain": [
       "False"
      ]
     },
     "execution_count": 75,
     "metadata": {
      "tags": []
     },
     "output_type": "execute_result"
    }
   ],
   "source": [
    "4 > 4"
   ]
  },
  {
   "cell_type": "code",
   "execution_count": null,
   "metadata": {
    "colab": {
     "base_uri": "https://localhost:8080/"
    },
    "id": "tp9Al7enC4e_",
    "outputId": "ccf469ae-8aa9-4235-d711-bebea7d78d6d"
   },
   "outputs": [
    {
     "data": {
      "text/plain": [
       "True"
      ]
     },
     "execution_count": 76,
     "metadata": {
      "tags": []
     },
     "output_type": "execute_result"
    }
   ],
   "source": [
    "4 >= 4"
   ]
  },
  {
   "cell_type": "markdown",
   "metadata": {
    "id": "UM-J9fPXDAMh"
   },
   "source": [
    "## 4) 문자열(str)\n",
    "\n",
    "문자들을 나열한 값들을 일컫는 자료형이다. 파이썬에서 문자열 자료형은 str로 표시되며, string(스트링, 문자열)의 줄임말이다.   \n",
    "\n",
    "ex) \"Hello, World\", 'dog', \"123\", 'a' 등  \n",
    " \n",
    "문자열은 큰따옴표(\"\") 또는 작은따옴표('')로 둘러싸여 있다. "
   ]
  },
  {
   "cell_type": "markdown",
   "metadata": {
    "id": "Gc8VWxkWIpWH"
   },
   "source": [
    "### 문자열에 따옴표 포함하기\n",
    "\n",
    "아래 문자열이 보이는 그대로 출력하고자 한다.\n",
    "> Hello, \"World\"\n",
    "\n",
    "* 문자열을 감싸는 따옴표의 종류에 따라 달라진다.\n",
    "* 문자열 내부에 사용되는 따옴표는 기본적으로 역슬래시(한글 키보드에는 원화(￦)기호)를 사용한다."
   ]
  },
  {
   "cell_type": "code",
   "execution_count": null,
   "metadata": {
    "colab": {
     "base_uri": "https://localhost:8080/"
    },
    "id": "PD2CHUwcsDkD",
    "outputId": "63532cf2-0ed0-41a2-a060-16d2f02cc732"
   },
   "outputs": [
    {
     "name": "stdout",
     "output_type": "stream",
     "text": [
      "Hello, \"World\"\n"
     ]
    }
   ],
   "source": [
    "print('Hello, \"World\"')"
   ]
  },
  {
   "cell_type": "code",
   "execution_count": null,
   "metadata": {
    "colab": {
     "base_uri": "https://localhost:8080/"
    },
    "id": "ZF9QameyXDVK",
    "outputId": "951e593b-2f49-41b9-f82d-d1f84b86c078"
   },
   "outputs": [
    {
     "name": "stdout",
     "output_type": "stream",
     "text": [
      "Hello, \"World\"\n"
     ]
    }
   ],
   "source": [
    "print(\"Hello, \\\"World\\\"\")"
   ]
  },
  {
   "cell_type": "markdown",
   "metadata": {
    "id": "N1c4FndKYVBy"
   },
   "source": [
    "### 문자열에 특수 문자 활용하기\n",
    "\n",
    "역슬래시(￦), 줄바꾸기(￦n), 탭(￦t) 등은 문자열에 사용될 경우 특수한 기능을 갖는다."
   ]
  },
  {
   "cell_type": "code",
   "execution_count": null,
   "metadata": {
    "colab": {
     "base_uri": "https://localhost:8080/"
    },
    "id": "c_Okt-blXQmn",
    "outputId": "81f71ece-1e04-4eeb-c593-a1bc61763e34"
   },
   "outputs": [
    {
     "name": "stdout",
     "output_type": "stream",
     "text": [
      "Hello\n",
      " World\n"
     ]
    }
   ],
   "source": [
    "print(\"Hello\\n World\")"
   ]
  },
  {
   "cell_type": "code",
   "execution_count": null,
   "metadata": {
    "colab": {
     "base_uri": "https://localhost:8080/"
    },
    "id": "ByhDxiwfYtRf",
    "outputId": "3ce939a2-c4a7-451c-a1e8-98afe7966f7d"
   },
   "outputs": [
    {
     "name": "stdout",
     "output_type": "stream",
     "text": [
      "Hello\t World\n"
     ]
    }
   ],
   "source": [
    "print(\"Hello\\t World\")"
   ]
  },
  {
   "cell_type": "markdown",
   "metadata": {
    "id": "4T8rGFbVY0zX"
   },
   "source": [
    "따라서 문자열 내에 특수 기능을 갖는 문자열을 사용하고자 할 경우 역슬래시를 모든 역슬래시 앞에 사용하여서 특수 기능을 제거해야 한다."
   ]
  },
  {
   "cell_type": "code",
   "execution_count": null,
   "metadata": {
    "colab": {
     "base_uri": "https://localhost:8080/"
    },
    "id": "3pcaKnduYzcV",
    "outputId": "9d16c7e4-8932-4a3a-a2df-24c73c11312e"
   },
   "outputs": [
    {
     "name": "stdout",
     "output_type": "stream",
     "text": [
      "Hello\\n World\n"
     ]
    }
   ],
   "source": [
    "print(\"Hello\\\\n World\")"
   ]
  },
  {
   "cell_type": "code",
   "execution_count": null,
   "metadata": {
    "colab": {
     "base_uri": "https://localhost:8080/"
    },
    "id": "izXhbGu-ZIQ1",
    "outputId": "5e69136c-9803-4b2f-ac6b-5118c4680ba1"
   },
   "outputs": [
    {
     "name": "stdout",
     "output_type": "stream",
     "text": [
      "Hello\\t World\n"
     ]
    }
   ],
   "source": [
    "print(\"Hello\\\\t World\")"
   ]
  },
  {
   "cell_type": "code",
   "execution_count": null,
   "metadata": {
    "colab": {
     "base_uri": "https://localhost:8080/"
    },
    "id": "qmi36dgxZMqt",
    "outputId": "ab73bef6-26e1-43b8-909f-7738e9959a3a"
   },
   "outputs": [
    {
     "name": "stdout",
     "output_type": "stream",
     "text": [
      "Hello\\ World\n"
     ]
    }
   ],
   "source": [
    "print(\"Hello\\\\ World\")"
   ]
  },
  {
   "cell_type": "markdown",
   "metadata": {
    "id": "RUcMFAFeZUTE"
   },
   "source": [
    "* '가공되지 않은'의 의미를 갖는 'raw'단어의 첫 글자인 'r'을 문자열 앞에 두면 특수 기능이 사라진다."
   ]
  },
  {
   "cell_type": "code",
   "execution_count": null,
   "metadata": {
    "colab": {
     "base_uri": "https://localhost:8080/"
    },
    "id": "CEF2FVKXZPRV",
    "outputId": "ac6419ca-5688-40b4-e4f0-64b301dd814b"
   },
   "outputs": [
    {
     "name": "stdout",
     "output_type": "stream",
     "text": [
      "Hello\\n World\n"
     ]
    }
   ],
   "source": [
    "print(r\"Hello\\n World\")"
   ]
  },
  {
   "cell_type": "code",
   "execution_count": null,
   "metadata": {
    "colab": {
     "base_uri": "https://localhost:8080/"
    },
    "id": "kpF2ak0OZil2",
    "outputId": "a9f64be0-24b8-483d-c77e-c43e49dfe0ea"
   },
   "outputs": [
    {
     "name": "stdout",
     "output_type": "stream",
     "text": [
      "Hello\\t World\n"
     ]
    }
   ],
   "source": [
    "print(r\"Hello\\t World\")"
   ]
  },
  {
   "cell_type": "code",
   "execution_count": null,
   "metadata": {
    "colab": {
     "base_uri": "https://localhost:8080/"
    },
    "id": "I1fDQRdLZlyF",
    "outputId": "caf7e4f3-625b-414c-be7f-4438a3e3e7bb"
   },
   "outputs": [
    {
     "name": "stdout",
     "output_type": "stream",
     "text": [
      "Hello\\ World\n"
     ]
    }
   ],
   "source": [
    "print(r\"Hello\\ World\")"
   ]
  },
  {
   "cell_type": "markdown",
   "metadata": {
    "id": "t2gd37I-4_AR"
   },
   "source": [
    "**형변환**   \n",
    "숫자로만 이루어진 문자열을 진짜 숫자로 형변환시킬 수 있다. 예를 들어, `int()` 또는 `float()` 함수를 이용한다."
   ]
  },
  {
   "cell_type": "code",
   "execution_count": null,
   "metadata": {
    "colab": {
     "base_uri": "https://localhost:8080/"
    },
    "id": "90PB7GxQ6n7Z",
    "outputId": "677178ac-e7dd-4a21-d050-07870254b84d"
   },
   "outputs": [
    {
     "name": "stdout",
     "output_type": "stream",
     "text": [
      "4\n",
      "<class 'int'>\n"
     ]
    }
   ],
   "source": [
    "a_number = int('4')\n",
    "\n",
    "print(a_number)\n",
    "print(type(a_number))"
   ]
  },
  {
   "cell_type": "markdown",
   "metadata": {
    "id": "qXDDc-Tv60qQ"
   },
   "source": [
    "`float()` 함수를 이용하면 부동소수점 모양의 문자열을 부동소수점으로 형변환시킬 수 있다."
   ]
  },
  {
   "cell_type": "code",
   "execution_count": null,
   "metadata": {
    "colab": {
     "base_uri": "https://localhost:8080/"
    },
    "id": "2jD9-9lj6ztm",
    "outputId": "6d1e4dfa-f98b-4872-9a4e-f5f352526e82"
   },
   "outputs": [
    {
     "data": {
      "text/plain": [
       "8.4"
      ]
     },
     "execution_count": 54,
     "metadata": {
      "tags": []
     },
     "output_type": "execute_result"
    }
   ],
   "source": [
    "float('4.2') * 2"
   ]
  },
  {
   "cell_type": "markdown",
   "metadata": {
    "id": "syodBfLw8MOV"
   },
   "source": [
    "주의 : 문자열과 숫자의 곱은 의미가 완전히 다르다."
   ]
  },
  {
   "cell_type": "code",
   "execution_count": null,
   "metadata": {
    "colab": {
     "base_uri": "https://localhost:8080/",
     "height": 35
    },
    "id": "r81Unr8a8K6z",
    "outputId": "42bcae2e-f4ab-4801-9fa2-f93008d0b260"
   },
   "outputs": [
    {
     "data": {
      "application/vnd.google.colaboratory.intrinsic+json": {
       "type": "string"
      },
      "text/plain": [
       "'4.24.2'"
      ]
     },
     "execution_count": 55,
     "metadata": {
      "tags": []
     },
     "output_type": "execute_result"
    }
   ],
   "source": [
    "'4.2' *2 "
   ]
  },
  {
   "cell_type": "markdown",
   "metadata": {
    "id": "FLqe0jE88WhY"
   },
   "source": [
    "주의 : `int()` 함수는 정수모양의 문자열에만 사용할 수 있다. "
   ]
  },
  {
   "cell_type": "code",
   "execution_count": null,
   "metadata": {
    "colab": {
     "base_uri": "https://localhost:8080/",
     "height": 169
    },
    "id": "J80Yd0nf8cvO",
    "outputId": "963f537d-df9b-4cc7-a532-632787af1fc4"
   },
   "outputs": [
    {
     "ename": "ValueError",
     "evalue": "ignored",
     "output_type": "error",
     "traceback": [
      "\u001b[0;31m---------------------------------------------------------------------------\u001b[0m",
      "\u001b[0;31mValueError\u001b[0m                                Traceback (most recent call last)",
      "\u001b[0;32m<ipython-input-56-3a2e96d6509a>\u001b[0m in \u001b[0;36m<module>\u001b[0;34m()\u001b[0m\n\u001b[0;32m----> 1\u001b[0;31m \u001b[0mint\u001b[0m\u001b[0;34m(\u001b[0m\u001b[0;34m'4.2'\u001b[0m\u001b[0;34m)\u001b[0m \u001b[0;34m*\u001b[0m \u001b[0;36m2\u001b[0m\u001b[0;34m\u001b[0m\u001b[0;34m\u001b[0m\u001b[0m\n\u001b[0m",
      "\u001b[0;31mValueError\u001b[0m: invalid literal for int() with base 10: '4.2'"
     ]
    }
   ],
   "source": [
    "int('4.2') * 2"
   ]
  },
  {
   "cell_type": "markdown",
   "metadata": {
    "id": "mGs4wiHJ8jue"
   },
   "source": [
    "부동소수점 모양의 문자열이 아니면 `float()` 함수도 오류를 발생시킨다."
   ]
  },
  {
   "cell_type": "code",
   "execution_count": null,
   "metadata": {
    "colab": {
     "base_uri": "https://localhost:8080/",
     "height": 169
    },
    "id": "ZXgpzaCa8p18",
    "outputId": "e61e49bb-10d8-4920-c028-945e1e4c0a23"
   },
   "outputs": [
    {
     "ename": "ValueError",
     "evalue": "ignored",
     "output_type": "error",
     "traceback": [
      "\u001b[0;31m---------------------------------------------------------------------------\u001b[0m",
      "\u001b[0;31mValueError\u001b[0m                                Traceback (most recent call last)",
      "\u001b[0;32m<ipython-input-57-edba47f06f21>\u001b[0m in \u001b[0;36m<module>\u001b[0;34m()\u001b[0m\n\u001b[0;32m----> 1\u001b[0;31m \u001b[0mfloat\u001b[0m\u001b[0;34m(\u001b[0m\u001b[0;34m'4.5GB'\u001b[0m\u001b[0;34m)\u001b[0m\u001b[0;34m\u001b[0m\u001b[0;34m\u001b[0m\u001b[0m\n\u001b[0m",
      "\u001b[0;31mValueError\u001b[0m: could not convert string to float: '4.5GB'"
     ]
    }
   ],
   "source": [
    "float('4.5GB')"
   ]
  },
  {
   "cell_type": "markdown",
   "metadata": {
    "id": "ihrnPhzvpfJa"
   },
   "source": [
    "### 문자열 연산\n",
    "\n",
    "문자열의 경우, 사칙연산 중 덧셈과 곱셈 연산자를 사용할 수 있다."
   ]
  },
  {
   "cell_type": "code",
   "execution_count": null,
   "metadata": {
    "colab": {
     "base_uri": "https://localhost:8080/",
     "height": 35
    },
    "id": "yUFyu4cJZomK",
    "outputId": "b746cc61-28e3-4a09-da12-a9c7561b9ed8"
   },
   "outputs": [
    {
     "data": {
      "application/vnd.google.colaboratory.intrinsic+json": {
       "type": "string"
      },
      "text/plain": [
       "'Hello World'"
      ]
     },
     "execution_count": 11,
     "metadata": {
      "tags": []
     },
     "output_type": "execute_result"
    }
   ],
   "source": [
    "\"Hello \" + \"World\""
   ]
  },
  {
   "cell_type": "code",
   "execution_count": null,
   "metadata": {
    "colab": {
     "base_uri": "https://localhost:8080/",
     "height": 35
    },
    "id": "nBHtWY9-pvhl",
    "outputId": "b2da3b03-92ee-4ecc-92fc-1a2ea0824c42"
   },
   "outputs": [
    {
     "data": {
      "application/vnd.google.colaboratory.intrinsic+json": {
       "type": "string"
      },
      "text/plain": [
       "'Hello Hello Hello '"
      ]
     },
     "execution_count": 13,
     "metadata": {
      "tags": []
     },
     "output_type": "execute_result"
    }
   ],
   "source": [
    "\"Hello \" * 3"
   ]
  },
  {
   "cell_type": "markdown",
   "metadata": {
    "id": "lLJ6dKp3p9HG"
   },
   "source": [
    "선언된 변수를 이용하여 연산을 할 수도 있다."
   ]
  },
  {
   "cell_type": "code",
   "execution_count": null,
   "metadata": {
    "colab": {
     "base_uri": "https://localhost:8080/"
    },
    "id": "oJRS9jAap3fv",
    "outputId": "70330c56-f559-448b-b5c6-58a5d8e96992"
   },
   "outputs": [
    {
     "name": "stdout",
     "output_type": "stream",
     "text": [
      "<class 'str'>\n"
     ]
    }
   ],
   "source": [
    "a_word = \"dog\"\n",
    "print(type(a_word))"
   ]
  },
  {
   "cell_type": "code",
   "execution_count": null,
   "metadata": {
    "colab": {
     "base_uri": "https://localhost:8080/",
     "height": 35
    },
    "id": "BUtRZnP4qJhl",
    "outputId": "bc1e7782-f795-4908-a9c7-97f79bcca49b"
   },
   "outputs": [
    {
     "data": {
      "application/vnd.google.colaboratory.intrinsic+json": {
       "type": "string"
      },
      "text/plain": [
       "'Hello dog'"
      ]
     },
     "execution_count": 15,
     "metadata": {
      "tags": []
     },
     "output_type": "execute_result"
    }
   ],
   "source": [
    "\"Hello \" + a_word"
   ]
  },
  {
   "cell_type": "code",
   "execution_count": null,
   "metadata": {
    "colab": {
     "base_uri": "https://localhost:8080/",
     "height": 35
    },
    "id": "th3gMRU8qct-",
    "outputId": "fc023bfa-d50b-44c3-ed4b-9dcad5079df5"
   },
   "outputs": [
    {
     "data": {
      "application/vnd.google.colaboratory.intrinsic+json": {
       "type": "string"
      },
      "text/plain": [
       "'dogdog'"
      ]
     },
     "execution_count": 16,
     "metadata": {
      "tags": []
     },
     "output_type": "execute_result"
    }
   ],
   "source": [
    "a_word * 2"
   ]
  },
  {
   "cell_type": "markdown",
   "metadata": {
    "id": "l5gAe8xNqi5R"
   },
   "source": [
    "주의 : 변수에 할당된 값의 자료형에 따라 연산의 가능여부가 결정된다. 예를 들어, 숫자와 문자열의 합은 정의되지 않으며, 실행할 경우 오류가 발생한다."
   ]
  },
  {
   "cell_type": "code",
   "execution_count": null,
   "metadata": {
    "colab": {
     "base_uri": "https://localhost:8080/",
     "height": 169
    },
    "id": "uFlW-Hhtqfa0",
    "outputId": "1cd2e834-812d-46ed-e891-d7a472c92d1a"
   },
   "outputs": [
    {
     "ename": "TypeError",
     "evalue": "ignored",
     "output_type": "error",
     "traceback": [
      "\u001b[0;31m---------------------------------------------------------------------------\u001b[0m",
      "\u001b[0;31mTypeError\u001b[0m                                 Traceback (most recent call last)",
      "\u001b[0;32m<ipython-input-17-d191d64a13ea>\u001b[0m in \u001b[0;36m<module>\u001b[0;34m()\u001b[0m\n\u001b[0;32m----> 1\u001b[0;31m \u001b[0;36m2\u001b[0m \u001b[0;34m+\u001b[0m \u001b[0ma_word\u001b[0m\u001b[0;34m\u001b[0m\u001b[0;34m\u001b[0m\u001b[0m\n\u001b[0m",
      "\u001b[0;31mTypeError\u001b[0m: unsupported operand type(s) for +: 'int' and 'str'"
     ]
    }
   ],
   "source": [
    "2 + a_word"
   ]
  },
  {
   "cell_type": "markdown",
   "metadata": {
    "id": "_EdSXwSPq7zm"
   },
   "source": [
    "주의 : 오류 내용을 초보자가 이해하기는 어렵다. 여기서는 자료형이 맞지 않아 오류가 발생할 경우에 `TypeError`가 발생한다는 사실만을 기억해 두면 좋다."
   ]
  },
  {
   "cell_type": "markdown",
   "metadata": {
    "id": "WPH6VaF1sq4i"
   },
   "source": [
    "#### 부분 문자열 여부 연산자 : `in`\n",
    "\n",
    "`in`은 두 개의 문자열을 받아들여서, 첫째 문자열이 둘째 문자열의 부분 문자열로 등장하는지 여부를 알려주는 논리 연산자이다."
   ]
  },
  {
   "cell_type": "code",
   "execution_count": null,
   "metadata": {
    "colab": {
     "base_uri": "https://localhost:8080/"
    },
    "id": "KLGADsZXq3qN",
    "outputId": "a76954d6-6547-4172-a6a6-175a212540e1"
   },
   "outputs": [
    {
     "data": {
      "text/plain": [
       "True"
      ]
     },
     "execution_count": 18,
     "metadata": {
      "tags": []
     },
     "output_type": "execute_result"
    }
   ],
   "source": [
    "'an' in 'banana'"
   ]
  },
  {
   "cell_type": "code",
   "execution_count": null,
   "metadata": {
    "colab": {
     "base_uri": "https://localhost:8080/"
    },
    "id": "V9xUKu6duCwv",
    "outputId": "74e2c80e-486a-4ce4-d782-4da31df0920c"
   },
   "outputs": [
    {
     "data": {
      "text/plain": [
       "False"
      ]
     },
     "execution_count": 19,
     "metadata": {
      "tags": []
     },
     "output_type": "execute_result"
    }
   ],
   "source": [
    "'seed' in 'banana'"
   ]
  },
  {
   "cell_type": "markdown",
   "metadata": {
    "id": "IBNecTDSuM7b"
   },
   "source": [
    "#### 문자열 비교 연산자 : `==`, `!=`, `<`, `>`\n",
    "비교 연산자를 문자열에 사용할 수 있다.\n"
   ]
  },
  {
   "cell_type": "code",
   "execution_count": null,
   "metadata": {
    "colab": {
     "base_uri": "https://localhost:8080/"
    },
    "id": "Hp2cqcXQuFk8",
    "outputId": "1eb10490-26de-49da-e98a-d84ae0172ad7"
   },
   "outputs": [
    {
     "name": "stdout",
     "output_type": "stream",
     "text": [
      "True\n"
     ]
    }
   ],
   "source": [
    "word = 'banana'\n",
    "\n",
    "print(word == 'banana')"
   ]
  },
  {
   "cell_type": "code",
   "execution_count": null,
   "metadata": {
    "colab": {
     "base_uri": "https://localhost:8080/"
    },
    "id": "iTzeGvohulq8",
    "outputId": "13968685-e6cd-44c8-a3e5-a9d3f6863e90"
   },
   "outputs": [
    {
     "name": "stdout",
     "output_type": "stream",
     "text": [
      "False\n"
     ]
    }
   ],
   "source": [
    "print(word != 'banana')"
   ]
  },
  {
   "cell_type": "code",
   "execution_count": null,
   "metadata": {
    "colab": {
     "base_uri": "https://localhost:8080/"
    },
    "id": "O8GdJ9ovus8d",
    "outputId": "319407ba-c02b-4ac1-e357-e8ab90267e36"
   },
   "outputs": [
    {
     "name": "stdout",
     "output_type": "stream",
     "text": [
      "True\n"
     ]
    }
   ],
   "source": [
    "print(word != 'pineapple')"
   ]
  },
  {
   "cell_type": "markdown",
   "metadata": {
    "id": "eS6RA5qSu4l0"
   },
   "source": [
    "크기 비교 연산자들은 영어 사전식의 알파벳 순서를 사용하며, 예를 들어, 단어들을 알파벳 순으로 배치하는데 유용하다."
   ]
  },
  {
   "cell_type": "code",
   "execution_count": null,
   "metadata": {
    "colab": {
     "base_uri": "https://localhost:8080/"
    },
    "id": "_rHF8x2xuxhd",
    "outputId": "28e66d2a-d9e4-42df-fc7c-a08e9ebf8804"
   },
   "outputs": [
    {
     "data": {
      "text/plain": [
       "True"
      ]
     },
     "execution_count": 23,
     "metadata": {
      "tags": []
     },
     "output_type": "execute_result"
    }
   ],
   "source": [
    "'a' < 'b'"
   ]
  },
  {
   "cell_type": "code",
   "execution_count": null,
   "metadata": {
    "colab": {
     "base_uri": "https://localhost:8080/"
    },
    "id": "UW54J4JcvDS_",
    "outputId": "020e3e91-8ccc-4274-a892-d4ba54639b96"
   },
   "outputs": [
    {
     "data": {
      "text/plain": [
       "False"
      ]
     },
     "execution_count": 26,
     "metadata": {
      "tags": []
     },
     "output_type": "execute_result"
    }
   ],
   "source": [
    "'banana' > 'pineapple'"
   ]
  },
  {
   "cell_type": "markdown",
   "metadata": {
    "id": "DXOH6eBJwB0C"
   },
   "source": [
    "주의 : 영어 알파벳의 경우 대문자가 소문자보다 작다고 판단하다. 따라서 문자열을 다룰 때 소문자 또는 대문자로 통일 시킨 후에 비교를 해야 사전식으로 제대로 정렬할 수 있다. \n"
   ]
  },
  {
   "cell_type": "code",
   "execution_count": null,
   "metadata": {
    "colab": {
     "base_uri": "https://localhost:8080/"
    },
    "id": "ImBZJ5vzvJGt",
    "outputId": "c6e8ea92-2cd2-4467-f0ac-ce977a94ead0"
   },
   "outputs": [
    {
     "data": {
      "text/plain": [
       "True"
      ]
     },
     "execution_count": 30,
     "metadata": {
      "tags": []
     },
     "output_type": "execute_result"
    }
   ],
   "source": [
    "'banana' > 'Pineapple'"
   ]
  },
  {
   "cell_type": "markdown",
   "metadata": {
    "id": "GpB--OkGw-Yt"
   },
   "source": [
    "### 인덱스\n",
    "\n",
    "문자열에 사용되는 모든 문자의 위치는 인덱스(`index`)라는 고유한 번호를 갖는다. 인덱스는 0부터 시작하며, 오른쪽으로 한 문자씩 이동할 때마다 증가한다. \n",
    "\n",
    "주의 : 파이썬을 포함해서 많은 대부분의 프로그래밍 언어에서 인덱싱은 0부터 시작한다. 따라서 첫 째 문자를 확인하고자 할 때는 1이 아닌 0을 인덱스로 사용해야 한다.  \n",
    "\n",
    "예제를 통해 인덱스와 친숙해질 필요가 있다. "
   ]
  },
  {
   "cell_type": "code",
   "execution_count": null,
   "metadata": {
    "id": "OYmtbiKywmGB"
   },
   "outputs": [],
   "source": [
    "a_food = \"kebap\""
   ]
  },
  {
   "cell_type": "markdown",
   "metadata": {
    "id": "qJiQwosfyQxP"
   },
   "source": [
    "특정 인덱스에 위치한 문자의 정보는 다음과 같이 확인한다.\n",
    "* 0번 인덱스 값, 즉 첫째 문자"
   ]
  },
  {
   "cell_type": "code",
   "execution_count": null,
   "metadata": {
    "colab": {
     "base_uri": "https://localhost:8080/",
     "height": 35
    },
    "id": "D05-o2KKyPl_",
    "outputId": "050b84b0-f2c0-41c6-dabf-e9a1e9939a50"
   },
   "outputs": [
    {
     "data": {
      "application/vnd.google.colaboratory.intrinsic+json": {
       "type": "string"
      },
      "text/plain": [
       "'k'"
      ]
     },
     "execution_count": 32,
     "metadata": {
      "tags": []
     },
     "output_type": "execute_result"
    }
   ],
   "source": [
    "a_food[0]"
   ]
  },
  {
   "cell_type": "markdown",
   "metadata": {
    "id": "GiUV9C9Cycjn"
   },
   "source": [
    "* 1번 인덱스 값, 즉 둘째 문자"
   ]
  },
  {
   "cell_type": "code",
   "execution_count": null,
   "metadata": {
    "colab": {
     "base_uri": "https://localhost:8080/",
     "height": 35
    },
    "id": "LWk5BgYFyYk1",
    "outputId": "503d86b3-9ab8-4a9a-c772-fcb506f26592"
   },
   "outputs": [
    {
     "data": {
      "application/vnd.google.colaboratory.intrinsic+json": {
       "type": "string"
      },
      "text/plain": [
       "'e'"
      ]
     },
     "execution_count": 33,
     "metadata": {
      "tags": []
     },
     "output_type": "execute_result"
    }
   ],
   "source": [
    "a_food[1]"
   ]
  },
  {
   "cell_type": "markdown",
   "metadata": {
    "id": "Jrnvar7ZykcQ"
   },
   "source": [
    "* 2번 인덱스 값, 즉 셋째 문자"
   ]
  },
  {
   "cell_type": "code",
   "execution_count": null,
   "metadata": {
    "colab": {
     "base_uri": "https://localhost:8080/",
     "height": 35
    },
    "id": "Joko7nf9yie1",
    "outputId": "b352aba2-2390-481f-e9f4-f116541cc0ae"
   },
   "outputs": [
    {
     "data": {
      "application/vnd.google.colaboratory.intrinsic+json": {
       "type": "string"
      },
      "text/plain": [
       "'b'"
      ]
     },
     "execution_count": 34,
     "metadata": {
      "tags": []
     },
     "output_type": "execute_result"
    }
   ],
   "source": [
    "a_food[2]"
   ]
  },
  {
   "cell_type": "markdown",
   "metadata": {
    "id": "LHi1DSsxyutL"
   },
   "source": [
    "등등.\n",
    "\n",
    "\n",
    "**-1번 인덱스**  \n",
    "문자열이 길 경우 맨 오른쪽에 위치한 문자의 인덱스 번호를 확인하기가 어렵다. 그래서 파이썬에서는 -1을 마지막 문자의 인덱스로 사용한다.  \n",
    "즉, 맨 오른편의 인덱스는 -1이고, 그 왼편은 -2, 등등으로 진행한다. "
   ]
  },
  {
   "cell_type": "code",
   "execution_count": null,
   "metadata": {
    "colab": {
     "base_uri": "https://localhost:8080/",
     "height": 35
    },
    "id": "m3x-qZJkysh1",
    "outputId": "f63f23bb-d690-4c71-ce3d-219dd0a96aec"
   },
   "outputs": [
    {
     "data": {
      "application/vnd.google.colaboratory.intrinsic+json": {
       "type": "string"
      },
      "text/plain": [
       "'p'"
      ]
     },
     "execution_count": 35,
     "metadata": {
      "tags": []
     },
     "output_type": "execute_result"
    }
   ],
   "source": [
    "a_food[-1]"
   ]
  },
  {
   "cell_type": "code",
   "execution_count": null,
   "metadata": {
    "colab": {
     "base_uri": "https://localhost:8080/",
     "height": 35
    },
    "id": "6BVX1OUZzC61",
    "outputId": "9c26c716-94bf-4cd3-86da-0b469c717d76"
   },
   "outputs": [
    {
     "data": {
      "application/vnd.google.colaboratory.intrinsic+json": {
       "type": "string"
      },
      "text/plain": [
       "'a'"
      ]
     },
     "execution_count": 36,
     "metadata": {
      "tags": []
     },
     "output_type": "execute_result"
    }
   ],
   "source": [
    "a_food[-2]"
   ]
  },
  {
   "cell_type": "markdown",
   "metadata": {
    "id": "MC4F4fImzJSa"
   },
   "source": [
    "등등.  \n",
    "<br>\n",
    "\n",
    "**문자열의 길이와 인덱스**\n",
    "\n",
    "문자열의 길이보다 같거나 큰 인덱스를 사용하면 오류가 발생한다. 문자열의 길이는 `len()` 함수를 이용하여 확인할 수 있다."
   ]
  },
  {
   "cell_type": "code",
   "execution_count": null,
   "metadata": {
    "colab": {
     "base_uri": "https://localhost:8080/",
     "height": 169
    },
    "id": "085r9MHezHqd",
    "outputId": "92671fc2-bdf3-421d-dad2-572a51e0585d"
   },
   "outputs": [
    {
     "ename": "IndexError",
     "evalue": "ignored",
     "output_type": "error",
     "traceback": [
      "\u001b[0;31m---------------------------------------------------------------------------\u001b[0m",
      "\u001b[0;31mIndexError\u001b[0m                                Traceback (most recent call last)",
      "\u001b[0;32m<ipython-input-37-d133e021743e>\u001b[0m in \u001b[0;36m<module>\u001b[0;34m()\u001b[0m\n\u001b[0;32m----> 1\u001b[0;31m \u001b[0ma_food\u001b[0m\u001b[0;34m[\u001b[0m\u001b[0;36m5\u001b[0m\u001b[0;34m]\u001b[0m\u001b[0;34m\u001b[0m\u001b[0;34m\u001b[0m\u001b[0m\n\u001b[0m",
      "\u001b[0;31mIndexError\u001b[0m: string index out of range"
     ]
    }
   ],
   "source": [
    "a_food[5]"
   ]
  },
  {
   "cell_type": "code",
   "execution_count": null,
   "metadata": {
    "colab": {
     "base_uri": "https://localhost:8080/"
    },
    "id": "hjOdN6Ek0pYs",
    "outputId": "8edb0349-0a43-405e-caa3-03c049f0af02"
   },
   "outputs": [
    {
     "data": {
      "text/plain": [
       "5"
      ]
     },
     "execution_count": 38,
     "metadata": {
      "tags": []
     },
     "output_type": "execute_result"
    }
   ],
   "source": [
    "len(a_food)"
   ]
  },
  {
   "cell_type": "markdown",
   "metadata": {
    "id": "5PrjBzw00y83"
   },
   "source": [
    "### 슬라이싱\n",
    "\n",
    "문자열의 하나의 문자가 아닌 특정 구간 및 부분을 추출하고자 할 경우 슬라이싱을 사용한다. 슬라이싱은 다음과 같이 실행한다.\n",
    "\n",
    "> 문자열변수[시작인덱스 : 끝인덱스 : 계단(step)]\n",
    "\n",
    "* 시작인덱스 : 해당 인덱스부터 문자를 추출한다.\n",
    "* 끝인덱스 : 해당 인덱스 전까지 문자를 추출한다. \n",
    "* 계단(step) : 시작인덱스부터 몇 계단씩 건너뛰며 문자를 추출할지 결정한다. 예를 들어, 계단값이 2라면 하나 건너 추출한다.  "
   ]
  },
  {
   "cell_type": "code",
   "execution_count": null,
   "metadata": {
    "colab": {
     "base_uri": "https://localhost:8080/",
     "height": 35
    },
    "id": "AIOS685O0sMM",
    "outputId": "4cafd6ed-376a-49f6-dd15-a40662df6d49"
   },
   "outputs": [
    {
     "data": {
      "application/vnd.google.colaboratory.intrinsic+json": {
       "type": "string"
      },
      "text/plain": [
       "'kebap'"
      ]
     },
     "execution_count": 39,
     "metadata": {
      "tags": []
     },
     "output_type": "execute_result"
    }
   ],
   "source": [
    "a_food"
   ]
  },
  {
   "cell_type": "markdown",
   "metadata": {
    "id": "reZFCvS-1Zjb"
   },
   "source": [
    "`kebap`에서 `ke` 부분을 추출하고 싶다면 다음과 같이 하면 된다."
   ]
  },
  {
   "cell_type": "code",
   "execution_count": null,
   "metadata": {
    "colab": {
     "base_uri": "https://localhost:8080/",
     "height": 35
    },
    "id": "JJC517O31Wy4",
    "outputId": "54f871c0-27e6-47a1-de5c-6fc46a89d3f2"
   },
   "outputs": [
    {
     "data": {
      "application/vnd.google.colaboratory.intrinsic+json": {
       "type": "string"
      },
      "text/plain": [
       "'ke'"
      ]
     },
     "execution_count": 40,
     "metadata": {
      "tags": []
     },
     "output_type": "execute_result"
    }
   ],
   "source": [
    "a_food[0 : 2 : 1]"
   ]
  },
  {
   "cell_type": "markdown",
   "metadata": {
    "id": "4UvS0DW91kA8"
   },
   "source": [
    "즉, 문자열 처음부터 2번 인덱스 전까지, 즉 두 번째 문자까지 모두 추출하는 것이다. 반변에 하나씩 건너서 추출하려면 다음과 같이 하면 된다. "
   ]
  },
  {
   "cell_type": "code",
   "execution_count": null,
   "metadata": {
    "colab": {
     "base_uri": "https://localhost:8080/",
     "height": 35
    },
    "id": "IdKkVw9x1i5s",
    "outputId": "035b0b39-ac6f-4df1-f559-ae42e99eb471"
   },
   "outputs": [
    {
     "data": {
      "application/vnd.google.colaboratory.intrinsic+json": {
       "type": "string"
      },
      "text/plain": [
       "'kb'"
      ]
     },
     "execution_count": 42,
     "metadata": {
      "tags": []
     },
     "output_type": "execute_result"
    }
   ],
   "source": [
    "a_food[0 : 4 : 2]"
   ]
  },
  {
   "cell_type": "markdown",
   "metadata": {
    "id": "k2ZfBaY328IS"
   },
   "source": [
    "시작인덱스, 끝인덱스, 계단 각각의 인자는 경우에 따라 생략될 수도 있다. 그럴 때는 각각의 위치에 기본값(default)이 들어 있는 것으로 처리되며, 기본값은 다음과 같다.\n",
    "\n",
    "* `시작인덱스`의 기본값 = `0`\n",
    "* `끝인덱스`의 기본값 = 문자열의 길이\n",
    "* `계단`의 기본값 = `1`"
   ]
  },
  {
   "cell_type": "code",
   "execution_count": null,
   "metadata": {
    "colab": {
     "base_uri": "https://localhost:8080/",
     "height": 35
    },
    "id": "Wq9ETyve1wTM",
    "outputId": "758adf9a-57fa-4af2-c20a-2fad46dbeae0"
   },
   "outputs": [
    {
     "data": {
      "application/vnd.google.colaboratory.intrinsic+json": {
       "type": "string"
      },
      "text/plain": [
       "'ke'"
      ]
     },
     "execution_count": 43,
     "metadata": {
      "tags": []
     },
     "output_type": "execute_result"
    }
   ],
   "source": [
    "a_food[0 : 2]"
   ]
  },
  {
   "cell_type": "code",
   "execution_count": null,
   "metadata": {
    "colab": {
     "base_uri": "https://localhost:8080/",
     "height": 35
    },
    "id": "ZlOTBHjb3kUX",
    "outputId": "a1d947a0-d9b6-4cde-8393-3921c56549af"
   },
   "outputs": [
    {
     "data": {
      "application/vnd.google.colaboratory.intrinsic+json": {
       "type": "string"
      },
      "text/plain": [
       "'ke'"
      ]
     },
     "execution_count": 44,
     "metadata": {
      "tags": []
     },
     "output_type": "execute_result"
    }
   ],
   "source": [
    "a_food[ : 2]"
   ]
  },
  {
   "cell_type": "code",
   "execution_count": null,
   "metadata": {
    "colab": {
     "base_uri": "https://localhost:8080/",
     "height": 35
    },
    "id": "V9fTfxfr3mWl",
    "outputId": "0544a596-800a-4b71-b3b5-e606d45941f5"
   },
   "outputs": [
    {
     "data": {
      "application/vnd.google.colaboratory.intrinsic+json": {
       "type": "string"
      },
      "text/plain": [
       "'kb'"
      ]
     },
     "execution_count": 45,
     "metadata": {
      "tags": []
     },
     "output_type": "execute_result"
    }
   ],
   "source": [
    "a_food[ : 4 : 2]"
   ]
  },
  {
   "cell_type": "code",
   "execution_count": null,
   "metadata": {
    "colab": {
     "base_uri": "https://localhost:8080/",
     "height": 35
    },
    "id": "JwyYmASn3owl",
    "outputId": "44932d0a-2fee-4f04-c896-ce38f44f08ba"
   },
   "outputs": [
    {
     "data": {
      "application/vnd.google.colaboratory.intrinsic+json": {
       "type": "string"
      },
      "text/plain": [
       "'kbp'"
      ]
     },
     "execution_count": 46,
     "metadata": {
      "tags": []
     },
     "output_type": "execute_result"
    }
   ],
   "source": [
    "a_food[ : : 2]"
   ]
  },
  {
   "cell_type": "markdown",
   "metadata": {
    "id": "1g9CM3fc3tPU"
   },
   "source": [
    "양수와 음수를 인덱스로 섞어서 사용할 수도 있다."
   ]
  },
  {
   "cell_type": "code",
   "execution_count": null,
   "metadata": {
    "colab": {
     "base_uri": "https://localhost:8080/",
     "height": 35
    },
    "id": "2v4sCel73rkF",
    "outputId": "548001cd-6a1b-46f7-b1d4-57ddef4dbebb"
   },
   "outputs": [
    {
     "data": {
      "application/vnd.google.colaboratory.intrinsic+json": {
       "type": "string"
      },
      "text/plain": [
       "'kb'"
      ]
     },
     "execution_count": 47,
     "metadata": {
      "tags": []
     },
     "output_type": "execute_result"
    }
   ],
   "source": [
    "a_food[ : -1 : 2]"
   ]
  },
  {
   "cell_type": "markdown",
   "metadata": {
    "id": "x5f03A9V32zy"
   },
   "source": [
    "주의 : -1은 문자열의 끝인덱스를 의미한다.  \n",
    "\n",
    "끝인덱스가 문자열의 길이보다 클 수도 있다. 다만 문자열의 길이만큼만 문자를 확인하다. "
   ]
  },
  {
   "cell_type": "code",
   "execution_count": null,
   "metadata": {
    "colab": {
     "base_uri": "https://localhost:8080/",
     "height": 35
    },
    "id": "E5W1d6yb3yi1",
    "outputId": "80f4344d-adbe-4622-8a09-1fd9daa285ae"
   },
   "outputs": [
    {
     "data": {
      "application/vnd.google.colaboratory.intrinsic+json": {
       "type": "string"
      },
      "text/plain": [
       "'kebap'"
      ]
     },
     "execution_count": 48,
     "metadata": {
      "tags": []
     },
     "output_type": "execute_result"
    }
   ],
   "source": [
    "a_food[: 10]"
   ]
  },
  {
   "cell_type": "markdown",
   "metadata": {
    "id": "SisBxWXN4GMI"
   },
   "source": [
    "아래와 같이 아무것도 입력하지 않으면 해당 문자열 전체를 추출한다."
   ]
  },
  {
   "cell_type": "code",
   "execution_count": null,
   "metadata": {
    "colab": {
     "base_uri": "https://localhost:8080/",
     "height": 35
    },
    "id": "ZjKeSt3V4EvV",
    "outputId": "42bee550-89aa-4818-972d-bbdc7667e5ec"
   },
   "outputs": [
    {
     "data": {
      "application/vnd.google.colaboratory.intrinsic+json": {
       "type": "string"
      },
      "text/plain": [
       "'kebap'"
      ]
     },
     "execution_count": 49,
     "metadata": {
      "tags": []
     },
     "output_type": "execute_result"
    }
   ],
   "source": [
    "a_food[:]"
   ]
  },
  {
   "cell_type": "markdown",
   "metadata": {
    "id": "dgy1RtXv4NKo"
   },
   "source": [
    "시작인덱스의 값이 끝인덱스 값보다 같거나 작아야 제대로 추출한다. 그렇지 않으면 공문자열이 추출된다."
   ]
  },
  {
   "cell_type": "code",
   "execution_count": null,
   "metadata": {
    "colab": {
     "base_uri": "https://localhost:8080/",
     "height": 35
    },
    "id": "q9q9S3O14Ly8",
    "outputId": "18b4245e-03b4-476f-a3a4-46f8054942fc"
   },
   "outputs": [
    {
     "data": {
      "application/vnd.google.colaboratory.intrinsic+json": {
       "type": "string"
      },
      "text/plain": [
       "''"
      ]
     },
     "execution_count": 50,
     "metadata": {
      "tags": []
     },
     "output_type": "execute_result"
    }
   ],
   "source": [
    "a_food[3 : 1]"
   ]
  },
  {
   "cell_type": "markdown",
   "metadata": {
    "id": "tL6QBFeg4Yl0"
   },
   "source": [
    "이유는 슬라이싱은 기본적으로 작은 인덱스에서 큰 인덱스 방향으로 확인하기 때문이다. 역순으로 추출하고자 한다면 계단을 음수로 사용하면 된다."
   ]
  },
  {
   "cell_type": "code",
   "execution_count": null,
   "metadata": {
    "colab": {
     "base_uri": "https://localhost:8080/",
     "height": 35
    },
    "id": "U5moAGNZ4V_L",
    "outputId": "dbd34707-764d-4a73-e9ac-914df26142d5"
   },
   "outputs": [
    {
     "data": {
      "application/vnd.google.colaboratory.intrinsic+json": {
       "type": "string"
      },
      "text/plain": [
       "'ab'"
      ]
     },
     "execution_count": 51,
     "metadata": {
      "tags": []
     },
     "output_type": "execute_result"
    }
   ],
   "source": [
    "a_food[3 : 1 : -1]"
   ]
  },
  {
   "cell_type": "code",
   "execution_count": null,
   "metadata": {
    "colab": {
     "base_uri": "https://localhost:8080/",
     "height": 35
    },
    "id": "hz1n2zbC4ker",
    "outputId": "adfe237e-fa42-46eb-ab04-9a9c7f6bc581"
   },
   "outputs": [
    {
     "data": {
      "application/vnd.google.colaboratory.intrinsic+json": {
       "type": "string"
      },
      "text/plain": [
       "'pabek'"
      ]
     },
     "execution_count": 52,
     "metadata": {
      "tags": []
     },
     "output_type": "execute_result"
    }
   ],
   "source": [
    "a_food[-1 : : -1]"
   ]
  },
  {
   "cell_type": "markdown",
   "metadata": {
    "id": "jztL-_Wd81l2"
   },
   "source": [
    "### 문자열 관련 메소드\n",
    "\n",
    "문자열 자료형에만 사용하는 함수들이 있다. 이와같이 특정 자료형에만 사용하는 함수들을 메소드(method)라 부른다.  \n",
    "\n",
    "보다 자세한 설명은 여기서는 하지 않는다. 다만 특정 자료형을 잘 다루기 위해서는 어떤 경우에 어떤 메소드를 유용하게 활용할 수 있는지를 잘 파악해두는 것이 매우 중요하다는 점만 강조한다. \n"
   ]
  },
  {
   "cell_type": "markdown",
   "metadata": {
    "id": "uSTq4LGT9k5P"
   },
   "source": [
    "#### 메소드 호출방법\n",
    "\n",
    "예를 들어, `banana` 문자열을 이용하여 `BANANA`처럼 모두 대문자로만 구성된 문자열을 생성하고자 한다면 `upper`라는 메소드를 아래와 같이 사용한다.\n",
    "\n",
    "> `'banana'.upper()` \n",
    "\n",
    "메소드는 일반적인 함수들과는 달리, 특정 자료형의 값이 먼저 언급된 다음에 호출된다. "
   ]
  },
  {
   "cell_type": "markdown",
   "metadata": {
    "id": "YlZbPRF4_dDV"
   },
   "source": [
    "#### 문자열 메소드 추가 예제\n",
    "\n",
    "`upper()` 메소드 이외에 문자열과 관련된 메소드는 매우 많다. 여기서는 가장 많이 사용되는 메소드 몇 개를 소개하고자 한다. \n",
    "\n",
    "* `strip()`\n",
    "* `split()`\n",
    "* `replace()`\n",
    "* `upper()`\n",
    "* `lower()`\n",
    "* `capitalize()`\n",
    "* `title()`\n",
    "* `startswith()`\n",
    "* `endswith()`\n",
    "\n",
    "예제를 통해 각 메소드의 활용법을 간략하게 확인한다. \n",
    "\n",
    "먼저 `week_days` 변수에 요일들을 저장한다."
   ]
  },
  {
   "cell_type": "code",
   "execution_count": null,
   "metadata": {
    "id": "r5Kx4W-F4o30"
   },
   "outputs": [],
   "source": [
    "week_days = \" Mon, Tue, Wed, Thu, Fri, Sat, Sun \""
   ]
  },
  {
   "cell_type": "markdown",
   "metadata": {
    "id": "phhtkQ9uBqfW"
   },
   "source": [
    "* `strip()` 메소드는 문자열의 양 끝을 지정한 문자열 기준으로 삭제하는 방식으로 정리한다. \n",
    "예를 들어, 문자열 양 끝에 있는 스페이스를 삭제하고자 할 경우 아래와 같이 실행한다. "
   ]
  },
  {
   "cell_type": "code",
   "execution_count": null,
   "metadata": {
    "colab": {
     "base_uri": "https://localhost:8080/",
     "height": 35
    },
    "id": "Kl9OJTw7B5U8",
    "outputId": "d8523501-b01c-493f-eebb-befb5a33a2e9"
   },
   "outputs": [
    {
     "data": {
      "application/vnd.google.colaboratory.intrinsic+json": {
       "type": "string"
      },
      "text/plain": [
       "'Mon, Tue, Wed, Thu, Fri, Sat, Sun'"
      ]
     },
     "execution_count": 60,
     "metadata": {
      "tags": []
     },
     "output_type": "execute_result"
    }
   ],
   "source": [
    "week_days.strip(\" \")"
   ]
  },
  {
   "cell_type": "markdown",
   "metadata": {
    "id": "oJP-BhxkCIRo"
   },
   "source": [
    "`strip()` 메소드를 인자 없이 호출하는 경우와 동일하다. "
   ]
  },
  {
   "cell_type": "code",
   "execution_count": null,
   "metadata": {
    "colab": {
     "base_uri": "https://localhost:8080/",
     "height": 35
    },
    "id": "cGosY_UCCCC9",
    "outputId": "b834a383-a188-4243-90e4-1c0fdb8280fb"
   },
   "outputs": [
    {
     "data": {
      "application/vnd.google.colaboratory.intrinsic+json": {
       "type": "string"
      },
      "text/plain": [
       "'Mon, Tue, Wed, Thu, Fri, Sat, Sun'"
      ]
     },
     "execution_count": 61,
     "metadata": {
      "tags": []
     },
     "output_type": "execute_result"
    }
   ],
   "source": [
    "week_days.strip()"
   ]
  },
  {
   "cell_type": "markdown",
   "metadata": {
    "id": "FIHx8VOxCVLy"
   },
   "source": [
    "* `split()` 메소드는 지정된 부분문자열을 기준으로 문자열을 쪼개어 문자열들의 리스트로 반환한다. 리스트 자료형은 이후에 자세히 다룬다.  \n",
    "\n",
    "아래의 예제는 `\", \"`, 즉 콤마와 스페이스를 기준으로 문자열을 쪼갠다."
   ]
  },
  {
   "cell_type": "code",
   "execution_count": null,
   "metadata": {
    "colab": {
     "base_uri": "https://localhost:8080/"
    },
    "id": "qZrdwixFCS_2",
    "outputId": "26248c28-13b4-4766-d346-ad5471934b1c"
   },
   "outputs": [
    {
     "data": {
      "text/plain": [
       "[' Mon', 'Tue', 'Wed', 'Thu', 'Fri', 'Sat', 'Sun ']"
      ]
     },
     "execution_count": 62,
     "metadata": {
      "tags": []
     },
     "output_type": "execute_result"
    }
   ],
   "source": [
    "week_days.split(\", \")"
   ]
  },
  {
   "cell_type": "markdown",
   "metadata": {
    "id": "gIQ9WDMdCsRL"
   },
   "source": [
    "두 개 이상의 메소드를 조합해서 활용할 수도 있다.  \n",
    "예를 들어, `strip()` 메소드를 먼저 실행한 다음에 그 결과에 `split()` 메소드를 실행하면 좀 더 산뜻한 결과를 얻을 수 있다. "
   ]
  },
  {
   "cell_type": "code",
   "execution_count": null,
   "metadata": {
    "colab": {
     "base_uri": "https://localhost:8080/"
    },
    "id": "5g1FWGqVCqyV",
    "outputId": "cb129566-4e3b-4883-cd2a-d8aa5a91410f"
   },
   "outputs": [
    {
     "data": {
      "text/plain": [
       "['Mon', 'Tue', 'Wed', 'Thu', 'Fri', 'Sat', 'Sun']"
      ]
     },
     "execution_count": 63,
     "metadata": {
      "tags": []
     },
     "output_type": "execute_result"
    }
   ],
   "source": [
    "week_days.strip(\" \").split(\", \")"
   ]
  },
  {
   "cell_type": "markdown",
   "metadata": {
    "id": "nKXeO-MgDCLU"
   },
   "source": [
    "주의 : 아래와 같이 `split()` 메소드를 실행한 다음에 그 결과에 `strip()` 메소드를 실행하면 오류가 발생한다. 앞에서 언급한 것처럼 `split()` 메소드는 지정된 부분문자열을 기준으로 문자열을 쪼개어 문자열들의 리스트로 반환하고, 리스트에는 `strip()` 메소드가 없기 때문이다."
   ]
  },
  {
   "cell_type": "code",
   "execution_count": null,
   "metadata": {
    "colab": {
     "base_uri": "https://localhost:8080/",
     "height": 169
    },
    "id": "aPvT3esbDAml",
    "outputId": "bd519ff8-f26d-4329-f2e4-6d4fda18beb4"
   },
   "outputs": [
    {
     "ename": "AttributeError",
     "evalue": "ignored",
     "output_type": "error",
     "traceback": [
      "\u001b[0;31m---------------------------------------------------------------------------\u001b[0m",
      "\u001b[0;31mAttributeError\u001b[0m                            Traceback (most recent call last)",
      "\u001b[0;32m<ipython-input-64-df2f84ecfaf8>\u001b[0m in \u001b[0;36m<module>\u001b[0;34m()\u001b[0m\n\u001b[0;32m----> 1\u001b[0;31m \u001b[0mweek_days\u001b[0m\u001b[0;34m.\u001b[0m\u001b[0msplit\u001b[0m\u001b[0;34m(\u001b[0m\u001b[0;34m\", \"\u001b[0m\u001b[0;34m)\u001b[0m\u001b[0;34m.\u001b[0m\u001b[0mstrip\u001b[0m\u001b[0;34m(\u001b[0m\u001b[0;34m\" \"\u001b[0m\u001b[0;34m)\u001b[0m\u001b[0;34m\u001b[0m\u001b[0;34m\u001b[0m\u001b[0m\n\u001b[0m",
      "\u001b[0;31mAttributeError\u001b[0m: 'list' object has no attribute 'strip'"
     ]
    }
   ],
   "source": [
    "week_days.split(\", \").strip(\" \")"
   ]
  },
  {
   "cell_type": "markdown",
   "metadata": {
    "id": "nun1hRtSFm4R"
   },
   "source": [
    "* `replace()` 메소드는 하나의 문자열을 다른 문자열로 대체한다. \n",
    " \n",
    "예를 들어, `\" Mon\"`을 `Mon`으로 대체할 경우 아래와 같이 실행한다."
   ]
  },
  {
   "cell_type": "code",
   "execution_count": null,
   "metadata": {
    "colab": {
     "base_uri": "https://localhost:8080/",
     "height": 35
    },
    "id": "YfCbnt2mFinK",
    "outputId": "b964b7b2-0304-41b5-966f-9b7cf3775749"
   },
   "outputs": [
    {
     "data": {
      "application/vnd.google.colaboratory.intrinsic+json": {
       "type": "string"
      },
      "text/plain": [
       "'Mon, Tue, Wed, Thu, Fri, Sat, Sun '"
      ]
     },
     "execution_count": 65,
     "metadata": {
      "tags": []
     },
     "output_type": "execute_result"
    }
   ],
   "source": [
    "week_days.replace(\" Mon\", \"Mon\")"
   ]
  },
  {
   "cell_type": "markdown",
   "metadata": {
    "id": "PNxqHMf3GRqa"
   },
   "source": [
    "* `upper()` 메소드는 모든 문자를 대문자로 변환시킨다. "
   ]
  },
  {
   "cell_type": "code",
   "execution_count": null,
   "metadata": {
    "colab": {
     "base_uri": "https://localhost:8080/",
     "height": 35
    },
    "id": "ZreK3g6uGQGc",
    "outputId": "d542bf59-38db-4ebc-df9d-c9d89cd1d8fc"
   },
   "outputs": [
    {
     "data": {
      "application/vnd.google.colaboratory.intrinsic+json": {
       "type": "string"
      },
      "text/plain": [
       "' MON, TUE, WED, THU, FRI, SAT, SUN '"
      ]
     },
     "execution_count": 66,
     "metadata": {
      "tags": []
     },
     "output_type": "execute_result"
    }
   ],
   "source": [
    "week_days.upper()"
   ]
  },
  {
   "cell_type": "code",
   "execution_count": null,
   "metadata": {
    "colab": {
     "base_uri": "https://localhost:8080/",
     "height": 35
    },
    "id": "tIDhOqAoGbA9",
    "outputId": "c4c45e6c-3775-4d1a-cdbe-d2789abd7b28"
   },
   "outputs": [
    {
     "data": {
      "application/vnd.google.colaboratory.intrinsic+json": {
       "type": "string"
      },
      "text/plain": [
       "'MON, TUE, WED, THU, FRI, SAT, SUN'"
      ]
     },
     "execution_count": 67,
     "metadata": {
      "tags": []
     },
     "output_type": "execute_result"
    }
   ],
   "source": [
    "week_days.strip().upper()"
   ]
  },
  {
   "cell_type": "markdown",
   "metadata": {
    "id": "If_KLF46Ghzc"
   },
   "source": [
    "* `lower()` 메소드는 모든 문자를 소문자로 변환시킨다."
   ]
  },
  {
   "cell_type": "code",
   "execution_count": null,
   "metadata": {
    "colab": {
     "base_uri": "https://localhost:8080/",
     "height": 35
    },
    "id": "xX7o0ELPGfau",
    "outputId": "18e72762-5c99-4314-f50c-8033e56c92fc"
   },
   "outputs": [
    {
     "data": {
      "application/vnd.google.colaboratory.intrinsic+json": {
       "type": "string"
      },
      "text/plain": [
       "' mon, tue, wed, thu, fri, sat, sun '"
      ]
     },
     "execution_count": 68,
     "metadata": {
      "tags": []
     },
     "output_type": "execute_result"
    }
   ],
   "source": [
    "week_days.lower()"
   ]
  },
  {
   "cell_type": "code",
   "execution_count": null,
   "metadata": {
    "colab": {
     "base_uri": "https://localhost:8080/",
     "height": 35
    },
    "id": "2Qc3N5TtGs2e",
    "outputId": "bcc9b520-64b3-4d27-9c39-9969025689ba"
   },
   "outputs": [
    {
     "data": {
      "application/vnd.google.colaboratory.intrinsic+json": {
       "type": "string"
      },
      "text/plain": [
       "'mon, tue, wed, thu, fri, sat, sun'"
      ]
     },
     "execution_count": 69,
     "metadata": {
      "tags": []
     },
     "output_type": "execute_result"
    }
   ],
   "source": [
    "week_days.strip().lower()"
   ]
  },
  {
   "cell_type": "code",
   "execution_count": null,
   "metadata": {
    "colab": {
     "base_uri": "https://localhost:8080/"
    },
    "id": "95x5SwNqGxP-",
    "outputId": "06114cf7-06a8-4554-cd0d-c11f50dc8884"
   },
   "outputs": [
    {
     "data": {
      "text/plain": [
       "['mon', 'tue', 'wed', 'thu', 'fri', 'sat', 'sun']"
      ]
     },
     "execution_count": 70,
     "metadata": {
      "tags": []
     },
     "output_type": "execute_result"
    }
   ],
   "source": [
    "week_days.strip().lower().split(\", \")"
   ]
  },
  {
   "cell_type": "markdown",
   "metadata": {
    "id": "9bhV4ww8Gply"
   },
   "source": [
    "* `caplitalize()` 메소드는 제일 첫 문자를 대문자로 변환시킨다.  \n",
    "\n",
    "아래 예제는 변화가 없어 보인다. 이유는 첫 문자가 스페이스이기 때문이다."
   ]
  },
  {
   "cell_type": "code",
   "execution_count": null,
   "metadata": {
    "colab": {
     "base_uri": "https://localhost:8080/",
     "height": 35
    },
    "id": "bUXb0Y3FGoct",
    "outputId": "d05d5c52-c8cd-47b3-dc8d-54e8022bd6b3"
   },
   "outputs": [
    {
     "data": {
      "application/vnd.google.colaboratory.intrinsic+json": {
       "type": "string"
      },
      "text/plain": [
       "' mon, tue, wed, thu, fri, sat, sun '"
      ]
     },
     "execution_count": 71,
     "metadata": {
      "tags": []
     },
     "output_type": "execute_result"
    }
   ],
   "source": [
    "week_days.capitalize()"
   ]
  },
  {
   "cell_type": "code",
   "execution_count": null,
   "metadata": {
    "colab": {
     "base_uri": "https://localhost:8080/",
     "height": 35
    },
    "id": "8puRDSuYHGtE",
    "outputId": "c3ebaf82-ef23-4f33-8b91-18dd68376112"
   },
   "outputs": [
    {
     "data": {
      "application/vnd.google.colaboratory.intrinsic+json": {
       "type": "string"
      },
      "text/plain": [
       "'Mon, tue, wed, thu, fri, sat, sun'"
      ]
     },
     "execution_count": 72,
     "metadata": {
      "tags": []
     },
     "output_type": "execute_result"
    }
   ],
   "source": [
    "week_days.strip().capitalize()"
   ]
  },
  {
   "cell_type": "markdown",
   "metadata": {
    "id": "z6eNsb8MHRWz"
   },
   "source": [
    "* `title()` 메소드는 각각의 단어의 첫 문자를 대문자로 변환시킨다.  \n",
    "\n",
    "참고 : 영문 책의 타이틀은 각 단어의 첫 알파벳이 대문자로 쓰여진 경우가 많다. "
   ]
  },
  {
   "cell_type": "code",
   "execution_count": null,
   "metadata": {
    "colab": {
     "base_uri": "https://localhost:8080/",
     "height": 35
    },
    "id": "qGOMI2ULHLjG",
    "outputId": "e1ddee10-c679-4d3a-af5b-6e1a519109ac"
   },
   "outputs": [
    {
     "data": {
      "application/vnd.google.colaboratory.intrinsic+json": {
       "type": "string"
      },
      "text/plain": [
       "' Mon, Tue, Wed, Thu, Fri, Sat, Sun '"
      ]
     },
     "execution_count": 73,
     "metadata": {
      "tags": []
     },
     "output_type": "execute_result"
    }
   ],
   "source": [
    "week_days.title()"
   ]
  },
  {
   "cell_type": "code",
   "execution_count": null,
   "metadata": {
    "colab": {
     "base_uri": "https://localhost:8080/",
     "height": 35
    },
    "id": "_1xmBli3HoEL",
    "outputId": "b015d8ef-84d5-4a63-e709-cb613172f1dd"
   },
   "outputs": [
    {
     "data": {
      "application/vnd.google.colaboratory.intrinsic+json": {
       "type": "string"
      },
      "text/plain": [
       "'Mon, Tue, Wed, Thu, Fri, Sat, Sun'"
      ]
     },
     "execution_count": 74,
     "metadata": {
      "tags": []
     },
     "output_type": "execute_result"
    }
   ],
   "source": [
    "week_days.strip().title()"
   ]
  },
  {
   "cell_type": "markdown",
   "metadata": {
    "id": "ZLfkHCKzHvF5"
   },
   "source": [
    "* `startswith()` 메소드는 문자열이 특정 문자열로 시작하는지 여부를 판단해준다."
   ]
  },
  {
   "cell_type": "code",
   "execution_count": null,
   "metadata": {
    "colab": {
     "base_uri": "https://localhost:8080/"
    },
    "id": "abfrneHIHsil",
    "outputId": "f237bfe6-9290-4b27-b93b-22e25a9f1bfd"
   },
   "outputs": [
    {
     "data": {
      "text/plain": [
       "True"
      ]
     },
     "execution_count": 75,
     "metadata": {
      "tags": []
     },
     "output_type": "execute_result"
    }
   ],
   "source": [
    "week_days.startswith(\" M\")"
   ]
  },
  {
   "cell_type": "markdown",
   "metadata": {
    "id": "cmBi66mOH4yR"
   },
   "source": [
    "* `endswith()` 메소드는 문자열이 특정 문자열로 끝나는지 여부를 판단해준다."
   ]
  },
  {
   "cell_type": "code",
   "execution_count": null,
   "metadata": {
    "colab": {
     "base_uri": "https://localhost:8080/"
    },
    "id": "zpbFB-zrH3eV",
    "outputId": "d663017b-fa97-4c22-a221-b2ff92cd8ea7"
   },
   "outputs": [
    {
     "data": {
      "text/plain": [
       "True"
      ]
     },
     "execution_count": 76,
     "metadata": {
      "tags": []
     },
     "output_type": "execute_result"
    }
   ],
   "source": [
    "week_days.endswith(\"n \")"
   ]
  },
  {
   "cell_type": "markdown",
   "metadata": {
    "id": "mmPvJrFOIFWu"
   },
   "source": [
    "### 불변 자료형\n",
    "\n",
    "파이썬의 문자열 자료형의 값들은 변경이 불가능하다. 앞서 `week_days`에 할당된 문자열에 다양한 메소드를 적용하여 새로운 문자열을 생성하였지만 `week_days`에 할당된 문자열 자체는 전혀 변하지 않았음을 아래와 같이 확인할 수 있다. "
   ]
  },
  {
   "cell_type": "code",
   "execution_count": null,
   "metadata": {
    "colab": {
     "base_uri": "https://localhost:8080/",
     "height": 35
    },
    "id": "uSd77qJKIDGM",
    "outputId": "a1da0c89-3b52-4ac9-ef53-8806c4c1a5ab"
   },
   "outputs": [
    {
     "data": {
      "application/vnd.google.colaboratory.intrinsic+json": {
       "type": "string"
      },
      "text/plain": [
       "' Mon, Tue, Wed, Thu, Fri, Sat, Sun '"
      ]
     },
     "execution_count": 77,
     "metadata": {
      "tags": []
     },
     "output_type": "execute_result"
    }
   ],
   "source": [
    "week_days"
   ]
  },
  {
   "cell_type": "markdown",
   "metadata": {
    "id": "ljfkQO4HKaDj"
   },
   "source": [
    "이와 같이 한 번 정해지면 절대 변경이 불가능한 자료형을 불변(immutable) 자료형이라 부른다.  \n",
    "주어진 문자열을 이용하여 새로운 문자열을 생성하고 활용하려면 새로운 변수에 저장하여 활용해야 한다."
   ]
  },
  {
   "cell_type": "code",
   "execution_count": null,
   "metadata": {
    "id": "AJq3Hpw-KZKO"
   },
   "outputs": [],
   "source": [
    "stripped_week_days = week_days.strip()"
   ]
  },
  {
   "cell_type": "code",
   "execution_count": null,
   "metadata": {
    "colab": {
     "base_uri": "https://localhost:8080/",
     "height": 35
    },
    "id": "LD3e-wejKpw1",
    "outputId": "353f278b-aac7-42e5-c06d-2155187f0150"
   },
   "outputs": [
    {
     "data": {
      "application/vnd.google.colaboratory.intrinsic+json": {
       "type": "string"
      },
      "text/plain": [
       "'Mon, Tue, Wed, Thu, Fri, Sat, Sun'"
      ]
     },
     "execution_count": 79,
     "metadata": {
      "tags": []
     },
     "output_type": "execute_result"
    }
   ],
   "source": [
    "stripped_week_days"
   ]
  },
  {
   "cell_type": "code",
   "execution_count": null,
   "metadata": {
    "id": "8a34nhmjuWDD"
   },
   "outputs": [],
   "source": []
  }
 ],
 "metadata": {
  "colab": {
   "collapsed_sections": [],
   "name": "2주차_강의노트.ipynb",
   "provenance": [],
   "toc_visible": true
  },
  "kernelspec": {
   "display_name": "Python 3",
   "language": "python",
   "name": "python3"
  },
  "language_info": {
   "codemirror_mode": {
    "name": "ipython",
    "version": 3
   },
   "file_extension": ".py",
   "mimetype": "text/x-python",
   "name": "python",
   "nbconvert_exporter": "python",
   "pygments_lexer": "ipython3",
   "version": "3.8.5"
  }
 },
 "nbformat": 4,
 "nbformat_minor": 1
}
