{
 "cells": [
  {
   "cell_type": "markdown",
   "metadata": {
    "id": "qEzG70qyz-vb"
   },
   "source": [
    "# 머신러닝(응수 전공) 중간고사 (2021년 1학기)"
   ]
  },
  {
   "cell_type": "markdown",
   "metadata": {},
   "source": [
    "__이름:__"
   ]
  },
  {
   "cell_type": "markdown",
   "metadata": {},
   "source": [
    "__학번:__"
   ]
  },
  {
   "cell_type": "markdown",
   "metadata": {
    "id": "ZH4Xviwf0O_s"
   },
   "source": [
    "__문제 1.__ 반지름이 3인 원의 둘래를 구하라. 단, 원주율은 3.14로 계산한다. (20점)"
   ]
  },
  {
   "cell_type": "code",
   "execution_count": 1,
   "metadata": {},
   "outputs": [],
   "source": [
    "# pass와 None을 적절한 코드와 표현식으로 대체하라.\n",
    "\n",
    "radius = 3\n",
    "pi = 3.14\n",
    "\n",
    "circumference = 2 * pi * radius"
   ]
  },
  {
   "cell_type": "code",
   "execution_count": 2,
   "metadata": {},
   "outputs": [
    {
     "name": "stdout",
     "output_type": "stream",
     "text": [
      "18.84\n"
     ]
    }
   ],
   "source": [
    "print(circumference)"
   ]
  },
  {
   "cell_type": "markdown",
   "metadata": {
    "id": "DxP4L1g30ZpC"
   },
   "source": [
    "__문제 2.__ 500만원을 연이율 2%인 예금에 10년간 복리로 은행에 맡겼다. \n",
    "10년 후에 받는 돈은 얼마인지를 확인하는 코드를 작성하여라.  (20점)"
   ]
  },
  {
   "cell_type": "code",
   "execution_count": 3,
   "metadata": {},
   "outputs": [],
   "source": [
    "# pass와 None을 적절한 코드와 표현식으로 대체하라.\n",
    "\n",
    "principal = 5000000  # 원금\n",
    "rate = 0.02          # 연이자율\n",
    "\n",
    "# 10년 후 원금자 이자 (소수점 절삭)\n",
    "sum = int(principal*(1 + rate)**10)"
   ]
  },
  {
   "cell_type": "code",
   "execution_count": 4,
   "metadata": {},
   "outputs": [
    {
     "name": "stdout",
     "output_type": "stream",
     "text": [
      "10년 후 받는 원금 + 이자는 6094972원입니다.\n"
     ]
    }
   ],
   "source": [
    "print(f\"10년 후 받는 원금 + 이자는 {sum}원입니다.\")"
   ]
  },
  {
   "cell_type": "markdown",
   "metadata": {},
   "source": [
    "__문제 3.__\n",
    "아래 노래 가사를 활용하는 문제이다."
   ]
  },
  {
   "cell_type": "code",
   "execution_count": 5,
   "metadata": {},
   "outputs": [],
   "source": [
    "song = \"When you are smiling, the whole world smiles with you\""
   ]
  },
  {
   "cell_type": "markdown",
   "metadata": {},
   "source": [
    "`song`이 가리키는 문자열에서 지정된 문자들만 제거하는 함수 `remove_letters()`를 정의하라. (20점)"
   ]
  },
  {
   "cell_type": "code",
   "execution_count": 6,
   "metadata": {},
   "outputs": [],
   "source": [
    "# pass 를 적절한 코드로 대체하라.\n",
    "\n",
    "def remove_letters(s):\n",
    "    new_song = ''\n",
    "    for word in song.lower():\n",
    "        if word not in s:\n",
    "            new_song += word\n",
    "    \n",
    "    return new_song"
   ]
  },
  {
   "cell_type": "code",
   "execution_count": 7,
   "metadata": {},
   "outputs": [
    {
     "data": {
      "text/plain": [
       "'whnyrsmlng,thwhlwrldsmlswthy'"
      ]
     },
     "execution_count": 7,
     "metadata": {},
     "output_type": "execute_result"
    }
   ],
   "source": [
    "remove_letters('aeiou ')"
   ]
  },
  {
   "cell_type": "markdown",
   "metadata": {},
   "source": [
    "대소 문자를 그대로 유지하려면 다음과 해야 한다."
   ]
  },
  {
   "cell_type": "code",
   "execution_count": 8,
   "metadata": {},
   "outputs": [],
   "source": [
    "# pass 를 적절한 코드로 대체하라.\n",
    "\n",
    "def remove_letters(s):\n",
    "    new_song = ''\n",
    "    for word in song:\n",
    "        if word not in s:\n",
    "            new_song += word\n",
    "    \n",
    "    return new_song"
   ]
  },
  {
   "cell_type": "code",
   "execution_count": 9,
   "metadata": {},
   "outputs": [
    {
     "data": {
      "text/plain": [
       "'Whnyrsmlng,thwhlwrldsmlswthy'"
      ]
     },
     "execution_count": 9,
     "metadata": {},
     "output_type": "execute_result"
    }
   ],
   "source": [
    "remove_letters('aeiou ')"
   ]
  },
  {
   "cell_type": "markdown",
   "metadata": {},
   "source": [
    "__문제 4.__\n",
    "아래 코드는 지정된 숫자의 짝수/홀수 여부를 판명해준다. (20점)"
   ]
  },
  {
   "cell_type": "code",
   "execution_count": 10,
   "metadata": {},
   "outputs": [
    {
     "name": "stdout",
     "output_type": "stream",
     "text": [
      "7는 홀수입니다.\n"
     ]
    }
   ],
   "source": [
    "x = 7\n",
    "\n",
    "if x%2==0:                     \n",
    "    print(f\"{x}는 짝수입니다.\")\n",
    "else:                          \n",
    "    print(f\"{x}는 홀수입니다.\")\n"
   ]
  },
  {
   "cell_type": "markdown",
   "metadata": {},
   "source": [
    "위 코드를 이용하여 숫자가 입력되면 짝수/홀수 여부를 판명하는 함수를 정의하라."
   ]
  },
  {
   "cell_type": "code",
   "execution_count": 11,
   "metadata": {},
   "outputs": [],
   "source": [
    "# pass를 적절한 코드로 대체하라. return 예약어를 적절하게 사용해야 한다.\n",
    "\n",
    "def even_odd(x):\n",
    "    if x%2==0:                     \n",
    "        return f\"{x}는 짝수입니다.\"\n",
    "    else:                          \n",
    "        return f\"{x}는 홀수입니다.\""
   ]
  },
  {
   "cell_type": "code",
   "execution_count": 12,
   "metadata": {},
   "outputs": [
    {
     "name": "stdout",
     "output_type": "stream",
     "text": [
      "7는 홀수입니다.\n"
     ]
    }
   ],
   "source": [
    "print(even_odd(7))"
   ]
  },
  {
   "cell_type": "code",
   "execution_count": 13,
   "metadata": {},
   "outputs": [
    {
     "name": "stdout",
     "output_type": "stream",
     "text": [
      "4는 짝수입니다.\n"
     ]
    }
   ],
   "source": [
    "print(even_odd(4))"
   ]
  }
 ],
 "metadata": {
  "colab": {
   "collapsed_sections": [],
   "name": "실습답안2.ipynb",
   "provenance": []
  },
  "kernelspec": {
   "display_name": "Python 3",
   "language": "python",
   "name": "python3"
  },
  "language_info": {
   "codemirror_mode": {
    "name": "ipython",
    "version": 3
   },
   "file_extension": ".py",
   "mimetype": "text/x-python",
   "name": "python",
   "nbconvert_exporter": "python",
   "pygments_lexer": "ipython3",
   "version": "3.8.5"
  }
 },
 "nbformat": 4,
 "nbformat_minor": 1
}
