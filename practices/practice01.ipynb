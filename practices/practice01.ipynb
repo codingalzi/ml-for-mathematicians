{
 "cells": [
  {
   "cell_type": "markdown",
   "metadata": {
    "id": "qEzG70qyz-vb"
   },
   "source": [
    "# 파이썬 프로그래밍 실습 1 "
   ]
  },
  {
   "cell_type": "markdown",
   "metadata": {
    "id": "6jxFns8v0EeE"
   },
   "source": [
    "__문제 1.__ 연산기호를 이용해 수식으로 표현해보고 그 결과를 확인하여라.\n",
    "\n",
    "* 정수 25와 정수 12를 더하시오.\n",
    "* 정수 13에서 정수 19를 빼시오.\n",
    "* 정수 92과 부동소수점 8.0 을 곱하시오.\n",
    "* 부동소수점 81.5을 부동소수점 2.0으로 나누시오.\n",
    "* 정수 7를 5로 나눴을 때, 몫을 구하시오.\n",
    "* 정수 100을 정수 7로 나눈 나머지를 구하시오.\n",
    "* 정수 3의 세제곱을 구하시오."
   ]
  },
  {
   "cell_type": "code",
   "execution_count": 1,
   "metadata": {
    "colab": {
     "base_uri": "https://localhost:8080/"
    },
    "id": "GnTkZZg-z5pJ",
    "outputId": "aeb8e423-e692-44f3-c264-0176e7a2e603"
   },
   "outputs": [
    {
     "data": {
      "text/plain": [
       "37"
      ]
     },
     "execution_count": 1,
     "metadata": {},
     "output_type": "execute_result"
    }
   ],
   "source": [
    "25+12"
   ]
  },
  {
   "cell_type": "code",
   "execution_count": 2,
   "metadata": {},
   "outputs": [
    {
     "data": {
      "text/plain": [
       "-6"
      ]
     },
     "execution_count": 2,
     "metadata": {},
     "output_type": "execute_result"
    }
   ],
   "source": [
    "13-19"
   ]
  },
  {
   "cell_type": "code",
   "execution_count": 3,
   "metadata": {},
   "outputs": [
    {
     "data": {
      "text/plain": [
       "736.0"
      ]
     },
     "execution_count": 3,
     "metadata": {},
     "output_type": "execute_result"
    }
   ],
   "source": [
    "92 * 8.0"
   ]
  },
  {
   "cell_type": "code",
   "execution_count": 4,
   "metadata": {},
   "outputs": [
    {
     "data": {
      "text/plain": [
       "40.75"
      ]
     },
     "execution_count": 4,
     "metadata": {},
     "output_type": "execute_result"
    }
   ],
   "source": [
    "81.5 / 2.0"
   ]
  },
  {
   "cell_type": "code",
   "execution_count": 5,
   "metadata": {},
   "outputs": [
    {
     "data": {
      "text/plain": [
       "1"
      ]
     },
     "execution_count": 5,
     "metadata": {},
     "output_type": "execute_result"
    }
   ],
   "source": [
    "7 // 5"
   ]
  },
  {
   "cell_type": "code",
   "execution_count": 6,
   "metadata": {},
   "outputs": [
    {
     "data": {
      "text/plain": [
       "2"
      ]
     },
     "execution_count": 6,
     "metadata": {},
     "output_type": "execute_result"
    }
   ],
   "source": [
    "100 % 7"
   ]
  },
  {
   "cell_type": "code",
   "execution_count": 7,
   "metadata": {},
   "outputs": [
    {
     "data": {
      "text/plain": [
       "27"
      ]
     },
     "execution_count": 7,
     "metadata": {},
     "output_type": "execute_result"
    }
   ],
   "source": [
    "3 ** 3"
   ]
  },
  {
   "cell_type": "markdown",
   "metadata": {
    "id": "xygzJ5410LMv"
   },
   "source": [
    "__문제 2.__ 다음 각각의 자료형을 말하고, 코드를 작성하여 결과를 확인하여라.\n",
    "\n",
    "* `3`\n",
    "* `3.0`\n",
    "* `'3'`\n",
    "* `'3.0'`\n",
    "* `\"3\"`\n",
    "* `\"3.0\"`"
   ]
  },
  {
   "cell_type": "code",
   "execution_count": 8,
   "metadata": {},
   "outputs": [
    {
     "data": {
      "text/plain": [
       "int"
      ]
     },
     "execution_count": 8,
     "metadata": {},
     "output_type": "execute_result"
    }
   ],
   "source": [
    "type(3)"
   ]
  },
  {
   "cell_type": "code",
   "execution_count": 9,
   "metadata": {},
   "outputs": [
    {
     "data": {
      "text/plain": [
       "float"
      ]
     },
     "execution_count": 9,
     "metadata": {},
     "output_type": "execute_result"
    }
   ],
   "source": [
    "type(3.0)"
   ]
  },
  {
   "cell_type": "code",
   "execution_count": 10,
   "metadata": {},
   "outputs": [
    {
     "data": {
      "text/plain": [
       "str"
      ]
     },
     "execution_count": 10,
     "metadata": {},
     "output_type": "execute_result"
    }
   ],
   "source": [
    "type('3')"
   ]
  },
  {
   "cell_type": "code",
   "execution_count": 11,
   "metadata": {},
   "outputs": [
    {
     "data": {
      "text/plain": [
       "str"
      ]
     },
     "execution_count": 11,
     "metadata": {},
     "output_type": "execute_result"
    }
   ],
   "source": [
    "type('3.0')"
   ]
  },
  {
   "cell_type": "code",
   "execution_count": 12,
   "metadata": {},
   "outputs": [
    {
     "data": {
      "text/plain": [
       "str"
      ]
     },
     "execution_count": 12,
     "metadata": {},
     "output_type": "execute_result"
    }
   ],
   "source": [
    "type(\"3\")"
   ]
  },
  {
   "cell_type": "code",
   "execution_count": 13,
   "metadata": {},
   "outputs": [
    {
     "data": {
      "text/plain": [
       "str"
      ]
     },
     "execution_count": 13,
     "metadata": {},
     "output_type": "execute_result"
    }
   ],
   "source": [
    "type(\"3.0\")"
   ]
  },
  {
   "cell_type": "markdown",
   "metadata": {
    "id": "ZH4Xviwf0O_s"
   },
   "source": [
    "__문제 3.__ 우유 가격은 820원이고, 아이스크림 가격은 1500원이다. 아이스크림은 3개이상 구입시 5%를 할인해준다. 우유 2개와 아이스크림 3개를 구입할 때 지불해야 하는 가격을 변수를 활용하여 코드로 작성하여라."
   ]
  },
  {
   "cell_type": "code",
   "execution_count": 14,
   "metadata": {},
   "outputs": [
    {
     "name": "stdout",
     "output_type": "stream",
     "text": [
      "5915.0 원\n"
     ]
    }
   ],
   "source": [
    "milk =  820\n",
    "ice= 1500\n",
    "\n",
    "# 우유 2개, 아이스크림 3개 구입 가격\n",
    "price = milk * 2 + ice * 3 * 0.95\n",
    "print(price, \"원\")"
   ]
  },
  {
   "cell_type": "markdown",
   "metadata": {
    "id": "BR35apnL0Tf9"
   },
   "source": [
    "__문제 4.__ 1㎡는 0.3025평이다. 84㎡는 몇 평인가? 반대로 30평은 몇 ㎡인가?**\n"
   ]
  },
  {
   "cell_type": "code",
   "execution_count": 15,
   "metadata": {},
   "outputs": [
    {
     "data": {
      "text/plain": [
       "25.41"
      ]
     },
     "execution_count": 15,
     "metadata": {},
     "output_type": "execute_result"
    }
   ],
   "source": [
    "# 84 제곱미터는 25.41평\n",
    "\n",
    "84 * 0.3025"
   ]
  },
  {
   "cell_type": "code",
   "execution_count": 16,
   "metadata": {},
   "outputs": [
    {
     "data": {
      "text/plain": [
       "99.17355371900827"
      ]
     },
     "execution_count": 16,
     "metadata": {},
     "output_type": "execute_result"
    }
   ],
   "source": [
    "# 30평은  99.17 제곱미터\n",
    "\n",
    "30 / 0.3025"
   ]
  },
  {
   "cell_type": "markdown",
   "metadata": {
    "id": "DxP4L1g30ZpC"
   },
   "source": [
    "__문제 5.__ 100만원을 월이율 3%인 예금에 1년간 복리로 은행에 맡겼다. \n",
    "1년 후에 받는 돈은 얼마인지를 확인하는 코드를 작성하여라. 출력된 결과는 아래와 같다.\n",
    "\n",
    "```python\n",
    "1년 후 받는 원금 + 이자는 OOO원입니다.\n",
    "```\n",
    "\n",
    "힌트: f-문자열을 이용하세요."
   ]
  },
  {
   "cell_type": "code",
   "execution_count": 17,
   "metadata": {},
   "outputs": [
    {
     "name": "stdout",
     "output_type": "stream",
     "text": [
      "1년 후 받는 원금 + 이자는 None원입니다.\n"
     ]
    }
   ],
   "source": [
    "# 100만원 월이율 3%\n",
    "\n",
    "interest = 0.03\n",
    "\n",
    "# 1년간 복리로 저축했을 때 1년 후 받을 돈?\n",
    "# pass 명령문을 제거하고 필요한 코드를 작성하세요. 필요하면 여러 줄을 이용하세요.\n",
    "pass\n",
    "\n",
    "# 최종적으로 None 을 적당한 수식 또는 값으로 대체해야 함.\n",
    "sum = None\n",
    "\n",
    "print(f\"1년 후 받는 원금 + 이자는 {sum}원입니다.\")"
   ]
  },
  {
   "cell_type": "markdown",
   "metadata": {
    "id": "v1Z9csmB0dNW"
   },
   "source": [
    "**문제 6.** 문자열 연산을 이용하여 다음의 실행결과가 나오도록 코드를 다양한 방식으로 작성하여라.\n",
    "\n",
    "* 방식 1: \n",
    "\n",
    "    ```python\n",
    "    안녕하세요. 안녕하세요. 안녕하세요.\n",
    "    ```\n",
    "* 방식 2: \n",
    "\n",
    "    ```python\n",
    "    안녕하세요.\n",
    "    안녕하세요.\n",
    "    안녕하세요.\n",
    "    안녕하세요.\n",
    "    안녕하세요.\n",
    "    ```"
   ]
  },
  {
   "cell_type": "code",
   "execution_count": 18,
   "metadata": {},
   "outputs": [],
   "source": [
    "hello = \"안녕하세요.\""
   ]
  },
  {
   "cell_type": "code",
   "execution_count": 19,
   "metadata": {},
   "outputs": [
    {
     "name": "stdout",
     "output_type": "stream",
     "text": [
      "안녕하세요. 안녕하세요. 안녕하세요.\n"
     ]
    }
   ],
   "source": [
    "# 방식 1\n",
    "\n",
    "print(hello, hello, hello)"
   ]
  },
  {
   "cell_type": "code",
   "execution_count": 20,
   "metadata": {},
   "outputs": [
    {
     "name": "stdout",
     "output_type": "stream",
     "text": [
      "안녕하세요. 안녕하세요. 안녕하세요.\n"
     ]
    }
   ],
   "source": [
    "# 방식 1\n",
    "\n",
    "print(hello + \" \" + hello + \" \" + hello)"
   ]
  },
  {
   "cell_type": "code",
   "execution_count": 21,
   "metadata": {},
   "outputs": [
    {
     "name": "stdout",
     "output_type": "stream",
     "text": [
      "안녕하세요.\n",
      "안녕하세요.\n",
      "안녕하세요.\n",
      "안녕하세요.\n",
      "안녕하세요.\n"
     ]
    }
   ],
   "source": [
    "# 방식 2\n",
    "\n",
    "print(hello, hello, hello, hello, hello, sep='\\n')"
   ]
  },
  {
   "cell_type": "code",
   "execution_count": 22,
   "metadata": {},
   "outputs": [
    {
     "name": "stdout",
     "output_type": "stream",
     "text": [
      "안녕하세요.\n",
      "안녕하세요.\n",
      "안녕하세요.\n",
      "안녕하세요.\n",
      "안녕하세요.\n"
     ]
    }
   ],
   "source": [
    "# 방식 3\n",
    "\n",
    "i = 1\n",
    "while i <= 5:\n",
    "    print(hello)\n",
    "    i = i + 1"
   ]
  },
  {
   "cell_type": "markdown",
   "metadata": {
    "id": "PRQLSWmi0sAF"
   },
   "source": [
    "**문제 7.** `dogs`와 `cats` 두 개의 변수가 다음과 같이 선언되었다."
   ]
  },
  {
   "cell_type": "code",
   "execution_count": 23,
   "metadata": {},
   "outputs": [],
   "source": [
    "dogs, cats =  '12', '7'"
   ]
  },
  {
   "cell_type": "markdown",
   "metadata": {
    "id": "PRQLSWmi0sAF"
   },
   "source": [
    "(1) `dogs`와 `cats` 변수에 할당된 값의 자료형을 확인하여라.  "
   ]
  },
  {
   "cell_type": "code",
   "execution_count": 24,
   "metadata": {},
   "outputs": [
    {
     "data": {
      "text/plain": [
       "str"
      ]
     },
     "execution_count": 24,
     "metadata": {},
     "output_type": "execute_result"
    }
   ],
   "source": [
    "type(dogs)"
   ]
  },
  {
   "cell_type": "code",
   "execution_count": 25,
   "metadata": {},
   "outputs": [
    {
     "data": {
      "text/plain": [
       "str"
      ]
     },
     "execution_count": 25,
     "metadata": {},
     "output_type": "execute_result"
    }
   ],
   "source": [
    "type(cats)"
   ]
  },
  {
   "cell_type": "markdown",
   "metadata": {
    "id": "PRQLSWmi0sAF"
   },
   "source": [
    "(2) 강아지가 고양이보다 몇 마리 더 많은지 확인하는 코드를 작성하여라. 출력된 결과는 아래와 같은 형식이다.\n",
    "\n",
    "```python\n",
    "강아지가 고양이보다 n 마리 더 많다.\n",
    "```\n",
    "\n",
    "힌트: `int()` 또는 `float()` 함수를 이용할 수 있다."
   ]
  },
  {
   "cell_type": "code",
   "execution_count": 26,
   "metadata": {},
   "outputs": [
    {
     "name": "stdout",
     "output_type": "stream",
     "text": [
      "강아지가 고양이보다 5 마리 더 많다.\n"
     ]
    }
   ],
   "source": [
    "n = int(dogs) - int(cats)   # n = 5\n",
    "\n",
    "print(f\"강아지가 고양이보다 {n} 마리 더 많다.\")"
   ]
  },
  {
   "cell_type": "markdown",
   "metadata": {
    "id": "oMsxIe_500xd"
   },
   "source": [
    "**문제 8.** 연산기호를 이용해 수식으로 표현해보고 그 결과를 확인해보시오.\n",
    "\n",
    "(1) `3`과 `4`가 다른지 여부를 판단  "
   ]
  },
  {
   "cell_type": "code",
   "execution_count": 27,
   "metadata": {},
   "outputs": [],
   "source": [
    "one = 3 != 4            # True"
   ]
  },
  {
   "cell_type": "markdown",
   "metadata": {
    "id": "oMsxIe_500xd"
   },
   "source": [
    "(2) `\"hello\"`와 `\"hi\"`가 같은지 여부를 판단  "
   ]
  },
  {
   "cell_type": "code",
   "execution_count": 28,
   "metadata": {},
   "outputs": [],
   "source": [
    "two = 'hello' == 'hi'    # False"
   ]
  },
  {
   "cell_type": "markdown",
   "metadata": {
    "id": "oMsxIe_500xd"
   },
   "source": [
    "(3) `2`가 `8`보다 작거나 같은지 판단  "
   ]
  },
  {
   "cell_type": "code",
   "execution_count": 29,
   "metadata": {},
   "outputs": [],
   "source": [
    "three = 2 <= 8           # True"
   ]
  },
  {
   "cell_type": "markdown",
   "metadata": {
    "id": "oMsxIe_500xd"
   },
   "source": [
    "(4) `12`가 `20`보다 큰지를 판단  "
   ]
  },
  {
   "cell_type": "code",
   "execution_count": 30,
   "metadata": {},
   "outputs": [],
   "source": [
    "four = 12 > 30           # False"
   ]
  },
  {
   "cell_type": "markdown",
   "metadata": {
    "id": "oMsxIe_500xd"
   },
   "source": [
    "아래의 결과가 `True`인지 `False`인지 판단해보고, 그 결과를 코드를 작성하여 확인하여라.\n",
    "\n",
    "* (1) `and` (3)"
   ]
  },
  {
   "cell_type": "code",
   "execution_count": 31,
   "metadata": {},
   "outputs": [
    {
     "data": {
      "text/plain": [
       "True"
      ]
     },
     "execution_count": 31,
     "metadata": {},
     "output_type": "execute_result"
    }
   ],
   "source": [
    "one and three"
   ]
  },
  {
   "cell_type": "markdown",
   "metadata": {
    "id": "oMsxIe_500xd"
   },
   "source": [
    "* (2) `and not` (4)"
   ]
  },
  {
   "cell_type": "code",
   "execution_count": 32,
   "metadata": {},
   "outputs": [
    {
     "data": {
      "text/plain": [
       "False"
      ]
     },
     "execution_count": 32,
     "metadata": {},
     "output_type": "execute_result"
    }
   ],
   "source": [
    "two and not four"
   ]
  },
  {
   "cell_type": "markdown",
   "metadata": {
    "id": "oMsxIe_500xd"
   },
   "source": [
    "* (3) `or` (4) "
   ]
  },
  {
   "cell_type": "code",
   "execution_count": 33,
   "metadata": {},
   "outputs": [
    {
     "data": {
      "text/plain": [
       "True"
      ]
     },
     "execution_count": 33,
     "metadata": {},
     "output_type": "execute_result"
    }
   ],
   "source": [
    "three or four"
   ]
  },
  {
   "cell_type": "markdown",
   "metadata": {
    "id": "jLCnfgsk06WQ"
   },
   "source": [
    "**문제 9.** 15와 28 각각이 짝수인지 홀수인지를 판별하는 코드를 작성하여라. \n",
    "출력된 결과는 아래와 같은 형식이다.\n",
    "\n",
    "```\n",
    "15는 짝수인가요? False  \n",
    "28은 짝수인가요? True\n",
    "```"
   ]
  },
  {
   "cell_type": "code",
   "execution_count": 34,
   "metadata": {},
   "outputs": [
    {
     "name": "stdout",
     "output_type": "stream",
     "text": [
      "15는 짝수인가요? False\n"
     ]
    }
   ],
   "source": [
    "x = 15\n",
    "even_or_odd = x % 2 == 0\n",
    "\n",
    "print(f\"{x}는 짝수인가요? {even_or_odd}\")"
   ]
  },
  {
   "cell_type": "code",
   "execution_count": 35,
   "metadata": {},
   "outputs": [
    {
     "name": "stdout",
     "output_type": "stream",
     "text": [
      "28는 짝수인가요? True\n"
     ]
    }
   ],
   "source": [
    "x = 28\n",
    "even_or_odd = x % 2 == 0\n",
    "\n",
    "print(f\"{x}는 짝수인가요? {even_or_odd}\")"
   ]
  },
  {
   "cell_type": "markdown",
   "metadata": {
    "id": "SjFpmZ5r0_zh"
   },
   "source": [
    "**문제 10.** 아래의 표는 어느 마트의 단위당 판매 가격이다.\n",
    "\n",
    " |제목|단위|가격|\n",
    " |:----:|----:|----:|\n",
    " |사과|1개|5,400원|\n",
    " |돼지고기|100g|2,480원|\n",
    " |달걀|10개|7,980원|\n",
    " |우유|1개|2,560원|\n",
    " |오이|1개|2,250원|\n",
    "\n",
    " A는 이 마트에서 사과 3개와 돼지고기 600g, 달걀 5개를 구매하려고 한다. \n",
    " A는 총 비용을 구하는 프로그램을 작성하기 위해 아래와 같이 변수를 선언하였다."
   ]
  },
  {
   "cell_type": "code",
   "execution_count": 36,
   "metadata": {
    "id": "SjFpmZ5r0_zh"
   },
   "outputs": [],
   "source": [
    "apple = '3'\n",
    "pork = '600'\n",
    "egg = '5'"
   ]
  },
  {
   "cell_type": "markdown",
   "metadata": {
    "id": "SjFpmZ5r0_zh"
   },
   "source": [
    "그리고 아래와 같은 형식으로 총 비용을 출력해주려고 한다. \n",
    "\n",
    "```python\n",
    "사과 3개, 돼지고기 600g, 달걀 5개를 구매하는 총 비용은 OOO원이다. \n",
    "```\n",
    "\n",
    "A가 선언한 변수를 활용하여 프로그램을 완성하여라.\n",
    "\n",
    "힌트: 정수 모양의 문자열을 정수로 형변환하라."
   ]
  },
  {
   "cell_type": "code",
   "execution_count": 37,
   "metadata": {},
   "outputs": [
    {
     "name": "stdout",
     "output_type": "stream",
     "text": [
      "사과 None개, 돼지고기 Noneg, 달걀 None개를 구매하는 총 비용은 None원이다.\n"
     ]
    }
   ],
   "source": [
    "# pass 명령문을 삭제하고 필요한 코드를 작성하세요. 필요하면 여러 줄을 이용하세요.\n",
    "pass\n",
    "\n",
    "# 아래 코드에서 사용된 None 을 모두 적절한 값 또는 수식으로 변경해야 한다.\n",
    "cost = None\n",
    "\n",
    "print(\"사과 {0}개, 돼지고기 {1}g, 달걀 {2}개를 구매하는 총 비용은 {3}원이다.\".format(None, None, None, None))"
   ]
  },
  {
   "cell_type": "markdown",
   "metadata": {
    "id": "kkbD-sw3IsYs"
   },
   "source": [
    "**문제 11.** 과일 목록을 할당받는 `fruit` 변수가 아래와 같이 선언되었다."
   ]
  },
  {
   "cell_type": "code",
   "execution_count": 38,
   "metadata": {
    "id": "kkbD-sw3IsYs"
   },
   "outputs": [],
   "source": [
    "fruit = \"banana apple orange pineapple mango strawberry cherry\""
   ]
  },
  {
   "cell_type": "markdown",
   "metadata": {
    "id": "kkbD-sw3IsYs"
   },
   "source": [
    "아래 문자열 메서드를 이용하여 문제를 해결하라.\n",
    "\n",
    "```python\n",
    "strip(), split(), replace(), upper(), lower(), \n",
    "capitalize(), title(), startswith(), endswith()\n",
    "```"
   ]
  },
  {
   "cell_type": "markdown",
   "metadata": {
    "id": "kkbD-sw3IsYs"
   },
   "source": [
    "(1) 각 과일 단어의 첫 알파벳을 대문자로 변경하려면 어떻게 해야 하는가? "
   ]
  },
  {
   "cell_type": "code",
   "execution_count": 39,
   "metadata": {},
   "outputs": [
    {
     "data": {
      "text/plain": [
       "'Banana Apple Orange Pineapple Mango Strawberry Cherry'"
      ]
     },
     "execution_count": 39,
     "metadata": {},
     "output_type": "execute_result"
    }
   ],
   "source": [
    "fruit.title()"
   ]
  },
  {
   "cell_type": "markdown",
   "metadata": {
    "id": "c0s_ArvDKJBO"
   },
   "source": [
    "(2) `fruit` 변수로부터 대문자 Y를 추출하는 코드를 작성하여라.\n",
    "\n",
    "힌트: -1 인덱스 활용"
   ]
  },
  {
   "cell_type": "code",
   "execution_count": 40,
   "metadata": {},
   "outputs": [
    {
     "data": {
      "text/plain": [
       "'Y'"
      ]
     },
     "execution_count": 40,
     "metadata": {},
     "output_type": "execute_result"
    }
   ],
   "source": [
    "last_string = fruit[-1]\n",
    "last_string.upper()"
   ]
  },
  {
   "cell_type": "markdown",
   "metadata": {},
   "source": [
    "아래처럼 한 번에 해결할 수도 있다."
   ]
  },
  {
   "cell_type": "code",
   "execution_count": 41,
   "metadata": {},
   "outputs": [
    {
     "data": {
      "text/plain": [
       "'Y'"
      ]
     },
     "execution_count": 41,
     "metadata": {},
     "output_type": "execute_result"
    }
   ],
   "source": [
    "fruit[-1].upper()"
   ]
  },
  {
   "cell_type": "markdown",
   "metadata": {
    "id": "dBAG4HeAKjNv"
   },
   "source": [
    "(3) `fruit` 변수로부터 her 문자열을 추출하는 코드를 작성하여라.\n",
    "\n",
    "힌트: `'her'` 부분 문자열이 시작하는 위치의 인덱스와 슬라이싱 활용."
   ]
  },
  {
   "cell_type": "code",
   "execution_count": 42,
   "metadata": {},
   "outputs": [
    {
     "data": {
      "text/plain": [
       "'her'"
      ]
     },
     "execution_count": 42,
     "metadata": {},
     "output_type": "execute_result"
    }
   ],
   "source": [
    "fruit[-5:-2]"
   ]
  },
  {
   "cell_type": "markdown",
   "metadata": {
    "id": "E9PvHGphK_qP"
   },
   "source": [
    "(4) `fruit` 변수로부터 oae 문자열을 추출하는 코드를 작성하여라.\n",
    "\n",
    "힌트: 스텝이 18인 슬라이스 활용"
   ]
  },
  {
   "cell_type": "code",
   "execution_count": null,
   "metadata": {},
   "outputs": [],
   "source": []
  },
  {
   "cell_type": "markdown",
   "metadata": {
    "id": "9c62tWuBLr5c"
   },
   "source": [
    "(5) `fruit` 변수로부터 yrrehc 문자열을 추출하는 코드를 작성하여라.\n",
    "\n",
    "힌트: 스텝이 -1인 슬라이스 활용"
   ]
  },
  {
   "cell_type": "code",
   "execution_count": null,
   "metadata": {},
   "outputs": [],
   "source": []
  },
  {
   "cell_type": "markdown",
   "metadata": {
    "id": "B33dgBTeoy23"
   },
   "source": [
    "**문제 12.** 다음 문자열이 주어졌다."
   ]
  },
  {
   "cell_type": "code",
   "execution_count": 43,
   "metadata": {
    "id": "B33dgBTeoy23"
   },
   "outputs": [],
   "source": [
    "a_string = 'n o r t h w e s t e r n'"
   ]
  },
  {
   "cell_type": "markdown",
   "metadata": {
    "id": "B33dgBTeoy23"
   },
   "source": [
    "위 문자열을 이용하여 아래 문자열을 생성하는 코드를 구현하라.\n",
    "\n",
    "```\n",
    "'Northwestern'\n",
    "```\n",
    "\n",
    "힌트: `replace()` 메서드와 `title()` 메서드 연속 적용"
   ]
  },
  {
   "cell_type": "code",
   "execution_count": null,
   "metadata": {},
   "outputs": [],
   "source": []
  },
  {
   "cell_type": "markdown",
   "metadata": {
    "id": "ngzxeTGTpXrG"
   },
   "source": [
    "**문제 13.** 아래 노래 가사를 활용하는 문제이다."
   ]
  },
  {
   "cell_type": "code",
   "execution_count": 44,
   "metadata": {
    "id": "ngzxeTGTpXrG"
   },
   "outputs": [],
   "source": [
    "song = \"When You are smiling, the whole world smiles with YOU\""
   ]
  },
  {
   "cell_type": "markdown",
   "metadata": {
    "id": "TWfwL3bypz91"
   },
   "source": [
    "(1) `count()`는 인자로 지정된 부분문자열의 주어진 문자열에서 몇 번 나타나는지를 확인해준다.\n",
    "`count()`메소드를 이용하여 `song`에서 `a`가 등장하는 횟수를 구하여라. "
   ]
  },
  {
   "cell_type": "code",
   "execution_count": 45,
   "metadata": {},
   "outputs": [
    {
     "data": {
      "text/plain": [
       "1"
      ]
     },
     "execution_count": 45,
     "metadata": {},
     "output_type": "execute_result"
    }
   ],
   "source": [
    "song.count('a')"
   ]
  },
  {
   "cell_type": "markdown",
   "metadata": {
    "id": "TWfwL3bypz91"
   },
   "source": [
    "(2) `song`에서 `You`가 등장하는 횟수를 구하여라. "
   ]
  },
  {
   "cell_type": "code",
   "execution_count": 46,
   "metadata": {},
   "outputs": [
    {
     "data": {
      "text/plain": [
       "1"
      ]
     },
     "execution_count": 46,
     "metadata": {},
     "output_type": "execute_result"
    }
   ],
   "source": [
    "song.count('You')"
   ]
  },
  {
   "cell_type": "markdown",
   "metadata": {
    "id": "S2R5xEZyrCYh"
   },
   "source": [
    "(3) `song`에서 대소문자 구별없이 `w`가 등장하는 횟수를 구하는 코드를 작성하라.\n",
    "\n",
    "힌트: `count()` 메서드를 호출하기 전에 `lower()` 또는 `upper()` 메서드를 사용한다."
   ]
  },
  {
   "cell_type": "code",
   "execution_count": null,
   "metadata": {},
   "outputs": [],
   "source": []
  },
  {
   "cell_type": "markdown",
   "metadata": {
    "id": "S2R5xEZyrCYh"
   },
   "source": [
    "(4) `song`에서 대소문자 구별없이 `you`가 등장하는 횟수를 구하는 코드를 작성하라.\n",
    "\n",
    "힌트: `count()` 메서드를 호출하기 전에 `lower()` 또는 `upper()` 메서드를 사용한다."
   ]
  },
  {
   "cell_type": "code",
   "execution_count": null,
   "metadata": {},
   "outputs": [],
   "source": []
  }
 ],
 "metadata": {
  "colab": {
   "collapsed_sections": [],
   "name": "실습답안2.ipynb",
   "provenance": []
  },
  "kernelspec": {
   "display_name": "Python 3",
   "language": "python",
   "name": "python3"
  },
  "language_info": {
   "codemirror_mode": {
    "name": "ipython",
    "version": 3
   },
   "file_extension": ".py",
   "mimetype": "text/x-python",
   "name": "python",
   "nbconvert_exporter": "python",
   "pygments_lexer": "ipython3",
   "version": "3.8.5"
  }
 },
 "nbformat": 4,
 "nbformat_minor": 1
}
