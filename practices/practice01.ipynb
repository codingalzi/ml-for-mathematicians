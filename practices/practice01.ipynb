{
 "cells": [
  {
   "cell_type": "markdown",
   "metadata": {
    "id": "qEzG70qyz-vb"
   },
   "source": [
    "# 파이썬 프로그래밍 실습 1 "
   ]
  },
  {
   "cell_type": "markdown",
   "metadata": {
    "id": "6jxFns8v0EeE"
   },
   "source": [
    "__문제 1.__ 연산기호를 이용해 수식으로 표현해보고 그 결과를 확인하여라.\n",
    "\n",
    "* 정수 25와 정수 12를 더하시오.\n",
    "* 정수 13에서 정수 19를 빼시오.\n",
    "* 정수 92과 부동소수점 8.0 을 곱하시오.\n",
    "* 부동소수점 81.5을 부동소수점 2.0으로 나누시오.\n",
    "* 정수 7를 5로 나눴을 때, 몫을 구하시오.\n",
    "* 정수 100을 정수 7로 나눈 나머지를 구하시오.\n",
    "* 정수 3의 세제곱을 구하시오."
   ]
  },
  {
   "cell_type": "code",
   "execution_count": null,
   "metadata": {
    "colab": {
     "base_uri": "https://localhost:8080/"
    },
    "id": "GnTkZZg-z5pJ",
    "outputId": "aeb8e423-e692-44f3-c264-0176e7a2e603"
   },
   "outputs": [],
   "source": []
  },
  {
   "cell_type": "markdown",
   "metadata": {
    "id": "xygzJ5410LMv"
   },
   "source": [
    "__문제 2.__ 다음 각각의 자료형을 말하고, 코드를 작성하여 결과를 확인하여라.\n",
    "\n",
    "* `3`\n",
    "* `3.0`\n",
    "* `'3'`\n",
    "* `'3.0'`\n",
    "* `\"3\"`\n",
    "* `\"3.0\"`"
   ]
  },
  {
   "cell_type": "code",
   "execution_count": null,
   "metadata": {},
   "outputs": [],
   "source": []
  },
  {
   "cell_type": "markdown",
   "metadata": {
    "id": "ZH4Xviwf0O_s"
   },
   "source": [
    "__문제 3.__ 우유 가격은 820원이고, 아이스크림 가격은 1500원이다. 아이스크림은 3개이상 구입시 5%를 할인해준다. 우유 2개와 아이스크림 3개를 구입할 때 지불해야 하는 가격을 변수를 활용하여 코드로 작성하여라."
   ]
  },
  {
   "cell_type": "code",
   "execution_count": null,
   "metadata": {},
   "outputs": [],
   "source": []
  },
  {
   "cell_type": "markdown",
   "metadata": {
    "id": "BR35apnL0Tf9"
   },
   "source": [
    "__문제 4.__ 1㎡는 0.3025평이다. 84㎡는 몇 평인가? 반대로 30평은 몇 ㎡인가?**\n"
   ]
  },
  {
   "cell_type": "code",
   "execution_count": null,
   "metadata": {},
   "outputs": [],
   "source": []
  },
  {
   "cell_type": "markdown",
   "metadata": {
    "id": "DxP4L1g30ZpC"
   },
   "source": [
    "__문제 5.__ 100만원을 월이율 3%인 예금에 1년간 복리로 은행에 맡겼다. \n",
    "1년 후에 받는 돈은 얼마인지를 확인하는 코드를 작성하여라. 출력된 결과는 아래와 같다.\n",
    "\n",
    "```\n",
    "1년 후 받는 원금 + 이자는 OOO원입니다.\n",
    "```"
   ]
  },
  {
   "cell_type": "code",
   "execution_count": null,
   "metadata": {},
   "outputs": [],
   "source": []
  },
  {
   "cell_type": "markdown",
   "metadata": {
    "id": "v1Z9csmB0dNW"
   },
   "source": [
    "**문제 6.** 문자열 연산을 이용하여 다음의 실행결과가 나오도록 코드를 다양한 방식으로 작성하여라.\n",
    "\n",
    "* 방식 1: \n",
    "\n",
    "    ```python\n",
    "    안녕하세요. 안녕하세요. 안녕하세요.\n",
    "    ```\n",
    "* 방식 2: \n",
    "\n",
    "    ```python\n",
    "    안녕하세요.\n",
    "    안녕하세요.\n",
    "    안녕하세요.\n",
    "    안녕하세요.\n",
    "    안녕하세요.\n",
    "    ```"
   ]
  },
  {
   "cell_type": "code",
   "execution_count": null,
   "metadata": {},
   "outputs": [],
   "source": []
  },
  {
   "cell_type": "markdown",
   "metadata": {
    "id": "PRQLSWmi0sAF"
   },
   "source": [
    "**문제 7.** `dogs`와 `cats` 두 개의 변수가 다음과 같이 선언되었다.\n",
    "\n",
    "```python\n",
    "dogs, cats = '12', '7'\n",
    "```\n",
    "\n",
    "(1) `dogs`와 `cats` 변수에 할당된 값의 자료형을 확인하여라.  \n",
    "\n",
    "(2) 강아지가 고양이보다 몇 마리 더 많은지 확인하는 코드를 작성하여라. 출력된 결과는 아래와 같은 형식이다.\n",
    "\n",
    "```python\n",
    "강아지가 고양이보다 n 마리 더 많다.\n",
    "```\n",
    "\n",
    "힌트: `int()` 함수 대신 `float()` 함수를 이용할 수 있다."
   ]
  },
  {
   "cell_type": "code",
   "execution_count": null,
   "metadata": {},
   "outputs": [],
   "source": []
  },
  {
   "cell_type": "markdown",
   "metadata": {
    "id": "oMsxIe_500xd"
   },
   "source": [
    "**문제 8** 연산기호를 이용해 수식으로 표현해보고 그 결과를 확인해보시오.\n",
    "\n",
    "(1) `3`과 `4`가 다른지 여부를 판단  \n",
    "\n",
    "(2) `\"hello\"`와 `\"hi\"`가 같은지 여부를 판단  \n",
    "\n",
    "(3) `2`가 `8`보다 작거나 같은지 판단  \n",
    "\n",
    "(4) `12`가 `20`보다 큰지를 판단  \n",
    "\n",
    "아래의 결과가 `True`인지 `False`인지 판단해보고, 그 결과를 코드를 작성하여 확인하여라.\n",
    "\n",
    "* (1) `and` (3)\n",
    "* (2) `and not` (4)\n",
    "* (3) `or` (4) "
   ]
  },
  {
   "cell_type": "code",
   "execution_count": null,
   "metadata": {},
   "outputs": [],
   "source": []
  },
  {
   "cell_type": "markdown",
   "metadata": {
    "id": "jLCnfgsk06WQ"
   },
   "source": [
    "**문제 9.** 15, 28이 각각 짝수인지 홀수인지를 판별하는 코드를 작성하여라. \n",
    "출력된 결과는 아래와 같은 형식이다.\n",
    "\n",
    "```\n",
    "15는 짝수인가요? False  \n",
    "28은 짝수인가요? True\n",
    "```"
   ]
  },
  {
   "cell_type": "code",
   "execution_count": null,
   "metadata": {},
   "outputs": [],
   "source": []
  },
  {
   "cell_type": "markdown",
   "metadata": {
    "id": "SjFpmZ5r0_zh"
   },
   "source": [
    "**문제 10.** 아래의 표는 어느 마트의 단위당 판매 가격이다.\n",
    "\n",
    " |제목|단위|가격|\n",
    " |:----:|:----:|----|\n",
    " |사과|1개|5,400원|\n",
    " |돼지고기|100g|2,480원|\n",
    " |달걀|10개|7,980원|\n",
    " |우유|1개|2,560원|\n",
    " |오이|1개|2,250원|\n",
    "\n",
    " A는 이 마트에서 사과 3개와 돼지고기 600g, 달걀 5개를 구매하려고 한다. \n",
    " A는 총 비용을 구하는 프로그램을 작성하기 위해 아래와 같이 변수를 선언하였다.\n",
    "\n",
    "```python\n",
    "apple = '3'\n",
    "pork = '600'\n",
    "egg = '5'\n",
    "```\n",
    "\n",
    "그리고 아래와 같은 형식으로 총 비용을 출력해주려고 한다. \n",
    "\n",
    "> 사과 3개, 돼지고기 600g, 달걀 5개를 구매하는 총 비용은 OOO 원이다. \n",
    "\n",
    "A가 선언한 변수를 활용하여 프로그램을 완성하여라."
   ]
  },
  {
   "cell_type": "code",
   "execution_count": null,
   "metadata": {},
   "outputs": [],
   "source": []
  }
 ],
 "metadata": {
  "colab": {
   "collapsed_sections": [],
   "name": "실습답안2.ipynb",
   "provenance": []
  },
  "kernelspec": {
   "display_name": "Python 3",
   "language": "python",
   "name": "python3"
  },
  "language_info": {
   "codemirror_mode": {
    "name": "ipython",
    "version": 3
   },
   "file_extension": ".py",
   "mimetype": "text/x-python",
   "name": "python",
   "nbconvert_exporter": "python",
   "pygments_lexer": "ipython3",
   "version": "3.8.5"
  }
 },
 "nbformat": 4,
 "nbformat_minor": 1
}
