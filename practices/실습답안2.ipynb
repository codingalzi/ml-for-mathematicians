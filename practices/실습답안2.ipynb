{
 "cells": [
  {
   "cell_type": "markdown",
   "metadata": {
    "id": "qEzG70qyz-vb"
   },
   "source": [
    "# 컴퓨팅 기초 : 처음 만나는 컴퓨팅\n",
    "  "
   ]
  },
  {
   "cell_type": "markdown",
   "metadata": {
    "id": "MgBCG_zE0A9f"
   },
   "source": [
    "**[실습 주의 사항]**\n",
    "* 실습 파일명을 아래의 형식(반_학번_이름)으로 변경하세요.  \n",
    "> 005_2021-12345_이름.ipynb\n",
    "\n",
    "* 실습 파일을 공유하세요.\n",
    "> hj617kim@gmail.com & 담당 튜터\n",
    "\n",
    "* 마크다운(Markdown)을 활용해서 제목을 붙이세요.  \n",
    "> #2주차 강의  \n",
    "> #2주차 실습 \n",
    "\n",
    "* 문제별로 셀을 구분하여 코드를 작성하세요.\n",
    "\n",
    "* 공유한 <font color=\"red\"> 반_학번_이름.ipynb </font>파일을 불러와서 그 파일에 작성하세요!\n",
    "\n"
   ]
  },
  {
   "cell_type": "markdown",
   "metadata": {
    "id": "6jxFns8v0EeE"
   },
   "source": [
    "**문제1) 연산기호를 이용해 수식으로 표현해보고 그 결과를 확인하여라.**\n",
    "\n",
    "* 정수 25와 정수 12를 더하시오.\n",
    "* 정수 13에서 정수 19를 빼시오.\n",
    "* 정수 92과 부동소수점 8.0 을 곱하시오.\n",
    "* 부동소수점 81.5을 부동소수점 2.0으로 나누시오.\n",
    "* 정수 7를 5로 나눴을 때, 몫을 구하시오.\n",
    "* 정수 100을 정수 7로 나눈 나머지를 구하시오.\n",
    "* 정수 3의 세제곱을 구하시오."
   ]
  },
  {
   "cell_type": "code",
   "execution_count": 1,
   "metadata": {
    "colab": {
     "base_uri": "https://localhost:8080/"
    },
    "id": "GnTkZZg-z5pJ",
    "outputId": "aeb8e423-e692-44f3-c264-0176e7a2e603"
   },
   "outputs": [
    {
     "name": "stdout",
     "output_type": "stream",
     "text": [
      "25 + 12 :  37\n",
      "13 - 19 :  -6\n",
      "92 * 8.0 :  736.0\n",
      "81.5 / 2.0 :  40.75\n",
      "7 // 5 :  1\n",
      "100 % 7 :  2\n",
      "3 ** 3 :  27\n"
     ]
    }
   ],
   "source": [
    "print(\"25 + 12 : \", 25 + 12)\n",
    "print(\"13 - 19 : \", 13 - 19)\n",
    "print(\"92 * 8.0 : \", 92 * 8.0)\n",
    "print(\"81.5 / 2.0 : \", 81.5 / 2.0)\n",
    "print(\"7 // 5 : \", 7 // 5)\n",
    "print(\"100 % 7 : \", 100 % 7)\n",
    "print(\"3 ** 3 : \",3 ** 3)"
   ]
  },
  {
   "cell_type": "markdown",
   "metadata": {
    "id": "xygzJ5410LMv"
   },
   "source": [
    "**문제2) 다음 각각의 자료형을 말하고, 코드를 작성하여 결과를 확인하여라.**\n",
    "\n",
    "* `3`\n",
    "* `3.0`\n",
    "* `'3'`\n",
    "* `'3.0'`\n",
    "* `\"3\"`\n",
    "* `\"3.0\"`"
   ]
  },
  {
   "cell_type": "code",
   "execution_count": 2,
   "metadata": {
    "colab": {
     "base_uri": "https://localhost:8080/"
    },
    "id": "wlAFhAsN0I0t",
    "outputId": "9c8e96c2-6f10-479d-8e0d-5bc0ede4db8e"
   },
   "outputs": [
    {
     "name": "stdout",
     "output_type": "stream",
     "text": [
      "<class 'int'>\n",
      "<class 'float'>\n",
      "<class 'str'>\n",
      "<class 'str'>\n",
      "<class 'str'>\n",
      "<class 'str'>\n"
     ]
    }
   ],
   "source": [
    "print(type(3))\n",
    "print(type(3.0))\n",
    "print(type('3'))\n",
    "print(type('3.0'))\n",
    "print(type(\"3\"))\n",
    "print(type(\"3.0\"))"
   ]
  },
  {
   "cell_type": "markdown",
   "metadata": {
    "id": "ZH4Xviwf0O_s"
   },
   "source": [
    "**문제3) 우유 가격은 820원이고, 아이스크림 가격은 1500원이다. 아이스크림은 3개이상 구입시 5%를 할인해준다. 우유 2개와 아이스크림 3개를 구입할 때 지불해야 하는 가격을 변수를 활용하여 코드로 작성하여라.**"
   ]
  },
  {
   "cell_type": "code",
   "execution_count": 3,
   "metadata": {
    "colab": {
     "base_uri": "https://localhost:8080/"
    },
    "id": "qXvDp0K_0Rpb",
    "outputId": "84177877-be34-465c-da8c-16250940e8bc"
   },
   "outputs": [
    {
     "name": "stdout",
     "output_type": "stream",
     "text": [
      "총 가격은:  5915.0 원\n"
     ]
    }
   ],
   "source": [
    "milk_price = 820\n",
    "icecream_price = 1500\n",
    "total_price = milk_price * 2 + (icecream_price * 3) * 0.95\n",
    "print(\"총 가격은: \", total_price, \"원\")"
   ]
  },
  {
   "cell_type": "markdown",
   "metadata": {
    "id": "BR35apnL0Tf9"
   },
   "source": [
    "**문제4) 1㎡는 0.3025평이다. 84㎡는 몇 평인가? 반대로 30평은 몇 ㎡인가?**\n"
   ]
  },
  {
   "cell_type": "code",
   "execution_count": 4,
   "metadata": {
    "colab": {
     "base_uri": "https://localhost:8080/"
    },
    "id": "M9ukQlH10XhF",
    "outputId": "5cb72c09-cf4e-4ce9-89c0-e4fd6f6b7a17"
   },
   "outputs": [
    {
     "name": "stdout",
     "output_type": "stream",
     "text": [
      "84제곱미터는  25.41 평이다.\n",
      "30평은  99.17355371900827 제곱미터이다.\n"
     ]
    }
   ],
   "source": [
    "m2 = 0.3025\n",
    "py = 1/m2\n",
    "\n",
    "print(\"84제곱미터는 \", 84*m2, \"평이다.\")\n",
    "print(\"30평은 \", 30*py, \"제곱미터이다.\") "
   ]
  },
  {
   "cell_type": "markdown",
   "metadata": {
    "id": "DxP4L1g30ZpC"
   },
   "source": [
    "**문제5) 100만원을 월이율 3%인 예금에 1년간 복리로 은행에 맡겼다. 1년후에 받는 돈은 얼마인지를 확인하는 코드를 작성하여라. 출력된 결과는 아래와 같다.**\n",
    "\n",
    "> 1년 후 받는 원금 + 이자는 OOO원입니다."
   ]
  },
  {
   "cell_type": "code",
   "execution_count": 5,
   "metadata": {
    "colab": {
     "base_uri": "https://localhost:8080/"
    },
    "id": "kSV70RaC0bjr",
    "outputId": "5da697a9-5b51-461e-c97b-49c996241815"
   },
   "outputs": [
    {
     "name": "stdout",
     "output_type": "stream",
     "text": [
      "1년 후 받는 원금 + 이자는  142.57608868461793 만원입니다.\n"
     ]
    }
   ],
   "source": [
    "money = 100\n",
    "rate = 0.03\n",
    "n = 12\n",
    "\n",
    "print(\"1년 후 받는 원금 + 이자는 \", money*(1+rate)**12, \"만원입니다.\")"
   ]
  },
  {
   "cell_type": "markdown",
   "metadata": {
    "id": "v1Z9csmB0dNW"
   },
   "source": [
    "**문제6) 문자열 연산을 이용하여 다음의 실행결과가 나오도록 코드를 작성하여라**\n",
    "\n",
    "(1)\n",
    "\n",
    "```\n",
    "안녕하세요. 안녕하세요. 안녕하세요.\n",
    "```\n",
    "\n",
    "(2)\n",
    "```\n",
    "안녕하세요.\n",
    "안녕하세요.\n",
    "안녕하세요.\n",
    "안녕하세요.\n",
    "안녕하세요.\n",
    "```\n",
    "\n",
    "note) 다양한 방법으로 코드를 작성해보자."
   ]
  },
  {
   "cell_type": "code",
   "execution_count": 6,
   "metadata": {
    "colab": {
     "base_uri": "https://localhost:8080/"
    },
    "id": "rqGpiSPF0fmw",
    "outputId": "38ffe6d6-79a1-4cbf-a836-30d7af8c1d6a"
   },
   "outputs": [
    {
     "name": "stdout",
     "output_type": "stream",
     "text": [
      "안녕하세요. 안녕하세요. 안녕하세요. \n"
     ]
    }
   ],
   "source": [
    "hi = \"안녕하세요. \"\n",
    "print(hi * 3)"
   ]
  },
  {
   "cell_type": "code",
   "execution_count": 7,
   "metadata": {
    "colab": {
     "base_uri": "https://localhost:8080/"
    },
    "id": "V3R7OgwF0ha6",
    "outputId": "a747c40c-514c-4bbc-89fe-c3138947abcd"
   },
   "outputs": [
    {
     "name": "stdout",
     "output_type": "stream",
     "text": [
      "안녕하세요. 안녕하세요. 안녕하세요. \n"
     ]
    }
   ],
   "source": [
    "print(\"안녕하세요. \" * 3)"
   ]
  },
  {
   "cell_type": "code",
   "execution_count": 8,
   "metadata": {
    "colab": {
     "base_uri": "https://localhost:8080/"
    },
    "id": "XcLrHB950lwl",
    "outputId": "b0904e15-6dad-44c9-bda2-dac93b155544"
   },
   "outputs": [
    {
     "name": "stdout",
     "output_type": "stream",
     "text": [
      "안녕하세요. 안녕하세요. 안녕하세요. \n"
     ]
    }
   ],
   "source": [
    "print(\"안녕하세요. \" + \"안녕하세요. \" + \"안녕하세요. \")"
   ]
  },
  {
   "cell_type": "code",
   "execution_count": 9,
   "metadata": {
    "colab": {
     "base_uri": "https://localhost:8080/"
    },
    "id": "2TpjWJdL0n2p",
    "outputId": "dfb88a2a-4147-41a2-97e1-e8b8006bd68d"
   },
   "outputs": [
    {
     "name": "stdout",
     "output_type": "stream",
     "text": [
      "안녕하세요. \n",
      "안녕하세요. \n",
      "안녕하세요. \n",
      "안녕하세요. \n",
      "안녕하세요. \n",
      "\n"
     ]
    }
   ],
   "source": [
    "hi = hi + \"\\n\"\n",
    "print(hi * 5)"
   ]
  },
  {
   "cell_type": "code",
   "execution_count": 10,
   "metadata": {
    "colab": {
     "base_uri": "https://localhost:8080/"
    },
    "id": "S2jAicIL0qN0",
    "outputId": "f0cf5792-8f5c-4cb1-d5c8-59c98d3b02c9"
   },
   "outputs": [
    {
     "name": "stdout",
     "output_type": "stream",
     "text": [
      "안녕하세요.\n",
      "안녕하세요.\n",
      "안녕하세요.\n",
      "안녕하세요.\n",
      "안녕하세요.\n",
      "\n"
     ]
    }
   ],
   "source": [
    "print(\"안녕하세요.\\n\" * 5)"
   ]
  },
  {
   "cell_type": "code",
   "execution_count": 11,
   "metadata": {
    "colab": {
     "base_uri": "https://localhost:8080/"
    },
    "id": "KUaeSa610rbu",
    "outputId": "d0ec0598-0d89-4a70-bd45-14006f6d330a"
   },
   "outputs": [
    {
     "name": "stdout",
     "output_type": "stream",
     "text": [
      "안녕하세요.\n",
      "안녕하세요.\n",
      "안녕하세요.\n",
      "안녕하세요.\n",
      "안녕하세요.\n",
      "\n"
     ]
    }
   ],
   "source": [
    "print(\"안녕하세요.\\n\" + \"안녕하세요.\\n\" + \"안녕하세요.\\n\" + \"안녕하세요.\\n\" + \"안녕하세요.\\n\")"
   ]
  },
  {
   "cell_type": "markdown",
   "metadata": {
    "id": "PRQLSWmi0sAF"
   },
   "source": [
    "**문제7) `dogs`와 `cats` 두 개의 변수가 다음과 같이 선언되었다.**  \n",
    "`dogs, cats = '12', '7'`  \n",
    "\n",
    "(1) `dogs`와 `cats` 변수에 할당된 값의 자료형을 확인하여라.  \n",
    "(2) 강아지가 고양이보다 몇 마리 더 많은지 확인하는 코드를 작성하여라. 출력된 결과는 아래와 같은 형식이다.\n",
    "> 강아지가 고양이보다 n 마리 더 많다.\n",
    "\n",
    "[note] `int()` 함수 대신 `float()` 함수를 이용할 수 있다."
   ]
  },
  {
   "cell_type": "code",
   "execution_count": 12,
   "metadata": {
    "colab": {
     "base_uri": "https://localhost:8080/"
    },
    "id": "bsnYH8Xx0vPh",
    "outputId": "c3301efd-0cbd-4d6b-da5c-d10a8d2125de"
   },
   "outputs": [
    {
     "name": "stdout",
     "output_type": "stream",
     "text": [
      "<class 'str'> <class 'str'>\n",
      "강아지가 고양이보다  5 마리 더 많다.\n"
     ]
    }
   ],
   "source": [
    "dogs, cats = '12', '7'\n",
    "print(type(dogs), type(cats))\n",
    "dogs = int(dogs)\n",
    "cats = int(cats)\n",
    "\n",
    "print(\"강아지가 고양이보다 \", dogs - cats, \"마리 더 많다.\")"
   ]
  },
  {
   "cell_type": "code",
   "execution_count": 13,
   "metadata": {
    "colab": {
     "base_uri": "https://localhost:8080/"
    },
    "id": "wMIPQ9bY0xPb",
    "outputId": "7b984b44-81fa-46af-a8a1-1fea40c89444"
   },
   "outputs": [
    {
     "name": "stdout",
     "output_type": "stream",
     "text": [
      "강아지가 고양이보다 5.0마리 더 많다.\n"
     ]
    }
   ],
   "source": [
    "dogs, cats = '12', '7'\n",
    "dogs = float(dogs)\n",
    "cats = float(cats)\n",
    "diff = dogs - cats\n",
    "\n",
    "print(\"강아지가 고양이보다 \"+str(diff)+\"마리 더 많다.\")"
   ]
  },
  {
   "cell_type": "markdown",
   "metadata": {
    "id": "US34KF5W00M8"
   },
   "source": [
    "[note] 문자열과 정수(또는 부동소수점)은 덧셈을 할 수 없다. 여기서는 `str()`을 이용하여 `diff`을 문자열로 변경한 다음, 문자열 덧셈을 할 수 있다."
   ]
  },
  {
   "cell_type": "markdown",
   "metadata": {
    "id": "oMsxIe_500xd"
   },
   "source": [
    "**문제8) 연산기호를 이용해 수식으로 표현해보고 그 결과를 확인해보시오**  \n",
    "(1) `3`과 `4`가 다른지 여부를 판단  \n",
    "(2) `\"hello\"`와 `\"hi\"`가 같은지 여부를 판단  \n",
    "(3) `2`가 `8`보다 작거나 같은지 판단  \n",
    "(4) `12`가 `20`보다 큰지를 판단  \n",
    "\n",
    "**아래의 결과가 `True`인지 `False`인지 판단해보고, 그 결과를 코드를 작성하여 확인하여라**\n",
    "\n",
    "* (1) `and` (3)\n",
    "* (2) `and not` (4)\n",
    "* (3) `or` (4) "
   ]
  },
  {
   "cell_type": "markdown",
   "metadata": {
    "id": "OOLY_zTi02YQ"
   },
   "source": [
    "[주의] `=` 는 대입 연산자이고, `==` 는 비교 연산자이다.  \n",
    "\n",
    "[note] 아래 `p1 = 3 != 4`는 `3`과 `4`가 다른지 여부를 판단한 결과를 변수 `p1`에 할당하라는 코드이다. "
   ]
  },
  {
   "cell_type": "code",
   "execution_count": 14,
   "metadata": {
    "colab": {
     "base_uri": "https://localhost:8080/"
    },
    "id": "84gofJ9m04lu",
    "outputId": "d046af24-0375-4c24-cde2-b37f04c211ac"
   },
   "outputs": [
    {
     "name": "stdout",
     "output_type": "stream",
     "text": [
      "p1: True , p2: False , p3: True , p4: False\n",
      "True\n",
      "False\n",
      "True\n"
     ]
    }
   ],
   "source": [
    "p1 = 3 != 4\n",
    "p2 = \"hello\" == \"hi\"\n",
    "p3 = 2 <= 8\n",
    "p4 = 12 > 20\n",
    "\n",
    "print(\"p1:\", p1, \", p2:\", p2, \", p3:\", p3, \", p4:\", p4)\n",
    "\n",
    "\n",
    "print(p1 and p3)   \n",
    "print(p2 and not p4)\n",
    "print(p3 or p4)  "
   ]
  },
  {
   "cell_type": "markdown",
   "metadata": {
    "id": "jLCnfgsk06WQ"
   },
   "source": [
    "**문제9) 15, 28이 각각 짝수인지 홀수인지를 판별하는 코드를 작성하여라. 출력된 결과는 아래와 같은 형식이다.**\n",
    "\n",
    "> 15는 짝수인가요? False  \n",
    "> 28은 짝수인가요? True\n"
   ]
  },
  {
   "cell_type": "code",
   "execution_count": 15,
   "metadata": {
    "colab": {
     "base_uri": "https://localhost:8080/"
    },
    "id": "fI0Iirvb09Xh",
    "outputId": "e43e507f-1e0c-4d31-d8a0-d64b6b12ca63"
   },
   "outputs": [
    {
     "name": "stdout",
     "output_type": "stream",
     "text": [
      "15는 짝수인가요? False\n",
      "28은 짝수인가요? True\n"
     ]
    }
   ],
   "source": [
    "ans15 = 15 % 2 != 1\n",
    "ans28 = 28 % 2 != 1\n",
    "\n",
    "print(\"15는 짝수인가요?\", ans15)\n",
    "print(\"28은 짝수인가요?\", ans28)"
   ]
  },
  {
   "cell_type": "markdown",
   "metadata": {
    "id": "SjFpmZ5r0_zh"
   },
   "source": [
    "연습을 더 하고 싶다면, 아래의 문제를 풀어보세요!  \n",
    "  \n",
    "  \n",
    "**[추가문제] 아래의 표는 어느 마트의 단위당 판매 가격이다.**\n",
    "\n",
    " |제목|단위|가격|\n",
    " |:----:|:----:|----|\n",
    " |사과|1개|5,400원|\n",
    " |돼지고기|100g|2,480원|\n",
    " |달걀|10개|7,980원|\n",
    " |우유|1개|2,560원|\n",
    " |오이|1개|2,250원|\n",
    "\n",
    " A는 이 마트에서 사과 3개와 돼지고기 600g, 달걀 5개를 구매하려고 한다. \n",
    " A는 총 비용을 구하는 프로그램을 작성하기 위해 아래와 같이 변수를 선언하였다.\n",
    " ```\n",
    "apple = '3'\n",
    "pork = '600'\n",
    "egg = '5'\n",
    " ```\n",
    " 그리고 아래와 같은 형식으로 총 비용을 출력해주려고 한다. \n",
    " > 사과 3개, 돼지고기 600g, 달걀 5개를 구매하는 총 비용은 OOO 원이다. \n",
    "\n",
    " A가 선언한 변수를 활용하여 프로그램을 완성하여라."
   ]
  },
  {
   "cell_type": "markdown",
   "metadata": {
    "id": "6qvDuHKN1A6K"
   },
   "source": [
    "예시 답안은 아래에 있음\n",
    "```\n",
    "\n",
    "\n",
    "\n",
    "\n",
    "\n",
    "\n",
    "\n",
    "\n",
    "\n",
    "\n",
    "\n",
    "\n",
    "\n",
    "\n",
    "\n",
    "\n",
    ".\n",
    "```"
   ]
  },
  {
   "cell_type": "code",
   "execution_count": 16,
   "metadata": {
    "colab": {
     "base_uri": "https://localhost:8080/"
    },
    "id": "ULVyvfsD1LZl",
    "outputId": "39eca209-3423-4522-dd17-864778c90ba2"
   },
   "outputs": [
    {
     "name": "stdout",
     "output_type": "stream",
     "text": [
      "사과 3개, 돼지고기 600g, 달걀 5개를 구매하는 총 비용은  35070.0 원이다.\n"
     ]
    }
   ],
   "source": [
    "apple = '3'\n",
    "pork = '600'\n",
    "egg = '5'\n",
    "\n",
    "int_apple = int(apple)\n",
    "int_pork = int(pork)\n",
    "int_egg = int(egg)\n",
    "\n",
    "total_price = int_apple * 5400 + int_pork * (2480 / 100) + int_egg * (7980 / 10)\n",
    "\n",
    "print(\"사과 \" + apple + \"개, 돼지고기 \" + pork + \"g, 달걀 \" + egg + \"개를 구매하는 총 비용은 \", total_price, \"원이다.\")"
   ]
  }
 ],
 "metadata": {
  "colab": {
   "collapsed_sections": [],
   "name": "실습답안2.ipynb",
   "provenance": []
  },
  "kernelspec": {
   "display_name": "Python 3",
   "language": "python",
   "name": "python3"
  },
  "language_info": {
   "codemirror_mode": {
    "name": "ipython",
    "version": 3
   },
   "file_extension": ".py",
   "mimetype": "text/x-python",
   "name": "python",
   "nbconvert_exporter": "python",
   "pygments_lexer": "ipython3",
   "version": "3.8.5"
  }
 },
 "nbformat": 4,
 "nbformat_minor": 1
}
