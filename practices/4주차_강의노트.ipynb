{
 "cells": [
  {
   "cell_type": "markdown",
   "metadata": {
    "id": "TvFBAjyK-G1l"
   },
   "source": [
    "#1. 입력과 출력\n",
    "\n",
    "\n",
    "\n",
    "\n"
   ]
  },
  {
   "cell_type": "markdown",
   "metadata": {
    "id": "1QMqz3aTOwoF"
   },
   "source": [
    "## 입력 - `input()` 함수\n",
    "\n",
    "어떤 일은 사용자가 입력한 값을 사용해야 할 때가 있다.  \n",
    "  \n",
    "예를 들어, 숫자맞히기 게임을 생각해보자. 숫자맞히기 게임은 말 그대로 참여자가 정해진 숫자를 맞히는 게임으로 반드시 사용자로부터 값을 입력받아야 한다.  \n",
    "  \n",
    "  \n",
    "이런 경우 사용자의 입력은 `input()` 함수를 사용하여 받을 수 있다.  \n",
    "\n",
    "`input()`을 입력하고 코드를 실행하면, 아래에 값을 입력하라는 창이 나온다. 그곳에 Hello, world! 라고 입력하고 엔터(enter)를 누르면 입력한 문자열이 그대로 출력된다. "
   ]
  },
  {
   "cell_type": "code",
   "execution_count": null,
   "metadata": {
    "colab": {
     "base_uri": "https://localhost:8080/",
     "height": 52
    },
    "id": "WckFZg0I99hN",
    "outputId": "1a2abc2e-51bd-424b-c47a-95bbe60f25b0"
   },
   "outputs": [
    {
     "name": "stdout",
     "output_type": "stream",
     "text": [
      "Hello, world!\n"
     ]
    },
    {
     "data": {
      "application/vnd.google.colaboratory.intrinsic+json": {
       "type": "string"
      },
      "text/plain": [
       "'Hello, world!'"
      ]
     },
     "execution_count": 1,
     "metadata": {
      "tags": []
     },
     "output_type": "execute_result"
    }
   ],
   "source": [
    "input()"
   ]
  },
  {
   "cell_type": "markdown",
   "metadata": {
    "id": "wiqMUhgfSBkx"
   },
   "source": [
    "`input()` 함수로 입력받은 값은 변수에 할당하여 사용할 수도 있다. "
   ]
  },
  {
   "cell_type": "code",
   "execution_count": null,
   "metadata": {
    "colab": {
     "base_uri": "https://localhost:8080/"
    },
    "id": "37qBLeP2QXxb",
    "outputId": "d3fc3b4f-76ef-4468-d0d9-f7de3569e5b3"
   },
   "outputs": [
    {
     "name": "stdout",
     "output_type": "stream",
     "text": [
      "Hello, world!\n",
      "Hello, world!\n"
     ]
    }
   ],
   "source": [
    "hi = input()\n",
    "print(hi)"
   ]
  },
  {
   "cell_type": "markdown",
   "metadata": {
    "id": "qzob5fW4SecL"
   },
   "source": [
    "이때 `input()` 함수로 입력받은 값은 문자열(str)이다."
   ]
  },
  {
   "cell_type": "code",
   "execution_count": null,
   "metadata": {
    "colab": {
     "base_uri": "https://localhost:8080/"
    },
    "id": "Z-vLad6jSQdB",
    "outputId": "864af3d5-ddbd-41b3-b778-8f82f536219e"
   },
   "outputs": [
    {
     "data": {
      "text/plain": [
       "str"
      ]
     },
     "execution_count": 4,
     "metadata": {
      "tags": []
     },
     "output_type": "execute_result"
    }
   ],
   "source": [
    "type(hi)"
   ]
  },
  {
   "cell_type": "code",
   "execution_count": null,
   "metadata": {
    "colab": {
     "base_uri": "https://localhost:8080/"
    },
    "id": "nYBF2PzHSpMo",
    "outputId": "4155590d-164c-4ed2-fd2e-82780d6a3eb7"
   },
   "outputs": [
    {
     "name": "stdout",
     "output_type": "stream",
     "text": [
      "123\n",
      "<class 'str'>\n"
     ]
    }
   ],
   "source": [
    "num = input() #123\n",
    "print(type(num))"
   ]
  },
  {
   "cell_type": "markdown",
   "metadata": {
    "id": "YWjZ9idESzBF"
   },
   "source": [
    "사용자에게 무엇을 입력할지 알려주고 싶다면 아래와 같이 할 수 있다.\n"
   ]
  },
  {
   "cell_type": "code",
   "execution_count": null,
   "metadata": {
    "colab": {
     "base_uri": "https://localhost:8080/"
    },
    "id": "4HmzvDSESuEv",
    "outputId": "8007763e-f00d-4476-9f7d-c563e18e22ad"
   },
   "outputs": [
    {
     "name": "stdout",
     "output_type": "stream",
     "text": [
      "정수를 입력하세요!\n",
      "123\n",
      "입력한 정수는 123 입니다.\n"
     ]
    }
   ],
   "source": [
    "print(\"정수를 입력하세요!\")\n",
    "num1 = input()\n",
    "print(\"입력한 정수는\", num1, \"입니다.\")"
   ]
  },
  {
   "cell_type": "code",
   "execution_count": null,
   "metadata": {
    "colab": {
     "base_uri": "https://localhost:8080/"
    },
    "id": "ZbklU1gvVgbH",
    "outputId": "50e982e8-d960-4f2d-810b-b2860571dd35"
   },
   "outputs": [
    {
     "name": "stdout",
     "output_type": "stream",
     "text": [
      "정수를 입력하세요 : 321\n",
      "입력한 정수는 321 입니다.\n"
     ]
    }
   ],
   "source": [
    "num2 = input(\"정수를 입력하세요 : \")\n",
    "print(\"입력한 정수는\", num2, \"입니다.\")"
   ]
  },
  {
   "cell_type": "markdown",
   "metadata": {
    "id": "os1LDma28eut"
   },
   "source": [
    "예제를 통해 `input()` 함수에 대해 더 살펴보자."
   ]
  },
  {
   "cell_type": "markdown",
   "metadata": {
    "id": "VuX2ACeuV0hQ"
   },
   "source": [
    "ex1) `input()` 함수를 이용하여 사용자로부터 정수를 입력받아, 그 정수의 제곱을 출력하는 코드를 작성하여라."
   ]
  },
  {
   "cell_type": "code",
   "execution_count": null,
   "metadata": {
    "colab": {
     "base_uri": "https://localhost:8080/"
    },
    "id": "zoqnoJTvVuDx",
    "outputId": "a6f6f6fa-b2ef-4a46-d2a3-434dc7f065d2"
   },
   "outputs": [
    {
     "name": "stdout",
     "output_type": "stream",
     "text": [
      "정수를 입력하세요 : 6\n",
      "입력한 숫자 6 의 제곱은 36 입니다.\n"
     ]
    }
   ],
   "source": [
    "num3 = input(\"정수를 입력하세요 : \")\n",
    "print(\"입력한 정수\", num3, \"의 제곱은\", int(num3)**2, \"입니다.\")"
   ]
  },
  {
   "cell_type": "markdown",
   "metadata": {
    "id": "4dFdvgqTWbfP"
   },
   "source": [
    "주의) `input()`함수로 입력받은 값은 문자열이다. "
   ]
  },
  {
   "cell_type": "markdown",
   "metadata": {
    "id": "e9ipuJUbWzxo"
   },
   "source": [
    "ex2) 사용자로부터 자연수를 입력받아, 그 자연수의 약수를 출력하는 코드를 작성하여라."
   ]
  },
  {
   "cell_type": "code",
   "execution_count": null,
   "metadata": {
    "colab": {
     "base_uri": "https://localhost:8080/"
    },
    "id": "9LyiFQJUWL_R",
    "outputId": "c867ef87-fd88-4eb3-8f0c-94bed1f41bf6"
   },
   "outputs": [
    {
     "name": "stdout",
     "output_type": "stream",
     "text": [
      "자연수를 입력하세요 : 6\n",
      "1\n",
      "2\n",
      "3\n",
      "6\n"
     ]
    }
   ],
   "source": [
    "num4 = int(input(\"자연수를 입력하세요 : \"))\n",
    "\n",
    "for i in range(1, num4 + 1) :\n",
    "  if num4 % i == 0:\n",
    "    print(i)"
   ]
  },
  {
   "cell_type": "markdown",
   "metadata": {
    "id": "_2Z1mK5jfnZy"
   },
   "source": [
    "ex3) 두 정수를 입력받아, 두 정수의 합을 출력하는 코드를 작성하여라."
   ]
  },
  {
   "cell_type": "code",
   "execution_count": null,
   "metadata": {
    "colab": {
     "base_uri": "https://localhost:8080/"
    },
    "id": "FJDnKf9yfv6t",
    "outputId": "f9486da9-1d43-4afd-f7f9-fdd473f3d2ca"
   },
   "outputs": [
    {
     "name": "stdout",
     "output_type": "stream",
     "text": [
      "정수를 입력하세요 : 5\n",
      "정수를 입력하세요 : 9\n",
      "5 + 9 =  14\n"
     ]
    }
   ],
   "source": [
    "numA = int(input(\"정수를 입력하세요 : \"))\n",
    "numB = int(input(\"정수를 입력하세요 : \"))\n",
    "\n",
    "print(numA, \"+\", numB, \"= \", numA + numB)"
   ]
  },
  {
   "cell_type": "markdown",
   "metadata": {
    "id": "e5NqDJ8IgNxT"
   },
   "source": [
    "아래와 같이 두 정수를 한 번에 입력받을 수도 있다."
   ]
  },
  {
   "cell_type": "code",
   "execution_count": null,
   "metadata": {
    "colab": {
     "base_uri": "https://localhost:8080/"
    },
    "id": "ZITmcRMFgMwA",
    "outputId": "fdbe3f4a-7d7a-4d84-bff2-29919d4e8ece"
   },
   "outputs": [
    {
     "name": "stdout",
     "output_type": "stream",
     "text": [
      "두 정수를 콤마(,)로 구분하여 입력하세요 : 5,9\n",
      "5 + 9 =  14\n"
     ]
    }
   ],
   "source": [
    "numA, numB = input(\"두 정수를 콤마(,)로 구분하여 입력하세요 : \").split(\",\")\n",
    "\n",
    "print(numA, \"+\", numB, \"= \", int(numA) + int(numB))"
   ]
  },
  {
   "cell_type": "markdown",
   "metadata": {
    "id": "7pHbvWkChq2y"
   },
   "source": [
    "`map()` 함수를 활용하여 `numA`, `numB` 각각에 `int` 함수를 자동으로 적용할 수 있다.  "
   ]
  },
  {
   "cell_type": "code",
   "execution_count": null,
   "metadata": {
    "colab": {
     "base_uri": "https://localhost:8080/"
    },
    "id": "sws-1UB5ilOw",
    "outputId": "1642b8e8-0723-4d6b-a882-e74b5d49bc9c"
   },
   "outputs": [
    {
     "name": "stdout",
     "output_type": "stream",
     "text": [
      "두 정수를 콤마(,)로 구분하여 입력하세요 : 5,9\n",
      "5 + 9 =  14\n"
     ]
    }
   ],
   "source": [
    "numA, numB = map(int, input(\"두 정수를 콤마(,)로 구분하여 입력하세요 : \").split(\",\"))\n",
    "print(numA, \"+\", numB, \"= \", numA + numB)"
   ]
  },
  {
   "cell_type": "markdown",
   "metadata": {
    "id": "t60tKhW9Z8iq"
   },
   "source": [
    "## 출력 - `print()` 함수"
   ]
  },
  {
   "cell_type": "markdown",
   "metadata": {
    "id": "vMveHjip-pbf"
   },
   "source": [
    "그 동안 출력을 위해 `print()` 함수를 사용하였다. 예를 들어, 문자열 Hello World 를 출력하고 싶다면, 아래와 같이 코드를 작성하면 된다."
   ]
  },
  {
   "cell_type": "code",
   "execution_count": null,
   "metadata": {
    "colab": {
     "base_uri": "https://localhost:8080/"
    },
    "id": "moEDND2DeIDQ",
    "outputId": "77dcbce6-ae7c-43cb-9d1c-dfc892c418ff"
   },
   "outputs": [
    {
     "name": "stdout",
     "output_type": "stream",
     "text": [
      "Hello, World\n"
     ]
    }
   ],
   "source": [
    "print(\"Hello, World\")"
   ]
  },
  {
   "cell_type": "markdown",
   "metadata": {
    "id": "CVzzM4tSKB-R"
   },
   "source": [
    "이제 `print()` 함수에 대해서 조금 더 살펴보자."
   ]
  },
  {
   "cell_type": "markdown",
   "metadata": {
    "id": "RV_5oNLDKwu_"
   },
   "source": [
    "1) 큰따옴표(또는 작은따옴표)로 둘러싸인 문자열을 연속해서 사용하면 문자열에서 +연산을 한 것과 동일한 결과를 출력해준다."
   ]
  },
  {
   "cell_type": "code",
   "execution_count": null,
   "metadata": {
    "colab": {
     "base_uri": "https://localhost:8080/"
    },
    "id": "XfZgncb-CLkX",
    "outputId": "01cde028-a2cb-4329-e6ba-9f0dadde3737"
   },
   "outputs": [
    {
     "name": "stdout",
     "output_type": "stream",
     "text": [
      "Hello World\n"
     ]
    }
   ],
   "source": [
    "print(\"Hello \"\"World\")"
   ]
  },
  {
   "cell_type": "code",
   "execution_count": null,
   "metadata": {
    "colab": {
     "base_uri": "https://localhost:8080/"
    },
    "id": "4pDSfN0SKmhe",
    "outputId": "ff66a938-d7f6-4d89-c9be-6097ab0266b3"
   },
   "outputs": [
    {
     "name": "stdout",
     "output_type": "stream",
     "text": [
      "Hello World\n"
     ]
    }
   ],
   "source": [
    "print('Hello ''World')"
   ]
  },
  {
   "cell_type": "code",
   "execution_count": null,
   "metadata": {
    "colab": {
     "base_uri": "https://localhost:8080/"
    },
    "id": "CdYsuWlLTmCN",
    "outputId": "3df5c464-9792-4fa6-d164-a071aa9d04e8"
   },
   "outputs": [
    {
     "name": "stdout",
     "output_type": "stream",
     "text": [
      "Hello World\n"
     ]
    }
   ],
   "source": [
    "print('Hello '\"World\")"
   ]
  },
  {
   "cell_type": "code",
   "execution_count": null,
   "metadata": {
    "colab": {
     "base_uri": "https://localhost:8080/"
    },
    "id": "cfwQARSJKraX",
    "outputId": "9ddc6fe0-d854-4a30-858d-de37efba978b"
   },
   "outputs": [
    {
     "name": "stdout",
     "output_type": "stream",
     "text": [
      "Hello World\n"
     ]
    }
   ],
   "source": [
    "print(\"Hello \" + \"World\")"
   ]
  },
  {
   "cell_type": "markdown",
   "metadata": {
    "id": "9VVJVXOcLQva"
   },
   "source": [
    "2) 문자열 사이에 콤마(,)를 사용하면 띄어쓰기를 할 수 있다."
   ]
  },
  {
   "cell_type": "code",
   "execution_count": null,
   "metadata": {
    "colab": {
     "base_uri": "https://localhost:8080/"
    },
    "id": "-6tzm6dqLfLH",
    "outputId": "df060654-c831-45a3-b918-09d2d0bbae41"
   },
   "outputs": [
    {
     "name": "stdout",
     "output_type": "stream",
     "text": [
      "Hello World\n"
     ]
    }
   ],
   "source": [
    "print(\"Hello\", \"World\")"
   ]
  },
  {
   "cell_type": "markdown",
   "metadata": {
    "id": "k_BK0bK7OmfT"
   },
   "source": [
    "3) 인자들 사이에 구분자를 넣고 싶다면, `sep`을 변경하면 된다. `sep`의 기본값은 공백이다."
   ]
  },
  {
   "cell_type": "code",
   "execution_count": null,
   "metadata": {
    "colab": {
     "base_uri": "https://localhost:8080/"
    },
    "id": "4N2iV6NoWvQQ",
    "outputId": "2348e89b-2054-471e-d93f-4e5d4d8febb6"
   },
   "outputs": [
    {
     "name": "stdout",
     "output_type": "stream",
     "text": [
      "010-1234-5678\n"
     ]
    }
   ],
   "source": [
    "print(\"010\", \"1234\", \"5678\", sep = \"-\")"
   ]
  },
  {
   "cell_type": "code",
   "execution_count": null,
   "metadata": {
    "colab": {
     "base_uri": "https://localhost:8080/"
    },
    "id": "zUvaBRhgW6ta",
    "outputId": "e63f8498-c831-495b-ece4-377c9c3913d1"
   },
   "outputs": [
    {
     "name": "stdout",
     "output_type": "stream",
     "text": [
      "Hello, World\n"
     ]
    }
   ],
   "source": [
    "print(\"Hello\", \"World\", sep = \", \")"
   ]
  },
  {
   "cell_type": "markdown",
   "metadata": {
    "id": "XATtKAiUXUiT"
   },
   "source": [
    "4) 마지막에 출력할 문자를 변경하고 싶다면, `end`를 변경하면 된다. `end`의 기본값은 줄바꿈(`\\n`)이다."
   ]
  },
  {
   "cell_type": "code",
   "execution_count": null,
   "metadata": {
    "colab": {
     "base_uri": "https://localhost:8080/"
    },
    "id": "dgTW6KfPYE5o",
    "outputId": "b0e7a9c1-3447-48df-b0c3-0080c4a86f95"
   },
   "outputs": [
    {
     "name": "stdout",
     "output_type": "stream",
     "text": [
      "a\n",
      "bc\td\n"
     ]
    }
   ],
   "source": [
    "print(\"a\")\n",
    "print(\"b\", end = \"\")\n",
    "print(\"c\", end = \"\\t\")\n",
    "print(\"d\")"
   ]
  },
  {
   "cell_type": "markdown",
   "metadata": {
    "id": "GTXSplGy7z7Y"
   },
   "source": [
    "# 2. 오류 및 예외처리"
   ]
  },
  {
   "cell_type": "markdown",
   "metadata": {
    "id": "wBtJSoG-eZr9"
   },
   "source": [
    "아래의 코드는 정수를 입력받아 그 정수의 제곱을 출력하는 내용을 담고 있다. 코드를 실행하면 숫자를 입력하라는 창이 나오고, 여기에 정수 6을 입력하면 정상적으로 작동한다. 하지만, 예를 들어, 3.5를 입력하면 값 오류(value error)가 발생한다. `int()` 함수는 정수모양의 문자열에만 사용할 수 있기 때문이다."
   ]
  },
  {
   "cell_type": "code",
   "execution_count": null,
   "metadata": {
    "colab": {
     "base_uri": "https://localhost:8080/"
    },
    "id": "-H6ggV0hbv2U",
    "outputId": "1a0d2f15-4851-4949-f301-f03a7034338f"
   },
   "outputs": [
    {
     "name": "stdout",
     "output_type": "stream",
     "text": [
      "정수를 입력하세요 : 6\n",
      "입력한 정수 6 의 제곱은 36 입니다.\n"
     ]
    }
   ],
   "source": [
    "int_num = int(input(\"정수를 입력하세요 : \"))\n",
    "print(\"입력한 정수\", int_num, \"의 제곱은\", int_num**2, \"입니다.\")"
   ]
  },
  {
   "cell_type": "code",
   "execution_count": null,
   "metadata": {
    "colab": {
     "base_uri": "https://localhost:8080/",
     "height": 203
    },
    "id": "WzIelOuGmFiY",
    "outputId": "95675054-ee92-4336-ecdc-0aaaf73acff1"
   },
   "outputs": [
    {
     "name": "stdout",
     "output_type": "stream",
     "text": [
      "정수를 입력하세요 : 3.5\n"
     ]
    },
    {
     "ename": "ValueError",
     "evalue": "ignored",
     "output_type": "error",
     "traceback": [
      "\u001b[0;31m---------------------------------------------------------------------------\u001b[0m",
      "\u001b[0;31mValueError\u001b[0m                                Traceback (most recent call last)",
      "\u001b[0;32m<ipython-input-16-451164c00bbc>\u001b[0m in \u001b[0;36m<module>\u001b[0;34m()\u001b[0m\n\u001b[0;32m----> 1\u001b[0;31m \u001b[0mint_num\u001b[0m \u001b[0;34m=\u001b[0m \u001b[0mint\u001b[0m\u001b[0;34m(\u001b[0m\u001b[0minput\u001b[0m\u001b[0;34m(\u001b[0m\u001b[0;34m\"정수를 입력하세요 : \"\u001b[0m\u001b[0;34m)\u001b[0m\u001b[0;34m)\u001b[0m\u001b[0;34m\u001b[0m\u001b[0;34m\u001b[0m\u001b[0m\n\u001b[0m\u001b[1;32m      2\u001b[0m \u001b[0mprint\u001b[0m\u001b[0;34m(\u001b[0m\u001b[0;34m\"입력한 정수\"\u001b[0m\u001b[0;34m,\u001b[0m \u001b[0mint_num\u001b[0m\u001b[0;34m,\u001b[0m \u001b[0;34m\"의 제곱은\"\u001b[0m\u001b[0;34m,\u001b[0m \u001b[0mint_num\u001b[0m\u001b[0;34m**\u001b[0m\u001b[0;36m2\u001b[0m\u001b[0;34m,\u001b[0m \u001b[0;34m\"입니다.\"\u001b[0m\u001b[0;34m)\u001b[0m\u001b[0;34m\u001b[0m\u001b[0;34m\u001b[0m\u001b[0m\n",
      "\u001b[0;31mValueError\u001b[0m: invalid literal for int() with base 10: '3.5'"
     ]
    }
   ],
   "source": [
    "int_num = int(input(\"정수를 입력하세요 : \"))\n",
    "print(\"입력한 정수\", int_num, \"의 제곱은\", int_num**2, \"입니다.\")"
   ]
  },
  {
   "cell_type": "markdown",
   "metadata": {
    "id": "1bk7M8fFmRqc"
   },
   "source": [
    "프로그램을 만들다보면 여러 오류가 발생할 수 있다. 파이썬은 오류가 발생하면 오류 메시지를 보여주며 프로그램을 중단한다. 하지만 때로는 오류를 다른 방식으로 처리하고 싶을 때도 있다. 여기서 그에 대한 해결책을 다루고자 한다. "
   ]
  },
  {
   "cell_type": "markdown",
   "metadata": {
    "id": "NNlBrtGzu-gH"
   },
   "source": [
    "## 오류\n",
    "\n"
   ]
  },
  {
   "cell_type": "markdown",
   "metadata": {
    "id": "FRnomx8Ym-4w"
   },
   "source": [
    "오류를 처리하는 방법을 살펴보기 전에, 발생할 수 있는 오류 몇 가지를 살펴보자. 오류의 종류를 파악하면 어디서 왜 오류가 발생하였는지를 보다 쉽게 파악하여 코드를 수정할 수 있게 된다.  \n",
    "\n",
    "다음의 코드들은 모두 오류를 발생시킨다."
   ]
  },
  {
   "cell_type": "markdown",
   "metadata": {
    "id": "xU0URcq3wIt6"
   },
   "source": [
    "**1) 문법 오류**\n",
    "\n",
    "> `\"Hello, world`\n",
    "\n",
    "주의) 문자열 양 끝의 큰따옴표(또는 작은따옴표)가 짝이 맞아야 한다."
   ]
  },
  {
   "cell_type": "code",
   "execution_count": null,
   "metadata": {
    "colab": {
     "base_uri": "https://localhost:8080/",
     "height": 133
    },
    "id": "fL9XnAVlwIMP",
    "outputId": "adbc23c0-d32b-47bb-80bb-e1a94fad4269"
   },
   "outputs": [
    {
     "ename": "SyntaxError",
     "evalue": "ignored",
     "output_type": "error",
     "traceback": [
      "\u001b[0;36m  File \u001b[0;32m\"<ipython-input-19-a5674619cc6b>\"\u001b[0;36m, line \u001b[0;32m1\u001b[0m\n\u001b[0;31m    \"Hello, world\u001b[0m\n\u001b[0m                 ^\u001b[0m\n\u001b[0;31mSyntaxError\u001b[0m\u001b[0;31m:\u001b[0m EOL while scanning string literal\n"
     ]
    }
   ],
   "source": [
    "\"Hello, world"
   ]
  },
  {
   "cell_type": "markdown",
   "metadata": {
    "id": "ZvuJcxcPwh8l"
   },
   "source": [
    "오류 메시지를 간단히 살펴보자. \n",
    "\n",
    "* `File \"<ipython-input-19-a5674619cc6b>\", line 1`  \n",
    "1번 줄에서 오류 발생\n",
    "\n",
    "* ```\n",
    "    \"Hello, world\n",
    "                 ^\n",
    "```\n",
    "오류 발생 위치 명시\n",
    "\n",
    "* `SyntaxError: EOL while scanning string literal`  \n",
    "오류 종류 표시 : 문법 오류(SyntaxError) "
   ]
  },
  {
   "cell_type": "markdown",
   "metadata": {
    "id": "HCpUmgdKvrB6"
   },
   "source": [
    "**2) 0으로 나누기 오류**\n",
    "> `3 / 0` \n",
    "\n",
    "주의) 0으로 나눌 수 없다."
   ]
  },
  {
   "cell_type": "code",
   "execution_count": null,
   "metadata": {
    "colab": {
     "base_uri": "https://localhost:8080/",
     "height": 168
    },
    "id": "PguOvFg6mHwF",
    "outputId": "a0ed8328-6827-45db-db10-8770e10e6eb5"
   },
   "outputs": [
    {
     "ename": "ZeroDivisionError",
     "evalue": "ignored",
     "output_type": "error",
     "traceback": [
      "\u001b[0;31m---------------------------------------------------------------------------\u001b[0m",
      "\u001b[0;31mZeroDivisionError\u001b[0m                         Traceback (most recent call last)",
      "\u001b[0;32m<ipython-input-18-01a2217119a3>\u001b[0m in \u001b[0;36m<module>\u001b[0;34m()\u001b[0m\n\u001b[0;32m----> 1\u001b[0;31m \u001b[0mprint\u001b[0m\u001b[0;34m(\u001b[0m\u001b[0;36m3\u001b[0m\u001b[0;34m/\u001b[0m\u001b[0;36m0\u001b[0m\u001b[0;34m)\u001b[0m\u001b[0;34m\u001b[0m\u001b[0;34m\u001b[0m\u001b[0m\n\u001b[0m",
      "\u001b[0;31mZeroDivisionError\u001b[0m: division by zero"
     ]
    }
   ],
   "source": [
    "print(3/0)"
   ]
  },
  {
   "cell_type": "markdown",
   "metadata": {
    "id": "vbqFBv-Sv3Sd"
   },
   "source": [
    "**3) 들여쓰기 문법 오류**\n",
    "\n",
    ">```\n",
    "for i in range(5) :\n",
    "  i -= 2\n",
    "    print(i)\n",
    "```\n",
    "\n",
    "주의) 2번 줄과 3번 줄의 들여쓰기 정도가 동일해야 한다."
   ]
  },
  {
   "cell_type": "code",
   "execution_count": null,
   "metadata": {
    "colab": {
     "base_uri": "https://localhost:8080/",
     "height": 133
    },
    "id": "vr2qSQ7mv1zm",
    "outputId": "e5ba51b3-ef34-4cfd-8346-9443365ddeb6"
   },
   "outputs": [
    {
     "ename": "IndentationError",
     "evalue": "ignored",
     "output_type": "error",
     "traceback": [
      "\u001b[0;36m  File \u001b[0;32m\"<ipython-input-22-2f6d86e4660a>\"\u001b[0;36m, line \u001b[0;32m3\u001b[0m\n\u001b[0;31m    print(i)\u001b[0m\n\u001b[0m    ^\u001b[0m\n\u001b[0;31mIndentationError\u001b[0m\u001b[0;31m:\u001b[0m unexpected indent\n"
     ]
    }
   ],
   "source": [
    "for i in range(5) :\n",
    "  i -= 2\n",
    "    print(i)"
   ]
  },
  {
   "cell_type": "markdown",
   "metadata": {
    "id": "hm01x0DAx1ko"
   },
   "source": [
    "**4) 자료형 오류**\n",
    "\n",
    "아래의 연산은 모두 오류를 발생시킨다.\n",
    "\n",
    ">```\n",
    "'cat' - 'dog'\n",
    "'cat' * 'dog'\n",
    "'cat' / 'dog'  \n",
    "```\n",
    ">```\n",
    "'cat' + 2\n",
    "'cat' - 2\n",
    "'cat' / 2\n",
    "```\n",
    "\n",
    "주의) 문자열끼리의 합, 문자열과 정수의 곱셈만 정의되어 있다."
   ]
  },
  {
   "cell_type": "code",
   "execution_count": null,
   "metadata": {
    "colab": {
     "base_uri": "https://localhost:8080/",
     "height": 168
    },
    "id": "RkvYier4xkLG",
    "outputId": "d18cc992-e183-4cca-ca17-c3508d850190"
   },
   "outputs": [
    {
     "ename": "TypeError",
     "evalue": "ignored",
     "output_type": "error",
     "traceback": [
      "\u001b[0;31m---------------------------------------------------------------------------\u001b[0m",
      "\u001b[0;31mTypeError\u001b[0m                                 Traceback (most recent call last)",
      "\u001b[0;32m<ipython-input-23-47e5dc8c518e>\u001b[0m in \u001b[0;36m<module>\u001b[0;34m()\u001b[0m\n\u001b[0;32m----> 1\u001b[0;31m \u001b[0;34m'cat'\u001b[0m \u001b[0;34m-\u001b[0m \u001b[0;34m'dog'\u001b[0m\u001b[0;34m\u001b[0m\u001b[0;34m\u001b[0m\u001b[0m\n\u001b[0m",
      "\u001b[0;31mTypeError\u001b[0m: unsupported operand type(s) for -: 'str' and 'str'"
     ]
    }
   ],
   "source": [
    "'cat' - 'dog'"
   ]
  },
  {
   "cell_type": "markdown",
   "metadata": {
    "id": "Qwmij7-3yyI1"
   },
   "source": [
    "**5) 이름 오류**\n",
    "\n",
    ">`print(dog)`\n",
    "\n",
    "주의) 미리 선언된 변수만 사용할 수 있다."
   ]
  },
  {
   "cell_type": "code",
   "execution_count": null,
   "metadata": {
    "colab": {
     "base_uri": "https://localhost:8080/",
     "height": 168
    },
    "id": "S3u7AL-Wyxqj",
    "outputId": "e520f72d-03c9-403b-ab03-98dcaf177883"
   },
   "outputs": [
    {
     "ename": "NameError",
     "evalue": "ignored",
     "output_type": "error",
     "traceback": [
      "\u001b[0;31m---------------------------------------------------------------------------\u001b[0m",
      "\u001b[0;31mNameError\u001b[0m                                 Traceback (most recent call last)",
      "\u001b[0;32m<ipython-input-24-6857f2fb20da>\u001b[0m in \u001b[0;36m<module>\u001b[0;34m()\u001b[0m\n\u001b[0;32m----> 1\u001b[0;31m \u001b[0mprint\u001b[0m\u001b[0;34m(\u001b[0m\u001b[0mdog\u001b[0m\u001b[0;34m)\u001b[0m\u001b[0;34m\u001b[0m\u001b[0;34m\u001b[0m\u001b[0m\n\u001b[0m",
      "\u001b[0;31mNameError\u001b[0m: name 'dog' is not defined"
     ]
    }
   ],
   "source": [
    "print(dog)"
   ]
  },
  {
   "cell_type": "markdown",
   "metadata": {
    "id": "qpwklm5YzAGK"
   },
   "source": [
    "**6) 인덱스 오류**\n",
    "\n",
    ">```\n",
    "a_word = \"hello\"\n",
    "a_word[20]\n",
    "```\n",
    "\n",
    "주의) 인덱스는 문자열의 길이보다 작은 수만 사용할 수 있다."
   ]
  },
  {
   "cell_type": "code",
   "execution_count": null,
   "metadata": {
    "colab": {
     "base_uri": "https://localhost:8080/",
     "height": 185
    },
    "id": "dCk6Jj9-yv_e",
    "outputId": "c6fc5869-e018-45b8-c40b-f6df6b7c479b"
   },
   "outputs": [
    {
     "ename": "IndexError",
     "evalue": "ignored",
     "output_type": "error",
     "traceback": [
      "\u001b[0;31m---------------------------------------------------------------------------\u001b[0m",
      "\u001b[0;31mIndexError\u001b[0m                                Traceback (most recent call last)",
      "\u001b[0;32m<ipython-input-27-d2dfe20b8f53>\u001b[0m in \u001b[0;36m<module>\u001b[0;34m()\u001b[0m\n\u001b[1;32m      1\u001b[0m \u001b[0ma_word\u001b[0m \u001b[0;34m=\u001b[0m \u001b[0;34m\"hello world\"\u001b[0m\u001b[0;34m\u001b[0m\u001b[0;34m\u001b[0m\u001b[0m\n\u001b[0;32m----> 2\u001b[0;31m \u001b[0ma_word\u001b[0m\u001b[0;34m[\u001b[0m\u001b[0;36m20\u001b[0m\u001b[0;34m]\u001b[0m\u001b[0;34m\u001b[0m\u001b[0;34m\u001b[0m\u001b[0m\n\u001b[0m",
      "\u001b[0;31mIndexError\u001b[0m: string index out of range"
     ]
    }
   ],
   "source": [
    "a_word = \"hello world\"\n",
    "a_word[20]"
   ]
  },
  {
   "cell_type": "markdown",
   "metadata": {
    "id": "Hnd7h6_GzX9B"
   },
   "source": [
    "**7) 값 오류**\n",
    ">`int(a_word)`\n",
    "\n",
    "주의) `int()` 함수는 정수모양의 문자열만 처리할 수 있다."
   ]
  },
  {
   "cell_type": "code",
   "execution_count": null,
   "metadata": {
    "colab": {
     "base_uri": "https://localhost:8080/",
     "height": 168
    },
    "id": "CpdBHnBlzLdc",
    "outputId": "c5129c0d-96e0-48aa-d13c-54e2048e7f35"
   },
   "outputs": [
    {
     "ename": "ValueError",
     "evalue": "ignored",
     "output_type": "error",
     "traceback": [
      "\u001b[0;31m---------------------------------------------------------------------------\u001b[0m",
      "\u001b[0;31mValueError\u001b[0m                                Traceback (most recent call last)",
      "\u001b[0;32m<ipython-input-28-412cfee654a9>\u001b[0m in \u001b[0;36m<module>\u001b[0;34m()\u001b[0m\n\u001b[0;32m----> 1\u001b[0;31m \u001b[0mint\u001b[0m\u001b[0;34m(\u001b[0m\u001b[0ma_word\u001b[0m\u001b[0;34m)\u001b[0m\u001b[0;34m\u001b[0m\u001b[0;34m\u001b[0m\u001b[0m\n\u001b[0m",
      "\u001b[0;31mValueError\u001b[0m: invalid literal for int() with base 10: 'hello world'"
     ]
    }
   ],
   "source": [
    "int(a_word)"
   ]
  },
  {
   "cell_type": "markdown",
   "metadata": {
    "id": "TyPE81WB0A2O"
   },
   "source": [
    "**8) 속성 오류**\n",
    "\n",
    ">`a_word.split().strip()`\n",
    "\n",
    "주의) `a_word`는 문자열이지만, `a_word.split()`는 리스트이다.  \n",
    "리스트에는 `strip()` 메소드가 없다. 리스트는 이후에 다룬다."
   ]
  },
  {
   "cell_type": "code",
   "execution_count": null,
   "metadata": {
    "colab": {
     "base_uri": "https://localhost:8080/",
     "height": 168
    },
    "id": "bA9SA1FNz_1U",
    "outputId": "e9f97e14-a332-431b-fff9-bab55131a0e9"
   },
   "outputs": [
    {
     "ename": "AttributeError",
     "evalue": "ignored",
     "output_type": "error",
     "traceback": [
      "\u001b[0;31m---------------------------------------------------------------------------\u001b[0m",
      "\u001b[0;31mAttributeError\u001b[0m                            Traceback (most recent call last)",
      "\u001b[0;32m<ipython-input-30-09c69b8a8996>\u001b[0m in \u001b[0;36m<module>\u001b[0;34m()\u001b[0m\n\u001b[0;32m----> 1\u001b[0;31m \u001b[0ma_word\u001b[0m\u001b[0;34m.\u001b[0m\u001b[0msplit\u001b[0m\u001b[0;34m(\u001b[0m\u001b[0;34m)\u001b[0m\u001b[0;34m.\u001b[0m\u001b[0mstrip\u001b[0m\u001b[0;34m(\u001b[0m\u001b[0;34m)\u001b[0m\u001b[0;34m\u001b[0m\u001b[0;34m\u001b[0m\u001b[0m\n\u001b[0m",
      "\u001b[0;31mAttributeError\u001b[0m: 'list' object has no attribute 'strip'"
     ]
    }
   ],
   "source": [
    "a_word.split().strip()"
   ]
  },
  {
   "cell_type": "markdown",
   "metadata": {
    "id": "4PXkJGM21vRN"
   },
   "source": [
    "지금 살펴본 오류 외에도 다양한 오류가 발생할 수 있다. 그때마다 스스로 오류의 내용과 원인을 확인해 나가는 과정이 필요하다."
   ]
  },
  {
   "cell_type": "markdown",
   "metadata": {
    "id": "_GfbV-7e2Z4o"
   },
   "source": [
    "## 예외처리\n",
    "\n",
    "프로그램 중간에 오류가 발생할 수 있는 경우를 미리 생각하여 대비하는 과정을 **예외처리(exception handling)**라고 부른다.  \n",
    "\n",
    "예를 들어, 오류가 발생하더라도 오류발생 이전까지 생성된 정보들을 저장하거나, 오류발생 이유를 조금 더 자세히 다루거나, 아니면 오류발생에 대한 보다 자세한 정보를 사용자에게 알려주기 위해 예외처리를 사용한다.  \n",
    "\n",
    "사용방식은 다음과 같다.\n",
    ">```\n",
    "try :\n",
    "  코드1\n",
    "except :\n",
    "  코드2\n",
    "```\n",
    "\n",
    "* 먼저 코드1 부분을 실행한다.\n",
    "* 코드1 부분이 실행되면서 오류가 발생하지 않으면 코드2 부분은 무시하고 다음으로 넘어간다.\n",
    "* 코드1 부분이 실행되면서 오류가 발생하면 더이상 진행하지 않고 바로 코드2 부분을 실행한다."
   ]
  },
  {
   "cell_type": "markdown",
   "metadata": {
    "id": "YeTa7cJ45t53"
   },
   "source": [
    "예시를 통해 살펴보자.  \n",
    "\n",
    "아래의 코드는 문법적 오류는 없지만, 정수가 아닌 값을 입력하면 값 오류(value error)가 발생한다. "
   ]
  },
  {
   "cell_type": "code",
   "execution_count": null,
   "metadata": {
    "colab": {
     "base_uri": "https://localhost:8080/",
     "height": 203
    },
    "id": "ecXrbCox0W1r",
    "outputId": "04932185-af56-46f8-d43b-ab71ae83261e"
   },
   "outputs": [
    {
     "name": "stdout",
     "output_type": "stream",
     "text": [
      "정수를 입력하세요 : 3.5\n"
     ]
    },
    {
     "ename": "ValueError",
     "evalue": "ignored",
     "output_type": "error",
     "traceback": [
      "\u001b[0;31m---------------------------------------------------------------------------\u001b[0m",
      "\u001b[0;31mValueError\u001b[0m                                Traceback (most recent call last)",
      "\u001b[0;32m<ipython-input-31-451164c00bbc>\u001b[0m in \u001b[0;36m<module>\u001b[0;34m()\u001b[0m\n\u001b[0;32m----> 1\u001b[0;31m \u001b[0mint_num\u001b[0m \u001b[0;34m=\u001b[0m \u001b[0mint\u001b[0m\u001b[0;34m(\u001b[0m\u001b[0minput\u001b[0m\u001b[0;34m(\u001b[0m\u001b[0;34m\"정수를 입력하세요 : \"\u001b[0m\u001b[0;34m)\u001b[0m\u001b[0;34m)\u001b[0m\u001b[0;34m\u001b[0m\u001b[0;34m\u001b[0m\u001b[0m\n\u001b[0m\u001b[1;32m      2\u001b[0m \u001b[0mprint\u001b[0m\u001b[0;34m(\u001b[0m\u001b[0;34m\"입력한 정수\"\u001b[0m\u001b[0;34m,\u001b[0m \u001b[0mint_num\u001b[0m\u001b[0;34m,\u001b[0m \u001b[0;34m\"의 제곱은\"\u001b[0m\u001b[0;34m,\u001b[0m \u001b[0mint_num\u001b[0m\u001b[0;34m**\u001b[0m\u001b[0;36m2\u001b[0m\u001b[0;34m,\u001b[0m \u001b[0;34m\"입니다.\"\u001b[0m\u001b[0;34m)\u001b[0m\u001b[0;34m\u001b[0m\u001b[0;34m\u001b[0m\u001b[0m\n",
      "\u001b[0;31mValueError\u001b[0m: invalid literal for int() with base 10: '3.5'"
     ]
    }
   ],
   "source": [
    "int_num = int(input(\"정수를 입력하세요 : \"))\n",
    "print(\"입력한 정수\", int_num, \"의 제곱은\", int_num**2, \"입니다.\")"
   ]
  },
  {
   "cell_type": "markdown",
   "metadata": {
    "id": "QNf6yYWZ6P0Z"
   },
   "source": [
    "이런 경우, `try...except` 문을 이용하여 예외처리를 할 수 있다.  \n",
    "\n",
    "예를 들어, 정수가 아닌 값을 입력하면, `\"정수를 입력해야 합니다.\"`라는 문구를 출력할 수 있다."
   ]
  },
  {
   "cell_type": "code",
   "execution_count": null,
   "metadata": {
    "colab": {
     "base_uri": "https://localhost:8080/"
    },
    "id": "_hFqbnGo6HsN",
    "outputId": "ebbe5884-2086-4359-f41c-ef6f8a471a59"
   },
   "outputs": [
    {
     "name": "stdout",
     "output_type": "stream",
     "text": [
      "정수를 입력하세요: 6\n",
      "입력한 정수 6 의 제곱은 36 입니다.\n"
     ]
    }
   ],
   "source": [
    "num = input(\"정수를 입력하세요: \")\n",
    "\n",
    "try :\n",
    "  int_num = int(num)\n",
    "  print(\"입력한 정수\", int_num, \"의 제곱은\", int_num**2, \"입니다.\")\n",
    "except :\n",
    "  print(\"정수를 입력해야 합니다.\")"
   ]
  },
  {
   "cell_type": "code",
   "execution_count": null,
   "metadata": {
    "colab": {
     "base_uri": "https://localhost:8080/"
    },
    "id": "XoV9WWNO8FOV",
    "outputId": "41bfa1ba-15ae-4bce-b076-98c9de81c759"
   },
   "outputs": [
    {
     "name": "stdout",
     "output_type": "stream",
     "text": [
      "정수를 입력하세요: 3.5\n",
      "정수를 입력해야 합니다.\n"
     ]
    }
   ],
   "source": [
    "num = input(\"정수를 입력하세요: \")\n",
    "\n",
    "try :\n",
    "  int_num = int(num)\n",
    "  print(\"입력한 정수\", int_num, \"의 제곱은\", int_num**2, \"입니다.\")\n",
    "except :\n",
    "  print(\"정수를 입력해야 합니다.\")"
   ]
  },
  {
   "cell_type": "markdown",
   "metadata": {
    "id": "JwOZM0rm8KpF"
   },
   "source": [
    "올바른 값이 나올 때까지 입력을 요구할 수도 있다. "
   ]
  },
  {
   "cell_type": "code",
   "execution_count": null,
   "metadata": {
    "colab": {
     "base_uri": "https://localhost:8080/"
    },
    "id": "fahKP3J38Hpp",
    "outputId": "6f312fd9-944f-432e-a6ef-6983eeceeaf4"
   },
   "outputs": [
    {
     "name": "stdout",
     "output_type": "stream",
     "text": [
      "정수를 입력하세요: 3.5\n",
      "정수를 입력해야 합니다.\n",
      "정수를 입력하세요: 3.7\n",
      "정수를 입력해야 합니다.\n",
      "정수를 입력하세요: 6\n",
      "입력한 정수 6 의 제곱은 36 입니다.\n"
     ]
    }
   ],
   "source": [
    "while True :\n",
    "  try :\n",
    "    int_num = int(input(\"정수를 입력하세요: \"))\n",
    "    print(\"입력한 정수\", int_num, \"의 제곱은\", int_num**2, \"입니다.\")\n",
    "    break\n",
    "  except :\n",
    "    print(\"정수를 입력해야 합니다.\")"
   ]
  },
  {
   "cell_type": "markdown",
   "metadata": {
    "id": "_0wYjpCS8lHU"
   },
   "source": [
    "참고) `break`는 가장 가까이서 둘러싸는 하나의 `for`나 `while` 루프로부터 빠져나가게 만든다. "
   ]
  },
  {
   "cell_type": "markdown",
   "metadata": {
    "id": "oNu9gllW-bKa"
   },
   "source": [
    "오류 종류에 맞추어 다양한 대처를 하기 위해서는 오류의 종류를 명시하여 예외처리를 하면된다. 예제를 통해 살펴보자.\n",
    "예제는 0이 아닌 정수를 입력받아 10을 입력받은 수로 나눈 값을 출력하는 코드로, 입력 값에 따라 다른 오류가 발생하고 그에 상응하는 방식으로 예외처리를 한다. "
   ]
  },
  {
   "cell_type": "markdown",
   "metadata": {
    "id": "wDKFxtdT_lt4"
   },
   "source": [
    "**값 오류(ValueError)의 경우**"
   ]
  },
  {
   "cell_type": "code",
   "execution_count": null,
   "metadata": {
    "colab": {
     "base_uri": "https://localhost:8080/"
    },
    "id": "VACdv0E58gMz",
    "outputId": "67ae85ab-cea2-41c1-f1b0-2a5b867693c6"
   },
   "outputs": [
    {
     "name": "stdout",
     "output_type": "stream",
     "text": [
      "0이 아닌 정수를 입력하세요 : 3.5\n",
      "정수를 입력하세요.\n"
     ]
    }
   ],
   "source": [
    "num = input(\"0이 아닌 정수를 입력하세요 : \")\n",
    "\n",
    "try :\n",
    "  int_num = int(num)\n",
    "  ans = 10 /int_num\n",
    "  print(\"결과는\", a, \"입니다.\")\n",
    "except ValueError:\n",
    "  print(\"정수를 입력하세요.\")\n",
    "except ZeroDivisionError:\n",
    "  print(\"0은 입력할 수 없습니다. \")"
   ]
  },
  {
   "cell_type": "markdown",
   "metadata": {
    "id": "4Z3fOiPE_vWw"
   },
   "source": [
    "**0으로 나누기 오류(ZeroDivisionError)의 경우**"
   ]
  },
  {
   "cell_type": "code",
   "execution_count": null,
   "metadata": {
    "colab": {
     "base_uri": "https://localhost:8080/"
    },
    "id": "E3tZzEZF_tM7",
    "outputId": "d22ae533-da01-4f85-d8e1-fb97097a5ad5"
   },
   "outputs": [
    {
     "name": "stdout",
     "output_type": "stream",
     "text": [
      "0이 아닌 정수를 입력하세요 : 0\n",
      "0은 입력할 수 없습니다. \n"
     ]
    }
   ],
   "source": [
    "num = input(\"0이 아닌 정수를 입력하세요 : \")\n",
    "\n",
    "try :\n",
    "  int_num = int(num)\n",
    "  ans = 10 /int_num\n",
    "  print(\"결과는\", a, \"입니다.\")\n",
    "except ValueError:\n",
    "  print(\"정수를 입력하세요.\")\n",
    "except ZeroDivisionError:\n",
    "  print(\"0은 입력할 수 없습니다. \")"
   ]
  },
  {
   "cell_type": "markdown",
   "metadata": {
    "id": "6sJX9lTfAH2X"
   },
   "source": [
    "주의) 오류의 종류를 틀리게 명시하면 예외처리가 제대로 동작하지 않는다."
   ]
  },
  {
   "cell_type": "code",
   "execution_count": null,
   "metadata": {
    "colab": {
     "base_uri": "https://localhost:8080/",
     "height": 220
    },
    "id": "XruCm-bx_2WZ",
    "outputId": "682e176b-5845-4dda-be9e-3fc76eb137bb"
   },
   "outputs": [
    {
     "ename": "ZeroDivisionError",
     "evalue": "ignored",
     "output_type": "error",
     "traceback": [
      "\u001b[0;31m---------------------------------------------------------------------------\u001b[0m",
      "\u001b[0;31mZeroDivisionError\u001b[0m                         Traceback (most recent call last)",
      "\u001b[0;32m<ipython-input-39-c743ddb96f59>\u001b[0m in \u001b[0;36m<module>\u001b[0;34m()\u001b[0m\n\u001b[1;32m      1\u001b[0m \u001b[0;32mtry\u001b[0m \u001b[0;34m:\u001b[0m\u001b[0;34m\u001b[0m\u001b[0;34m\u001b[0m\u001b[0m\n\u001b[0;32m----> 2\u001b[0;31m   \u001b[0ma\u001b[0m \u001b[0;34m=\u001b[0m \u001b[0;36m3\u001b[0m \u001b[0;34m/\u001b[0m \u001b[0;36m0\u001b[0m\u001b[0;34m\u001b[0m\u001b[0;34m\u001b[0m\u001b[0m\n\u001b[0m\u001b[1;32m      3\u001b[0m \u001b[0;32mexcept\u001b[0m \u001b[0mValueError\u001b[0m \u001b[0;34m:\u001b[0m\u001b[0;34m\u001b[0m\u001b[0;34m\u001b[0m\u001b[0m\n\u001b[1;32m      4\u001b[0m   \u001b[0mprint\u001b[0m\u001b[0;34m(\u001b[0m\u001b[0;34m\"This program stops here.\"\u001b[0m\u001b[0;34m)\u001b[0m\u001b[0;34m\u001b[0m\u001b[0;34m\u001b[0m\u001b[0m\n",
      "\u001b[0;31mZeroDivisionError\u001b[0m: division by zero"
     ]
    }
   ],
   "source": [
    "try :\n",
    "  a = 3 / 0\n",
    "except ValueError :\n",
    "  print(\"This program stops here.\")"
   ]
  },
  {
   "cell_type": "markdown",
   "metadata": {
    "id": "dZBUxSeo9oId"
   },
   "source": [
    "## 예외 일으키기\n",
    "\n",
    "강제로 오류를 발생시키고 싶다면 `raise` 명령어를 사용하면 된다. \n"
   ]
  },
  {
   "cell_type": "code",
   "execution_count": null,
   "metadata": {
    "colab": {
     "base_uri": "https://localhost:8080/",
     "height": 168
    },
    "id": "WRXBBpRO_r3l",
    "outputId": "49367986-2926-4404-b88f-2a879a68eebe"
   },
   "outputs": [
    {
     "ename": "RuntimeError",
     "evalue": "ignored",
     "output_type": "error",
     "traceback": [
      "\u001b[0;31m---------------------------------------------------------------------------\u001b[0m",
      "\u001b[0;31mRuntimeError\u001b[0m                              Traceback (most recent call last)",
      "\u001b[0;32m<ipython-input-10-9c9a2cba73bf>\u001b[0m in \u001b[0;36m<module>\u001b[0;34m()\u001b[0m\n\u001b[0;32m----> 1\u001b[0;31m \u001b[0;32mraise\u001b[0m\u001b[0;34m\u001b[0m\u001b[0;34m\u001b[0m\u001b[0m\n\u001b[0m",
      "\u001b[0;31mRuntimeError\u001b[0m: No active exception to reraise"
     ]
    }
   ],
   "source": [
    "raise"
   ]
  },
  {
   "cell_type": "code",
   "execution_count": null,
   "metadata": {
    "colab": {
     "base_uri": "https://localhost:8080/",
     "height": 168
    },
    "id": "ZLc89ytoAeWk",
    "outputId": "b8457155-cba0-49be-b464-19bdf97828c7"
   },
   "outputs": [
    {
     "ename": "ValueError",
     "evalue": "ignored",
     "output_type": "error",
     "traceback": [
      "\u001b[0;31m---------------------------------------------------------------------------\u001b[0m",
      "\u001b[0;31mValueError\u001b[0m                                Traceback (most recent call last)",
      "\u001b[0;32m<ipython-input-6-e4c8e09828d5>\u001b[0m in \u001b[0;36m<module>\u001b[0;34m()\u001b[0m\n\u001b[0;32m----> 1\u001b[0;31m \u001b[0;32mraise\u001b[0m \u001b[0mValueError\u001b[0m\u001b[0;34m\u001b[0m\u001b[0;34m\u001b[0m\u001b[0m\n\u001b[0m",
      "\u001b[0;31mValueError\u001b[0m: "
     ]
    }
   ],
   "source": [
    "raise ValueError"
   ]
  },
  {
   "cell_type": "code",
   "execution_count": null,
   "metadata": {
    "colab": {
     "base_uri": "https://localhost:8080/",
     "height": 168
    },
    "id": "JAtoSPOt-0tZ",
    "outputId": "6e29b038-2eb4-4b2a-ff42-4f24652d59fc"
   },
   "outputs": [
    {
     "ename": "NameError",
     "evalue": "ignored",
     "output_type": "error",
     "traceback": [
      "\u001b[0;31m---------------------------------------------------------------------------\u001b[0m",
      "\u001b[0;31mNameError\u001b[0m                                 Traceback (most recent call last)",
      "\u001b[0;32m<ipython-input-7-53219af79342>\u001b[0m in \u001b[0;36m<module>\u001b[0;34m()\u001b[0m\n\u001b[0;32m----> 1\u001b[0;31m \u001b[0;32mraise\u001b[0m \u001b[0mNameError\u001b[0m\u001b[0;34m(\u001b[0m\u001b[0;34m'name_err'\u001b[0m\u001b[0;34m)\u001b[0m\u001b[0;34m\u001b[0m\u001b[0;34m\u001b[0m\u001b[0m\n\u001b[0m",
      "\u001b[0;31mNameError\u001b[0m: name_err"
     ]
    }
   ],
   "source": [
    "raise NameError('name_err')"
   ]
  },
  {
   "cell_type": "markdown",
   "metadata": {
    "id": "CVnQM-LVI5XS"
   },
   "source": [
    "## 코드의 안전성 문제\n",
    "\n",
    "문법 오류 또는 실행 중 오류가 발생하지 않더라도 **코드의 안전성**이 보장되지는 않는다. 즉, 오류가 발생하지 않더라도 코드를 실행했을 때 기대하는 결과가 나오지 않을 수도 있으니 주의해야 한다. "
   ]
  },
  {
   "cell_type": "markdown",
   "metadata": {
    "id": "ZA3R2cXSVWJG"
   },
   "source": [
    "아래의 코드는 입력받은 정수의 제곱을 출력해주는 코드를 제대로 구현하지 못한 경우를 다룬다. "
   ]
  },
  {
   "cell_type": "code",
   "execution_count": null,
   "metadata": {
    "colab": {
     "base_uri": "https://localhost:8080/"
    },
    "id": "ToFfMdKpJXy6",
    "outputId": "9af23521-7764-4402-9917-00d0ddefbb59"
   },
   "outputs": [
    {
     "name": "stdout",
     "output_type": "stream",
     "text": [
      "정수를 입력하세요 : 3\n",
      "입력한 정수 3 의 제곱은 3 입니다.\n"
     ]
    }
   ],
   "source": [
    "int_num = int(input(\"정수를 입력하세요 : \"))\n",
    "print(\"입력한 정수\", int_num, \"의 제곱은\", int_num, \"입니다.\")"
   ]
  }
 ],
 "metadata": {
  "colab": {
   "collapsed_sections": [],
   "name": "4주차_강의노트.ipynb",
   "provenance": [],
   "toc_visible": true
  },
  "kernelspec": {
   "display_name": "Python 3",
   "language": "python",
   "name": "python3"
  },
  "language_info": {
   "codemirror_mode": {
    "name": "ipython",
    "version": 3
   },
   "file_extension": ".py",
   "mimetype": "text/x-python",
   "name": "python",
   "nbconvert_exporter": "python",
   "pygments_lexer": "ipython3",
   "version": "3.8.5"
  }
 },
 "nbformat": 4,
 "nbformat_minor": 1
}
