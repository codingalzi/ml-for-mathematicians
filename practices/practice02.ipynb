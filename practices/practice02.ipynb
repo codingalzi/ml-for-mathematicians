{
 "cells": [
  {
   "cell_type": "markdown",
   "metadata": {
    "id": "c4NPzFTwnScT"
   },
   "source": [
    "# 파이썬 프로그래밍 실습 2"
   ]
  },
  {
   "cell_type": "markdown",
   "metadata": {},
   "source": [
    "__문제 1.__ 다음 조건을 만족시키는 `inserting_tab()` 함수를 정의하라.\n",
    "\n",
    "* 인자는 하나만 받으며, 매개변수는 `s`라 부른다.\n",
    "* 문자열 하나를 인자로 받아 실행하면 해당 문자열의 앞쪽에 탭(`\\t`)이 \n",
    "    삽입된 문자열을 반환하는 동시에 화면에 출력한다.\n",
    "\n",
    "```python\n",
    ">>> print(inserting_tab('python'))\n",
    ">>>     python\n",
    ">>>     python\n",
    "```"
   ]
  },
  {
   "cell_type": "code",
   "execution_count": null,
   "metadata": {},
   "outputs": [],
   "source": [
    "# pass와 None을 각각 적절한 코드와 표현식으로 대체하라.\n",
    "\n",
    "def inserting_tab(s):\n",
    "    pass\n",
    "\n",
    "    return None"
   ]
  },
  {
   "cell_type": "code",
   "execution_count": null,
   "metadata": {},
   "outputs": [],
   "source": [
    "print(inserting_tab(\"hello\"))"
   ]
  },
  {
   "cell_type": "markdown",
   "metadata": {},
   "source": [
    "__문제 2.__\n",
    "아래 노래 가사를 활용하는 문제이다."
   ]
  },
  {
   "cell_type": "code",
   "execution_count": null,
   "metadata": {},
   "outputs": [],
   "source": [
    "song = \"When you are smiling, the whole world smiles with you\""
   ]
  },
  {
   "cell_type": "markdown",
   "metadata": {},
   "source": [
    "위 문자열에서 `a`가 등장하는 횟수를 구하는 코드는 다음과 같다."
   ]
  },
  {
   "cell_type": "code",
   "execution_count": null,
   "metadata": {},
   "outputs": [],
   "source": [
    "count_a = 0\n",
    "for word in song:\n",
    "    if word == 'a':\n",
    "        count_a += 1\n",
    "\n",
    "print(count_a)"
   ]
  },
  {
   "cell_type": "markdown",
   "metadata": {},
   "source": [
    "위 문자열에서 대소문자 구별없이 `w`가 등장하는 횟수를 구하는 코드는 다음과 같다."
   ]
  },
  {
   "cell_type": "code",
   "execution_count": null,
   "metadata": {},
   "outputs": [],
   "source": [
    "count_w = 0\n",
    "for word in song.lower():\n",
    "    if word == 'w':\n",
    "        count_w += 1\n",
    "\n",
    "print(count_w)"
   ]
  },
  {
   "cell_type": "markdown",
   "metadata": {},
   "source": [
    "A. `song`이 가리키는 문자열에서 모음과 공백을 제거한 문자열 `whnyrsmlngthwhlwrldsmlswthy`를 \n",
    "생성하는 코드를 구현하라. "
   ]
  },
  {
   "cell_type": "code",
   "execution_count": null,
   "metadata": {},
   "outputs": [],
   "source": [
    "# pass 를 적절한 코드로 대체하라.\n",
    "\n",
    "new_song = ''\n",
    "for word in song.lower():\n",
    "    pass\n",
    "\n",
    "print(new_song)"
   ]
  },
  {
   "cell_type": "markdown",
   "metadata": {},
   "source": [
    "B. `song`이 가리키는 문자열에서 지정된 문자들만 제거하는 함수 `remove_letters()`를 정의하라.\n",
    "\n",
    "* `s`: 입력 인자로 문자열을 받음.\n",
    "* 반환값: 생성된 문자열"
   ]
  },
  {
   "cell_type": "code",
   "execution_count": null,
   "metadata": {},
   "outputs": [],
   "source": [
    "# pass 를 적절한 코드로 대체하라.\n",
    "\n",
    "def remove_letters(s):\n",
    "    new_song = ''\n",
    "    for word in song.lower():\n",
    "        pass\n",
    "    \n",
    "    return new_song\n",
    "\n",
    "remove_letters('aeiou ')"
   ]
  },
  {
   "cell_type": "markdown",
   "metadata": {},
   "source": [
    "__문제 3.__\n",
    "\n",
    "A. `while` 반복문을 이용하여 별표 기호(`*`)로 아래 모양의 삼각형을 출력하라.\n",
    "\n",
    "```python\n",
    "*****\n",
    "****\n",
    "***\n",
    "**\n",
    "*\n",
    "```\n",
    "\n",
    "힌트: 문자열과 정수의 곱셈을 이용한다."
   ]
  },
  {
   "cell_type": "code",
   "execution_count": null,
   "metadata": {},
   "outputs": [],
   "source": [
    "# pass와 None을 각각 적절한 코드와 적절한 표현식으로 대체하라.\n",
    "\n",
    "i = 1\n",
    "\n",
    "while i < None:\n",
    "    pass"
   ]
  },
  {
   "cell_type": "markdown",
   "metadata": {},
   "source": [
    "B. `while` 반복문을 이용하여 별표 기호(`*`)로 아래 모양의 삼각형을 출력하라.\n",
    "\n",
    "```python\n",
    "*****\n",
    " ***\n",
    "  *\n",
    "```\n",
    "\n",
    "힌트: 문자열과 정수의 곱셈을 이용한다."
   ]
  },
  {
   "cell_type": "code",
   "execution_count": null,
   "metadata": {},
   "outputs": [],
   "source": [
    "# pass와 None을 각각 적절한 코드와 적절한 표현식으로 대체하라.\n",
    "\n",
    "i = 1\n",
    "\n",
    "while i < None:\n",
    "    pass"
   ]
  },
  {
   "cell_type": "markdown",
   "metadata": {},
   "source": [
    "(c) 위 (b)의 문제를 임의의 양의 홀수 n에 대하여 작동하도록 일반화하는 함수 `reversed_triangle()`를\n",
    "정의하라. 예를 들어, n=7이면 다음과 같이 출력해야 한다.\n",
    "\n",
    "```python\n",
    "*******\n",
    " *****\n",
    "  ***\n",
    "   *\n",
    "```\n",
    "\n",
    "힌트: 문자열과 정수의 곱셈을 이용한다."
   ]
  },
  {
   "cell_type": "code",
   "execution_count": null,
   "metadata": {},
   "outputs": [],
   "source": [
    "# pass와 None을 각각 적절한 코드와 적절한 표현식으로 대체하라.\n",
    "\n",
    "def reversed_triangle(n):\n",
    "    # n은 홀수 이어야 함.\n",
    "    if n % 2 == 0:\n",
    "        return None\n",
    "    \n",
    "    i = 1\n",
    "    while i < None:\n",
    "        pass"
   ]
  },
  {
   "cell_type": "markdown",
   "metadata": {},
   "source": [
    "__문제 4.__\n",
    "1보다 큰 임의의 정수로 시작해서 짝수면 2로 나누고, \n",
    "홀수면 3배 후 1을 더해주는 과정을 반복하면 언젠가는 1이 나타난다.\n",
    "\n",
    "```\n",
    "3 10 5 16 8 4 2 1\n",
    "7 22 11 34 17 52 26 13 40 20 10 5 16 8 4 2 1\n",
    "```\n",
    "\n",
    "1보다 큰 임의의 정수로 시작해서 위와 같은 수열을 출력하는 코드를 작성하라.\n",
    "\n",
    "__참고:__ `print(x, ..., end=' ')` 는 지정된 값을 출력한 후에 줄바꿈을 하지 않는다.\n",
    "구체적인 이유는 나중에 함수를 다룰 때 설명한다."
   ]
  },
  {
   "cell_type": "code",
   "execution_count": null,
   "metadata": {},
   "outputs": [],
   "source": [
    "# pass와 None을 각각 적절한 코드와 적절한 표현식으로 대체하라.\n",
    "\n",
    "x = 3\n",
    "print(x, end=' ')\n",
    "\n",
    "while x > None:\n",
    "    if x % 2 == 0:\n",
    "        pass\n",
    "    else:\n",
    "        pass"
   ]
  },
  {
   "cell_type": "code",
   "execution_count": null,
   "metadata": {},
   "outputs": [],
   "source": [
    "# pass와 None을 각각 적절한 코드와 적절한 표현식으로 대체하라.\n",
    "\n",
    "x = 7\n",
    "print(x, end=' ')\n",
    "\n",
    "while x > None:\n",
    "    if x % 2 == 0:\n",
    "        pass\n",
    "    else:\n",
    "        pass"
   ]
  },
  {
   "cell_type": "markdown",
   "metadata": {},
   "source": [
    "111에서 시작하면 1에 도착할 때까지 꽤 올래 걸린다."
   ]
  },
  {
   "cell_type": "code",
   "execution_count": null,
   "metadata": {},
   "outputs": [],
   "source": [
    "# pass와 None을 각각 적절한 코드와 적절한 표현식으로 대체하라.\n",
    "\n",
    "x = 111\n",
    "print(x, end=' ')\n",
    "\n",
    "while x > None:\n",
    "    if x % 2 == 0:\n",
    "        pass\n",
    "    else:\n",
    "        pass"
   ]
  },
  {
   "cell_type": "markdown",
   "metadata": {},
   "source": [
    "__문제 5.__ 다음과 같은 격자를 그리는 함수 `painting_check_2()`를 작성하라.\n",
    "\n",
    "```python\n",
    "+ - - - - + - - - - +\n",
    "|         |         |\n",
    "|         |         |\n",
    "|         |         |\n",
    "|         |         |\n",
    "+ - - - - + - - - - +\n",
    "|         |         |\n",
    "|         |         |\n",
    "|         |         |\n",
    "|         |         |\n",
    "+ - - - - + - - - - +\n",
    "```\n",
    "\n",
    "단, 입력값은 사용하지 않으며, 반환값은 `None`으로 지정한다.\n",
    "\n",
    "힌트: `print()` 함수는 또한 기본적으로 줄바꿈을 실행한다.\n",
    "줄바꿈을 하지 않기 위해서는 `end=' '` 키워드 인자를 예를 들어 아래와 같이 실행하면 된다.\n",
    "\n",
    "```python\n",
    "print('+', '-', end=' ')\n",
    "```"
   ]
  },
  {
   "cell_type": "code",
   "execution_count": null,
   "metadata": {},
   "outputs": [],
   "source": [
    "# pass 를 적절한 코드로 대체하라.\n",
    "\n",
    "def painting_check_2():\n",
    "    pass\n",
    "\n",
    "    return None"
   ]
  },
  {
   "cell_type": "code",
   "execution_count": null,
   "metadata": {},
   "outputs": [],
   "source": [
    "painting_check_2()"
   ]
  },
  {
   "cell_type": "markdown",
   "metadata": {},
   "source": [
    "__문제 6.__ 4개의 행과 4개의 열을 갖는 격자를 그리는 함수 `painting_check_4()`를 작성하라.\n",
    "단, 입력값은 없으며, 반환값은 사용된 `+` 기호의 개수이다.\n",
    "\n",
    "힌트: 함수의 기능을 분리하여 여러 개의 함수로 정의한 다음에 정의된 함수들을 적절하게 조합하라."
   ]
  },
  {
   "cell_type": "code",
   "execution_count": null,
   "metadata": {},
   "outputs": [],
   "source": [
    "# pass와 None을 각각 적절한 코드와 표현식으로 대체하라.\n",
    "\n",
    "def painting_check_4():\n",
    "    pass\n",
    "\n",
    "    return None"
   ]
  },
  {
   "cell_type": "code",
   "execution_count": null,
   "metadata": {},
   "outputs": [],
   "source": [
    "painting_check_4()"
   ]
  },
  {
   "cell_type": "markdown",
   "metadata": {},
   "source": [
    "__문제 7.__ 문제 5와 문제 6의 함수를 일반화하여 입력값 n이 주어지면 \n",
    "n개의 행과 n개의 열을 갖는 격자를 그리는 함수 `painting_check()`를 작성하라.\n",
    "단, 입력값은 양의 정수를 받는 n이며, 반환값은 사용된 `+` 기호의 개수이다.\n",
    "또한 `n=4`를 키워드 인자로 사용한다.\n",
    "\n",
    "힌트: 함수의 입력값 n에 대한 for 반복문을 활용하라."
   ]
  },
  {
   "cell_type": "code",
   "execution_count": null,
   "metadata": {},
   "outputs": [],
   "source": [
    "# pass와 None을 각각 적절한 코드와 표현식으로 대체하라.\n",
    "\n",
    "def painting_check(n=4):\n",
    "    pass\n",
    "\n",
    "    return None"
   ]
  },
  {
   "cell_type": "code",
   "execution_count": null,
   "metadata": {},
   "outputs": [],
   "source": [
    "painting_check()"
   ]
  }
 ],
 "metadata": {
  "colab": {
   "collapsed_sections": [],
   "name": "실습답안3.ipynb",
   "provenance": []
  },
  "kernelspec": {
   "display_name": "Python 3",
   "language": "python",
   "name": "python3"
  },
  "language_info": {
   "codemirror_mode": {
    "name": "ipython",
    "version": 3
   },
   "file_extension": ".py",
   "mimetype": "text/x-python",
   "name": "python",
   "nbconvert_exporter": "python",
   "pygments_lexer": "ipython3",
   "version": "3.8.5"
  }
 },
 "nbformat": 4,
 "nbformat_minor": 1
}
