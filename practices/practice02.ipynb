{
 "cells": [
  {
   "cell_type": "markdown",
   "metadata": {
    "id": "c4NPzFTwnScT"
   },
   "source": [
    "# 파이썬 프로그래밍 실습 3 "
   ]
  },
  {
   "cell_type": "markdown",
   "metadata": {
    "id": "kkbD-sw3IsYs"
   },
   "source": [
    "**문제 1.** 과일 목록을 할당받는 `fruit` 변수가 아래와 같이 선언되었다."
   ]
  },
  {
   "cell_type": "code",
   "execution_count": 1,
   "metadata": {
    "id": "kkbD-sw3IsYs"
   },
   "outputs": [],
   "source": [
    "fruit = \"banana apple orange pineapple mango strawberry cherry\""
   ]
  },
  {
   "cell_type": "markdown",
   "metadata": {
    "id": "kkbD-sw3IsYs"
   },
   "source": [
    "아래 문자열 메서드를 이용하여 문제를 해결하라.\n",
    "\n",
    "```python\n",
    "strip(), split(), replace(), upper(), lower(), \n",
    "capitalize(), title(), startswith(), endswith()\n",
    "```"
   ]
  },
  {
   "cell_type": "markdown",
   "metadata": {
    "id": "kkbD-sw3IsYs"
   },
   "source": [
    "(1) 각 과일 단어의 첫 알파벳을 대문자로 변경하려면 어떻게 해야 하는가? "
   ]
  },
  {
   "cell_type": "code",
   "execution_count": 2,
   "metadata": {},
   "outputs": [
    {
     "data": {
      "text/plain": [
       "'Banana Apple Orange Pineapple Mango Strawberry Cherry'"
      ]
     },
     "execution_count": 2,
     "metadata": {},
     "output_type": "execute_result"
    }
   ],
   "source": [
    "fruit.title()"
   ]
  },
  {
   "cell_type": "markdown",
   "metadata": {
    "id": "c0s_ArvDKJBO"
   },
   "source": [
    "(2) `fruit` 변수로부터 대문자 Y를 추출하는 코드를 작성하여라.\n",
    "\n",
    "힌트: -1 인덱스 활용"
   ]
  },
  {
   "cell_type": "code",
   "execution_count": 3,
   "metadata": {},
   "outputs": [
    {
     "data": {
      "text/plain": [
       "'Y'"
      ]
     },
     "execution_count": 3,
     "metadata": {},
     "output_type": "execute_result"
    }
   ],
   "source": [
    "last_string = fruit[-1]\n",
    "last_string.upper()"
   ]
  },
  {
   "cell_type": "markdown",
   "metadata": {},
   "source": [
    "아래처럼 한 번에 해결할 수도 있다."
   ]
  },
  {
   "cell_type": "code",
   "execution_count": 4,
   "metadata": {},
   "outputs": [
    {
     "data": {
      "text/plain": [
       "'Y'"
      ]
     },
     "execution_count": 4,
     "metadata": {},
     "output_type": "execute_result"
    }
   ],
   "source": [
    "fruit[-1].upper()"
   ]
  },
  {
   "cell_type": "markdown",
   "metadata": {
    "id": "dBAG4HeAKjNv"
   },
   "source": [
    "(3) `fruit` 변수로부터 her 문자열을 추출하는 코드를 작성하여라.\n",
    "\n",
    "힌트: `'her'` 부분 문자열이 시작하는 위치의 인덱스와 슬라이싱 활용."
   ]
  },
  {
   "cell_type": "code",
   "execution_count": 5,
   "metadata": {},
   "outputs": [
    {
     "data": {
      "text/plain": [
       "'her'"
      ]
     },
     "execution_count": 5,
     "metadata": {},
     "output_type": "execute_result"
    }
   ],
   "source": [
    "fruit[-5:-2]"
   ]
  },
  {
   "cell_type": "markdown",
   "metadata": {
    "id": "E9PvHGphK_qP"
   },
   "source": [
    "(4) `fruit` 변수로부터 oae 문자열을 추출하는 코드를 작성하여라.\n",
    "\n",
    "힌트: 스텝이 18인 슬라이스 활용"
   ]
  },
  {
   "cell_type": "code",
   "execution_count": null,
   "metadata": {},
   "outputs": [],
   "source": []
  },
  {
   "cell_type": "markdown",
   "metadata": {
    "id": "9c62tWuBLr5c"
   },
   "source": [
    "(5) `fruit` 변수로부터 yrrehc 문자열을 추출하는 코드를 작성하여라.\n",
    "\n",
    "힌트: 스텝이 -1인 슬라이스 활용"
   ]
  },
  {
   "cell_type": "code",
   "execution_count": null,
   "metadata": {},
   "outputs": [],
   "source": []
  },
  {
   "cell_type": "markdown",
   "metadata": {
    "id": "B33dgBTeoy23"
   },
   "source": [
    "**문제 2.** 다음 문자열이 주어졌다."
   ]
  },
  {
   "cell_type": "code",
   "execution_count": 6,
   "metadata": {
    "id": "B33dgBTeoy23"
   },
   "outputs": [],
   "source": [
    "a_string = 'n o r t h w e s t e r n'"
   ]
  },
  {
   "cell_type": "markdown",
   "metadata": {
    "id": "B33dgBTeoy23"
   },
   "source": [
    "위 문자열을 이용하여 아래 문자열을 생성하는 코드를 구현하라.\n",
    "\n",
    "```\n",
    "'Northwestern'\n",
    "```\n",
    "\n",
    "힌트: `replace()` 메서드와 `title()` 메서드 연속 적용"
   ]
  },
  {
   "cell_type": "code",
   "execution_count": null,
   "metadata": {},
   "outputs": [],
   "source": []
  },
  {
   "cell_type": "markdown",
   "metadata": {
    "id": "ngzxeTGTpXrG"
   },
   "source": [
    "**문제 3** 아래 노래 가사를 활용하는 문제이다."
   ]
  },
  {
   "cell_type": "code",
   "execution_count": 7,
   "metadata": {
    "id": "ngzxeTGTpXrG"
   },
   "outputs": [],
   "source": [
    "song = \"When You are smiling, the whole world smiles with YOU\""
   ]
  },
  {
   "cell_type": "markdown",
   "metadata": {
    "id": "TWfwL3bypz91"
   },
   "source": [
    "(1) `count()`는 인자로 지정된 부분문자열의 주어진 문자열에서 몇 번 나타나는지를 확인해준다.\n",
    "`count()`메소드를 이용하여 `song`에서 `a`가 등장하는 횟수를 구하여라. "
   ]
  },
  {
   "cell_type": "code",
   "execution_count": 8,
   "metadata": {},
   "outputs": [
    {
     "data": {
      "text/plain": [
       "1"
      ]
     },
     "execution_count": 8,
     "metadata": {},
     "output_type": "execute_result"
    }
   ],
   "source": [
    "song.count('a')"
   ]
  },
  {
   "cell_type": "markdown",
   "metadata": {
    "id": "TWfwL3bypz91"
   },
   "source": [
    "(2) `song`에서 `You`가 등장하는 횟수를 구하여라. "
   ]
  },
  {
   "cell_type": "code",
   "execution_count": 9,
   "metadata": {},
   "outputs": [
    {
     "data": {
      "text/plain": [
       "1"
      ]
     },
     "execution_count": 9,
     "metadata": {},
     "output_type": "execute_result"
    }
   ],
   "source": [
    "song.count('You')"
   ]
  },
  {
   "cell_type": "markdown",
   "metadata": {
    "id": "S2R5xEZyrCYh"
   },
   "source": [
    "(3) `song`에서 대소문자 구별없이 `w`가 등장하는 횟수를 구하는 코드를 작성하라.\n",
    "\n",
    "힌트: `count()` 메서드를 호출하기 전에 `lower()` 또는 `upper()` 메서드를 사용한다."
   ]
  },
  {
   "cell_type": "code",
   "execution_count": null,
   "metadata": {},
   "outputs": [],
   "source": []
  },
  {
   "cell_type": "markdown",
   "metadata": {
    "id": "S2R5xEZyrCYh"
   },
   "source": [
    "(4) `song`에서 대소문자 구별없이 `you`가 등장하는 횟수를 구하는 코드를 작성하라.\n",
    "\n",
    "힌트: `count()` 메서드를 호출하기 전에 `lower()` 또는 `upper()` 메서드를 사용한다."
   ]
  },
  {
   "cell_type": "code",
   "execution_count": null,
   "metadata": {},
   "outputs": [],
   "source": []
  }
 ],
 "metadata": {
  "colab": {
   "collapsed_sections": [],
   "name": "실습답안3.ipynb",
   "provenance": []
  },
  "kernelspec": {
   "display_name": "Python 3",
   "language": "python",
   "name": "python3"
  },
  "language_info": {
   "codemirror_mode": {
    "name": "ipython",
    "version": 3
   },
   "file_extension": ".py",
   "mimetype": "text/x-python",
   "name": "python",
   "nbconvert_exporter": "python",
   "pygments_lexer": "ipython3",
   "version": "3.8.5"
  }
 },
 "nbformat": 4,
 "nbformat_minor": 1
}
