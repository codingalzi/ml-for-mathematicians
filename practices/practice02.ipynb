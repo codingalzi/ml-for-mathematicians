{
 "cells": [
  {
   "cell_type": "markdown",
   "metadata": {
    "id": "c4NPzFTwnScT"
   },
   "source": [
    "# 파이썬 프로그래밍 실습 3 "
   ]
  },
  {
   "cell_type": "markdown",
   "metadata": {
    "id": "kkbD-sw3IsYs"
   },
   "source": [
    "**문제 1.** 과일 목록을 할당받는 `fruit` 변수가 아래와 같이 선언되었다.\n",
    "\n",
    "```python\n",
    "fruit = \"banana apple orange pineapple mango strawberry cherry\"\n",
    "```"
   ]
  },
  {
   "cell_type": "markdown",
   "metadata": {
    "id": "kkbD-sw3IsYs"
   },
   "source": [
    "(1) 각 과일 단어의 첫 알파벳을 대문자로 변경하려면 어떻게 해야 하는가? \n",
    "단, 특정 메소드를 사용하여 한 줄 코드로 작성해야 한다. 이때 아래의 문자열 메소드를 참고하여라.  \n",
    "\n",
    "```python\n",
    "strip(), split(), replace(), upper(), lower(), \n",
    "capitalize(), title(), startswith(), endswith()\n",
    "```"
   ]
  },
  {
   "cell_type": "code",
   "execution_count": null,
   "metadata": {},
   "outputs": [],
   "source": []
  },
  {
   "cell_type": "markdown",
   "metadata": {
    "id": "c0s_ArvDKJBO"
   },
   "source": [
    "(2) `fruit` 변수로부터 대문자 Y를 추출하는 코드를 작성하여라."
   ]
  },
  {
   "cell_type": "code",
   "execution_count": null,
   "metadata": {},
   "outputs": [],
   "source": []
  },
  {
   "cell_type": "markdown",
   "metadata": {
    "id": "dBAG4HeAKjNv"
   },
   "source": [
    "(3) `fruit` 변수로부터 her 문자열을 추출하는 코드를 작성하여라."
   ]
  },
  {
   "cell_type": "code",
   "execution_count": null,
   "metadata": {},
   "outputs": [],
   "source": []
  },
  {
   "cell_type": "markdown",
   "metadata": {
    "id": "E9PvHGphK_qP"
   },
   "source": [
    "(4) `fruit` 변수로부터 oae 문자열을 추출하는 코드를 작성하여라."
   ]
  },
  {
   "cell_type": "code",
   "execution_count": null,
   "metadata": {},
   "outputs": [],
   "source": []
  },
  {
   "cell_type": "markdown",
   "metadata": {
    "id": "9c62tWuBLr5c"
   },
   "source": [
    "(5) `fruit` 변수로부터 yrrehc 문자열을 추출하는 코드를 작성하여라."
   ]
  },
  {
   "cell_type": "code",
   "execution_count": null,
   "metadata": {},
   "outputs": [],
   "source": []
  },
  {
   "cell_type": "markdown",
   "metadata": {
    "id": "B33dgBTeoy23"
   },
   "source": [
    "**문제 2.** 다음 문자열이 주어졌다.\n",
    "\n",
    "```\n",
    "'n o r t h w e s t e r n'\n",
    "```\n",
    "\n",
    "위 문자열을 이용하여 아래 문자열을 생성하는 코드를 구현하라.\n",
    "\n",
    "```\n",
    "'Northwestern'\n",
    "```"
   ]
  },
  {
   "cell_type": "code",
   "execution_count": null,
   "metadata": {},
   "outputs": [],
   "source": []
  },
  {
   "cell_type": "markdown",
   "metadata": {
    "id": "ngzxeTGTpXrG"
   },
   "source": [
    "**문제 3** 아래 노래 가사를 활용하는 문제이다.\n",
    "\n",
    "```python\n",
    "song = \"When you are smiling, the whole world smiles with you\"\n",
    "```\n",
    "\n",
    "(1) `for` 문을 사용하여 `song`에서 `a`가 등장하는 횟수를 구하는 코드를 작성하라.  "
   ]
  },
  {
   "cell_type": "code",
   "execution_count": null,
   "metadata": {},
   "outputs": [],
   "source": []
  },
  {
   "cell_type": "markdown",
   "metadata": {
    "id": "TWfwL3bypz91"
   },
   "source": [
    "(2) `count()`는 문자열 메소드 중 하나로 부분문자열의 개수를 구한다.  \n",
    "`count()`메소드를 이용하여 `song`에서 소문자 `a`가 등장하는 횟수를 구하여라. "
   ]
  },
  {
   "cell_type": "code",
   "execution_count": null,
   "metadata": {},
   "outputs": [],
   "source": []
  },
  {
   "cell_type": "markdown",
   "metadata": {
    "id": "S2R5xEZyrCYh"
   },
   "source": [
    "(3) 반복문을 사용하여  `song`에서 대소문자 구별없이 `w`가 등장하는 횟수를 구하는 코드를 작성하라."
   ]
  },
  {
   "cell_type": "code",
   "execution_count": null,
   "metadata": {},
   "outputs": [],
   "source": []
  },
  {
   "cell_type": "markdown",
   "metadata": {
    "id": "JLBhyzrKrRub"
   },
   "source": [
    "(4) `song`을 이용하여 `whnyrsmlngthwhlwrldsmlswthy` 를 생성하는 코드를 작성하라.  \n",
    "힌트 : 모음(`aeiou`)와 공백 제거"
   ]
  },
  {
   "cell_type": "code",
   "execution_count": null,
   "metadata": {},
   "outputs": [],
   "source": []
  },
  {
   "cell_type": "markdown",
   "metadata": {
    "id": "cdWbYJ-Ws00D"
   },
   "source": [
    "**문제 4.** 숫자 `num`가 주어졌을 때, 만약 `num`가 3으로 시작하거나 \n",
    "3을 포함하는 경우에는 `num`의 세제곱을 출력하고, \n",
    "아닌 경우에는 `num`에서 2를 뺀 값을 출력하는 코드를 작성하여라. \n",
    "단, 숫자 `num`은 임의의 자연수로 둔다."
   ]
  },
  {
   "cell_type": "code",
   "execution_count": null,
   "metadata": {},
   "outputs": [],
   "source": []
  },
  {
   "cell_type": "markdown",
   "metadata": {
    "id": "KSHjiCE0nlrM"
   },
   "source": [
    "**문제 5.** `while`문을 이용하여 정수들을 나누어 몫을 구하는 코드를 작성하여라.\n",
    "\n",
    "```python\n",
    "number = 43\n",
    "divisor = 7\n",
    "answer = 0\n",
    "```"
   ]
  },
  {
   "cell_type": "code",
   "execution_count": null,
   "metadata": {},
   "outputs": [],
   "source": []
  },
  {
   "cell_type": "markdown",
   "metadata": {
    "id": "gMpJAk7d9-9H"
   },
   "source": [
    "**문제 6.** 택배의 가격은 무게에 따라 달라진다. 아래는 한 택배 회사의 요금표이다.\n",
    "\n",
    "|5kg미만|5kg 이상 ~ 10kg 미만|10kg 이상|\n",
    "|:-------:|:--------------------:|:---------:|\n",
    "|5.000원 | 8,000원| 10,000원|\n",
    "\n",
    "우편물의 무게가 주어졌을 때, 택배 가격을 알려주는 프로그램을 만들어라.  \n",
    "(우편물의 무게는 임의로 둔다.)  "
   ]
  },
  {
   "cell_type": "code",
   "execution_count": null,
   "metadata": {},
   "outputs": [],
   "source": []
  },
  {
   "cell_type": "markdown",
   "metadata": {
    "id": "j5Yd_UXFuSHE"
   },
   "source": [
    "**문제 7.** 0부터 100까지의 숫자 중에서 3의 배수와 7의 배수를 모두 찾아 출력한 다음, 찾은 수들을 모두 더하여 아래와 같이 출력하는 코드를 작성하여라.\n",
    "\n",
    "```\n",
    "0~100의 숫자 중 3의 배수와 7의 배수들의 합은 OOO이다.\n",
    "```"
   ]
  },
  {
   "cell_type": "code",
   "execution_count": null,
   "metadata": {},
   "outputs": [],
   "source": []
  },
  {
   "cell_type": "markdown",
   "metadata": {
    "id": "Wf5NSC6DSSky"
   },
   "source": [
    "연습을 더 하고 싶다면, 아래의 문제를 풀어보세요!  \n",
    "  \n",
    "  \n",
    "**[추가문제1] 아래와 같이 선언된 `lyrics`변수가 있다.**\n",
    "\n",
    "`lyrics = \" When you're smiling, the whole world smiles with you \"`  \n",
    "\n",
    "아래의 문제에 답하여라. 단, 특정 메소드들을 사용하여 한 줄 코드로 작성해야 한다.  \n",
    "(1) 위 문자열 양 끝에 있는 스페이스를 삭제하고, 모든 문자는 대문자로 변환시킨다.\n",
    "\n",
    "(2) 위 문자열 양 끝에 있는 스페이스를 삭제하고, `When you're smiling`은 `When you are smiling`으로 변경하여라.  \n",
    "\n",
    "(3) 위 문자열이 W로 시작하는지 여부를 판단하는 코드를 작성하여라. \n",
    "\n",
    "(4) 아래와 같은 결과를 출력하는 코드를 작성하여라.\n",
    "\n",
    "`[\"when\", \"you're\", \"smiling,\", \"the\", \"whole\", \"world\", \"smiles\", \"with\", \"you\"]`"
   ]
  },
  {
   "cell_type": "code",
   "execution_count": null,
   "metadata": {
    "colab": {
     "base_uri": "https://localhost:8080/"
    },
    "id": "I6rjdRbusQsW",
    "outputId": "4251a353-9a54-4e7d-c996-e5f2a61d2de4"
   },
   "outputs": [
    {
     "name": "stdout",
     "output_type": "stream",
     "text": [
      "WHEN YOU'RE SMILING, THE WHOLE WORLD SMILES WITH YOU\n"
     ]
    }
   ],
   "source": [
    "lyrics = \" When you're smiling, the whole world smiles with you \"\n",
    "print(lyrics.strip().upper())"
   ]
  },
  {
   "cell_type": "code",
   "execution_count": null,
   "metadata": {
    "colab": {
     "base_uri": "https://localhost:8080/"
    },
    "id": "GzhjMD2lsWZW",
    "outputId": "77565b7f-0807-4f06-83fe-51b90ac93116"
   },
   "outputs": [
    {
     "name": "stdout",
     "output_type": "stream",
     "text": [
      "When you are smiling, the whole world smiles with you\n"
     ]
    }
   ],
   "source": [
    "print(lyrics.strip().replace(\"When you're smiling\", \"When you are smiling\"))"
   ]
  },
  {
   "cell_type": "code",
   "execution_count": null,
   "metadata": {
    "colab": {
     "base_uri": "https://localhost:8080/"
    },
    "id": "Um8lfNu4sWke",
    "outputId": "e0496c6d-6af6-4db6-9bc8-c1ade83278f8"
   },
   "outputs": [
    {
     "name": "stdout",
     "output_type": "stream",
     "text": [
      "False\n",
      "True\n"
     ]
    }
   ],
   "source": [
    "print(lyrics.startswith('W'))\n",
    "print(lyrics.strip().startswith('W')) # 공백을 제거했을 경우"
   ]
  },
  {
   "cell_type": "code",
   "execution_count": null,
   "metadata": {
    "colab": {
     "base_uri": "https://localhost:8080/"
    },
    "id": "YtRD88wYsWnP",
    "outputId": "bf1eadd4-2979-46bd-b226-fc5e27cc7a7a"
   },
   "outputs": [
    {
     "name": "stdout",
     "output_type": "stream",
     "text": [
      "['when', \"you're\", 'smiling,', 'the', 'whole', 'world', 'smiles', 'with', 'you']\n"
     ]
    }
   ],
   "source": [
    "print(lyrics.lower().split())"
   ]
  },
  {
   "cell_type": "markdown",
   "metadata": {
    "id": "7zN5nuZEGlZS"
   },
   "source": [
    "**[추가문제2] 자연수 n이 주어졌을 때, 1부터 n까지의 자연수 중에서 3의 배수이거나 3을 포함하는 숫자들의 합을 구하여라. 단, n은 임의로 둔다.** "
   ]
  },
  {
   "cell_type": "code",
   "execution_count": null,
   "metadata": {
    "colab": {
     "base_uri": "https://localhost:8080/"
    },
    "id": "HFgtLcGmsu92",
    "outputId": "e17509d0-9b5e-4805-f187-a11880495c0a"
   },
   "outputs": [
    {
     "name": "stdout",
     "output_type": "stream",
     "text": [
      "3 를 더합니다.\n",
      "6 를 더합니다.\n",
      "9 를 더합니다.\n",
      "12 를 더합니다.\n",
      "13 를 더합니다.\n",
      "15 를 더합니다.\n",
      "18 를 더합니다.\n",
      "합계: 76\n"
     ]
    }
   ],
   "source": [
    "n = 20\n",
    "\n",
    "total = 0\n",
    "for i in range(1, n+1):\n",
    "  if i % 3 == 0 or '3' in str(i):\n",
    "    print(i, \"를 더합니다.\")\n",
    "    total = total + i\n",
    "\n",
    "print(\"합계:\", total)"
   ]
  },
  {
   "cell_type": "markdown",
   "metadata": {
    "id": "2PBw_4xUMsGi"
   },
   "source": [
    "**[추가문제3] 다음 코드의 결과값이 무엇인지 말하고, 코드를 실행시켜 확인하여라.**  \n",
    "\n",
    "참고) `not in`은 두 개의 문자열을 받아들여서, 첫째 문자열이 둘째 문자열의 부분 문자열로 등장하지 않는지 여부를 알려주는 연산자\n",
    "\n",
    "```\n",
    "fruit = \"banana apple orange pineapple mango strawberry cherry\"\n",
    "\n",
    "if \"tomato\" in fruit :\n",
    "  print(\"A\")\n",
    "elif \"abcd\" not in fruit:\n",
    "  print(\"B\")\n",
    "elif \"app\" in fruit :\n",
    "  print(\"C\")\n",
    "else :\n",
    "  print(\"D\") \n",
    "  ```"
   ]
  },
  {
   "cell_type": "markdown",
   "metadata": {
    "id": "HQSE8yREtIfx"
   },
   "source": [
    "B\n",
    "\n",
    "해설: 첫번째 if문의 경우 False이므로 넘어간다. 두번째 elif문에서 \"abcd\"는 주어진 문자열에 포함되지 않으므로 True이다. 따라서 두번째 elif문의 코드를 실행 후 전체 다중 조건문을 종료한다. "
   ]
  },
  {
   "cell_type": "code",
   "execution_count": null,
   "metadata": {
    "colab": {
     "base_uri": "https://localhost:8080/"
    },
    "id": "pibpkLP9tHa6",
    "outputId": "c760a449-e372-4ed7-d6ae-f5fd441b6ef4"
   },
   "outputs": [
    {
     "name": "stdout",
     "output_type": "stream",
     "text": [
      "B\n"
     ]
    }
   ],
   "source": [
    "fruit = \"banana apple orange pineapple mango strawberry cherry\"\n",
    " \n",
    "if \"tomato\" in fruit :\n",
    "  print(\"A\")\n",
    "elif \"abcd\" not in fruit:\n",
    "  print(\"B\")\n",
    "elif \"app\" in fruit :\n",
    "  print(\"C\")\n",
    "else :\n",
    "  print(\"D\") "
   ]
  },
  {
   "cell_type": "markdown",
   "metadata": {
    "id": "DL3G4F7CmkA1"
   },
   "source": [
    "**[추가문제4] 자연수 n1 이 주어졌을 때, n1의 약수를 모두 출력하는 코드를 작성하여라. 단, n1은 임의로 둔다.**"
   ]
  },
  {
   "cell_type": "code",
   "execution_count": null,
   "metadata": {
    "colab": {
     "base_uri": "https://localhost:8080/"
    },
    "id": "3hR5iQrLtQBJ",
    "outputId": "7a2d0358-1c41-46e0-b29b-4ca3fe7ee3db"
   },
   "outputs": [
    {
     "name": "stdout",
     "output_type": "stream",
     "text": [
      "약수: 1\n",
      "약수: 2\n",
      "약수: 3\n",
      "약수: 4\n",
      "약수: 6\n",
      "약수: 8\n",
      "약수: 12\n",
      "약수: 24\n"
     ]
    }
   ],
   "source": [
    "n1 = 24\n",
    "\n",
    "for i in range(1, n1+1):\n",
    "  if n1 % i == 0:\n",
    "    print(\"약수:\", i)"
   ]
  }
 ],
 "metadata": {
  "colab": {
   "collapsed_sections": [],
   "name": "실습답안3.ipynb",
   "provenance": []
  },
  "kernelspec": {
   "display_name": "Python 3",
   "language": "python",
   "name": "python3"
  },
  "language_info": {
   "codemirror_mode": {
    "name": "ipython",
    "version": 3
   },
   "file_extension": ".py",
   "mimetype": "text/x-python",
   "name": "python",
   "nbconvert_exporter": "python",
   "pygments_lexer": "ipython3",
   "version": "3.8.5"
  }
 },
 "nbformat": 4,
 "nbformat_minor": 1
}
