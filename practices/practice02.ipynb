{
 "cells": [
  {
   "cell_type": "markdown",
   "metadata": {
    "id": "c4NPzFTwnScT"
   },
   "source": [
    "# 파이썬 프로그래밍 실습 2"
   ]
  },
  {
   "cell_type": "markdown",
   "metadata": {},
   "source": [
    "__문제 1.__ 다음 조건을 만족시키는 `inserting_tab()` 함수를 정의하라.\n",
    "\n",
    "* 인자는 하나만 받으며, 매개변수는 `s`라 부른다.\n",
    "* 문자열 하나를 인자로 받아 실행하면 해당 문자열의 앞쪽에 탭(`\\t`)이 \n",
    "    삽입된 문자열을 반환하는 동시에 화면에 출력한다.\n",
    "\n",
    "```python\n",
    ">>> print(inserting_tab('python'))\n",
    ">>>     python\n",
    ">>>     python\n",
    "```"
   ]
  },
  {
   "cell_type": "code",
   "execution_count": 1,
   "metadata": {},
   "outputs": [],
   "source": [
    "# pass와 None을 각각 적절한 코드와 표현식으로 대체하라.\n",
    "\n",
    "def inserting_tab(s):\n",
    "    return \"\\t\" + s"
   ]
  },
  {
   "cell_type": "code",
   "execution_count": 2,
   "metadata": {},
   "outputs": [],
   "source": [
    "print(inserting_tab(\"hello\"))"
   ]
  },
  {
   "cell_type": "markdown",
   "metadata": {},
   "source": [
    "__문제 2.__\n",
    "아래 노래 가사를 활용하는 문제이다."
   ]
  },
  {
   "cell_type": "code",
   "execution_count": 3,
   "metadata": {},
   "outputs": [],
   "source": [
    "song = \"When you are smiling, the whole world smiles with you\""
   ]
  },
  {
   "cell_type": "markdown",
   "metadata": {},
   "source": [
    "위 문자열에서 `a`가 등장하는 횟수를 구하는 코드는 다음과 같다."
   ]
  },
  {
   "cell_type": "code",
   "execution_count": 4,
   "metadata": {},
   "outputs": [
    {
     "name": "stdout",
     "output_type": "stream",
     "text": [
      "1\n"
     ]
    }
   ],
   "source": [
    "count_a = 0\n",
    "\n",
    "for letter in song:\n",
    "    if letter == 'a':\n",
    "        count_a += 1\n",
    "\n",
    "print(count_a)"
   ]
  },
  {
   "cell_type": "markdown",
   "metadata": {},
   "source": [
    "위 문자열에서 대소문자 구별없이 `w`가 등장하는 횟수를 구하는 코드는 다음과 같다."
   ]
  },
  {
   "cell_type": "code",
   "execution_count": 5,
   "metadata": {},
   "outputs": [
    {
     "name": "stdout",
     "output_type": "stream",
     "text": [
      "4\n"
     ]
    }
   ],
   "source": [
    "count_w = 0\n",
    "for letter in song.lower():\n",
    "    if letter == 'w':\n",
    "        count_w += 1\n",
    "\n",
    "print(count_w)"
   ]
  },
  {
   "cell_type": "markdown",
   "metadata": {},
   "source": [
    "A. `song`이 가리키는 문자열에서 모음과 공백, 그리고 쉼표를 제거한 문자열 `whnyrsmlngthwhlwrldsmlswthy`를 \n",
    "생성하는 코드를 구현하라. "
   ]
  },
  {
   "cell_type": "code",
   "execution_count": 6,
   "metadata": {},
   "outputs": [
    {
     "name": "stdout",
     "output_type": "stream",
     "text": [
      "whnyrsmlngthwhlwrldsmlswthy\n"
     ]
    }
   ],
   "source": [
    "# pass 를 적절한 코드로 대체하라.\n",
    "\n",
    "new_song = ''\n",
    "vowel_space = 'aeiou ,'\n",
    "\n",
    "for letter in song.lower():\n",
    "    if letter in vowel_space:\n",
    "        pass\n",
    "    else:\n",
    "#         new_song = new_song+letter\n",
    "        new_song += letter\n",
    "\n",
    "print(new_song)"
   ]
  },
  {
   "cell_type": "markdown",
   "metadata": {},
   "source": [
    "B. `song`이 가리키는 문자열에서 지정된 문자들만 제거하는 함수 `remove_letters()`를 정의하라.\n",
    "\n",
    "* `s`: 입력 인자로 문자열을 받음.\n",
    "* 반환값: 생성된 문자열"
   ]
  },
  {
   "cell_type": "code",
   "execution_count": 7,
   "metadata": {},
   "outputs": [
    {
     "data": {
      "text/plain": [
       "'whnyrsmlngthwhlwrldsmlswthy'"
      ]
     },
     "execution_count": 7,
     "metadata": {},
     "output_type": "execute_result"
    }
   ],
   "source": [
    "# pass 를 적절한 코드로 대체하라.\n",
    "\n",
    "def remove_letters(s):\n",
    "    new_song = ''\n",
    "    for letter in song.lower():\n",
    "        if letter in s:\n",
    "            pass\n",
    "        else:\n",
    "            new_song += letter\n",
    "    \n",
    "    return new_song\n",
    "\n",
    "remove_letters('aeiou ,')"
   ]
  },
  {
   "cell_type": "markdown",
   "metadata": {},
   "source": [
    "__문제 3.__\n",
    "\n",
    "A. `while` 반복문을 이용하여 별표 기호(`*`)로 아래 모양의 삼각형을 출력하라.\n",
    "\n",
    "```python\n",
    "*****\n",
    "****\n",
    "***\n",
    "**\n",
    "*\n",
    "```\n",
    "\n",
    "힌트: 문자열과 정수의 곱셈을 이용한다."
   ]
  },
  {
   "cell_type": "code",
   "execution_count": 8,
   "metadata": {},
   "outputs": [
    {
     "name": "stdout",
     "output_type": "stream",
     "text": [
      "*****\n",
      "****\n",
      "***\n",
      "**\n",
      "*\n"
     ]
    }
   ],
   "source": [
    "# pass와 None을 각각 적절한 코드와 적절한 표현식으로 대체하라.\n",
    "\n",
    "i = 1\n",
    "\n",
    "while i < 6:\n",
    "    print(\"*\" * (6-i))\n",
    "    \n",
    "    i += 1"
   ]
  },
  {
   "cell_type": "markdown",
   "metadata": {},
   "source": [
    "B. `while` 반복문을 이용하여 별표 기호(`*`)로 아래 모양의 삼각형을 출력하라.\n",
    "\n",
    "```python\n",
    "*****\n",
    " ***\n",
    "  *\n",
    "```\n",
    "\n",
    "힌트: 문자열과 정수의 곱셈을 이용한다."
   ]
  },
  {
   "cell_type": "code",
   "execution_count": 9,
   "metadata": {},
   "outputs": [
    {
     "name": "stdout",
     "output_type": "stream",
     "text": [
      "*****\n",
      " ***\n",
      "  *\n"
     ]
    }
   ],
   "source": [
    "# pass와 None을 각각 적절한 코드와 적절한 표현식으로 대체하라.\n",
    "\n",
    "i = 1\n",
    "\n",
    "while i < 4:\n",
    "    print(\" \"* (i-1), end=\"\")\n",
    "    print(\"*\" * (6-2*i+1))\n",
    "    \n",
    "    i += 1"
   ]
  },
  {
   "cell_type": "markdown",
   "metadata": {},
   "source": [
    "C. 위 B의 문제를 임의의 양의 홀수 n에 대하여 작동하도록 일반화하는 함수 `reversed_triangle()`를\n",
    "정의하라. 예를 들어, n=7이면 다음과 같이 출력해야 한다.\n",
    "\n",
    "```python\n",
    "*******\n",
    " *****\n",
    "  ***\n",
    "   *\n",
    "```\n",
    "\n",
    "힌트: 문자열과 정수의 곱셈을 이용한다."
   ]
  },
  {
   "cell_type": "code",
   "execution_count": 10,
   "metadata": {},
   "outputs": [],
   "source": [
    "# pass와 None을 각각 적절한 코드와 적절한 표현식으로 대체하라.\n",
    "\n",
    "def reversed_triangle(n):\n",
    "    if n % 2 == 0:\n",
    "        pass\n",
    "    # 이제부터 n은 홀수임.\n",
    "\n",
    "    i = 1\n",
    "\n",
    "    while i < n:\n",
    "        k = (n+1) - 2*i + 1\n",
    "        if k > 0:\n",
    "            print(\" \" * (i-1), end=\"\")\n",
    "            print(\"*\" * k)\n",
    "        else:\n",
    "            break\n",
    "        i += 1"
   ]
  },
  {
   "cell_type": "code",
   "execution_count": 11,
   "metadata": {},
   "outputs": [
    {
     "name": "stdout",
     "output_type": "stream",
     "text": [
      "*******\n",
      " *****\n",
      "  ***\n",
      "   *\n"
     ]
    }
   ],
   "source": [
    "reversed_triangle(7)"
   ]
  },
  {
   "cell_type": "markdown",
   "metadata": {},
   "source": [
    "__문제 4.__\n",
    "1보다 큰 임의의 정수로 시작해서 짝수면 2로 나누고, \n",
    "홀수면 3배 후 1을 더해주는 과정을 반복하면 언젠가는 1이 나타난다.\n",
    "\n",
    "```\n",
    "3 10 5 16 8 4 2 1\n",
    "7 22 11 34 17 52 26 13 40 20 10 5 16 8 4 2 1\n",
    "```\n",
    "\n",
    "1보다 큰 임의의 정수로 시작해서 위와 같은 수열을 출력하는 코드를 작성하라.\n",
    "\n",
    "__참고:__ `print(x, ..., end=' ')` 는 지정된 값을 출력한 후에 줄바꿈을 하지 않는다.\n",
    "구체적인 이유는 나중에 함수를 다룰 때 설명한다."
   ]
  },
  {
   "cell_type": "code",
   "execution_count": 12,
   "metadata": {},
   "outputs": [
    {
     "name": "stdout",
     "output_type": "stream",
     "text": [
      "3 10 5 16 8 4 2 1 "
     ]
    }
   ],
   "source": [
    "# pass와 None을 각각 적절한 코드와 적절한 표현식으로 대체하라.\n",
    "\n",
    "x = 3\n",
    "print(x, end=' ')\n",
    "\n",
    "while x > 1:\n",
    "    if x % 2 == 0:\n",
    "        x = x//2\n",
    "        print(x, end=' ')\n",
    "    else:\n",
    "        x = x*3 + 1 \n",
    "        print(x, end=' ')"
   ]
  },
  {
   "cell_type": "code",
   "execution_count": 13,
   "metadata": {},
   "outputs": [
    {
     "name": "stdout",
     "output_type": "stream",
     "text": [
      "7 22 11 34 17 52 26 13 40 20 10 5 16 8 4 2 1 "
     ]
    }
   ],
   "source": [
    "# pass와 None을 각각 적절한 코드와 적절한 표현식으로 대체하라.\n",
    "\n",
    "x = 7\n",
    "print(x, end=' ')\n",
    "\n",
    "while x > 1:\n",
    "    if x % 2 == 0:\n",
    "        x = x//2\n",
    "        print(x, end=' ')\n",
    "    else:\n",
    "        x = x*3 + 1 \n",
    "        print(x, end=' ')"
   ]
  },
  {
   "cell_type": "markdown",
   "metadata": {},
   "source": [
    "111에서 시작하면 1에 도착할 때까지 꽤 올래 걸린다."
   ]
  },
  {
   "cell_type": "code",
   "execution_count": 14,
   "metadata": {},
   "outputs": [
    {
     "name": "stdout",
     "output_type": "stream",
     "text": [
      "111 334 167 502 251 754 377 1132 566 283 850 425 1276 638 319 958 479 1438 719 2158 1079 3238 1619 4858 2429 7288 3644 1822 911 2734 1367 4102 2051 6154 3077 9232 4616 2308 1154 577 1732 866 433 1300 650 325 976 488 244 122 61 184 92 46 23 70 35 106 53 160 80 40 20 10 5 16 8 4 2 1 "
     ]
    }
   ],
   "source": [
    "# pass와 None을 각각 적절한 코드와 적절한 표현식으로 대체하라.\n",
    "\n",
    "x = 111\n",
    "print(x, end=' ')\n",
    "\n",
    "while x > 1:\n",
    "    if x % 2 == 0:\n",
    "        x = x//2\n",
    "        print(x, end=' ')\n",
    "    else:\n",
    "        x = x*3 + 1 \n",
    "        print(x, end=' ')"
   ]
  },
  {
   "cell_type": "markdown",
   "metadata": {},
   "source": [
    "인를 받아 위 수열(콜라츠 수열)을 출력하는 함수 `collatz()`를 선언하세요."
   ]
  },
  {
   "cell_type": "code",
   "execution_count": 15,
   "metadata": {},
   "outputs": [],
   "source": [
    "def collatz(x):\n",
    "    print(x, end=' ')\n",
    "\n",
    "    while x > 1:\n",
    "        if x % 2 == 0:\n",
    "            x = x//2\n",
    "            print(x, end=' ')\n",
    "        else:\n",
    "            x = x*3 + 1 \n",
    "            print(x, end=' ')"
   ]
  },
  {
   "cell_type": "code",
   "execution_count": 16,
   "metadata": {},
   "outputs": [
    {
     "name": "stdout",
     "output_type": "stream",
     "text": [
      "111 334 167 502 251 754 377 1132 566 283 850 425 1276 638 319 958 479 1438 719 2158 1079 3238 1619 4858 2429 7288 3644 1822 911 2734 1367 4102 2051 6154 3077 9232 4616 2308 1154 577 1732 866 433 1300 650 325 976 488 244 122 61 184 92 46 23 70 35 106 53 160 80 40 20 10 5 16 8 4 2 1 "
     ]
    }
   ],
   "source": [
    "collatz(111)"
   ]
  },
  {
   "cell_type": "code",
   "execution_count": 17,
   "metadata": {},
   "outputs": [
    {
     "name": "stdout",
     "output_type": "stream",
     "text": [
      "653821 1961464 980732 490366 245183 735550 367775 1103326 551663 1654990 827495 2482486 1241243 3723730 1861865 5585596 2792798 1396399 4189198 2094599 6283798 3141899 9425698 4712849 14138548 7069274 3534637 10603912 5301956 2650978 1325489 3976468 1988234 994117 2982352 1491176 745588 372794 186397 559192 279596 139798 69899 209698 104849 314548 157274 78637 235912 117956 58978 29489 88468 44234 22117 66352 33176 16588 8294 4147 12442 6221 18664 9332 4666 2333 7000 3500 1750 875 2626 1313 3940 1970 985 2956 1478 739 2218 1109 3328 1664 832 416 208 104 52 26 13 40 20 10 5 16 8 4 2 1 "
     ]
    }
   ],
   "source": [
    "collatz(653821)"
   ]
  },
  {
   "cell_type": "markdown",
   "metadata": {},
   "source": [
    "`collatz()` 함수가 출력하는 수열의 길이를 반환하도록 선언하세요."
   ]
  },
  {
   "cell_type": "code",
   "execution_count": 18,
   "metadata": {},
   "outputs": [],
   "source": [
    "def collatz(x):\n",
    "    print(x, end=' ')\n",
    "    count = 1\n",
    "    \n",
    "    while x > 1:\n",
    "        count += 1\n",
    "        if x % 2 == 0:\n",
    "            x = x//2\n",
    "            print(x, end=' ')\n",
    "        else:\n",
    "            x = x*3 + 1 \n",
    "            print(x, end=' ')\n",
    "            \n",
    "    return count"
   ]
  },
  {
   "cell_type": "code",
   "execution_count": 19,
   "metadata": {},
   "outputs": [
    {
     "name": "stdout",
     "output_type": "stream",
     "text": [
      "653821 1961464 980732 490366 245183 735550 367775 1103326 551663 1654990 827495 2482486 1241243 3723730 1861865 5585596 2792798 1396399 4189198 2094599 6283798 3141899 9425698 4712849 14138548 7069274 3534637 10603912 5301956 2650978 1325489 3976468 1988234 994117 2982352 1491176 745588 372794 186397 559192 279596 139798 69899 209698 104849 314548 157274 78637 235912 117956 58978 29489 88468 44234 22117 66352 33176 16588 8294 4147 12442 6221 18664 9332 4666 2333 7000 3500 1750 875 2626 1313 3940 1970 985 2956 1478 739 2218 1109 3328 1664 832 416 208 104 52 26 13 40 20 10 5 16 8 4 2 1 "
     ]
    },
    {
     "data": {
      "text/plain": [
       "98"
      ]
     },
     "execution_count": 19,
     "metadata": {},
     "output_type": "execute_result"
    }
   ],
   "source": [
    "collatz(653821)"
   ]
  },
  {
   "cell_type": "markdown",
   "metadata": {},
   "source": [
    "__문제 5.__ 다음과 같은 격자를 그리는 함수 `print_grid()`를 작성하라.\n",
    "\n",
    "```python\n",
    "+ - - - - + - - - - +\n",
    "|         |         |\n",
    "|         |         |\n",
    "|         |         |\n",
    "|         |         |\n",
    "+ - - - - + - - - - +\n",
    "|         |         |\n",
    "|         |         |\n",
    "|         |         |\n",
    "|         |         |\n",
    "+ - - - - + - - - - +\n",
    "```\n",
    "\n",
    "단, 입력값은 사용하지 않으며, 반환값은 `None`으로 지정한다.\n",
    "\n",
    "힌트: `print()` 함수는 또한 기본적으로 줄바꿈을 실행한다.\n",
    "줄바꿈을 하지 않기 위해서는 `end=' '` 키워드 인자를 예를 들어 아래와 같이 실행하면 된다.\n",
    "\n",
    "```python\n",
    "print('+', '-', end=' ')\n",
    "```"
   ]
  },
  {
   "cell_type": "markdown",
   "metadata": {},
   "source": [
    "__견본답안__"
   ]
  },
  {
   "cell_type": "code",
   "execution_count": 20,
   "metadata": {},
   "outputs": [],
   "source": [
    "def do_twice(f):\n",
    "    f()\n",
    "    f()\n",
    "\n",
    "def do_four(f):\n",
    "    do_twice(f)\n",
    "    do_twice(f)\n",
    "\n",
    "def print_beam():\n",
    "    print('+ - - - -', end=' ')\n",
    "\n",
    "def print_post():\n",
    "    print('|        ', end=' ')\n",
    "\n",
    "def print_beams():\n",
    "    do_twice(print_beam)\n",
    "    print('+')\n",
    "\n",
    "def print_posts():\n",
    "    do_twice(print_post)\n",
    "    print('|')\n",
    "\n",
    "def print_row():\n",
    "    print_beams()\n",
    "    do_four(print_posts)\n",
    "\n",
    "def print_grid():\n",
    "    do_twice(print_row)\n",
    "    print_beams()\n"
   ]
  },
  {
   "cell_type": "code",
   "execution_count": 21,
   "metadata": {},
   "outputs": [
    {
     "name": "stdout",
     "output_type": "stream",
     "text": [
      "+ - - - - + - - - - +\n",
      "|         |         |\n",
      "|         |         |\n",
      "|         |         |\n",
      "|         |         |\n",
      "+ - - - - + - - - - +\n",
      "|         |         |\n",
      "|         |         |\n",
      "|         |         |\n",
      "|         |         |\n",
      "+ - - - - + - - - - +\n"
     ]
    }
   ],
   "source": [
    "print_grid()"
   ]
  },
  {
   "cell_type": "markdown",
   "metadata": {},
   "source": [
    "__문제 5.__ 다음과 같은 격자를 그리는 함수 `print_grid()`를 작성하라.\n",
    "\n",
    "```python\n",
    "+ - - - - + - - - - + - - - - + - - - - +\n",
    "|         |         |         |         |\n",
    "|         |         |         |         |\n",
    "|         |         |         |         |\n",
    "|         |         |         |         |\n",
    "+ - - - - + - - - - + - - - - + - - - - +\n",
    "|         |         |         |         |\n",
    "|         |         |         |         |\n",
    "|         |         |         |         |\n",
    "|         |         |         |         |\n",
    "+ - - - - + - - - - + - - - - + - - - - +\n",
    "|         |         |         |         |\n",
    "|         |         |         |         |\n",
    "|         |         |         |         |\n",
    "|         |         |         |         |\n",
    "+ - - - - + - - - - + - - - - + - - - - +\n",
    "|         |         |         |         |\n",
    "|         |         |         |         |\n",
    "|         |         |         |         |\n",
    "|         |         |         |         |\n",
    "+ - - - - + - - - - + - - - - + - - - - +\n",
    "```"
   ]
  },
  {
   "cell_type": "markdown",
   "metadata": {},
   "source": [
    "__견본답안__"
   ]
  },
  {
   "cell_type": "code",
   "execution_count": 22,
   "metadata": {},
   "outputs": [],
   "source": [
    "def one_four_one(f, g, h):\n",
    "    f()\n",
    "    do_four(g)\n",
    "    h()\n",
    "\n",
    "def print_plus():\n",
    "    print('+', end=' ')\n",
    "\n",
    "def print_dash():\n",
    "    print('-', end=' ')\n",
    "\n",
    "def print_bar():\n",
    "    print('|', end=' ')\n",
    "\n",
    "def print_space():\n",
    "    print(' ', end=' ')\n",
    "\n",
    "def print_end():\n",
    "    print()\n",
    "\n",
    "def nothing():\n",
    "    \"do nothing\"\n",
    "\n",
    "def print1beam():\n",
    "    one_four_one(nothing, print_dash, print_plus)\n",
    "\n",
    "def print1post():\n",
    "    one_four_one(nothing, print_space, print_bar)\n",
    "\n",
    "def print4beams():\n",
    "    one_four_one(print_plus, print1beam, print_end)\n",
    "\n",
    "def print4posts():\n",
    "    one_four_one(print_bar, print1post, print_end)\n",
    "\n",
    "def print_row():\n",
    "    one_four_one(nothing, print4posts, print4beams)\n",
    "\n",
    "def print_grid():\n",
    "    one_four_one(print4beams, print_row, nothing)\n"
   ]
  },
  {
   "cell_type": "code",
   "execution_count": 23,
   "metadata": {},
   "outputs": [
    {
     "name": "stdout",
     "output_type": "stream",
     "text": [
      "+ - - - - + - - - - + - - - - + - - - - + \n",
      "|         |         |         |         | \n",
      "|         |         |         |         | \n",
      "|         |         |         |         | \n",
      "|         |         |         |         | \n",
      "+ - - - - + - - - - + - - - - + - - - - + \n",
      "|         |         |         |         | \n",
      "|         |         |         |         | \n",
      "|         |         |         |         | \n",
      "|         |         |         |         | \n",
      "+ - - - - + - - - - + - - - - + - - - - + \n",
      "|         |         |         |         | \n",
      "|         |         |         |         | \n",
      "|         |         |         |         | \n",
      "|         |         |         |         | \n",
      "+ - - - - + - - - - + - - - - + - - - - + \n",
      "|         |         |         |         | \n",
      "|         |         |         |         | \n",
      "|         |         |         |         | \n",
      "|         |         |         |         | \n",
      "+ - - - - + - - - - + - - - - + - - - - + \n"
     ]
    }
   ],
   "source": [
    "print_grid()"
   ]
  }
 ],
 "metadata": {
  "colab": {
   "collapsed_sections": [],
   "name": "실습답안3.ipynb",
   "provenance": []
  },
  "kernelspec": {
   "display_name": "Python 3",
   "language": "python",
   "name": "python3"
  },
  "language_info": {
   "codemirror_mode": {
    "name": "ipython",
    "version": 3
   },
   "file_extension": ".py",
   "mimetype": "text/x-python",
   "name": "python",
   "nbconvert_exporter": "python",
   "pygments_lexer": "ipython3",
   "version": "3.7.10"
  }
 },
 "nbformat": 4,
 "nbformat_minor": 1
}
