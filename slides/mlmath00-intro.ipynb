{
 "cells": [
  {
   "cell_type": "markdown",
   "metadata": {
    "slideshow": {
     "slide_type": "slide"
    }
   },
   "source": [
    "# 강의 소개"
   ]
  },
  {
   "cell_type": "markdown",
   "metadata": {
    "slideshow": {
     "slide_type": "slide"
    }
   },
   "source": [
    "머신러닝/딥러닝 기술이 획기적으로 발전하면서 데이터 분석 및 인공지능 관련 연구의 \n",
    "중요성이 사회, 경제, 산업의 거의 모든 분야에 지대한 영향을 미치고 있으며,\n",
    "앞으로 그런 경향이 더욱 강화될 것으로 기대된다.\n",
    "\n",
    "본 강의는 비전공자를 위한 머신러닝의 기본 아이디어와 다양한 활용법을 실전 예제와 \n",
    "함께 전달한다.\n",
    "이와 더불어 파이썬 프로그래밍의 기초도 함께 학습한다."
   ]
  },
  {
   "cell_type": "markdown",
   "metadata": {
    "slideshow": {
     "slide_type": "slide"
    }
   },
   "source": [
    "## 데이터 과학, 인공지능, 머신러닝, 딥러닝"
   ]
  },
  {
   "cell_type": "markdown",
   "metadata": {},
   "source": [
    "* 데이터 과학: 주어진 데이터로부터 수학과 통계 지식을 활용하여 필요한 정보를 추출하는 학문 분야\n",
    "* 인공지능: 사고(thinking), 학습(learning) 등 인간의 지적능력을 컴퓨터를 통해 구현하는 \n",
    "    기술 또는 해당 연구 분야\n",
    "* 머신러닝: 컴퓨터가 데이터로부터 스스로 정보를 추출하는 기법 또는 해당 연구 분야.\n",
    "* 딥러닝: 심층 신경망 이론을 기반으로 복잡한 비선형 문제를 해결하는 머신러닝 기법 \n",
    "    또는 해당 연구 분야    "
   ]
  },
  {
   "cell_type": "markdown",
   "metadata": {},
   "source": [
    "<div align=\"center\"><img src=\"https://raw.githubusercontent.com/codingalzi/ml-for-mathematicians/master/notebooks/images/ai-ml-relation.png\" style=\"width:450px;\"></div>\n",
    "\n",
    "그림 출처: [교보문고: 에이지 오브 머신러닝](http://www.kyobobook.co.kr/readIT/readITColumnView.laf?thmId=00198&sntnId=14142)"
   ]
  },
  {
   "cell_type": "markdown",
   "metadata": {
    "slideshow": {
     "slide_type": "slide"
    }
   },
   "source": [
    "역사적 관점에서 바라본 인공지능, 머신러닝, 딥러닝의 관계는 다음과 같다.\n",
    "\n",
    "<div align=\"center\"><img src=\"https://raw.githubusercontent.com/codingalzi/ml-for-mathematicians/master/notebooks/images/ai-ml-relation2.png\" style=\"width:600px;\"></div>\n",
    "\n",
    "그림 출처: [NVIDIA 블로그](https://blogs.nvidia.com/blog/2016/07/29/whats-difference-artificial-intelligence-machine-learning-deep-learning-ai/)"
   ]
  },
  {
   "cell_type": "markdown",
   "metadata": {
    "slideshow": {
     "slide_type": "slide"
    }
   },
   "source": [
    "## 파이썬 데이터 분석"
   ]
  },
  {
   "cell_type": "markdown",
   "metadata": {},
   "source": [
    "파이썬 데이터 분석은 **데이터 과학의 주요 연구 도구**이며 머신러닝 분야에서 가장 많이 활용된다.\n",
    "파이썬 데이터 분석 학습을 위해 아래 분야의 기초지식이 요구된다.\n",
    "\n",
    "* 파이썬 프로그래밍\n",
    "* 미적분학, 선형대수, 확률과통계"
   ]
  },
  {
   "cell_type": "markdown",
   "metadata": {
    "slideshow": {
     "slide_type": "slide"
    }
   },
   "source": [
    "## 파이썬(Python) 언어 인기도"
   ]
  },
  {
   "cell_type": "markdown",
   "metadata": {
    "slideshow": {
     "slide_type": ""
    }
   },
   "source": [
    "프로그래밍 실습에 사용되는 파이썬(Python)은 현재 데이터 분석 및 머신러닝 분야에서 \n",
    "가장 많이 사용되는 프로그래밍언어이다.\n",
    "TIOBE Index 2021년 2월 기준 세 번째로 가장 많이 사용되는 프로그래밍 언어이며 \n",
    "점유율이 점점 높아지고 있다. "
   ]
  },
  {
   "cell_type": "markdown",
   "metadata": {
    "slideshow": {
     "slide_type": ""
    }
   },
   "source": [
    "<div align=\"center\"><img src=\"https://raw.githubusercontent.com/codingalzi/ml-for-mathematicians/master/notebooks/images/tiobe-index202102.png\" style=\"width:750px\"></div>\n",
    "\n",
    "그림출처: [TIOBE Index](https://www.tiobe.com/tiobe-index/)"
   ]
  },
  {
   "cell_type": "markdown",
   "metadata": {
    "slideshow": {
     "slide_type": "slide"
    }
   },
   "source": [
    "데이터 과학 분야로 한정할 경우 파이썬의 인기도가 가장 높다."
   ]
  },
  {
   "cell_type": "markdown",
   "metadata": {
    "slideshow": {
     "slide_type": ""
    }
   },
   "source": [
    "<div align=\"center\"><img src=\"https://raw.githubusercontent.com/codingalzi/ml-for-mathematicians/master/notebooks/images/KDnuggets-software-poll-2019.jpg\" style=\"height:400px\"></div>\n",
    "\n",
    "그림출처: [KDnuggets](https://www.kdnuggets.com/2019/05/poll-top-data-science-machine-learning-platforms.html)"
   ]
  },
  {
   "cell_type": "markdown",
   "metadata": {
    "slideshow": {
     "slide_type": "slide"
    }
   },
   "source": [
    "### 언어 특성"
   ]
  },
  {
   "cell_type": "markdown",
   "metadata": {},
   "source": [
    "파이썬이 데이터 과학 분야에서 인기가 높은 이유는 다음과 같다.\n",
    "\n",
    "* 범용 프로그래밍언어\n",
    "* R, 매트랩, SQL, 엑셀 등 특정 분야에서 유용하게 사용되는 언어들의 기능 지원\n",
    "* 데이터 적재, 시각화, 통계, 자연어 처리, 이미지 처리 등에 필요한 라이브러리 제공\n",
    "* 머신러닝, 데이터 분석 등에 활용될 수 있는 라이브러리 및 도구의 지속적 개발\n",
    "    * [Anaconda](https://www.anaconda.com/products/individual)\n",
    "    * [TensorFlow](https://www.tensorflow.org/)\n",
    "    * [scikit-learn](https://scikit-learn.org/)\n",
    "    * [Keras](https://keras.io/)\n",
    "    * [PyTorch](https://keras.io/)\n",
    "    * ..."
   ]
  }
 ],
 "metadata": {
  "celltoolbar": "Slideshow",
  "kernelspec": {
   "display_name": "Python 3",
   "language": "python",
   "name": "python3"
  },
  "language_info": {
   "codemirror_mode": {
    "name": "ipython",
    "version": 3
   },
   "file_extension": ".py",
   "mimetype": "text/x-python",
   "name": "python",
   "nbconvert_exporter": "python",
   "pygments_lexer": "ipython3",
   "version": "3.8.5"
  }
 },
 "nbformat": 4,
 "nbformat_minor": 2
}
