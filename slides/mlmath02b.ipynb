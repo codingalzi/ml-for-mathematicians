{
 "cells": [
  {
   "cell_type": "markdown",
   "metadata": {
    "colab_type": "text",
    "id": "thQWHShjWsXN",
    "slideshow": {
     "slide_type": "slide"
    }
   },
   "source": [
    "# 2장 머신러닝 프로젝트 처음부터 끝까지 (2부)"
   ]
  },
  {
   "cell_type": "markdown",
   "metadata": {
    "slideshow": {
     "slide_type": "slide"
    }
   },
   "source": [
    "#### 감사의 글\n",
    "\n",
    "자료를 공개한 저자 오렐리앙 제롱과 강의자료를 지원한 한빛아카데미에게 진심어린 감사를 전합니다."
   ]
  },
  {
   "cell_type": "markdown",
   "metadata": {
    "colab_type": "text",
    "id": "QbFHKNvDMVvD",
    "slideshow": {
     "slide_type": "slide"
    }
   },
   "source": [
    "## 2.6 모델 선택과 훈련"
   ]
  },
  {
   "cell_type": "markdown",
   "metadata": {
    "colab_type": "text",
    "id": "QbFHKNvDMVvD",
    "slideshow": {
     "slide_type": "slide"
    }
   },
   "source": [
    "* 목표 달성에 필요한 두 요소를 결정해야함\n",
    "  * 학습 모델\n",
    "  * 회귀 모델 성능 측정 지표"
   ]
  },
  {
   "cell_type": "markdown",
   "metadata": {
    "colab_type": "text",
    "id": "QbFHKNvDMVvD",
    "slideshow": {
     "slide_type": "fragment"
    }
   },
   "source": [
    "* 목표: 구역별 중간 주택 가격 예측 모델"
   ]
  },
  {
   "cell_type": "markdown",
   "metadata": {
    "colab_type": "text",
    "id": "QbFHKNvDMVvD",
    "slideshow": {
     "slide_type": "fragment"
    }
   },
   "source": [
    "* 학습 모델: 회귀 모델"
   ]
  },
  {
   "cell_type": "markdown",
   "metadata": {
    "colab_type": "text",
    "id": "QbFHKNvDMVvD",
    "slideshow": {
     "slide_type": ""
    }
   },
   "source": [
    "* 회귀 모델 성능 측정 지표: 평균 제곱근 오차(RMSE)를 기본으로 사용"
   ]
  },
  {
   "cell_type": "markdown",
   "metadata": {
    "slideshow": {
     "slide_type": "slide"
    }
   },
   "source": [
    "### 2.6.1 훈련 세트에서 훈련하고 평가하기"
   ]
  },
  {
   "cell_type": "markdown",
   "metadata": {
    "slideshow": {
     "slide_type": ""
    }
   },
   "source": [
    "* 지금까지 한 일\n",
    "    * 훈련 세트 / 테스트 세트 구분\n",
    "    * 변환 파이프라인을 활용한 데이터 전처리"
   ]
  },
  {
   "cell_type": "markdown",
   "metadata": {
    "slideshow": {
     "slide_type": "fragment"
    }
   },
   "source": [
    "* 이제 할 일\n",
    "    * 예측기 모델 선택 후 훈련시키기\n",
    "    * 예제: 선형 회귀, 결정트리 회귀"
   ]
  },
  {
   "cell_type": "markdown",
   "metadata": {
    "slideshow": {
     "slide_type": "fragment"
    }
   },
   "source": [
    "* 예측기 모델 선택 후 훈련과정은 매우 단순함.\n",
    "    * `fit()` 메서드를 전처리 처리가 된 훈련 데이터셋에 적용"
   ]
  },
  {
   "cell_type": "markdown",
   "metadata": {
    "colab_type": "text",
    "id": "rcUgKOFKNvYL",
    "slideshow": {
     "slide_type": "slide"
    }
   },
   "source": [
    "#### 선형 회귀 모델(4장)"
   ]
  },
  {
   "cell_type": "markdown",
   "metadata": {
    "colab_type": "text",
    "id": "rcUgKOFKNvYL",
    "slideshow": {
     "slide_type": ""
    }
   },
   "source": [
    "* 선형 회귀 모델 생성: 사이킷런의 **`LinearRegression`** 클래스 활용"
   ]
  },
  {
   "cell_type": "markdown",
   "metadata": {
    "colab_type": "text",
    "id": "rcUgKOFKNvYL",
    "slideshow": {
     "slide_type": "fragment"
    }
   },
   "source": [
    "* 훈련 및 예측\n",
    "    - 훈련: `LinearRegression` 모델은 무어-펜로즈 역행렬을 이용하여 파라미터 직접 계산 (4장 참조)\n",
    "    - 예측: (여기서는 연습 용도로) 훈련 세트에 포함된 몇 개 데이터를 대상으로 예측 실행\n",
    "\n",
    "```python\n",
    "from sklearn.linear_model import LinearRegression\n",
    "\n",
    "lin_reg = LinearRegression()\n",
    "lin_reg.fit(housing_prepared, housing_labels)\n",
    "\n",
    "lin_reg.predict(housing_prepared)\n",
    "```"
   ]
  },
  {
   "cell_type": "markdown",
   "metadata": {
    "slideshow": {
     "slide_type": "slide"
    }
   },
   "source": [
    "#### 선형 회귀 모델의 훈련 세트 대상 예측 성능"
   ]
  },
  {
   "cell_type": "markdown",
   "metadata": {
    "slideshow": {
     "slide_type": ""
    }
   },
   "source": [
    "- RMSE(평균 제곱근 오차)가 68628.198 정도로 별로 좋지 않음."
   ]
  },
  {
   "cell_type": "markdown",
   "metadata": {},
   "source": [
    "* 훈련된 모델이 훈련 세트에 __과소적합__ 됨.\n",
    "    - 보다 좋은 특성을 찾거나 더 강력한 모델을 적용해야 함.\n",
    "    - 보다 좋은 특성 예제: 로그 함수를 적용한 인구수 등\n",
    "    - 모델에 사용되는 규제(regulaization, 4장)를 완화할 수도 있지만 위 모델에선 어떤 규제도 적용하지 않았음."
   ]
  },
  {
   "cell_type": "markdown",
   "metadata": {
    "colab_type": "text",
    "id": "FUGT-mPmPfE3",
    "slideshow": {
     "slide_type": "slide"
    }
   },
   "source": [
    "#### 결정트리 회귀 모델(6장)"
   ]
  },
  {
   "cell_type": "markdown",
   "metadata": {
    "colab_type": "text",
    "id": "FUGT-mPmPfE3",
    "slideshow": {
     "slide_type": ""
    }
   },
   "source": [
    "* 결정 트리 모델은 데이터에서 복잡한 비선형 관계를 학습할 때 사용"
   ]
  },
  {
   "cell_type": "markdown",
   "metadata": {
    "colab_type": "text",
    "id": "FUGT-mPmPfE3",
    "slideshow": {
     "slide_type": ""
    }
   },
   "source": [
    "* 결정트리 회귀 모델 생성: 사이킷런의 **`DecisionTreeRegressor`** 클래스 활용"
   ]
  },
  {
   "cell_type": "markdown",
   "metadata": {
    "colab_type": "text",
    "id": "FUGT-mPmPfE3",
    "slideshow": {
     "slide_type": "fragment"
    }
   },
   "source": [
    "* 훈련 및 예측\n",
    "    - 예측은 훈련 세트에 포함된 몇 개 데이터를 대상으로 예측 실행\n",
    "\n",
    "```python\n",
    "from sklearn.tree import DecisionTreeRegressor\n",
    "\n",
    "tree_reg = DecisionTreeRegressor(random_state=42)\n",
    "tree_reg.fit(housing_prepared, housing_labels)\n",
    "\n",
    "housing_predictions = tree_reg.predict(housing_prepared)\n",
    "```"
   ]
  },
  {
   "cell_type": "markdown",
   "metadata": {
    "slideshow": {
     "slide_type": "slide"
    }
   },
   "source": [
    "#### 결정트리 회귀 모델의 훈련 세트 대상 예측 성능"
   ]
  },
  {
   "cell_type": "markdown",
   "metadata": {
    "slideshow": {
     "slide_type": ""
    }
   },
   "source": [
    "- RMSE(평균 제곱근 오차)가 0으로 완벽해 보임."
   ]
  },
  {
   "cell_type": "markdown",
   "metadata": {},
   "source": [
    "* 훈련된 모델이 훈련 세트에 심각하게 __과대적합__ 됨.\n",
    "    - 실전 상황에서 RMSE가 0이 되는 것은 불가능.\n",
    "    - 훈련 세트가 아닌 테스트 세트에 적용할 경우 RMSE가 크게 나올 것임."
   ]
  },
  {
   "cell_type": "markdown",
   "metadata": {
    "slideshow": {
     "slide_type": "slide"
    }
   },
   "source": [
    "### 2.6.2 교차 검증을 사용한 평가"
   ]
  },
  {
   "cell_type": "markdown",
   "metadata": {},
   "source": [
    "* 테스트 세트를 사용하지 않으면서 훈련 과정을 평가할 수 있음."
   ]
  },
  {
   "cell_type": "markdown",
   "metadata": {},
   "source": [
    "* __교차 검증__ 활용"
   ]
  },
  {
   "cell_type": "markdown",
   "metadata": {
    "slideshow": {
     "slide_type": "slide"
    }
   },
   "source": [
    "#### k-겹 교차 검증"
   ]
  },
  {
   "cell_type": "markdown",
   "metadata": {
    "colab_type": "text",
    "id": "J_8ieC0pRNL5",
    "slideshow": {
     "slide_type": ""
    }
   },
   "source": [
    "* 훈련 세트를 __폴드__(fold)라 불리는 k-개의 부분 집합으로 무작위로 분할\n",
    "\n",
    "* 총 k 번 지정된 모델을 훈련\n",
    "    * 훈련할 때마다 매번 다른 하나의 폴드 선택하여 검증 데이터셋으로 활용\n",
    "    * 다른 (k-1) 개의 폴드를 이용해 훈련\n",
    "\n",
    "* 최종적으로 k 번의 평가 결과가 담긴 배열 생성"
   ]
  },
  {
   "cell_type": "markdown",
   "metadata": {
    "colab_type": "text",
    "id": "txtgeSRw_FzC",
    "slideshow": {
     "slide_type": ""
    }
   },
   "source": [
    "* k = 5인 경우\n",
    "\n",
    "<div align=\"center\"><img src=\"images/ch02/cross-val10.png\" width=\"400\"></div>"
   ]
  },
  {
   "cell_type": "markdown",
   "metadata": {
    "colab_type": "text",
    "id": "j33mMeoDQWc6",
    "slideshow": {
     "slide_type": "slide"
    }
   },
   "source": [
    "#### 예제: 결정 트리 모델 교차 검증 (k = 10인 경우)"
   ]
  },
  {
   "cell_type": "markdown",
   "metadata": {
    "colab_type": "text",
    "id": "j33mMeoDQWc6",
    "slideshow": {
     "slide_type": ""
    }
   },
   "source": [
    "```python\n",
    "from sklearn.model_selection import cross_val_score\n",
    "\n",
    "scores = cross_val_score(tree_reg, housing_prepared, housing_labels,\n",
    "                         scoring=\"neg_mean_squared_error\", cv=10)\n",
    "\n",
    "tree_rmse_scores = np.sqrt(-scores)\n",
    "```"
   ]
  },
  {
   "cell_type": "markdown",
   "metadata": {
    "colab_type": "text",
    "id": "VrQwS5F9RhiM",
    "slideshow": {
     "slide_type": "fragment"
    }
   },
   "source": [
    "* k-겹 교차 검증의 모델 학습 과정에서 성능을 측정할 때 높을 수록 좋은 __효용함수__ 활용\n",
    "    * `scoring=\"neg_mean_squared_error\"`\n",
    "    * RMSE의 음숫값\n"
   ]
  },
  {
   "cell_type": "markdown",
   "metadata": {
    "colab_type": "text",
    "id": "VrQwS5F9RhiM",
    "slideshow": {
     "slide_type": "fragment"
    }
   },
   "source": [
    "* 교차 검증의 RMSE: 다시 음숫값(`-scores`) 사용\n",
    "    - 평균 RMSE: 약 71407\n",
    "    - 별로 좋지 않음."
   ]
  },
  {
   "cell_type": "markdown",
   "metadata": {
    "colab_type": "text",
    "id": "wShglSqRSm8I",
    "slideshow": {
     "slide_type": "slide"
    }
   },
   "source": [
    "#### 예제: 선형 회귀 모델 교차 검증 (k = 10 인 경우)"
   ]
  },
  {
   "cell_type": "markdown",
   "metadata": {
    "colab_type": "text",
    "id": "wShglSqRSm8I",
    "slideshow": {
     "slide_type": ""
    }
   },
   "source": [
    "```python\n",
    "lin_scores = cross_val_score(lin_reg, housing_prepared, housing_labels,\n",
    "                             scoring=\"neg_mean_squared_error\", cv=10)\n",
    "\n",
    "lin_rmse_scores = np.sqrt(-lin_scores)\n",
    "```"
   ]
  },
  {
   "cell_type": "markdown",
   "metadata": {
    "colab_type": "text",
    "id": "VrQwS5F9RhiM",
    "slideshow": {
     "slide_type": ""
    }
   },
   "source": [
    "* 교차 검증의 RMSE 평균: 약 69052\n",
    "    - 결정트리 회귀 모델보다 좋음."
   ]
  },
  {
   "cell_type": "markdown",
   "metadata": {
    "slideshow": {
     "slide_type": "slide"
    }
   },
   "source": [
    "#### 앙상블 학습 (7장)"
   ]
  },
  {
   "cell_type": "markdown",
   "metadata": {
    "slideshow": {
     "slide_type": ""
    }
   },
   "source": [
    "* 여러 개의 다른 모델을 모아서 하나의 모델을 만드는 기법"
   ]
  },
  {
   "cell_type": "markdown",
   "metadata": {
    "slideshow": {
     "slide_type": ""
    }
   },
   "source": [
    "* 머신러닝 알고리즘의 성능을 극대화는 방법 중 하나"
   ]
  },
  {
   "cell_type": "markdown",
   "metadata": {
    "slideshow": {
     "slide_type": "slide"
    }
   },
   "source": [
    "#### 랜덤 포레스트 회귀 모델 (7장)"
   ]
  },
  {
   "cell_type": "markdown",
   "metadata": {},
   "source": [
    "* 앙상블 학습에 사용되는 하나의 기법"
   ]
  },
  {
   "cell_type": "markdown",
   "metadata": {
    "slideshow": {
     "slide_type": ""
    }
   },
   "source": [
    "* 무작위로 선택한 특성을 이용하는 결정 트리 여러 개를 훈련 시킨 후 \n",
    "    훈련된 모델들의 평균 예측값을 예측값으로 사용하는 모델"
   ]
  },
  {
   "cell_type": "markdown",
   "metadata": {
    "slideshow": {
     "slide_type": "slide"
    }
   },
   "source": [
    "* 사이킷런의 `RandomForestRegressor` 클래스 활용"
   ]
  },
  {
   "cell_type": "markdown",
   "metadata": {
    "slideshow": {
     "slide_type": ""
    }
   },
   "source": [
    "* 훈련 및 예측\n",
    "\n",
    "```python\n",
    "from sklearn.ensemble import RandomForestRegressor\n",
    "\n",
    "forest_reg = RandomForestRegressor(n_estimators=100, random_state=42)\n",
    "forest_reg.fit(housing_prepared, housing_labels)\n",
    "\n",
    "housing_predictions = forest_reg.predict(housing_prepared)\n",
    "```"
   ]
  },
  {
   "cell_type": "markdown",
   "metadata": {
    "colab_type": "text",
    "id": "VrQwS5F9RhiM",
    "slideshow": {
     "slide_type": "fragment"
    }
   },
   "source": [
    "* 랜덤 포레스트 모델의 RMSE: 약 50182\n",
    "    - 지금까지 사용해본 모델 중 최고\n",
    "    - 하지만 여전히 과대적합되어 있음. "
   ]
  },
  {
   "cell_type": "markdown",
   "metadata": {
    "colab_type": "text",
    "id": "NvymKM5gVYcN",
    "slideshow": {
     "slide_type": "slide"
    }
   },
   "source": [
    "## 2.7 모델 세부 튜닝"
   ]
  },
  {
   "cell_type": "markdown",
   "metadata": {
    "colab_type": "text",
    "id": "NvymKM5gVYcN",
    "slideshow": {
     "slide_type": "slide"
    }
   },
   "source": [
    "* 살펴 본 모델 중에서 **랜덤 포레스트** 모델의 성능이 가장 좋았음"
   ]
  },
  {
   "cell_type": "markdown",
   "metadata": {
    "colab_type": "text",
    "id": "NvymKM5gVYcN",
    "slideshow": {
     "slide_type": ""
    }
   },
   "source": [
    "* 가능성이 높은 모델을 선정한 후에 **모델 세부 설정을 튜닝**해야함"
   ]
  },
  {
   "cell_type": "markdown",
   "metadata": {
    "colab_type": "text",
    "id": "NvymKM5gVYcN",
    "slideshow": {
     "slide_type": ""
    }
   },
   "source": [
    "* 튜닝을 위한 세 가지 방식\n",
    "  * **그리드 탐색**\n",
    "  * **랜덤 탐색**\n",
    "  * **앙상블 방법**"
   ]
  },
  {
   "cell_type": "markdown",
   "metadata": {
    "colab_type": "text",
    "id": "gq27apRGVttK",
    "slideshow": {
     "slide_type": "slide"
    }
   },
   "source": [
    "### 2.7.1 그리드 탐색"
   ]
  },
  {
   "cell_type": "markdown",
   "metadata": {
    "colab_type": "text",
    "id": "gq27apRGVttK",
    "slideshow": {
     "slide_type": ""
    }
   },
   "source": [
    "* 지정한 하이퍼파라미터의 모든 조합을 교차검증하여 최선의 하이퍼파라미터 조합 찾기"
   ]
  },
  {
   "cell_type": "markdown",
   "metadata": {
    "colab_type": "text",
    "id": "gq27apRGVttK",
    "slideshow": {
     "slide_type": ""
    }
   },
   "source": [
    "* 사이킷런의 `GridSearchCV` 활용"
   ]
  },
  {
   "cell_type": "markdown",
   "metadata": {
    "colab_type": "text",
    "id": "yeUooJ3-WAff",
    "slideshow": {
     "slide_type": "slide"
    }
   },
   "source": [
    "#### 예제: 그리드 탐색으로 랜덤 포레스트 모델에 대한 최적 조합 찾기"
   ]
  },
  {
   "cell_type": "markdown",
   "metadata": {
    "colab_type": "text",
    "id": "yeUooJ3-WAff",
    "slideshow": {
     "slide_type": ""
    }
   },
   "source": [
    "```python\n",
    "from sklearn.model_selection import GridSearchCV\n",
    "\n",
    "param_grid = [\n",
    "    {'n_estimators': [3, 10, 30], 'max_features': [2, 4, 6, 8]},\n",
    "    {'bootstrap': [False], 'n_estimators': [3, 10], 'max_features': [2, 3, 4]},\n",
    "  ]\n",
    "\n",
    "forest_reg = RandomForestRegressor(random_state=42)\n",
    "grid_search = GridSearchCV(forest_reg, param_grid, cv=5,\n",
    "                           scoring='neg_mean_squared_error',\n",
    "                           return_train_score=True)\n",
    "grid_search.fit(housing_prepared, housing_labels)\n",
    "```"
   ]
  },
  {
   "cell_type": "markdown",
   "metadata": {
    "colab_type": "text",
    "id": "yeUooJ3-WAff",
    "slideshow": {
     "slide_type": "fragment"
    }
   },
   "source": [
    "* 총 (3x4 + 2x3 = 18) 가지의 경우 확인"
   ]
  },
  {
   "cell_type": "markdown",
   "metadata": {
    "colab_type": "text",
    "id": "yeUooJ3-WAff",
    "slideshow": {
     "slide_type": ""
    }
   },
   "source": [
    "* 5-겹 교차검증(`cv=5`)이므로, 총 (18x5 = 90)번 훈련함."
   ]
  },
  {
   "cell_type": "markdown",
   "metadata": {
    "slideshow": {
     "slide_type": "slide"
    }
   },
   "source": [
    "#### 그리드 탐색 결과 "
   ]
  },
  {
   "cell_type": "markdown",
   "metadata": {},
   "source": [
    "* 최고 성능의 랜덤 포레스트 하이퍼파라미터가 다음과 같음. \n",
    "    - `max_features`: 8\n",
    "    - `n_estimators`: 30\n",
    "    - 지정된 구간의 최고값들이기에 구간을 좀 더 넓히는 게 좋아 보임"
   ]
  },
  {
   "cell_type": "markdown",
   "metadata": {},
   "source": [
    "* 최고 성능의 랜덤 포레스트에 대한 교차검증 RMSE: 49682\n",
    "    - 하나의 랜덤 포레스트보다 좀 더 좋아졌음."
   ]
  },
  {
   "cell_type": "markdown",
   "metadata": {
    "colab": {
     "base_uri": "https://localhost:8080/",
     "height": 386
    },
    "colab_type": "code",
    "id": "ifogOw83VT3Y",
    "outputId": "8cce903f-83cc-45f8-b720-4ee44f3c2a16",
    "slideshow": {
     "slide_type": "slide"
    }
   },
   "source": [
    "### 2.7.2 랜덤 탐색"
   ]
  },
  {
   "cell_type": "markdown",
   "metadata": {
    "colab": {
     "base_uri": "https://localhost:8080/",
     "height": 386
    },
    "colab_type": "code",
    "id": "ifogOw83VT3Y",
    "outputId": "8cce903f-83cc-45f8-b720-4ee44f3c2a16",
    "slideshow": {
     "slide_type": ""
    }
   },
   "source": [
    "* 그리드 탐색은 적은 수의 조합을 실험해볼 때 유용"
   ]
  },
  {
   "cell_type": "markdown",
   "metadata": {
    "colab": {
     "base_uri": "https://localhost:8080/",
     "height": 386
    },
    "colab_type": "code",
    "id": "ifogOw83VT3Y",
    "outputId": "8cce903f-83cc-45f8-b720-4ee44f3c2a16",
    "slideshow": {
     "slide_type": ""
    }
   },
   "source": [
    "* 조합의 수가 커지거나, 설정된 탐색 공간이 커지면 랜덤 탐색이 효율적\n",
    "  * 설정값이 연속적인 값을 다루는 경우 랜덤 탐색이 유용"
   ]
  },
  {
   "cell_type": "markdown",
   "metadata": {
    "colab": {
     "base_uri": "https://localhost:8080/",
     "height": 386
    },
    "colab_type": "code",
    "id": "ifogOw83VT3Y",
    "outputId": "8cce903f-83cc-45f8-b720-4ee44f3c2a16",
    "slideshow": {
     "slide_type": ""
    }
   },
   "source": [
    "* 사이킷런의 `RandomizedSearchCV` 추정기가 랜덤 탐색을 지원"
   ]
  },
  {
   "cell_type": "markdown",
   "metadata": {
    "colab_type": "text",
    "id": "yeUooJ3-WAff",
    "slideshow": {
     "slide_type": "slide"
    }
   },
   "source": [
    "#### 예제: 랜덤 탐색으로 랜덤 포레스트 모델에 대한 최적 조합 찾기"
   ]
  },
  {
   "cell_type": "markdown",
   "metadata": {
    "colab_type": "text",
    "id": "ckdk6v7ahB_F",
    "slideshow": {
     "slide_type": ""
    }
   },
   "source": [
    "```python\n",
    "from sklearn.model_selection import RandomizedSearchCV\n",
    "from scipy.stats import randint\n",
    "\n",
    "param_distribs = {\n",
    "        'n_estimators': randint(low=1, high=200),\n",
    "        'max_features': randint(low=1, high=8),\n",
    "    }\n",
    "\n",
    "forest_reg = RandomForestRegressor(random_state=42)\n",
    "rnd_search = RandomizedSearchCV(forest_reg, param_distributions=param_distribs,\n",
    "                                n_iter=10, cv=5, scoring='neg_mean_squared_error', random_state=42)\n",
    "rnd_search.fit(housing_prepared, housing_labels)\n",
    "```"
   ]
  },
  {
   "cell_type": "markdown",
   "metadata": {
    "colab_type": "text",
    "id": "ckdk6v7ahB_F",
    "slideshow": {
     "slide_type": "fragment"
    }
   },
   "source": [
    "* `n_iter=10`: 랜덤 탐색이 총 10회 진행\n",
    "    * `n_estimators`와 `max_features` 값을 지정된 구간에서 무작위 선택"
   ]
  },
  {
   "cell_type": "markdown",
   "metadata": {
    "colab_type": "text",
    "id": "ckdk6v7ahB_F",
    "slideshow": {
     "slide_type": ""
    }
   },
   "source": [
    "* `cv=5`: 5-겹 교차검증. 따라서 랜덤 포레스트 학습이 (10x5=50)번 이루어짐."
   ]
  },
  {
   "cell_type": "markdown",
   "metadata": {
    "slideshow": {
     "slide_type": "slide"
    }
   },
   "source": [
    "#### 랜덤 탐색 결과 "
   ]
  },
  {
   "cell_type": "markdown",
   "metadata": {},
   "source": [
    "* 최고 성능의 랜덤 포레스트 하이퍼파라미터가 다음과 같음. \n",
    "    - `max_features`: 7\n",
    "    - `n_estimators`: 180"
   ]
  },
  {
   "cell_type": "markdown",
   "metadata": {},
   "source": [
    "* 최고 성능의 랜덤 포레스트에 대한 교차검증 RMSE: 49150"
   ]
  },
  {
   "cell_type": "markdown",
   "metadata": {
    "colab_type": "text",
    "id": "8LYDui0ElCLL",
    "slideshow": {
     "slide_type": "slide"
    }
   },
   "source": [
    "### 2.7.3 앙상블 방법"
   ]
  },
  {
   "cell_type": "markdown",
   "metadata": {
    "colab_type": "text",
    "id": "8LYDui0ElCLL",
    "slideshow": {
     "slide_type": ""
    }
   },
   "source": [
    "* 결정 트리 모델 하나보다 랜덤 포레스트처럼 여러 모델로 이루어진 모델이 보다 좋은 성능을 낼 수 있음."
   ]
  },
  {
   "cell_type": "markdown",
   "metadata": {
    "colab_type": "text",
    "id": "8LYDui0ElCLL",
    "slideshow": {
     "slide_type": ""
    }
   },
   "source": [
    "* 또한 최고 성능을 보이는 서로 다른 개별 모델을 조합하면 보다 좋은 성능을 얻을 수 있음"
   ]
  },
  {
   "cell_type": "markdown",
   "metadata": {
    "colab_type": "text",
    "id": "8LYDui0ElCLL",
    "slideshow": {
     "slide_type": ""
    }
   },
   "source": [
    "* 7장에서 자세히 다룸"
   ]
  },
  {
   "cell_type": "markdown",
   "metadata": {
    "colab_type": "text",
    "id": "35rznSX-lVzd",
    "slideshow": {
     "slide_type": "slide"
    }
   },
   "source": [
    "### 2.7.4 최상의 모델과 오차 분석"
   ]
  },
  {
   "cell_type": "markdown",
   "metadata": {
    "colab_type": "text",
    "id": "35rznSX-lVzd",
    "slideshow": {
     "slide_type": ""
    }
   },
   "source": [
    "* 그리드 탐색과 랜덤 탐색 등을 통해 얻어진 최상의 모델을 분석해서 문제에 대한 좋은 통창을 얻을 수 있음"
   ]
  },
  {
   "cell_type": "markdown",
   "metadata": {
    "colab_type": "text",
    "id": "35rznSX-lVzd",
    "slideshow": {
     "slide_type": "fragment"
    }
   },
   "source": [
    "* 예를 들어, 최상의 랜덤 포레스트 모델에서 사용된 특성들의 중요도를 확인하여 일부 특성을 제외할 수 있음.\n",
    "    * 중간 소득(median income)과 INLAND(내륙, 해안 근접도)가 가장 중요한 특성으로 확인됨\n",
    "    * 해안 근접도의 다른 네 가지 특성은 별로 중요하지 않음\n",
    "    * 중요도가 낮은 특성은 삭제할 수 있음."
   ]
  },
  {
   "cell_type": "markdown",
   "metadata": {
    "colab_type": "text",
    "id": "txtgeSRw_FzC",
    "slideshow": {
     "slide_type": ""
    }
   },
   "source": [
    "<div align=\"center\"><img src=\"images/ch02/feature-importance.png\" width=\"400\"></div>"
   ]
  },
  {
   "cell_type": "markdown",
   "metadata": {
    "colab_type": "text",
    "id": "Pj9Gf8jfSj1j",
    "slideshow": {
     "slide_type": "slide"
    }
   },
   "source": [
    "### 2.7.5 테스트 셋으로 시스템 평가하기"
   ]
  },
  {
   "cell_type": "markdown",
   "metadata": {
    "colab_type": "text",
    "id": "Pj9Gf8jfSj1j",
    "slideshow": {
     "slide_type": ""
    }
   },
   "source": [
    "1. 최고 성능 모델 확인: 예를 들어, 그리드 탐색으로 찾은 최적 모델 사용\n",
    "\n",
    "```python\n",
    "final_model = grid_search.best_estimator_\n",
    "```"
   ]
  },
  {
   "cell_type": "markdown",
   "metadata": {
    "colab_type": "text",
    "id": "Pj9Gf8jfSj1j",
    "slideshow": {
     "slide_type": "fragment"
    }
   },
   "source": [
    "2. 테스트 세트 전처리\n",
    "    * 전처리 파이프라인의 `transform()` 메서드를 직접 활용\n",
    "    * __주의__: `fit()` 메서드는 전혀 사용하지 않음"
   ]
  },
  {
   "cell_type": "markdown",
   "metadata": {
    "colab_type": "text",
    "id": "Pj9Gf8jfSj1j",
    "slideshow": {
     "slide_type": "fragment"
    }
   },
   "source": [
    "3. 최고 성능 모델을 이용하여 예측하기"
   ]
  },
  {
   "cell_type": "markdown",
   "metadata": {
    "colab_type": "text",
    "id": "Pj9Gf8jfSj1j",
    "slideshow": {
     "slide_type": "fragment"
    }
   },
   "source": [
    "4. 최고 성능 모델 평가 및 론칭"
   ]
  },
  {
   "cell_type": "markdown",
   "metadata": {
    "slideshow": {
     "slide_type": "slide"
    }
   },
   "source": [
    "#### 최상의 모델 성능 평가"
   ]
  },
  {
   "cell_type": "markdown",
   "metadata": {},
   "source": [
    "* 테스트 세트에 대한 최고 성능 모델의 RMSE: 47730"
   ]
  }
 ],
 "metadata": {
  "celltoolbar": "Slideshow",
  "colab": {
   "collapsed_sections": [],
   "name": "핸즈온머신러닝_2장.ipynb",
   "provenance": []
  },
  "kernelspec": {
   "display_name": "Python 3",
   "language": "python",
   "name": "python3"
  },
  "language_info": {
   "codemirror_mode": {
    "name": "ipython",
    "version": 3
   },
   "file_extension": ".py",
   "mimetype": "text/x-python",
   "name": "python",
   "nbconvert_exporter": "python",
   "pygments_lexer": "ipython3",
   "version": "3.8.5"
  }
 },
 "nbformat": 4,
 "nbformat_minor": 1
}
